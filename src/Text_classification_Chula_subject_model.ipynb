{
 "cells": [
  {
   "cell_type": "markdown",
   "metadata": {
    "id": "GOQA6mdL7u5E",
    "tags": []
   },
   "source": [
    "## Import libraries and Data"
   ]
  },
  {
   "cell_type": "code",
   "execution_count": 1,
   "metadata": {
    "colab": {
     "base_uri": "https://localhost:8080/",
     "height": 190
    },
    "id": "S4Lno-ge4Fw7",
    "outputId": "a467f4ce-9406-47cc-f1f3-a6ef9d35e747"
   },
   "outputs": [],
   "source": [
    "# from google.colab import drive\n",
    "# drive.mount('/content/drive')"
   ]
  },
  {
   "cell_type": "code",
   "execution_count": 2,
   "metadata": {
    "id": "aq2D5w6Z54jP"
   },
   "outputs": [],
   "source": [
    "import pandas as pd\n",
    "from langdetect import detect\n",
    "from tqdm import tqdm\n",
    "from tqdm.auto import tqdm\n",
    "\n",
    "tqdm.pandas()"
   ]
  },
  {
   "cell_type": "code",
   "execution_count": 7,
   "metadata": {},
   "outputs": [
    {
     "name": "stdout",
     "output_type": "stream",
     "text": [
      "Collecting matplotlib\n",
      "  Downloading matplotlib-3.5.0-cp37-cp37m-manylinux_2_5_x86_64.manylinux1_x86_64.whl (11.2 MB)\n",
      "\u001b[K     |████████████████████████████████| 11.2 MB 20.7 MB/s \n",
      "\u001b[?25hRequirement already satisfied: packaging>=20.0 in /usr/local/lib/python3.7/site-packages (from matplotlib) (21.3)\n",
      "Collecting kiwisolver>=1.0.1\n",
      "  Downloading kiwisolver-1.3.2-cp37-cp37m-manylinux_2_5_x86_64.manylinux1_x86_64.whl (1.1 MB)\n",
      "\u001b[K     |████████████████████████████████| 1.1 MB 5.7 MB/s \n",
      "\u001b[?25hCollecting fonttools>=4.22.0\n",
      "  Downloading fonttools-4.28.2-py3-none-any.whl (880 kB)\n",
      "\u001b[K     |████████████████████████████████| 880 kB 2.6 MB/s \n",
      "\u001b[?25hRequirement already satisfied: python-dateutil>=2.7 in /usr/local/lib/python3.7/site-packages (from matplotlib) (2.8.2)\n",
      "Collecting setuptools-scm>=4\n",
      "  Using cached setuptools_scm-6.3.2-py3-none-any.whl (33 kB)\n",
      "Collecting pillow>=6.2.0\n",
      "  Downloading Pillow-8.4.0-cp37-cp37m-manylinux_2_17_x86_64.manylinux2014_x86_64.whl (3.1 MB)\n",
      "\u001b[K     |████████████████████████████████| 3.1 MB 5.0 MB/s \n",
      "\u001b[?25hRequirement already satisfied: pyparsing>=2.2.1 in /usr/local/lib/python3.7/site-packages (from matplotlib) (3.0.6)\n",
      "Collecting cycler>=0.10\n",
      "  Downloading cycler-0.11.0-py3-none-any.whl (6.4 kB)\n",
      "Requirement already satisfied: numpy>=1.17 in /usr/local/lib/python3.7/site-packages (from matplotlib) (1.21.4)\n",
      "Requirement already satisfied: six>=1.5 in /usr/local/lib/python3.7/site-packages (from python-dateutil>=2.7->matplotlib) (1.16.0)\n",
      "Requirement already satisfied: setuptools in /usr/local/lib/python3.7/site-packages (from setuptools-scm>=4->matplotlib) (57.5.0)\n",
      "Collecting tomli>=1.0.0\n",
      "  Using cached tomli-1.2.2-py3-none-any.whl (12 kB)\n",
      "Installing collected packages: tomli, setuptools-scm, pillow, kiwisolver, fonttools, cycler, matplotlib\n",
      "Successfully installed cycler-0.11.0 fonttools-4.28.2 kiwisolver-1.3.2 matplotlib-3.5.0 pillow-8.4.0 setuptools-scm-6.3.2 tomli-1.2.2\n",
      "\u001b[33mWARNING: Running pip as the 'root' user can result in broken permissions and conflicting behaviour with the system package manager. It is recommended to use a virtual environment instead: https://pip.pypa.io/warnings/venv\u001b[0m\n",
      "\u001b[33mWARNING: You are using pip version 21.2.4; however, version 21.3.1 is available.\n",
      "You should consider upgrading via the '/usr/local/bin/python -m pip install --upgrade pip' command.\u001b[0m\n"
     ]
    }
   ],
   "source": [
    "!pip install matplotlib"
   ]
  },
  {
   "cell_type": "code",
   "execution_count": 3,
   "metadata": {
    "colab": {
     "base_uri": "https://localhost:8080/"
    },
    "id": "gS5_yXfOm9oa",
    "outputId": "4257334a-12a1-47e6-d7b8-d72bacffc354"
   },
   "outputs": [
    {
     "data": {
      "text/plain": [
       "'/work'"
      ]
     },
     "execution_count": 3,
     "metadata": {},
     "output_type": "execute_result"
    }
   ],
   "source": [
    "import os\n",
    "os.getcwd()"
   ]
  },
  {
   "cell_type": "code",
   "execution_count": 4,
   "metadata": {
    "id": "SRp-mF-_4K44"
   },
   "outputs": [],
   "source": [
    "courses_df = pd.read_csv('./course_chula_full.csv', index_col=0)"
   ]
  },
  {
   "cell_type": "code",
   "execution_count": 5,
   "metadata": {
    "colab": {
     "base_uri": "https://localhost:8080/",
     "height": 423
    },
    "id": "uTbVTWbV6agT",
    "outputId": "02c99120-76ff-48ac-9b88-f65d608e5720"
   },
   "outputs": [
    {
     "data": {
      "text/html": [
       "<div>\n",
       "<style scoped>\n",
       "    .dataframe tbody tr th:only-of-type {\n",
       "        vertical-align: middle;\n",
       "    }\n",
       "\n",
       "    .dataframe tbody tr th {\n",
       "        vertical-align: top;\n",
       "    }\n",
       "\n",
       "    .dataframe thead th {\n",
       "        text-align: right;\n",
       "    }\n",
       "</style>\n",
       "<table border=\"1\" class=\"dataframe\">\n",
       "  <thead>\n",
       "    <tr style=\"text-align: right;\">\n",
       "      <th></th>\n",
       "      <th>course_no</th>\n",
       "      <th>course_name</th>\n",
       "      <th>course_abberviation</th>\n",
       "      <th>description</th>\n",
       "      <th>course_name_thai</th>\n",
       "      <th>description_thai</th>\n",
       "    </tr>\n",
       "  </thead>\n",
       "  <tbody>\n",
       "    <tr>\n",
       "      <th>0</th>\n",
       "      <td>2000503</td>\n",
       "      <td>Research Ethics</td>\n",
       "      <td>RESEARCH ETHICS</td>\n",
       "      <td>Definition of research and research ethics; da...</td>\n",
       "      <td>จริยธรรมการวิจัย</td>\n",
       "      <td>ความหมายของงานวิจัยและจริยธรรมการวิจัย การได้ม...</td>\n",
       "    </tr>\n",
       "    <tr>\n",
       "      <th>1</th>\n",
       "      <td>2000504</td>\n",
       "      <td>Social Change Initiative Implementation</td>\n",
       "      <td>SOC CHG IMP</td>\n",
       "      <td>Principle on social change initiative towards ...</td>\n",
       "      <td>การดําเนินงานตามแผนปฏิบัติการเพื่อการเปลี่ยนแป...</td>\n",
       "      <td>หลักการการริเริ่มการเปลี่ยนแปลงของสังคมโลกที่ม...</td>\n",
       "    </tr>\n",
       "    <tr>\n",
       "      <th>2</th>\n",
       "      <td>2000601</td>\n",
       "      <td>CORPORATE GOVERNANCE</td>\n",
       "      <td>CORP GOVERNANCE</td>\n",
       "      <td>-</td>\n",
       "      <td>กิจการภิบาล</td>\n",
       "      <td>ภาพรวมของกิจการภิบาล ปัญหาและต้นทุนของตัวแทน ก...</td>\n",
       "    </tr>\n",
       "    <tr>\n",
       "      <th>3</th>\n",
       "      <td>2000611</td>\n",
       "      <td>Study Abroad I</td>\n",
       "      <td>STUDY ABROAD I</td>\n",
       "      <td>Study additional courses abroad according to t...</td>\n",
       "      <td>การศึกษาต่างประเทศ 1</td>\n",
       "      <td>การศึกษารายวิชาเพิ่มเติมในต่างประเทศตามที่หลัก...</td>\n",
       "    </tr>\n",
       "    <tr>\n",
       "      <th>4</th>\n",
       "      <td>2000612</td>\n",
       "      <td>Study Abroad II</td>\n",
       "      <td>STUDY ABROAD II</td>\n",
       "      <td>Study additional courses abroad according to t...</td>\n",
       "      <td>การศึกษาต่างประเทศ 2</td>\n",
       "      <td>การศึกษารายวิชาเพิ่มเติมในต่างประเทศตามที่หลัก...</td>\n",
       "    </tr>\n",
       "    <tr>\n",
       "      <th>...</th>\n",
       "      <td>...</td>\n",
       "      <td>...</td>\n",
       "      <td>...</td>\n",
       "      <td>...</td>\n",
       "      <td>...</td>\n",
       "      <td>...</td>\n",
       "    </tr>\n",
       "    <tr>\n",
       "      <th>25249</th>\n",
       "      <td>JDBA931</td>\n",
       "      <td>READING AND CONFERENCES IN TERNATIONAL BUSINESS</td>\n",
       "      <td>-</td>\n",
       "      <td>Advanced or specialized topics in internationa...</td>\n",
       "      <td>-</td>\n",
       "      <td>-</td>\n",
       "    </tr>\n",
       "    <tr>\n",
       "      <th>25250</th>\n",
       "      <td>JDBA936</td>\n",
       "      <td>DISSERTATION</td>\n",
       "      <td>-</td>\n",
       "      <td>This course is for the doctoral students who a...</td>\n",
       "      <td>-</td>\n",
       "      <td>-</td>\n",
       "    </tr>\n",
       "    <tr>\n",
       "      <th>25251</th>\n",
       "      <td>JDBA941</td>\n",
       "      <td>READING AND CONFERENCES IN MARKETING</td>\n",
       "      <td>-</td>\n",
       "      <td>Advanced or specialized topics in marketing wh...</td>\n",
       "      <td>-</td>\n",
       "      <td>-</td>\n",
       "    </tr>\n",
       "    <tr>\n",
       "      <th>25252</th>\n",
       "      <td>JDBA946</td>\n",
       "      <td>DISSERTATION</td>\n",
       "      <td>-</td>\n",
       "      <td>This course is for the doctoral students who a...</td>\n",
       "      <td>-</td>\n",
       "      <td>-</td>\n",
       "    </tr>\n",
       "    <tr>\n",
       "      <th>25253</th>\n",
       "      <td>PSYC201</td>\n",
       "      <td>Psychological Research Method II</td>\n",
       "      <td>-</td>\n",
       "      <td>The aim of this course is to provide students ...</td>\n",
       "      <td>-</td>\n",
       "      <td>-</td>\n",
       "    </tr>\n",
       "  </tbody>\n",
       "</table>\n",
       "<p>25254 rows × 6 columns</p>\n",
       "</div>"
      ],
      "text/plain": [
       "      course_no                                      course_name  \\\n",
       "0       2000503                                  Research Ethics   \n",
       "1       2000504          Social Change Initiative Implementation   \n",
       "2       2000601                             CORPORATE GOVERNANCE   \n",
       "3       2000611                                   Study Abroad I   \n",
       "4       2000612                                  Study Abroad II   \n",
       "...         ...                                              ...   \n",
       "25249   JDBA931  READING AND CONFERENCES IN TERNATIONAL BUSINESS   \n",
       "25250   JDBA936                                     DISSERTATION   \n",
       "25251   JDBA941             READING AND CONFERENCES IN MARKETING   \n",
       "25252   JDBA946                                     DISSERTATION   \n",
       "25253   PSYC201                 Psychological Research Method II   \n",
       "\n",
       "      course_abberviation                                        description  \\\n",
       "0         RESEARCH ETHICS  Definition of research and research ethics; da...   \n",
       "1             SOC CHG IMP  Principle on social change initiative towards ...   \n",
       "2         CORP GOVERNANCE                                                  -   \n",
       "3          STUDY ABROAD I  Study additional courses abroad according to t...   \n",
       "4         STUDY ABROAD II  Study additional courses abroad according to t...   \n",
       "...                   ...                                                ...   \n",
       "25249                   -  Advanced or specialized topics in internationa...   \n",
       "25250                   -  This course is for the doctoral students who a...   \n",
       "25251                   -  Advanced or specialized topics in marketing wh...   \n",
       "25252                   -  This course is for the doctoral students who a...   \n",
       "25253                   -  The aim of this course is to provide students ...   \n",
       "\n",
       "                                        course_name_thai  \\\n",
       "0                                       จริยธรรมการวิจัย   \n",
       "1      การดําเนินงานตามแผนปฏิบัติการเพื่อการเปลี่ยนแป...   \n",
       "2                                            กิจการภิบาล   \n",
       "3                                   การศึกษาต่างประเทศ 1   \n",
       "4                                   การศึกษาต่างประเทศ 2   \n",
       "...                                                  ...   \n",
       "25249                                                  -   \n",
       "25250                                                  -   \n",
       "25251                                                  -   \n",
       "25252                                                  -   \n",
       "25253                                                  -   \n",
       "\n",
       "                                        description_thai  \n",
       "0      ความหมายของงานวิจัยและจริยธรรมการวิจัย การได้ม...  \n",
       "1      หลักการการริเริ่มการเปลี่ยนแปลงของสังคมโลกที่ม...  \n",
       "2      ภาพรวมของกิจการภิบาล ปัญหาและต้นทุนของตัวแทน ก...  \n",
       "3      การศึกษารายวิชาเพิ่มเติมในต่างประเทศตามที่หลัก...  \n",
       "4      การศึกษารายวิชาเพิ่มเติมในต่างประเทศตามที่หลัก...  \n",
       "...                                                  ...  \n",
       "25249                                                  -  \n",
       "25250                                                  -  \n",
       "25251                                                  -  \n",
       "25252                                                  -  \n",
       "25253                                                  -  \n",
       "\n",
       "[25254 rows x 6 columns]"
      ]
     },
     "execution_count": 5,
     "metadata": {},
     "output_type": "execute_result"
    }
   ],
   "source": [
    "courses_df"
   ]
  },
  {
   "cell_type": "markdown",
   "metadata": {
    "id": "IMewtbwB7yGx",
    "tags": []
   },
   "source": [
    "## Data Exploration"
   ]
  },
  {
   "cell_type": "code",
   "execution_count": 6,
   "metadata": {
    "id": "Sz_N9vWt6dQC"
   },
   "outputs": [],
   "source": [
    "def detect_language(text):\n",
    "  if text == '-':\n",
    "    return text\n",
    "  try:\n",
    "    return detect(text)\n",
    "  except:\n",
    "    return 'err'"
   ]
  },
  {
   "cell_type": "code",
   "execution_count": 7,
   "metadata": {
    "colab": {
     "base_uri": "https://localhost:8080/",
     "height": 48,
     "referenced_widgets": [
      "3d10b4dc674245a5b7cd1bf8ed22175e",
      "87a4685f34fa468782cfa2211b0d7e19",
      "253d5bff1f15436fb432da0e1cca5167",
      "03cc8e6ca79e44b5aaad50e7bc8ad642",
      "4dc70c112e254ee3bda8461266babd4e",
      "0e399b341fb644a69c9dbb2dd5442fb9",
      "09b7c518c13642bf805ad589dc5ade7e",
      "31f52daf7a6945988a71fd21bcdab786",
      "758e9ff82fc14a718aeb522f3c0db0b7",
      "25b083cd5bd04c83b97415b24d30b9ac",
      "f489a3b0a1e84bfe9aa88cff9258eaf4"
     ]
    },
    "id": "yH_w_o6M57tQ",
    "outputId": "493428de-e271-4714-bce4-847ee37e9dc6"
   },
   "outputs": [
    {
     "data": {
      "application/vnd.jupyter.widget-view+json": {
       "model_id": "233d04e643164679b2cd2dc6b98ded74",
       "version_major": 2,
       "version_minor": 0
      },
      "text/plain": [
       "  0%|          | 0/25254 [00:00<?, ?it/s]"
      ]
     },
     "metadata": {},
     "output_type": "display_data"
    }
   ],
   "source": [
    "description_thai_language = courses_df['description_thai'].progress_apply(detect_language)"
   ]
  },
  {
   "cell_type": "code",
   "execution_count": 8,
   "metadata": {
    "colab": {
     "base_uri": "https://localhost:8080/"
    },
    "id": "USqP9R-i58Ot",
    "outputId": "9f83e296-607e-4c8a-d659-548cffb534f3"
   },
   "outputs": [
    {
     "data": {
      "text/plain": [
       "th    22880\n",
       "-      2360\n",
       "de       11\n",
       "en        3\n",
       "Name: description_thai, dtype: int64"
      ]
     },
     "execution_count": 8,
     "metadata": {},
     "output_type": "execute_result"
    }
   ],
   "source": [
    "description_thai_language.value_counts()"
   ]
  },
  {
   "cell_type": "code",
   "execution_count": 9,
   "metadata": {
    "colab": {
     "base_uri": "https://localhost:8080/",
     "height": 487
    },
    "id": "8mce4m5O64e2",
    "outputId": "1c1f3044-746f-4bd5-824b-cd6bf1aec0c7"
   },
   "outputs": [
    {
     "data": {
      "text/html": [
       "<div>\n",
       "<style scoped>\n",
       "    .dataframe tbody tr th:only-of-type {\n",
       "        vertical-align: middle;\n",
       "    }\n",
       "\n",
       "    .dataframe tbody tr th {\n",
       "        vertical-align: top;\n",
       "    }\n",
       "\n",
       "    .dataframe thead th {\n",
       "        text-align: right;\n",
       "    }\n",
       "</style>\n",
       "<table border=\"1\" class=\"dataframe\">\n",
       "  <thead>\n",
       "    <tr style=\"text-align: right;\">\n",
       "      <th></th>\n",
       "      <th>course_no</th>\n",
       "      <th>course_name</th>\n",
       "      <th>course_abberviation</th>\n",
       "      <th>description</th>\n",
       "      <th>course_name_thai</th>\n",
       "      <th>description_thai</th>\n",
       "    </tr>\n",
       "  </thead>\n",
       "  <tbody>\n",
       "    <tr>\n",
       "      <th>286</th>\n",
       "      <td>2007894</td>\n",
       "      <td>DOCTORAL DISSERTATION SEMINAR</td>\n",
       "      <td>DOC DISS SEM</td>\n",
       "      <td>S/U</td>\n",
       "      <td>สัมมนาวิทยานิพนธ์ระดับดุษฎีบัณฑิต</td>\n",
       "      <td>S/U</td>\n",
       "    </tr>\n",
       "    <tr>\n",
       "      <th>324</th>\n",
       "      <td>2008896</td>\n",
       "      <td>Comprehensive Examination</td>\n",
       "      <td>COMPREHENSIVE EXAM</td>\n",
       "      <td>S/U</td>\n",
       "      <td>การสอบประมวลความรู้</td>\n",
       "      <td>S/U</td>\n",
       "    </tr>\n",
       "    <tr>\n",
       "      <th>417</th>\n",
       "      <td>2010897</td>\n",
       "      <td>QUALIFYING EXAMINATION</td>\n",
       "      <td>QUALIFYING EXAM</td>\n",
       "      <td>การสอบวัดคุณสมบัติ</td>\n",
       "      <td>การสอบวัดคุณสมบัติ</td>\n",
       "      <td>QUALIFYING EXAMINATION</td>\n",
       "    </tr>\n",
       "    <tr>\n",
       "      <th>446</th>\n",
       "      <td>2013811</td>\n",
       "      <td>THESIS</td>\n",
       "      <td>THESIS</td>\n",
       "      <td>-</td>\n",
       "      <td>วิทยานิพนธ์</td>\n",
       "      <td>S/U</td>\n",
       "    </tr>\n",
       "    <tr>\n",
       "      <th>2431</th>\n",
       "      <td>2109520</td>\n",
       "      <td>PHYSICAL CERAMICS</td>\n",
       "      <td>PHY CERAMICS</td>\n",
       "      <td>Physical and chemical process responsible for ...</td>\n",
       "      <td>เซรามิกกายภาพ</td>\n",
       "      <td>Physical and chemical process responsible for ...</td>\n",
       "    </tr>\n",
       "    <tr>\n",
       "      <th>4837</th>\n",
       "      <td>2208896</td>\n",
       "      <td>COMPREHENSIVE EXAMINATION</td>\n",
       "      <td>COM EXAM</td>\n",
       "      <td>S/U</td>\n",
       "      <td>สอบประมวลความรู้</td>\n",
       "      <td>S/U</td>\n",
       "    </tr>\n",
       "    <tr>\n",
       "      <th>5820</th>\n",
       "      <td>2231841</td>\n",
       "      <td>SEMINAR IN FRENCH LANGUAGE AND LITERATURE I</td>\n",
       "      <td>SEM FR LANG LIT I</td>\n",
       "      <td>S/U</td>\n",
       "      <td>สัมมนาภาษาและวรรณคดีฝรั่งเศส 1</td>\n",
       "      <td>S/U</td>\n",
       "    </tr>\n",
       "    <tr>\n",
       "      <th>5821</th>\n",
       "      <td>2231842</td>\n",
       "      <td>SEMINAR IN FRENCH LANGUAGE AND LITERATURE II</td>\n",
       "      <td>SEM FE LAND LIT II</td>\n",
       "      <td>S/U</td>\n",
       "      <td>สัมมนาภาษาและวรรณคดีฝรั่งเศส 2</td>\n",
       "      <td>S/U</td>\n",
       "    </tr>\n",
       "    <tr>\n",
       "      <th>5822</th>\n",
       "      <td>2231894</td>\n",
       "      <td>DOCTORAL DISSERTATION SEMINAR</td>\n",
       "      <td>DOC DISS SEM</td>\n",
       "      <td>S/U</td>\n",
       "      <td>สัมมนาวิทยานิพนธ์ระดับดุษฎีบัณฑิต</td>\n",
       "      <td>S/U</td>\n",
       "    </tr>\n",
       "    <tr>\n",
       "      <th>10417</th>\n",
       "      <td>2600896</td>\n",
       "      <td>COMPREHENSIVE EXAMINIATION</td>\n",
       "      <td>COMPREHENSIVE EXAM</td>\n",
       "      <td>(S/U)</td>\n",
       "      <td>การสอบประมวลความรู้</td>\n",
       "      <td>S/U</td>\n",
       "    </tr>\n",
       "    <tr>\n",
       "      <th>13415</th>\n",
       "      <td>2747894</td>\n",
       "      <td>DOCTORAL  DISSERTATION  SEMINAR</td>\n",
       "      <td>DOCTORAL  DISST  SEM</td>\n",
       "      <td>S/U</td>\n",
       "      <td>สัมมนาวิทยานิพนธ์ระดับดุษฎีบัณฑิต</td>\n",
       "      <td>S/U</td>\n",
       "    </tr>\n",
       "    <tr>\n",
       "      <th>15418</th>\n",
       "      <td>2948811</td>\n",
       "      <td>THESIS</td>\n",
       "      <td>THESIS</td>\n",
       "      <td>-</td>\n",
       "      <td>วิทยานิพนธ์</td>\n",
       "      <td>(S/U) (1/2540) (6291R)</td>\n",
       "    </tr>\n",
       "    <tr>\n",
       "      <th>17405</th>\n",
       "      <td>3015735</td>\n",
       "      <td>Operative Urologic Surgery II</td>\n",
       "      <td>OPER URO SURG II</td>\n",
       "      <td>Urologic surgical practice in and operative ro...</td>\n",
       "      <td>ศัลยศาสตร์ยูโรวิทยาหัตถการ 2</td>\n",
       "      <td>ปฏิบัติงานฝึกทำผ่าตัดที่ยากขึ้น เช่น transuret...</td>\n",
       "    </tr>\n",
       "    <tr>\n",
       "      <th>24608</th>\n",
       "      <td>3934606</td>\n",
       "      <td>Theme Park and Entertainment Industry Management</td>\n",
       "      <td>THEME/ENT IND MGT</td>\n",
       "      <td>Principles and concepts of theme park and ente...</td>\n",
       "      <td>การจัดการสวนสนุกและอุตสาหกรรมบันเทิง</td>\n",
       "      <td>Principles and concepts of theme park and ente...</td>\n",
       "    </tr>\n",
       "  </tbody>\n",
       "</table>\n",
       "</div>"
      ],
      "text/plain": [
       "      course_no                                       course_name  \\\n",
       "286     2007894                     DOCTORAL DISSERTATION SEMINAR   \n",
       "324     2008896                         Comprehensive Examination   \n",
       "417     2010897                            QUALIFYING EXAMINATION   \n",
       "446     2013811                                            THESIS   \n",
       "2431    2109520                                 PHYSICAL CERAMICS   \n",
       "4837    2208896                         COMPREHENSIVE EXAMINATION   \n",
       "5820    2231841       SEMINAR IN FRENCH LANGUAGE AND LITERATURE I   \n",
       "5821    2231842      SEMINAR IN FRENCH LANGUAGE AND LITERATURE II   \n",
       "5822    2231894                     DOCTORAL DISSERTATION SEMINAR   \n",
       "10417   2600896                        COMPREHENSIVE EXAMINIATION   \n",
       "13415   2747894                   DOCTORAL  DISSERTATION  SEMINAR   \n",
       "15418   2948811                                            THESIS   \n",
       "17405   3015735                     Operative Urologic Surgery II   \n",
       "24608   3934606  Theme Park and Entertainment Industry Management   \n",
       "\n",
       "        course_abberviation  \\\n",
       "286            DOC DISS SEM   \n",
       "324      COMPREHENSIVE EXAM   \n",
       "417         QUALIFYING EXAM   \n",
       "446                  THESIS   \n",
       "2431           PHY CERAMICS   \n",
       "4837               COM EXAM   \n",
       "5820      SEM FR LANG LIT I   \n",
       "5821     SEM FE LAND LIT II   \n",
       "5822           DOC DISS SEM   \n",
       "10417    COMPREHENSIVE EXAM   \n",
       "13415  DOCTORAL  DISST  SEM   \n",
       "15418                THESIS   \n",
       "17405      OPER URO SURG II   \n",
       "24608     THEME/ENT IND MGT   \n",
       "\n",
       "                                             description  \\\n",
       "286                                                  S/U   \n",
       "324                                                  S/U   \n",
       "417                                   การสอบวัดคุณสมบัติ   \n",
       "446                                                    -   \n",
       "2431   Physical and chemical process responsible for ...   \n",
       "4837                                                 S/U   \n",
       "5820                                                 S/U   \n",
       "5821                                                 S/U   \n",
       "5822                                                 S/U   \n",
       "10417                                              (S/U)   \n",
       "13415                                                S/U   \n",
       "15418                                                  -   \n",
       "17405  Urologic surgical practice in and operative ro...   \n",
       "24608  Principles and concepts of theme park and ente...   \n",
       "\n",
       "                           course_name_thai  \\\n",
       "286       สัมมนาวิทยานิพนธ์ระดับดุษฎีบัณฑิต   \n",
       "324                     การสอบประมวลความรู้   \n",
       "417                      การสอบวัดคุณสมบัติ   \n",
       "446                             วิทยานิพนธ์   \n",
       "2431                          เซรามิกกายภาพ   \n",
       "4837                       สอบประมวลความรู้   \n",
       "5820         สัมมนาภาษาและวรรณคดีฝรั่งเศส 1   \n",
       "5821         สัมมนาภาษาและวรรณคดีฝรั่งเศส 2   \n",
       "5822      สัมมนาวิทยานิพนธ์ระดับดุษฎีบัณฑิต   \n",
       "10417                   การสอบประมวลความรู้   \n",
       "13415     สัมมนาวิทยานิพนธ์ระดับดุษฎีบัณฑิต   \n",
       "15418                           วิทยานิพนธ์   \n",
       "17405          ศัลยศาสตร์ยูโรวิทยาหัตถการ 2   \n",
       "24608  การจัดการสวนสนุกและอุตสาหกรรมบันเทิง   \n",
       "\n",
       "                                        description_thai  \n",
       "286                                                  S/U  \n",
       "324                                                  S/U  \n",
       "417                               QUALIFYING EXAMINATION  \n",
       "446                                                  S/U  \n",
       "2431   Physical and chemical process responsible for ...  \n",
       "4837                                                 S/U  \n",
       "5820                                                 S/U  \n",
       "5821                                                 S/U  \n",
       "5822                                                 S/U  \n",
       "10417                                                S/U  \n",
       "13415                                                S/U  \n",
       "15418                             (S/U) (1/2540) (6291R)  \n",
       "17405  ปฏิบัติงานฝึกทำผ่าตัดที่ยากขึ้น เช่น transuret...  \n",
       "24608  Principles and concepts of theme park and ente...  "
      ]
     },
     "execution_count": 9,
     "metadata": {},
     "output_type": "execute_result"
    }
   ],
   "source": [
    "courses_df[(description_thai_language != 'th') & (description_thai_language != '-')]"
   ]
  },
  {
   "cell_type": "code",
   "execution_count": 10,
   "metadata": {
    "colab": {
     "base_uri": "https://localhost:8080/",
     "height": 54
    },
    "id": "myj98CxK7i8F",
    "outputId": "486f068e-a0cd-4f6a-ff5d-eb860379947e"
   },
   "outputs": [
    {
     "data": {
      "text/plain": [
       "'ปฏิบัติงานฝึกทำผ่าตัดที่ยากขึ้น เช่น transurethral resection of prostate, reconstructive surgery อย่างง่าย เช่น pyeloplasty, urethroplasty, vasovasostomy, urinary diversion, radialsurgery อย่างง่าย เช่น radical nephrectomy, radical orchiectomy'"
      ]
     },
     "execution_count": 10,
     "metadata": {},
     "output_type": "execute_result"
    }
   ],
   "source": [
    "courses_df.iloc[17405]['description_thai']"
   ]
  },
  {
   "cell_type": "code",
   "execution_count": 11,
   "metadata": {
    "colab": {
     "base_uri": "https://localhost:8080/",
     "height": 48,
     "referenced_widgets": [
      "c7b6e885b141411bbe4de5975f27f1ea",
      "80545096bbec47d998ebcd04470bb427",
      "feb8adfde1e249dca0135c22e6b7a896",
      "95c83b37705443ef98b0cd3ac3891fc0",
      "51146ecb8a324212bfda2fd527a85f4b",
      "22b1f382567a42209bb29bf0dbb6ba3a",
      "f8afbb51c224433bbc8691f85272a30d",
      "1ffae055b6024e54a61241ec92e89053",
      "2d36a22f99a24ab5b3bc71ce886f9acf",
      "9ea123e51bcd47b1b80d95d686f3309e",
      "c69ce918b8ee4410a4a6f7ccfefd45c6"
     ]
    },
    "id": "XYf_9MZS8JY0",
    "outputId": "9dd3c31d-f22f-4896-cd45-86659e08e3cd"
   },
   "outputs": [
    {
     "data": {
      "application/vnd.jupyter.widget-view+json": {
       "model_id": "25c5678a2bfb4d2a90be23878c831219",
       "version_major": 2,
       "version_minor": 0
      },
      "text/plain": [
       "  0%|          | 0/25254 [00:00<?, ?it/s]"
      ]
     },
     "metadata": {},
     "output_type": "display_data"
    }
   ],
   "source": [
    "course_name_thai_language = courses_df['course_name_thai'].progress_apply(detect_language)"
   ]
  },
  {
   "cell_type": "code",
   "execution_count": 12,
   "metadata": {
    "colab": {
     "base_uri": "https://localhost:8080/"
    },
    "id": "0VZslNJY8NtE",
    "outputId": "814be724-6828-484f-f5f3-13e339af7149"
   },
   "outputs": [
    {
     "data": {
      "text/plain": [
       "th    24589\n",
       "-       663\n",
       "en        2\n",
       "Name: course_name_thai, dtype: int64"
      ]
     },
     "execution_count": 12,
     "metadata": {},
     "output_type": "execute_result"
    }
   ],
   "source": [
    "course_name_thai_language.value_counts()"
   ]
  },
  {
   "cell_type": "code",
   "execution_count": 13,
   "metadata": {
    "colab": {
     "base_uri": "https://localhost:8080/",
     "height": 112
    },
    "id": "PDcFUu1T8X0m",
    "outputId": "90a42e64-eef4-4ae5-cec4-82fc049c8a07"
   },
   "outputs": [
    {
     "data": {
      "text/html": [
       "<div>\n",
       "<style scoped>\n",
       "    .dataframe tbody tr th:only-of-type {\n",
       "        vertical-align: middle;\n",
       "    }\n",
       "\n",
       "    .dataframe tbody tr th {\n",
       "        vertical-align: top;\n",
       "    }\n",
       "\n",
       "    .dataframe thead th {\n",
       "        text-align: right;\n",
       "    }\n",
       "</style>\n",
       "<table border=\"1\" class=\"dataframe\">\n",
       "  <thead>\n",
       "    <tr style=\"text-align: right;\">\n",
       "      <th></th>\n",
       "      <th>course_no</th>\n",
       "      <th>course_name</th>\n",
       "      <th>course_abberviation</th>\n",
       "      <th>description</th>\n",
       "      <th>course_name_thai</th>\n",
       "      <th>description_thai</th>\n",
       "    </tr>\n",
       "  </thead>\n",
       "  <tbody>\n",
       "    <tr>\n",
       "      <th>666</th>\n",
       "      <td>2023505</td>\n",
       "      <td>ENGY CONSERV IND</td>\n",
       "      <td>การอนุรักษ์พลังงานในภาคอุตสาหกรรม</td>\n",
       "      <td>Principles and process of energy conservation ...</td>\n",
       "      <td>Energy Conservation in Industry</td>\n",
       "      <td>หลักการและกระบวนการในการดำเนินการอนุรักษ์พลังง...</td>\n",
       "    </tr>\n",
       "    <tr>\n",
       "      <th>21649</th>\n",
       "      <td>3341711</td>\n",
       "      <td>PHARMACEUTICAL CHEMISTRY AND NATURAL PRODUCTS ...</td>\n",
       "      <td>-</td>\n",
       "      <td>Oral presentation and discussion of selected a...</td>\n",
       "      <td>PH CHM NAT SEM II</td>\n",
       "      <td>-</td>\n",
       "    </tr>\n",
       "  </tbody>\n",
       "</table>\n",
       "</div>"
      ],
      "text/plain": [
       "      course_no                                        course_name  \\\n",
       "666     2023505                                   ENGY CONSERV IND   \n",
       "21649   3341711  PHARMACEUTICAL CHEMISTRY AND NATURAL PRODUCTS ...   \n",
       "\n",
       "                     course_abberviation  \\\n",
       "666    การอนุรักษ์พลังงานในภาคอุตสาหกรรม   \n",
       "21649                                  -   \n",
       "\n",
       "                                             description  \\\n",
       "666    Principles and process of energy conservation ...   \n",
       "21649  Oral presentation and discussion of selected a...   \n",
       "\n",
       "                      course_name_thai  \\\n",
       "666    Energy Conservation in Industry   \n",
       "21649                PH CHM NAT SEM II   \n",
       "\n",
       "                                        description_thai  \n",
       "666    หลักการและกระบวนการในการดำเนินการอนุรักษ์พลังง...  \n",
       "21649                                                  -  "
      ]
     },
     "execution_count": 13,
     "metadata": {},
     "output_type": "execute_result"
    }
   ],
   "source": [
    "courses_df[(course_name_thai_language != 'th') & (course_name_thai_language != '-')]"
   ]
  },
  {
   "cell_type": "markdown",
   "metadata": {
    "id": "r_ftpgk670Wq",
    "tags": []
   },
   "source": [
    "## Clean Data"
   ]
  },
  {
   "cell_type": "code",
   "execution_count": 14,
   "metadata": {
    "id": "oh31sug77oWJ"
   },
   "outputs": [],
   "source": [
    "courses_df_clean = courses_df[((description_thai_language == 'th') & (course_name_thai_language == 'th'))]"
   ]
  },
  {
   "cell_type": "code",
   "execution_count": 15,
   "metadata": {
    "colab": {
     "base_uri": "https://localhost:8080/",
     "height": 423
    },
    "id": "xxKuM78x79y9",
    "outputId": "890fc0bb-a324-4207-cdbf-613e96503fa6"
   },
   "outputs": [
    {
     "data": {
      "text/html": [
       "<div>\n",
       "<style scoped>\n",
       "    .dataframe tbody tr th:only-of-type {\n",
       "        vertical-align: middle;\n",
       "    }\n",
       "\n",
       "    .dataframe tbody tr th {\n",
       "        vertical-align: top;\n",
       "    }\n",
       "\n",
       "    .dataframe thead th {\n",
       "        text-align: right;\n",
       "    }\n",
       "</style>\n",
       "<table border=\"1\" class=\"dataframe\">\n",
       "  <thead>\n",
       "    <tr style=\"text-align: right;\">\n",
       "      <th></th>\n",
       "      <th>course_no</th>\n",
       "      <th>course_name</th>\n",
       "      <th>course_abberviation</th>\n",
       "      <th>description</th>\n",
       "      <th>course_name_thai</th>\n",
       "      <th>description_thai</th>\n",
       "    </tr>\n",
       "  </thead>\n",
       "  <tbody>\n",
       "    <tr>\n",
       "      <th>0</th>\n",
       "      <td>2000503</td>\n",
       "      <td>Research Ethics</td>\n",
       "      <td>RESEARCH ETHICS</td>\n",
       "      <td>Definition of research and research ethics; da...</td>\n",
       "      <td>จริยธรรมการวิจัย</td>\n",
       "      <td>ความหมายของงานวิจัยและจริยธรรมการวิจัย การได้ม...</td>\n",
       "    </tr>\n",
       "    <tr>\n",
       "      <th>1</th>\n",
       "      <td>2000504</td>\n",
       "      <td>Social Change Initiative Implementation</td>\n",
       "      <td>SOC CHG IMP</td>\n",
       "      <td>Principle on social change initiative towards ...</td>\n",
       "      <td>การดําเนินงานตามแผนปฏิบัติการเพื่อการเปลี่ยนแป...</td>\n",
       "      <td>หลักการการริเริ่มการเปลี่ยนแปลงของสังคมโลกที่ม...</td>\n",
       "    </tr>\n",
       "    <tr>\n",
       "      <th>2</th>\n",
       "      <td>2000601</td>\n",
       "      <td>CORPORATE GOVERNANCE</td>\n",
       "      <td>CORP GOVERNANCE</td>\n",
       "      <td>-</td>\n",
       "      <td>กิจการภิบาล</td>\n",
       "      <td>ภาพรวมของกิจการภิบาล ปัญหาและต้นทุนของตัวแทน ก...</td>\n",
       "    </tr>\n",
       "    <tr>\n",
       "      <th>3</th>\n",
       "      <td>2000611</td>\n",
       "      <td>Study Abroad I</td>\n",
       "      <td>STUDY ABROAD I</td>\n",
       "      <td>Study additional courses abroad according to t...</td>\n",
       "      <td>การศึกษาต่างประเทศ 1</td>\n",
       "      <td>การศึกษารายวิชาเพิ่มเติมในต่างประเทศตามที่หลัก...</td>\n",
       "    </tr>\n",
       "    <tr>\n",
       "      <th>4</th>\n",
       "      <td>2000612</td>\n",
       "      <td>Study Abroad II</td>\n",
       "      <td>STUDY ABROAD II</td>\n",
       "      <td>Study additional courses abroad according to t...</td>\n",
       "      <td>การศึกษาต่างประเทศ 2</td>\n",
       "      <td>การศึกษารายวิชาเพิ่มเติมในต่างประเทศตามที่หลัก...</td>\n",
       "    </tr>\n",
       "    <tr>\n",
       "      <th>...</th>\n",
       "      <td>...</td>\n",
       "      <td>...</td>\n",
       "      <td>...</td>\n",
       "      <td>...</td>\n",
       "      <td>...</td>\n",
       "      <td>...</td>\n",
       "    </tr>\n",
       "    <tr>\n",
       "      <th>25191</th>\n",
       "      <td>6800682</td>\n",
       "      <td>Doctoral Seminar II</td>\n",
       "      <td>DOC SEMINAR II</td>\n",
       "      <td>Seminar for consideration of issues related to...</td>\n",
       "      <td>สัมมนาปริญญาเอก 2</td>\n",
       "      <td>สัมมนาประเด็นที่สัมพันธ์กับวิทยานิพนธ์</td>\n",
       "    </tr>\n",
       "    <tr>\n",
       "      <th>25201</th>\n",
       "      <td>6800810</td>\n",
       "      <td>Special Project</td>\n",
       "      <td>SPEC PROJECT</td>\n",
       "      <td>For those who have not botained an MPH degree ...</td>\n",
       "      <td>โครงการพิเศษ</td>\n",
       "      <td>สำหรับผู้ที่ยังไม่ได้รับปริญญาสาธารณสุขศาสตรมห...</td>\n",
       "    </tr>\n",
       "    <tr>\n",
       "      <th>25206</th>\n",
       "      <td>857701</td>\n",
       "      <td>SEMINAR I</td>\n",
       "      <td>-</td>\n",
       "      <td>Serminar on current research in petrochemical ...</td>\n",
       "      <td>สัมมนา 1</td>\n",
       "      <td>การประชุมทางวิชาการเพื่อเสนอและวิจารณ์ผลงานทาง...</td>\n",
       "    </tr>\n",
       "    <tr>\n",
       "      <th>25207</th>\n",
       "      <td>857702</td>\n",
       "      <td>SEMINAR II</td>\n",
       "      <td>-</td>\n",
       "      <td>Seminar on current research in petrochemical t...</td>\n",
       "      <td>สัมมนา 2</td>\n",
       "      <td>การประชุมทางวิชาการเพื่อเสนอและวิจารณ์ผลงานทาง...</td>\n",
       "    </tr>\n",
       "    <tr>\n",
       "      <th>25208</th>\n",
       "      <td>Basics</td>\n",
       "      <td>On-Screen Scene Design</td>\n",
       "      <td>ONSCREEN SCEN DSGN</td>\n",
       "      <td>Importance and functions of scene; scene desig...</td>\n",
       "      <td>การออกแบบฉากสำหรับสื่อบนจอ</td>\n",
       "      <td>ความสำคัญ และบทบาทหน้าที่ของฉาก หลักการออกแบบฉ...</td>\n",
       "    </tr>\n",
       "  </tbody>\n",
       "</table>\n",
       "<p>22876 rows × 6 columns</p>\n",
       "</div>"
      ],
      "text/plain": [
       "      course_no                              course_name course_abberviation  \\\n",
       "0       2000503                          Research Ethics     RESEARCH ETHICS   \n",
       "1       2000504  Social Change Initiative Implementation         SOC CHG IMP   \n",
       "2       2000601                     CORPORATE GOVERNANCE     CORP GOVERNANCE   \n",
       "3       2000611                           Study Abroad I      STUDY ABROAD I   \n",
       "4       2000612                          Study Abroad II     STUDY ABROAD II   \n",
       "...         ...                                      ...                 ...   \n",
       "25191   6800682                      Doctoral Seminar II      DOC SEMINAR II   \n",
       "25201   6800810                          Special Project        SPEC PROJECT   \n",
       "25206    857701                                SEMINAR I                   -   \n",
       "25207    857702                               SEMINAR II                   -   \n",
       "25208    Basics                   On-Screen Scene Design  ONSCREEN SCEN DSGN   \n",
       "\n",
       "                                             description  \\\n",
       "0      Definition of research and research ethics; da...   \n",
       "1      Principle on social change initiative towards ...   \n",
       "2                                                      -   \n",
       "3      Study additional courses abroad according to t...   \n",
       "4      Study additional courses abroad according to t...   \n",
       "...                                                  ...   \n",
       "25191  Seminar for consideration of issues related to...   \n",
       "25201  For those who have not botained an MPH degree ...   \n",
       "25206  Serminar on current research in petrochemical ...   \n",
       "25207  Seminar on current research in petrochemical t...   \n",
       "25208  Importance and functions of scene; scene desig...   \n",
       "\n",
       "                                        course_name_thai  \\\n",
       "0                                       จริยธรรมการวิจัย   \n",
       "1      การดําเนินงานตามแผนปฏิบัติการเพื่อการเปลี่ยนแป...   \n",
       "2                                            กิจการภิบาล   \n",
       "3                                   การศึกษาต่างประเทศ 1   \n",
       "4                                   การศึกษาต่างประเทศ 2   \n",
       "...                                                  ...   \n",
       "25191                                  สัมมนาปริญญาเอก 2   \n",
       "25201                                       โครงการพิเศษ   \n",
       "25206                                           สัมมนา 1   \n",
       "25207                                           สัมมนา 2   \n",
       "25208                         การออกแบบฉากสำหรับสื่อบนจอ   \n",
       "\n",
       "                                        description_thai  \n",
       "0      ความหมายของงานวิจัยและจริยธรรมการวิจัย การได้ม...  \n",
       "1      หลักการการริเริ่มการเปลี่ยนแปลงของสังคมโลกที่ม...  \n",
       "2      ภาพรวมของกิจการภิบาล ปัญหาและต้นทุนของตัวแทน ก...  \n",
       "3      การศึกษารายวิชาเพิ่มเติมในต่างประเทศตามที่หลัก...  \n",
       "4      การศึกษารายวิชาเพิ่มเติมในต่างประเทศตามที่หลัก...  \n",
       "...                                                  ...  \n",
       "25191             สัมมนาประเด็นที่สัมพันธ์กับวิทยานิพนธ์  \n",
       "25201  สำหรับผู้ที่ยังไม่ได้รับปริญญาสาธารณสุขศาสตรมห...  \n",
       "25206  การประชุมทางวิชาการเพื่อเสนอและวิจารณ์ผลงานทาง...  \n",
       "25207  การประชุมทางวิชาการเพื่อเสนอและวิจารณ์ผลงานทาง...  \n",
       "25208  ความสำคัญ และบทบาทหน้าที่ของฉาก หลักการออกแบบฉ...  \n",
       "\n",
       "[22876 rows x 6 columns]"
      ]
     },
     "execution_count": 15,
     "metadata": {},
     "output_type": "execute_result"
    }
   ],
   "source": [
    "courses_df_clean"
   ]
  },
  {
   "cell_type": "markdown",
   "metadata": {
    "id": "JoEoI_LQ8Aeh",
    "tags": []
   },
   "source": [
    "## Data transformation"
   ]
  },
  {
   "cell_type": "code",
   "execution_count": 16,
   "metadata": {
    "id": "4Nn1Ap5x75fE"
   },
   "outputs": [],
   "source": [
    "df = courses_df_clean[['course_no', 'course_name_thai', 'description_thai']]"
   ]
  },
  {
   "cell_type": "code",
   "execution_count": 17,
   "metadata": {
    "id": "HWB1GaiM8t1Z"
   },
   "outputs": [],
   "source": [
    "course_no_len = df['course_no'].apply(lambda x: len(x))"
   ]
  },
  {
   "cell_type": "code",
   "execution_count": 18,
   "metadata": {
    "colab": {
     "base_uri": "https://localhost:8080/"
    },
    "id": "_yyM0mKJ82-R",
    "outputId": "38ad071f-84fc-4c44-e7bd-5fbf45f0ef0a"
   },
   "outputs": [
    {
     "data": {
      "text/plain": [
       "7    22831\n",
       "6       44\n",
       "4        1\n",
       "Name: course_no, dtype: int64"
      ]
     },
     "execution_count": 18,
     "metadata": {},
     "output_type": "execute_result"
    }
   ],
   "source": [
    "course_no_len.value_counts()"
   ]
  },
  {
   "cell_type": "code",
   "execution_count": 19,
   "metadata": {
    "colab": {
     "base_uri": "https://localhost:8080/",
     "height": 1000
    },
    "id": "iR0tjNUw83qt",
    "outputId": "17f03a82-7d12-4d44-9de3-0ebb903818e6"
   },
   "outputs": [
    {
     "data": {
      "text/html": [
       "<div>\n",
       "<style scoped>\n",
       "    .dataframe tbody tr th:only-of-type {\n",
       "        vertical-align: middle;\n",
       "    }\n",
       "\n",
       "    .dataframe tbody tr th {\n",
       "        vertical-align: top;\n",
       "    }\n",
       "\n",
       "    .dataframe thead th {\n",
       "        text-align: right;\n",
       "    }\n",
       "</style>\n",
       "<table border=\"1\" class=\"dataframe\">\n",
       "  <thead>\n",
       "    <tr style=\"text-align: right;\">\n",
       "      <th></th>\n",
       "      <th>course_no</th>\n",
       "      <th>course_name_thai</th>\n",
       "      <th>description_thai</th>\n",
       "    </tr>\n",
       "  </thead>\n",
       "  <tbody>\n",
       "    <tr>\n",
       "      <th>208</th>\n",
       "      <td>200614</td>\n",
       "      <td>การจัดการบริการผู้โดยสาร</td>\n",
       "      <td>การบริการผู้โดยสาร การบริการในห้องรับรองผู้โดย...</td>\n",
       "    </tr>\n",
       "    <tr>\n",
       "      <th>636</th>\n",
       "      <td>202169</td>\n",
       "      <td>เคมีสำหรับนิสิตแพทย์</td>\n",
       "      <td>เทอร์โมไดนามิกส์ สมดุลเคมี จลนพลศาสตร์เคมี โคร...</td>\n",
       "    </tr>\n",
       "    <tr>\n",
       "      <th>1636</th>\n",
       "      <td>210443</td>\n",
       "      <td>ออโตเมชัน</td>\n",
       "      <td>แนวคิดพื้นฐานเกี่ยวกับระบบออโตเมชันในอุตสาหกรร...</td>\n",
       "    </tr>\n",
       "    <tr>\n",
       "      <th>1897</th>\n",
       "      <td>210564</td>\n",
       "      <td>วิศวกรรมของวัสดุที่ย่อยสลายได้ทางชีวภาพ</td>\n",
       "      <td>ประเภทของวัสดุที่ย่อยสลายได้ทางชีวภาพทั้งวัสดุ...</td>\n",
       "    </tr>\n",
       "    <tr>\n",
       "      <th>2236</th>\n",
       "      <td>210794</td>\n",
       "      <td>การผลิตน้ำใช้และการบำบัดน้ำเสียในอุตสาหกรรม</td>\n",
       "      <td>แหล่งของน้ำใช้ มาตรฐานของน้ำในอุตสาหกรรมเทคนิค...</td>\n",
       "    </tr>\n",
       "    <tr>\n",
       "      <th>2929</th>\n",
       "      <td>213225</td>\n",
       "      <td>ปฏิบัติการวัดความดำ</td>\n",
       "      <td>ปฏิบัติการเกี่ยวกับการวัดแสง  การวัดความดำ การ...</td>\n",
       "    </tr>\n",
       "    <tr>\n",
       "      <th>3308</th>\n",
       "      <td>218220</td>\n",
       "      <td>วิธีเชิงคณิตศาสตร์ขั้นสูง</td>\n",
       "      <td>การวิเคราะห์เชิงซ้อนซึ่งประกอบด้วยฟังก์ชันของต...</td>\n",
       "    </tr>\n",
       "    <tr>\n",
       "      <th>3318</th>\n",
       "      <td>218228</td>\n",
       "      <td>สิ่งประดิษฐ์สารกึ่งตัวนำ 1</td>\n",
       "      <td>สมบัติของผลึกและการปลูกผลึกสารกึ่งตัวนำ อะตอมแ...</td>\n",
       "    </tr>\n",
       "    <tr>\n",
       "      <th>3332</th>\n",
       "      <td>218244</td>\n",
       "      <td>อิเล็กทรอนิกส์ชีวแพทย์</td>\n",
       "      <td>สัญญาณไฟฟ้าในร่างกายมนุษย์ ศักย์กระทำในเซลล์ อ...</td>\n",
       "    </tr>\n",
       "    <tr>\n",
       "      <th>3345</th>\n",
       "      <td>218248</td>\n",
       "      <td>สิ่งประดิษฐ์สารกึ่งตัวนำ 2</td>\n",
       "      <td>การทบทวนฟิสิกส์และสมบัติของสารกึ่งตัวนำ สารประ...</td>\n",
       "    </tr>\n",
       "    <tr>\n",
       "      <th>3368</th>\n",
       "      <td>218341</td>\n",
       "      <td>เทคโนโลยีการสร้างสิ่งประดิษฐ์ในระดับไมโครและนาโน</td>\n",
       "      <td>การปลูกผลึก เอพิแทกซีแบบไอ เอพิแทกซีแบบของเหลว...</td>\n",
       "    </tr>\n",
       "    <tr>\n",
       "      <th>3390</th>\n",
       "      <td>218522</td>\n",
       "      <td>เคมีอินทรีย์พื้นฐาน</td>\n",
       "      <td>โครงสร้างและพันธะ สเตอริโอเคมี สเปกโตรสโกปี สา...</td>\n",
       "    </tr>\n",
       "    <tr>\n",
       "      <th>3404</th>\n",
       "      <td>218547</td>\n",
       "      <td>วิศวกรรมนาโนพอลิเมอร์</td>\n",
       "      <td>นิยามและแนวคิดเบื้องต้น พอลิเมอร์ชนิดโครงสร้าง...</td>\n",
       "    </tr>\n",
       "    <tr>\n",
       "      <th>3469</th>\n",
       "      <td>219010</td>\n",
       "      <td>การเขียนโปรแกรมคอมพิวเตอร์</td>\n",
       "      <td>บทนำสู่ระบบคอมพิวเตอร์ การแก้ปัญหาโดยใช้คอมพิว...</td>\n",
       "    </tr>\n",
       "    <tr>\n",
       "      <th>3472</th>\n",
       "      <td>219015</td>\n",
       "      <td>ปฏิบัติการการเขียนโปรแกรมคอมพิวเตอร์</td>\n",
       "      <td>การเขียนโปรแกรมคอมพิวเตอร์ในงานวิศวกรรม การทบท...</td>\n",
       "    </tr>\n",
       "    <tr>\n",
       "      <th>3475</th>\n",
       "      <td>219020</td>\n",
       "      <td>โครงสร้างดิสครีต</td>\n",
       "      <td>เซต ความสัมพันธ์ ฟังก์ชัน ทฤษฎีบทและการพิสูจน์...</td>\n",
       "    </tr>\n",
       "    <tr>\n",
       "      <th>3496</th>\n",
       "      <td>219046</td>\n",
       "      <td>ปฏิบัติการระบบฐานข้อมูล</td>\n",
       "      <td>การออกแบบฐานข้อมูลและการทำให้เกิดผลตามระบบจัดก...</td>\n",
       "    </tr>\n",
       "    <tr>\n",
       "      <th>3516</th>\n",
       "      <td>220020</td>\n",
       "      <td>การเขียนรายงานเชิงวิชาการ</td>\n",
       "      <td>วิธีใช้ทรัพยากรสารนิเทศอย่างมีประสิทธิภาพ  วิธ...</td>\n",
       "    </tr>\n",
       "    <tr>\n",
       "      <th>4623</th>\n",
       "      <td>220768</td>\n",
       "      <td>ปรัชญาตรรกวิทยา</td>\n",
       "      <td>ธรรมชาติและขอบเขตของตรรกวิทยา ความหมายกับความจ...</td>\n",
       "    </tr>\n",
       "    <tr>\n",
       "      <th>4694</th>\n",
       "      <td>220826</td>\n",
       "      <td>สัมมนาการละครในการศึกษา</td>\n",
       "      <td>การศึกษาเชิงวิเคราะห์และวิจารณ์ด้านการละครในกา...</td>\n",
       "    </tr>\n",
       "    <tr>\n",
       "      <th>5210</th>\n",
       "      <td>222231</td>\n",
       "      <td>ทักษะการพูดภาษาจีนขั้นกลาง</td>\n",
       "      <td>ทักษะการพูดภาษาจีนกลางขั้นกลาง การเล่าเรื่องจา...</td>\n",
       "    </tr>\n",
       "    <tr>\n",
       "      <th>6353</th>\n",
       "      <td>223649</td>\n",
       "      <td>การศึกษาเฉพาะเรื่องด้านภาษารัสเซีย</td>\n",
       "      <td>การศึกษาวิเคราะห์ภาษารัสเซียในหัวข้อที่กำหนด</td>\n",
       "    </tr>\n",
       "    <tr>\n",
       "      <th>8379</th>\n",
       "      <td>231360</td>\n",
       "      <td>การวัดค่าสี</td>\n",
       "      <td>หลักการวัดและกำหนดค่าสี ค่าฟังก์ชันการเทียบสี ...</td>\n",
       "    </tr>\n",
       "    <tr>\n",
       "      <th>10359</th>\n",
       "      <td>260016</td>\n",
       "      <td>สัมมนาการจัดการการบิน</td>\n",
       "      <td>ประเด็นร่วมสมัยเกี่ยวกับธุรกิจการบิน พันธมิตกา...</td>\n",
       "    </tr>\n",
       "    <tr>\n",
       "      <th>13346</th>\n",
       "      <td>274773</td>\n",
       "      <td>การบริหารงานวิชาการกับการประกันคุณภาพการศึกษา</td>\n",
       "      <td>ความสำคัญของงานวิชาการ ขอบเขตการบริหารงานวิชาก...</td>\n",
       "    </tr>\n",
       "    <tr>\n",
       "      <th>13382</th>\n",
       "      <td>274785</td>\n",
       "      <td>เอกัตศึกษา</td>\n",
       "      <td>การศึกษาตามความสนใจเกี่ยวกับการบริหารการศึกษา ...</td>\n",
       "    </tr>\n",
       "    <tr>\n",
       "      <th>13391</th>\n",
       "      <td>274786</td>\n",
       "      <td>เรื่องคัดเฉพาะทางการบริหารการศึกษา</td>\n",
       "      <td>การอภิปรายเชิงวิเคราะห์เกี่ยวกับปัญหาทางการบริ...</td>\n",
       "    </tr>\n",
       "    <tr>\n",
       "      <th>13760</th>\n",
       "      <td>275867</td>\n",
       "      <td>สถิติวิเคราะห์เพื่อการวางแผนและการพัฒนาทางการศ...</td>\n",
       "      <td>ปัญหาทางสถิติสำหรับการวิเคราะห์ข้อมูลเพื่อการว...</td>\n",
       "    </tr>\n",
       "    <tr>\n",
       "      <th>13983</th>\n",
       "      <td>280011</td>\n",
       "      <td>หลักการถ่ายภาพเพื่อการสื่อสาร</td>\n",
       "      <td>หลักเบื้องต้นของการถ่ายภาพ อิทธิพลของการถ่ายภา...</td>\n",
       "    </tr>\n",
       "    <tr>\n",
       "      <th>15341</th>\n",
       "      <td>294613</td>\n",
       "      <td>เศรษฐศาสตร์ประชากร</td>\n",
       "      <td>แนวคิดทางประชากรสำหรับการวิคราะห์ปัญหาทางเศรษฐ...</td>\n",
       "    </tr>\n",
       "    <tr>\n",
       "      <th>16058</th>\n",
       "      <td>300268</td>\n",
       "      <td>ระบบทางเดินอาหาร 1</td>\n",
       "      <td>ลักษณะทางมหกายวิภาคและจุลกายวิภาค ภาพเงา สรีรว...</td>\n",
       "    </tr>\n",
       "    <tr>\n",
       "      <th>16685</th>\n",
       "      <td>300972</td>\n",
       "      <td>พยาธิวิทยาภูมิคุ้มกั</td>\n",
       "      <td>พยาธิกำาเนิดและลักษณะพยาธิสภาพของโรคในระบบภูมิ...</td>\n",
       "    </tr>\n",
       "    <tr>\n",
       "      <th>16733</th>\n",
       "      <td>300986</td>\n",
       "      <td>ศัลยพยาธิวิทยาวินิจฉัย 1</td>\n",
       "      <td>การตรวจและวินิจฉัยชิ้นเนื้อทางศัลยพยาธิวิทยาด้...</td>\n",
       "    </tr>\n",
       "    <tr>\n",
       "      <th>17598</th>\n",
       "      <td>301597</td>\n",
       "      <td>ศัลยศาสตร์ลำไส้ใหญ่และทวารหนักหัตถการ 2</td>\n",
       "      <td>ความรู้และทักษะการผ่าตัดลำไส้ใหญ่ผ่านกล้องส่อง...</td>\n",
       "    </tr>\n",
       "    <tr>\n",
       "      <th>18361</th>\n",
       "      <td>303846</td>\n",
       "      <td>โครงการพิเศษ 2</td>\n",
       "      <td>การรวบรวมข้อมูล การวิเคราะห์ข้อมูล การบริหารงา...</td>\n",
       "    </tr>\n",
       "    <tr>\n",
       "      <th>18409</th>\n",
       "      <td>307755</td>\n",
       "      <td>ลายพิมพ์ดีเอ็นเอของสมุนไพร</td>\n",
       "      <td>ทฤษฎี หลักการ และเทคนิคสำหรับการสร้างลายพิมพ์ด...</td>\n",
       "    </tr>\n",
       "    <tr>\n",
       "      <th>18506</th>\n",
       "      <td>310172</td>\n",
       "      <td>กายวิภาคศาสตร์พัฒนาการ</td>\n",
       "      <td>การกำเนิดของสิ่งมีชีวิตตั้งแต่การเจริญของเซลล์...</td>\n",
       "    </tr>\n",
       "    <tr>\n",
       "      <th>20711</th>\n",
       "      <td>330063</td>\n",
       "      <td>การฝึกปฏิบัติงานวิชาชีพในโรงงานอุตสาหกรรมยา 3</td>\n",
       "      <td>การฝึกปฏิบัติงานวิชาชีพในโรงงานอุตสาหกรรมการผล...</td>\n",
       "    </tr>\n",
       "    <tr>\n",
       "      <th>21593</th>\n",
       "      <td>331760</td>\n",
       "      <td>ปัญหาพิเศษทางสรีรวิทยา 1</td>\n",
       "      <td>วิจัยปัญหาพิเศษของระบบต่างๆ ทางสรีรวิทยาในสัตว...</td>\n",
       "    </tr>\n",
       "    <tr>\n",
       "      <th>24131</th>\n",
       "      <td>384601</td>\n",
       "      <td>พัฒนาการมนุษย์ทุกช่วงวัย</td>\n",
       "      <td>ทฤษฎีและการวิจัยเกี่ยวกับพัฒนาการมนุษย์ทุกช่วง...</td>\n",
       "    </tr>\n",
       "    <tr>\n",
       "      <th>25151</th>\n",
       "      <td>630362</td>\n",
       "      <td>การสำรวจและการผลิตปิโตรเลียม</td>\n",
       "      <td>ธรณีวิทยาปิโตรเลียม การสำรวจปิโตรเลียมและธรณีฟ...</td>\n",
       "    </tr>\n",
       "    <tr>\n",
       "      <th>25206</th>\n",
       "      <td>857701</td>\n",
       "      <td>สัมมนา 1</td>\n",
       "      <td>การประชุมทางวิชาการเพื่อเสนอและวิจารณ์ผลงานทาง...</td>\n",
       "    </tr>\n",
       "    <tr>\n",
       "      <th>25207</th>\n",
       "      <td>857702</td>\n",
       "      <td>สัมมนา 2</td>\n",
       "      <td>การประชุมทางวิชาการเพื่อเสนอและวิจารณ์ผลงานทาง...</td>\n",
       "    </tr>\n",
       "    <tr>\n",
       "      <th>25208</th>\n",
       "      <td>Basics</td>\n",
       "      <td>การออกแบบฉากสำหรับสื่อบนจอ</td>\n",
       "      <td>ความสำคัญ และบทบาทหน้าที่ของฉาก หลักการออกแบบฉ...</td>\n",
       "    </tr>\n",
       "  </tbody>\n",
       "</table>\n",
       "</div>"
      ],
      "text/plain": [
       "      course_no                                   course_name_thai  \\\n",
       "208      200614                           การจัดการบริการผู้โดยสาร   \n",
       "636      202169                               เคมีสำหรับนิสิตแพทย์   \n",
       "1636     210443                                          ออโตเมชัน   \n",
       "1897     210564            วิศวกรรมของวัสดุที่ย่อยสลายได้ทางชีวภาพ   \n",
       "2236     210794        การผลิตน้ำใช้และการบำบัดน้ำเสียในอุตสาหกรรม   \n",
       "2929     213225                                ปฏิบัติการวัดความดำ   \n",
       "3308     218220                          วิธีเชิงคณิตศาสตร์ขั้นสูง   \n",
       "3318     218228                         สิ่งประดิษฐ์สารกึ่งตัวนำ 1   \n",
       "3332     218244                             อิเล็กทรอนิกส์ชีวแพทย์   \n",
       "3345     218248                         สิ่งประดิษฐ์สารกึ่งตัวนำ 2   \n",
       "3368     218341   เทคโนโลยีการสร้างสิ่งประดิษฐ์ในระดับไมโครและนาโน   \n",
       "3390     218522                                เคมีอินทรีย์พื้นฐาน   \n",
       "3404     218547                              วิศวกรรมนาโนพอลิเมอร์   \n",
       "3469     219010                         การเขียนโปรแกรมคอมพิวเตอร์   \n",
       "3472     219015               ปฏิบัติการการเขียนโปรแกรมคอมพิวเตอร์   \n",
       "3475     219020                                   โครงสร้างดิสครีต   \n",
       "3496     219046                            ปฏิบัติการระบบฐานข้อมูล   \n",
       "3516     220020                          การเขียนรายงานเชิงวิชาการ   \n",
       "4623     220768                                    ปรัชญาตรรกวิทยา   \n",
       "4694     220826                            สัมมนาการละครในการศึกษา   \n",
       "5210     222231                         ทักษะการพูดภาษาจีนขั้นกลาง   \n",
       "6353     223649                 การศึกษาเฉพาะเรื่องด้านภาษารัสเซีย   \n",
       "8379     231360                                        การวัดค่าสี   \n",
       "10359    260016                              สัมมนาการจัดการการบิน   \n",
       "13346    274773      การบริหารงานวิชาการกับการประกันคุณภาพการศึกษา   \n",
       "13382    274785                                         เอกัตศึกษา   \n",
       "13391    274786                 เรื่องคัดเฉพาะทางการบริหารการศึกษา   \n",
       "13760    275867  สถิติวิเคราะห์เพื่อการวางแผนและการพัฒนาทางการศ...   \n",
       "13983    280011                      หลักการถ่ายภาพเพื่อการสื่อสาร   \n",
       "15341    294613                                 เศรษฐศาสตร์ประชากร   \n",
       "16058    300268                                 ระบบทางเดินอาหาร 1   \n",
       "16685    300972                               พยาธิวิทยาภูมิคุ้มกั   \n",
       "16733    300986                           ศัลยพยาธิวิทยาวินิจฉัย 1   \n",
       "17598    301597            ศัลยศาสตร์ลำไส้ใหญ่และทวารหนักหัตถการ 2   \n",
       "18361    303846                                     โครงการพิเศษ 2   \n",
       "18409    307755                         ลายพิมพ์ดีเอ็นเอของสมุนไพร   \n",
       "18506    310172                             กายวิภาคศาสตร์พัฒนาการ   \n",
       "20711    330063      การฝึกปฏิบัติงานวิชาชีพในโรงงานอุตสาหกรรมยา 3   \n",
       "21593    331760                           ปัญหาพิเศษทางสรีรวิทยา 1   \n",
       "24131    384601                           พัฒนาการมนุษย์ทุกช่วงวัย   \n",
       "25151    630362                       การสำรวจและการผลิตปิโตรเลียม   \n",
       "25206    857701                                           สัมมนา 1   \n",
       "25207    857702                                           สัมมนา 2   \n",
       "25208    Basics                         การออกแบบฉากสำหรับสื่อบนจอ   \n",
       "\n",
       "                                        description_thai  \n",
       "208    การบริการผู้โดยสาร การบริการในห้องรับรองผู้โดย...  \n",
       "636    เทอร์โมไดนามิกส์ สมดุลเคมี จลนพลศาสตร์เคมี โคร...  \n",
       "1636   แนวคิดพื้นฐานเกี่ยวกับระบบออโตเมชันในอุตสาหกรร...  \n",
       "1897   ประเภทของวัสดุที่ย่อยสลายได้ทางชีวภาพทั้งวัสดุ...  \n",
       "2236   แหล่งของน้ำใช้ มาตรฐานของน้ำในอุตสาหกรรมเทคนิค...  \n",
       "2929   ปฏิบัติการเกี่ยวกับการวัดแสง  การวัดความดำ การ...  \n",
       "3308   การวิเคราะห์เชิงซ้อนซึ่งประกอบด้วยฟังก์ชันของต...  \n",
       "3318   สมบัติของผลึกและการปลูกผลึกสารกึ่งตัวนำ อะตอมแ...  \n",
       "3332   สัญญาณไฟฟ้าในร่างกายมนุษย์ ศักย์กระทำในเซลล์ อ...  \n",
       "3345   การทบทวนฟิสิกส์และสมบัติของสารกึ่งตัวนำ สารประ...  \n",
       "3368   การปลูกผลึก เอพิแทกซีแบบไอ เอพิแทกซีแบบของเหลว...  \n",
       "3390   โครงสร้างและพันธะ สเตอริโอเคมี สเปกโตรสโกปี สา...  \n",
       "3404   นิยามและแนวคิดเบื้องต้น พอลิเมอร์ชนิดโครงสร้าง...  \n",
       "3469   บทนำสู่ระบบคอมพิวเตอร์ การแก้ปัญหาโดยใช้คอมพิว...  \n",
       "3472   การเขียนโปรแกรมคอมพิวเตอร์ในงานวิศวกรรม การทบท...  \n",
       "3475   เซต ความสัมพันธ์ ฟังก์ชัน ทฤษฎีบทและการพิสูจน์...  \n",
       "3496   การออกแบบฐานข้อมูลและการทำให้เกิดผลตามระบบจัดก...  \n",
       "3516   วิธีใช้ทรัพยากรสารนิเทศอย่างมีประสิทธิภาพ  วิธ...  \n",
       "4623   ธรรมชาติและขอบเขตของตรรกวิทยา ความหมายกับความจ...  \n",
       "4694   การศึกษาเชิงวิเคราะห์และวิจารณ์ด้านการละครในกา...  \n",
       "5210   ทักษะการพูดภาษาจีนกลางขั้นกลาง การเล่าเรื่องจา...  \n",
       "6353        การศึกษาวิเคราะห์ภาษารัสเซียในหัวข้อที่กำหนด  \n",
       "8379   หลักการวัดและกำหนดค่าสี ค่าฟังก์ชันการเทียบสี ...  \n",
       "10359  ประเด็นร่วมสมัยเกี่ยวกับธุรกิจการบิน พันธมิตกา...  \n",
       "13346  ความสำคัญของงานวิชาการ ขอบเขตการบริหารงานวิชาก...  \n",
       "13382  การศึกษาตามความสนใจเกี่ยวกับการบริหารการศึกษา ...  \n",
       "13391  การอภิปรายเชิงวิเคราะห์เกี่ยวกับปัญหาทางการบริ...  \n",
       "13760  ปัญหาทางสถิติสำหรับการวิเคราะห์ข้อมูลเพื่อการว...  \n",
       "13983  หลักเบื้องต้นของการถ่ายภาพ อิทธิพลของการถ่ายภา...  \n",
       "15341  แนวคิดทางประชากรสำหรับการวิคราะห์ปัญหาทางเศรษฐ...  \n",
       "16058  ลักษณะทางมหกายวิภาคและจุลกายวิภาค ภาพเงา สรีรว...  \n",
       "16685  พยาธิกำาเนิดและลักษณะพยาธิสภาพของโรคในระบบภูมิ...  \n",
       "16733  การตรวจและวินิจฉัยชิ้นเนื้อทางศัลยพยาธิวิทยาด้...  \n",
       "17598  ความรู้และทักษะการผ่าตัดลำไส้ใหญ่ผ่านกล้องส่อง...  \n",
       "18361  การรวบรวมข้อมูล การวิเคราะห์ข้อมูล การบริหารงา...  \n",
       "18409  ทฤษฎี หลักการ และเทคนิคสำหรับการสร้างลายพิมพ์ด...  \n",
       "18506  การกำเนิดของสิ่งมีชีวิตตั้งแต่การเจริญของเซลล์...  \n",
       "20711  การฝึกปฏิบัติงานวิชาชีพในโรงงานอุตสาหกรรมการผล...  \n",
       "21593  วิจัยปัญหาพิเศษของระบบต่างๆ ทางสรีรวิทยาในสัตว...  \n",
       "24131  ทฤษฎีและการวิจัยเกี่ยวกับพัฒนาการมนุษย์ทุกช่วง...  \n",
       "25151  ธรณีวิทยาปิโตรเลียม การสำรวจปิโตรเลียมและธรณีฟ...  \n",
       "25206  การประชุมทางวิชาการเพื่อเสนอและวิจารณ์ผลงานทาง...  \n",
       "25207  การประชุมทางวิชาการเพื่อเสนอและวิจารณ์ผลงานทาง...  \n",
       "25208  ความสำคัญ และบทบาทหน้าที่ของฉาก หลักการออกแบบฉ...  "
      ]
     },
     "execution_count": 19,
     "metadata": {},
     "output_type": "execute_result"
    }
   ],
   "source": [
    "df[course_no_len == 6]"
   ]
  },
  {
   "cell_type": "code",
   "execution_count": 20,
   "metadata": {
    "id": "uqvSYg_N9spQ"
   },
   "outputs": [],
   "source": [
    "df = df[course_no_len == 7]"
   ]
  },
  {
   "cell_type": "code",
   "execution_count": 21,
   "metadata": {
    "colab": {
     "base_uri": "https://localhost:8080/"
    },
    "id": "GuutbWoj9wcu",
    "outputId": "2d494910-1d7d-436c-84d1-9e1b9cb322ad"
   },
   "outputs": [
    {
     "data": {
      "text/plain": [
       "0        20\n",
       "1        20\n",
       "2        20\n",
       "3        20\n",
       "4        20\n",
       "         ..\n",
       "25188    68\n",
       "25189    68\n",
       "25190    68\n",
       "25191    68\n",
       "25201    68\n",
       "Name: course_no, Length: 22831, dtype: object"
      ]
     },
     "execution_count": 21,
     "metadata": {},
     "output_type": "execute_result"
    }
   ],
   "source": [
    "faculty_no = df['course_no'].apply(lambda x: x[:2])\n",
    "faculty_no"
   ]
  },
  {
   "cell_type": "code",
   "execution_count": 22,
   "metadata": {
    "colab": {
     "base_uri": "https://localhost:8080/"
    },
    "id": "_8PxLLPi_IO4",
    "outputId": "2c545759-d065-43d5-e220-fb76cab5a5d0"
   },
   "outputs": [
    {
     "data": {
      "text/plain": [
       "30    2652\n",
       "22    2614\n",
       "21    2453\n",
       "27    2407\n",
       "23    2039\n",
       "33    1015\n",
       "32    1010\n",
       "28     991\n",
       "31     941\n",
       "26     907\n",
       "25     844\n",
       "24     638\n",
       "20     605\n",
       "37     577\n",
       "34     525\n",
       "38     507\n",
       "29     496\n",
       "39     463\n",
       "35     397\n",
       "36     232\n",
       "53     118\n",
       "55     118\n",
       "63      98\n",
       "51      80\n",
       "40      59\n",
       "68      28\n",
       "56      13\n",
       "48       1\n",
       "58       1\n",
       "60       1\n",
       "65       1\n",
       "Name: course_no, dtype: int64"
      ]
     },
     "execution_count": 22,
     "metadata": {},
     "output_type": "execute_result"
    }
   ],
   "source": [
    "faculty_no_counts = faculty_no.value_counts()\n",
    "faculty_no_counts"
   ]
  },
  {
   "cell_type": "code",
   "execution_count": 23,
   "metadata": {
    "colab": {
     "base_uri": "https://localhost:8080/"
    },
    "id": "7CVBphgL9Ee5",
    "outputId": "ef28d4df-b070-4a7b-c9f8-1557b5c2dd73"
   },
   "outputs": [
    {
     "data": {
      "text/plain": [
       "Index(['30', '22', '21', '27', '23', '33', '32', '28', '31', '26', '25', '24',\n",
       "       '20', '37', '34', '38', '29', '39', '35', '36', '53', '55', '63', '51',\n",
       "       '40'],\n",
       "      dtype='object')"
      ]
     },
     "execution_count": 23,
     "metadata": {},
     "output_type": "execute_result"
    }
   ],
   "source": [
    "faculty_more_than_50 = faculty_no_counts[faculty_no_counts > 50].index\n",
    "faculty_more_than_50"
   ]
  },
  {
   "cell_type": "code",
   "execution_count": 24,
   "metadata": {
    "colab": {
     "base_uri": "https://localhost:8080/"
    },
    "id": "WszAaLRV95it",
    "outputId": "4118f97a-4234-4857-832e-d40bd47325e1"
   },
   "outputs": [],
   "source": [
    "df['faculty_no'] = faculty_no"
   ]
  },
  {
   "cell_type": "code",
   "execution_count": 25,
   "metadata": {
    "id": "0so5S5E2-upN"
   },
   "outputs": [],
   "source": [
    "df = df[df['faculty_no'].isin(faculty_more_than_50)]"
   ]
  },
  {
   "cell_type": "markdown",
   "metadata": {
    "id": "wLFlP6_2_U8d"
   },
   "source": [
    "## Train test split"
   ]
  },
  {
   "cell_type": "code",
   "execution_count": 26,
   "metadata": {
    "colab": {
     "base_uri": "https://localhost:8080/",
     "height": 423
    },
    "id": "KaU8OVCT_Zix",
    "outputId": "dbdfdea5-0f79-4ba0-b3d8-354758daffae"
   },
   "outputs": [
    {
     "data": {
      "text/html": [
       "<div>\n",
       "<style scoped>\n",
       "    .dataframe tbody tr th:only-of-type {\n",
       "        vertical-align: middle;\n",
       "    }\n",
       "\n",
       "    .dataframe tbody tr th {\n",
       "        vertical-align: top;\n",
       "    }\n",
       "\n",
       "    .dataframe thead th {\n",
       "        text-align: right;\n",
       "    }\n",
       "</style>\n",
       "<table border=\"1\" class=\"dataframe\">\n",
       "  <thead>\n",
       "    <tr style=\"text-align: right;\">\n",
       "      <th></th>\n",
       "      <th>course_no</th>\n",
       "      <th>course_name_thai</th>\n",
       "      <th>description_thai</th>\n",
       "      <th>faculty_no</th>\n",
       "    </tr>\n",
       "  </thead>\n",
       "  <tbody>\n",
       "    <tr>\n",
       "      <th>0</th>\n",
       "      <td>2000503</td>\n",
       "      <td>จริยธรรมการวิจัย</td>\n",
       "      <td>ความหมายของงานวิจัยและจริยธรรมการวิจัย การได้ม...</td>\n",
       "      <td>20</td>\n",
       "    </tr>\n",
       "    <tr>\n",
       "      <th>1</th>\n",
       "      <td>2000504</td>\n",
       "      <td>การดําเนินงานตามแผนปฏิบัติการเพื่อการเปลี่ยนแป...</td>\n",
       "      <td>หลักการการริเริ่มการเปลี่ยนแปลงของสังคมโลกที่ม...</td>\n",
       "      <td>20</td>\n",
       "    </tr>\n",
       "    <tr>\n",
       "      <th>2</th>\n",
       "      <td>2000601</td>\n",
       "      <td>กิจการภิบาล</td>\n",
       "      <td>ภาพรวมของกิจการภิบาล ปัญหาและต้นทุนของตัวแทน ก...</td>\n",
       "      <td>20</td>\n",
       "    </tr>\n",
       "    <tr>\n",
       "      <th>3</th>\n",
       "      <td>2000611</td>\n",
       "      <td>การศึกษาต่างประเทศ 1</td>\n",
       "      <td>การศึกษารายวิชาเพิ่มเติมในต่างประเทศตามที่หลัก...</td>\n",
       "      <td>20</td>\n",
       "    </tr>\n",
       "    <tr>\n",
       "      <th>4</th>\n",
       "      <td>2000612</td>\n",
       "      <td>การศึกษาต่างประเทศ 2</td>\n",
       "      <td>การศึกษารายวิชาเพิ่มเติมในต่างประเทศตามที่หลัก...</td>\n",
       "      <td>20</td>\n",
       "    </tr>\n",
       "    <tr>\n",
       "      <th>...</th>\n",
       "      <td>...</td>\n",
       "      <td>...</td>\n",
       "      <td>...</td>\n",
       "      <td>...</td>\n",
       "    </tr>\n",
       "    <tr>\n",
       "      <th>25154</th>\n",
       "      <td>6303622</td>\n",
       "      <td>ความก้าวหน้าด้านเทคโนโลยีปิโตรเลียม</td>\n",
       "      <td>การอภิปรายหัวข้อพิเศษที่เกี่ยวข้องกับความก้าวห...</td>\n",
       "      <td>63</td>\n",
       "    </tr>\n",
       "    <tr>\n",
       "      <th>25155</th>\n",
       "      <td>6303623</td>\n",
       "      <td>วิชาเลือกเฉพาะด้านในการผลิตน้ำมันดิบและก๊าซธรร...</td>\n",
       "      <td>เนื้อหาวิชาครอบคลุม พัฒนาการและความเปลี่ยนแปลง...</td>\n",
       "      <td>63</td>\n",
       "    </tr>\n",
       "    <tr>\n",
       "      <th>25156</th>\n",
       "      <td>6303624</td>\n",
       "      <td>การเพิ่มประสิทธิภาพการเก็บกู้น้ำมัน</td>\n",
       "      <td>หลักการของการเพิ่มการเก็บกู้น้ำมัน คุณสมบัติขอ...</td>\n",
       "      <td>63</td>\n",
       "    </tr>\n",
       "    <tr>\n",
       "      <th>25157</th>\n",
       "      <td>6303625</td>\n",
       "      <td>การบริหารโครงการ</td>\n",
       "      <td>เนื้อหาวิชาครอบคลุมภาคทฤษฎีและภาคปฏิบัติของการ...</td>\n",
       "      <td>63</td>\n",
       "    </tr>\n",
       "    <tr>\n",
       "      <th>25158</th>\n",
       "      <td>6303811</td>\n",
       "      <td>วิทยานิพนธ์</td>\n",
       "      <td>การวิจัยในเทคโนโลยีปิโตรเลียมเพื่อความก้าวหน้า...</td>\n",
       "      <td>63</td>\n",
       "    </tr>\n",
       "  </tbody>\n",
       "</table>\n",
       "<p>22786 rows × 4 columns</p>\n",
       "</div>"
      ],
      "text/plain": [
       "      course_no                                   course_name_thai  \\\n",
       "0       2000503                                   จริยธรรมการวิจัย   \n",
       "1       2000504  การดําเนินงานตามแผนปฏิบัติการเพื่อการเปลี่ยนแป...   \n",
       "2       2000601                                        กิจการภิบาล   \n",
       "3       2000611                               การศึกษาต่างประเทศ 1   \n",
       "4       2000612                               การศึกษาต่างประเทศ 2   \n",
       "...         ...                                                ...   \n",
       "25154   6303622                ความก้าวหน้าด้านเทคโนโลยีปิโตรเลียม   \n",
       "25155   6303623  วิชาเลือกเฉพาะด้านในการผลิตน้ำมันดิบและก๊าซธรร...   \n",
       "25156   6303624                การเพิ่มประสิทธิภาพการเก็บกู้น้ำมัน   \n",
       "25157   6303625                                   การบริหารโครงการ   \n",
       "25158   6303811                                        วิทยานิพนธ์   \n",
       "\n",
       "                                        description_thai faculty_no  \n",
       "0      ความหมายของงานวิจัยและจริยธรรมการวิจัย การได้ม...         20  \n",
       "1      หลักการการริเริ่มการเปลี่ยนแปลงของสังคมโลกที่ม...         20  \n",
       "2      ภาพรวมของกิจการภิบาล ปัญหาและต้นทุนของตัวแทน ก...         20  \n",
       "3      การศึกษารายวิชาเพิ่มเติมในต่างประเทศตามที่หลัก...         20  \n",
       "4      การศึกษารายวิชาเพิ่มเติมในต่างประเทศตามที่หลัก...         20  \n",
       "...                                                  ...        ...  \n",
       "25154  การอภิปรายหัวข้อพิเศษที่เกี่ยวข้องกับความก้าวห...         63  \n",
       "25155  เนื้อหาวิชาครอบคลุม พัฒนาการและความเปลี่ยนแปลง...         63  \n",
       "25156  หลักการของการเพิ่มการเก็บกู้น้ำมัน คุณสมบัติขอ...         63  \n",
       "25157  เนื้อหาวิชาครอบคลุมภาคทฤษฎีและภาคปฏิบัติของการ...         63  \n",
       "25158  การวิจัยในเทคโนโลยีปิโตรเลียมเพื่อความก้าวหน้า...         63  \n",
       "\n",
       "[22786 rows x 4 columns]"
      ]
     },
     "execution_count": 26,
     "metadata": {},
     "output_type": "execute_result"
    }
   ],
   "source": [
    "df"
   ]
  },
  {
   "cell_type": "code",
   "execution_count": 27,
   "metadata": {
    "colab": {
     "base_uri": "https://localhost:8080/"
    },
    "id": "7tcWIuPJ_a9Q",
    "outputId": "392fba59-1cf7-4739-fe05-d8cd2c3e03c1"
   },
   "outputs": [
    {
     "name": "stdout",
     "output_type": "stream",
     "text": [
      "no whitespace: ['ความหมาย', 'ของ', 'งานวิจัย', 'และ', 'จริยธรรม', 'การวิจัย', 'การ', 'ได้มา', 'ซึ่ง', 'ข้อมูล', 'และ', 'การ', 'จัดการ', 'ข้อมูล', 'การ', 'เป็นเจ้าของ', 'งานประพันธ์', 'และ', 'การ', 'ตีพิมพ์', 'การ', 'ประพฤติ', 'ผิดทาง', 'การวิจัย', 'การ', 'ใช้', 'สัตว์', 'ทด', 'ลองใน', 'งานวิจัย', 'การ', 'เป็น', 'พี่เลี้ยง', 'ใน', 'งานวิจัย', 'และ', 'งานวิจัย', 'ร่วม', 'ภาวะ', 'ส่วนตัว', 'การ', 'ถือเป็นความลับ', 'เฉพาะ', 'และ', 'ผลประโยชน์', 'ขัดกัน', 'กระบวนการ', 'ตรวจสอบ', 'การ', 'ประพฤติ', 'ฝึก', 'ทาง', 'จริยธรรม', 'การวิจัย', 'ของ', 'จุฬาลงกรณ์', 'มหาวิทยาลัย']\n"
     ]
    }
   ],
   "source": [
    "from pythainlp import word_tokenize\n",
    "\n",
    "print(\"no whitespace:\", word_tokenize(df['description_thai'].iloc[0], keep_whitespace=False))"
   ]
  },
  {
   "cell_type": "code",
   "execution_count": 28,
   "metadata": {
    "colab": {
     "base_uri": "https://localhost:8080/",
     "height": 270,
     "referenced_widgets": [
      "e640d5bf3c754cdf9d457c91b7db1523",
      "e7bc6dad92a642a2aa2942b18c87e253",
      "a706f0cc7dd5432dbcd785e65ba044b1",
      "975d51ff44ac40d497720137748c1ffb",
      "199e76c5ef124ba2ab6d13ef093a8abf",
      "1db00c0e3c7c40ca83012ae010bd7bfc",
      "33f4bddc48bf4a1ab4470fc5b0f54729",
      "5d7564c4da7e4ba3bd6f834ff7cb98d7",
      "45342777165b453ab917e31d010ec12d",
      "014b96817d2146e7b0263a05932ed097",
      "d1b6e29f34fd464abb42da413b57956f"
     ]
    },
    "id": "1t42DnlFBUns",
    "outputId": "8341a1e0-73cc-4e3b-9e8f-85db7dc45700"
   },
   "outputs": [
    {
     "data": {
      "application/vnd.jupyter.widget-view+json": {
       "model_id": "7f74aff0fed8449fa3b14412e03b6c74",
       "version_major": 2,
       "version_minor": 0
      },
      "text/plain": [
       "  0%|          | 0/22786 [00:00<?, ?it/s]"
      ]
     },
     "metadata": {},
     "output_type": "display_data"
    },
    {
     "data": {
      "text/plain": [
       "0        [ความหมาย, ของ, งานวิจัย, และ, จริยธรรม, การวิ...\n",
       "1        [หลักการ, การ, ริเริ่ม, การเปลี่ยนแปลง, ของ, ส...\n",
       "2        [ภาพรวม, ของ, กิจการ, ภิ, บาล, ปัญหา, และ, ต้น...\n",
       "3        [การศึกษา, รายวิชา, เพิ่มเติม, ใน, ต่างประเทศ,...\n",
       "4        [การศึกษา, รายวิชา, เพิ่มเติม, ใน, ต่างประเทศ,...\n",
       "                               ...                        \n",
       "25154    [การ, อภิปราย, หัวข้อ, พิเศษ, ที่, เกี่ยวข้อง,...\n",
       "25155    [เนื้อหาวิชา, ครอบคลุม, พัฒนาการ, และ, ความเปล...\n",
       "25156    [หลักการ, ของ, การ, เพิ่ม, การ, เก็บ, กู้, น้ำ...\n",
       "25157    [เนื้อหาวิชา, ครอบคลุม, ภาคทฤษฎี, และ, ภาคปฏิบ...\n",
       "25158    [การวิจัย, ใน, เทคโนโลยี, ปิโตรเลียม, เพื่อ, ค...\n",
       "Name: description_thai, Length: 22786, dtype: object"
      ]
     },
     "execution_count": 28,
     "metadata": {},
     "output_type": "execute_result"
    }
   ],
   "source": [
    "description_thai_tokenize = df['description_thai'].progress_apply(lambda x: word_tokenize(x, keep_whitespace=False))\n",
    "description_thai_tokenize"
   ]
  },
  {
   "cell_type": "code",
   "execution_count": 29,
   "metadata": {
    "id": "iSsMuxmTAw6K"
   },
   "outputs": [],
   "source": [
    "description_thai_word_count = description_thai_tokenize.apply(lambda x: len(x))"
   ]
  },
  {
   "cell_type": "code",
   "execution_count": 30,
   "metadata": {
    "colab": {
     "base_uri": "https://localhost:8080/"
    },
    "id": "X0GCLWLZCJh5",
    "outputId": "6ba3bcca-26ff-4a15-f37e-1e748085980b"
   },
   "outputs": [
    {
     "data": {
      "text/plain": [
       "22     522\n",
       "24     516\n",
       "32     496\n",
       "25     496\n",
       "33     494\n",
       "      ... \n",
       "234      1\n",
       "179      1\n",
       "162      1\n",
       "178      1\n",
       "160      1\n",
       "Name: description_thai, Length: 190, dtype: int64"
      ]
     },
     "execution_count": 30,
     "metadata": {},
     "output_type": "execute_result"
    }
   ],
   "source": [
    "description_thai_word_count.value_counts()"
   ]
  },
  {
   "cell_type": "code",
   "execution_count": 31,
   "metadata": {
    "colab": {
     "base_uri": "https://localhost:8080/"
    },
    "id": "HR3aqF6XCWbc",
    "outputId": "487bda81-b068-4b36-e12a-f9fbd4b78b0e"
   },
   "outputs": [
    {
     "name": "stdout",
     "output_type": "stream",
     "text": [
      "38.33823400333538\n",
      "34.0\n",
      "305\n",
      "1\n"
     ]
    }
   ],
   "source": [
    "print(description_thai_word_count.mean())\n",
    "print(description_thai_word_count.median())\n",
    "print(description_thai_word_count.max())\n",
    "print(description_thai_word_count.min())"
   ]
  },
  {
   "cell_type": "code",
   "execution_count": 32,
   "metadata": {
    "colab": {
     "base_uri": "https://localhost:8080/",
     "height": 610
    },
    "id": "-99WdIPlBjfC",
    "outputId": "38b60c41-0d67-48dc-d5aa-e1905987aa52"
   },
   "outputs": [
    {
     "data": {
      "text/plain": [
       "<AxesSubplot:>"
      ]
     },
     "execution_count": 32,
     "metadata": {},
     "output_type": "execute_result"
    },
    {
     "data": {
      "image/png": "[encoded data removed]",
      "text/plain": [
       "<Figure size 1440x720 with 1 Axes>"
      ]
     },
     "metadata": {
      "needs_background": "light"
     },
     "output_type": "display_data"
    }
   ],
   "source": [
    "description_thai_word_count.hist(figsize = (20, 10))"
   ]
  },
  {
   "cell_type": "code",
   "execution_count": 33,
   "metadata": {
    "colab": {
     "base_uri": "https://localhost:8080/"
    },
    "id": "RRsLqCcyIPRw",
    "outputId": "9abe3cb0-ae3c-4a4a-c1d5-5f9076b7a29e"
   },
   "outputs": [
    {
     "data": {
      "text/plain": [
       "0        [ความหมาย, ของ, งานวิจัย, และ, จริยธรรม, การวิ...\n",
       "1        [หลักการ, การ, ริเริ่ม, การเปลี่ยนแปลง, ของ, ส...\n",
       "2        [ภาพรวม, ของ, กิจการ, ภิ, บาล, ปัญหา, และ, ต้น...\n",
       "3        [การศึกษา, รายวิชา, เพิ่มเติม, ใน, ต่างประเทศ,...\n",
       "4        [การศึกษา, รายวิชา, เพิ่มเติม, ใน, ต่างประเทศ,...\n",
       "                               ...                        \n",
       "25154    [การ, อภิปราย, หัวข้อ, พิเศษ, ที่, เกี่ยวข้อง,...\n",
       "25155    [เนื้อหาวิชา, ครอบคลุม, พัฒนาการ, และ, ความเปล...\n",
       "25156    [หลักการ, ของ, การ, เพิ่ม, การ, เก็บ, กู้, น้ำ...\n",
       "25157    [เนื้อหาวิชา, ครอบคลุม, ภาคทฤษฎี, และ, ภาคปฏิบ...\n",
       "25158    [การวิจัย, ใน, เทคโนโลยี, ปิโตรเลียม, เพื่อ, ค...\n",
       "Name: description_thai, Length: 22786, dtype: object"
      ]
     },
     "execution_count": 33,
     "metadata": {},
     "output_type": "execute_result"
    }
   ],
   "source": [
    "description_thai_tokenize"
   ]
  },
  {
   "cell_type": "code",
   "execution_count": 34,
   "metadata": {
    "id": "8h4vXkajCSMX"
   },
   "outputs": [],
   "source": [
    "X_text = description_thai_tokenize.to_list()"
   ]
  },
  {
   "cell_type": "code",
   "execution_count": 35,
   "metadata": {
    "id": "WHQLFwBwVIsn"
   },
   "outputs": [],
   "source": [
    "from pythainlp.corpus import thai_stopwords\n",
    "stopwords = list(thai_stopwords())"
   ]
  },
  {
   "cell_type": "code",
   "execution_count": 36,
   "metadata": {
    "colab": {
     "base_uri": "https://localhost:8080/"
    },
    "id": "Gl2H9Y9VUAf8",
    "outputId": "1a4d7a78-8869-473d-9631-a35c33eb3cf6"
   },
   "outputs": [
    {
     "name": "stderr",
     "output_type": "stream",
     "text": [
      "/opt/conda/lib/python3.9/site-packages/sklearn/feature_extraction/text.py:396: UserWarning: Your stop_words may be inconsistent with your preprocessing. Tokenizing the stop words generated tokens ['ก', 'ข', 'ค', 'ง', 'จ', 'ฉ', 'ช', 'ซ', 'ญ', 'ฏ', 'ด', 'ต', 'ถ', 'ท', 'ธ', 'น', 'บ', 'ป', 'ผ', 'ฝ', 'พ', 'ภ', 'ม', 'ย', 'ร', 'ล', 'ว', 'ศ', 'ส', 'ห', 'อ', 'ะ', 'ั', 'า', 'ำ', 'ิ', 'ี', 'ึ', 'ื', 'ุ', 'ู', 'เ', 'แ', 'โ', 'ใ', 'ไ', '็', '่', '้', '๊', '๋', '์', 'ํ', '\\ufeff'] not in stop_words.\n",
      "  warnings.warn(\n"
     ]
    }
   ],
   "source": [
    "from sklearn.feature_extraction.text import TfidfVectorizer\n",
    "\n",
    "def identity_tokenizer(text):\n",
    "    return text\n",
    "\n",
    "vectorizer = TfidfVectorizer(tokenizer=identity_tokenizer, lowercase=False, stop_words=stopwords)\n",
    "tf_idf = vectorizer.fit_transform(X_text)"
   ]
  },
  {
   "cell_type": "code",
   "execution_count": 37,
   "metadata": {
    "id": "kRVmsrVsDA5e"
   },
   "outputs": [],
   "source": [
    "Y_text = df['faculty_no'].values"
   ]
  },
  {
   "cell_type": "code",
   "execution_count": 38,
   "metadata": {
    "colab": {
     "base_uri": "https://localhost:8080/"
    },
    "id": "8YufI_FdC6Xw",
    "outputId": "bb84f52a-e389-484c-82c8-8f0816a41f65"
   },
   "outputs": [
    {
     "data": {
      "text/plain": [
       "array(['20', '20', '20', ..., '63', '63', '63'], dtype=object)"
      ]
     },
     "execution_count": 38,
     "metadata": {},
     "output_type": "execute_result"
    }
   ],
   "source": [
    "Y_text"
   ]
  },
  {
   "cell_type": "code",
   "execution_count": 39,
   "metadata": {
    "id": "vXq-4FjYYcOV"
   },
   "outputs": [],
   "source": [
    "from sklearn.model_selection import train_test_split\n",
    "\n",
    "tf_train, tf_test, Y_tf_train, Y_tf_test = train_test_split(tf_idf, Y_text, test_size = 0.10, random_state = 42)"
   ]
  },
  {
   "cell_type": "code",
   "execution_count": 46,
   "metadata": {
    "colab": {
     "base_uri": "https://localhost:8080/"
    },
    "id": "DSY6to4-WxJ1",
    "outputId": "e8619fa0-39fd-4b60-cefa-111992117108"
   },
   "outputs": [
    {
     "data": {
      "text/plain": [
       "SVC()"
      ]
     },
     "execution_count": 46,
     "metadata": {},
     "output_type": "execute_result"
    }
   ],
   "source": [
    "from sklearn import svm\n",
    "\n",
    "clf = svm.SVC()\n",
    "clf.fit(tf_train, Y_tf_train)"
   ]
  },
  {
   "cell_type": "code",
   "execution_count": 47,
   "metadata": {
    "id": "6MyT8riTXGco"
   },
   "outputs": [],
   "source": [
    "Y_pred = clf.predict(tf_test)"
   ]
  },
  {
   "cell_type": "code",
   "execution_count": 48,
   "metadata": {
    "colab": {
     "base_uri": "https://localhost:8080/"
    },
    "id": "ke24b3XHX4M9",
    "outputId": "fb3c1005-1259-42c1-96e1-6ed807d10de2"
   },
   "outputs": [
    {
     "name": "stdout",
     "output_type": "stream",
     "text": [
      "0.7898200965335673\n",
      "0.7898200965335673\n"
     ]
    }
   ],
   "source": [
    "from sklearn.metrics import accuracy_score\n",
    "from sklearn.metrics import f1_score\n",
    "\n",
    "print(accuracy_score(Y_tf_test, Y_pred))\n",
    "print(f1_score(Y_tf_test, Y_pred, average='micro'))"
   ]
  },
  {
   "cell_type": "code",
   "execution_count": 49,
   "metadata": {
    "colab": {
     "base_uri": "https://localhost:8080/"
    },
    "id": "FfmbAIm0VcnC",
    "outputId": "098a84ac-f261-4403-96fc-5dbc51bda81e"
   },
   "outputs": [
    {
     "data": {
      "text/plain": [
       "(22786, 13939)"
      ]
     },
     "execution_count": 49,
     "metadata": {},
     "output_type": "execute_result"
    }
   ],
   "source": [
    "tf_idf.shape"
   ]
  },
  {
   "cell_type": "code",
   "execution_count": 50,
   "metadata": {
    "id": "rSA8P26EVjHh"
   },
   "outputs": [],
   "source": [
    "import skopt"
   ]
  },
  {
   "cell_type": "code",
   "execution_count": 129,
   "metadata": {},
   "outputs": [],
   "source": [
    "from skopt.callbacks import CheckpointSaver\n",
    "import time\n",
    "\n",
    "\n",
    "class LifeSaver(object):\n",
    "\n",
    "    current = 0\n",
    "    def __init__(self, total, start = 0, **kwargs):\n",
    "        self.current = start\n",
    "        self._checkpoint_saver = CheckpointSaver(**kwargs)\n",
    "        self.total = total\n",
    "    def __call__(self, res):\n",
    "        self._checkpoint_saver.__call__(res)\n",
    "        self.current += 1\n",
    "        print(f\"{self.current}/{self.total}\")\n"
   ]
  },
  {
   "cell_type": "code",
   "execution_count": 134,
   "metadata": {},
   "outputs": [
    {
     "name": "stdout",
     "output_type": "stream",
     "text": [
      "[[3.3108186896717307, 'rbf', 2, 0.6711266101623925], [0.00033551814926827497, 'rbf', 2, 4.29035995889377], [0.0008919763005596203, 'poly', 1, 3.101599867657219e-05], [0.06543527889685069, 'linear', 2, 1.2302823027169885], [0.2131906334829466, 'linear', 3, 14.273101079855673], [0.141645115505999, 'sigmoid', 3, 3.467809774016928e-05], [41.72776409082915, 'linear', 2, 0.0697824196604436], [0.0032132658526691405, 'rbf', 3, 0.041289776551754406], [6.237846841431372e-05, 'poly', 2, 0.0960665325906951], [1.6913898293443755e-06, 'rbf', 2, 0.0005435147159631662], [0.0068801667004534705, 'linear', 3, 21.661155168208193], [19.62255646305339, 'linear', 5, 0.0005312342102326412], [41.5493616256875, 'rbf', 4, 0.005147140720920628], [0.9563667993994027, 'poly', 3, 4.950340299837381], [28.328238532336346, 'poly', 3, 0.45883076303255255], [0.0005240805096055802, 'sigmoid', 1, 0.5224348342549675], [0.00013033653657864322, 'poly', 1, 0.00033878168177218793], [0.004169903385691833, 'poly', 4, 0.4943200139171838], [0.0007828922504834576, 'poly', 3, 1.4087152179521692e-06], [4.958831740926521, 'poly', 1, 0.19894954162545667], [9.51201094180464, 'linear', 1, 0.015753768578849], [100.0, 'linear', 1, 1e-06], [15.714819515400578, 'sigmoid', 1, 1e-06], [5.368176117399684, 'rbf', 1, 0.2122500158831139]]\n",
      "[0.19247052 0.88720912 0.88355214 0.42687831 0.29063285 0.88706294\n",
      " 0.21831559 0.88355198 0.883552   0.88677036 0.79280289 0.21670686\n",
      " 0.24898791 0.31013865 0.30765124 0.88355207 0.88355239 0.88355213\n",
      " 0.88355204 0.21660914 0.21241554 0.21656022 0.88355203 0.20017612]\n"
     ]
    }
   ],
   "source": [
    "from skopt import load\n",
    "\n",
    "\n",
    "x0 = []\n",
    "y0 = []\n",
    "try:\n",
    "    res = load('./checkpoint.pkl')\n",
    "    x0 = res.x_iters\n",
    "    y0 = res.func_vals\n",
    "except:\n",
    "    print('error')\n",
    "\n",
    "print(x0)\n",
    "print(y0)"
   ]
  },
  {
   "cell_type": "code",
   "execution_count": 135,
   "metadata": {
    "colab": {
     "base_uri": "https://localhost:8080/",
     "height": 141,
     "referenced_widgets": [
      "29bc67b7482c44cfa30f3dbbec934f07",
      "137fe28a044d455785dfd2d492b53df3",
      "0178d772ab7b485596a22fc242614b3c",
      "c3d15fd0c7ff474983e15ff902426a07",
      "0f187a5e25994403ac4321c46a1c397d",
      "8337ccfb2cfd428997af521591db50d6",
      "10ef190335c94136aa6319a32462243c",
      "b6bc5be0a7194356b3566d6beaa19771",
      "ba5b19c3f9374cbfa7b317ab2ea18e02",
      "11fea372a5a44558a080e1083cac7c15",
      "81499522ae4f4b4db038309c5b03872d"
     ]
    },
    "id": "_7jWX56La7lM",
    "outputId": "ea96bdba-15c7-4bc5-8614-3ddbef1cc2ce"
   },
   "outputs": [
    {
     "name": "stdout",
     "output_type": "stream",
     "text": [
      "25/50\n",
      "estimate 0.1164483790625088 {'C': 0.008896098087118868, 'kernel': 'poly', 'degree': 4, 'gamma': 3.50327351733555e-05}\n",
      "26/50\n",
      "estimate 0.11644804617108884 {'C': 3.44421046402916e-06, 'kernel': 'sigmoid', 'degree': 4, 'gamma': 0.002621679832730066}\n",
      "27/50\n",
      "estimate 0.11644801050415096 {'C': 9.6638120058881e-05, 'kernel': 'poly', 'degree': 2, 'gamma': 3.570332828448076}\n",
      "28/50\n",
      "estimate 0.11649695743186635 {'C': 1.5006671555168645, 'kernel': 'sigmoid', 'degree': 2, 'gamma': 0.0020837583469377084}\n",
      "29/50\n",
      "estimate 0.5962846939735121 {'C': 0.01564331094700346, 'kernel': 'poly', 'degree': 4, 'gamma': 69.08011951865038}\n",
      "30/50\n",
      "estimate 0.11644823639475739 {'C': 4.5264978798691355e-05, 'kernel': 'poly', 'degree': 2, 'gamma': 3.679704260698996e-05}\n",
      "31/50\n",
      "estimate 0.11644763005681387 {'C': 2.341558871757241e-05, 'kernel': 'poly', 'degree': 3, 'gamma': 1.6622144343259467e-05}\n",
      "32/50\n",
      "estimate 0.11644808183802668 {'C': 0.18038890317535033, 'kernel': 'rbf', 'degree': 2, 'gamma': 0.0027740447522256687}\n",
      "33/50\n",
      "estimate 0.11220540446842531 {'C': 3.5630309879529454e-06, 'kernel': 'rbf', 'degree': 2, 'gamma': 1.3860659656983762e-05}\n",
      "34/50\n"
     ]
    },
    {
     "ename": "KeyboardInterrupt",
     "evalue": "",
     "output_type": "error",
     "traceback": [
      "\u001b[0;31m---------------------------------------------------------------------------\u001b[0m",
      "\u001b[0;31mKeyboardInterrupt\u001b[0m                         Traceback (most recent call last)",
      "\u001b[0;32m/tmp/ipykernel_50/2357479421.py\u001b[0m in \u001b[0;36m<module>\u001b[0;34m\u001b[0m\n\u001b[1;32m     36\u001b[0m \u001b[0;34m\u001b[0m\u001b[0m\n\u001b[1;32m     37\u001b[0m \u001b[0;31m# perform optimization\u001b[0m\u001b[0;34m\u001b[0m\u001b[0;34m\u001b[0m\u001b[0m\n\u001b[0;32m---> 38\u001b[0;31m \u001b[0mresult\u001b[0m \u001b[0;34m=\u001b[0m \u001b[0mgp_minimize\u001b[0m\u001b[0;34m(\u001b[0m\u001b[0mevaluate_model\u001b[0m\u001b[0;34m,\u001b[0m \u001b[0msearch_space\u001b[0m\u001b[0;34m,\u001b[0m \u001b[0mx0\u001b[0m \u001b[0;34m=\u001b[0m \u001b[0mx0\u001b[0m\u001b[0;34m,\u001b[0m \u001b[0my0\u001b[0m \u001b[0;34m=\u001b[0m \u001b[0my0\u001b[0m\u001b[0;34m,\u001b[0m \u001b[0mn_calls\u001b[0m\u001b[0;34m=\u001b[0m\u001b[0mn_calls\u001b[0m\u001b[0;34m,\u001b[0m \u001b[0mcallback\u001b[0m\u001b[0;34m=\u001b[0m\u001b[0mLifeSaver\u001b[0m\u001b[0;34m(\u001b[0m\u001b[0mtotal\u001b[0m\u001b[0;34m=\u001b[0m\u001b[0mn_calls\u001b[0m\u001b[0;34m,\u001b[0m \u001b[0mstart\u001b[0m\u001b[0;34m=\u001b[0m\u001b[0mlen\u001b[0m\u001b[0;34m(\u001b[0m\u001b[0mx0\u001b[0m\u001b[0;34m)\u001b[0m\u001b[0;34m,\u001b[0m \u001b[0mcheckpoint_path\u001b[0m\u001b[0;34m=\u001b[0m\u001b[0;34m\"./checkpoint.pkl\"\u001b[0m\u001b[0;34m,\u001b[0m \u001b[0mcompress\u001b[0m\u001b[0;34m=\u001b[0m\u001b[0;36m9\u001b[0m\u001b[0;34m)\u001b[0m\u001b[0;34m)\u001b[0m\u001b[0;34m\u001b[0m\u001b[0;34m\u001b[0m\u001b[0m\n\u001b[0m\u001b[1;32m     39\u001b[0m \u001b[0;31m# summarizing finding:\u001b[0m\u001b[0;34m\u001b[0m\u001b[0;34m\u001b[0m\u001b[0m\n\u001b[1;32m     40\u001b[0m \u001b[0mprint\u001b[0m\u001b[0;34m(\u001b[0m\u001b[0;34m'Best Accuracy: %.3f'\u001b[0m \u001b[0;34m%\u001b[0m \u001b[0;34m(\u001b[0m\u001b[0;36m1.0\u001b[0m \u001b[0;34m-\u001b[0m \u001b[0mresult\u001b[0m\u001b[0;34m.\u001b[0m\u001b[0mfun\u001b[0m\u001b[0;34m)\u001b[0m\u001b[0;34m)\u001b[0m\u001b[0;34m\u001b[0m\u001b[0;34m\u001b[0m\u001b[0m\n",
      "\u001b[0;32m/opt/conda/lib/python3.9/site-packages/skopt/optimizer/gp.py\u001b[0m in \u001b[0;36mgp_minimize\u001b[0;34m(func, dimensions, base_estimator, n_calls, n_random_starts, n_initial_points, initial_point_generator, acq_func, acq_optimizer, x0, y0, random_state, verbose, callback, n_points, n_restarts_optimizer, xi, kappa, noise, n_jobs, model_queue_size)\u001b[0m\n\u001b[1;32m    257\u001b[0m             noise=noise)\n\u001b[1;32m    258\u001b[0m \u001b[0;34m\u001b[0m\u001b[0m\n\u001b[0;32m--> 259\u001b[0;31m     return base_minimize(\n\u001b[0m\u001b[1;32m    260\u001b[0m         \u001b[0mfunc\u001b[0m\u001b[0;34m,\u001b[0m \u001b[0mspace\u001b[0m\u001b[0;34m,\u001b[0m \u001b[0mbase_estimator\u001b[0m\u001b[0;34m=\u001b[0m\u001b[0mbase_estimator\u001b[0m\u001b[0;34m,\u001b[0m\u001b[0;34m\u001b[0m\u001b[0;34m\u001b[0m\u001b[0m\n\u001b[1;32m    261\u001b[0m         \u001b[0macq_func\u001b[0m\u001b[0;34m=\u001b[0m\u001b[0macq_func\u001b[0m\u001b[0;34m,\u001b[0m\u001b[0;34m\u001b[0m\u001b[0;34m\u001b[0m\u001b[0m\n",
      "\u001b[0;32m/opt/conda/lib/python3.9/site-packages/skopt/optimizer/base.py\u001b[0m in \u001b[0;36mbase_minimize\u001b[0;34m(func, dimensions, base_estimator, n_calls, n_random_starts, n_initial_points, initial_point_generator, acq_func, acq_optimizer, x0, y0, random_state, verbose, callback, n_points, n_restarts_optimizer, xi, kappa, n_jobs, model_queue_size)\u001b[0m\n\u001b[1;32m    297\u001b[0m     \u001b[0;32mfor\u001b[0m \u001b[0mn\u001b[0m \u001b[0;32min\u001b[0m \u001b[0mrange\u001b[0m\u001b[0;34m(\u001b[0m\u001b[0mn_calls\u001b[0m\u001b[0;34m)\u001b[0m\u001b[0;34m:\u001b[0m\u001b[0;34m\u001b[0m\u001b[0;34m\u001b[0m\u001b[0m\n\u001b[1;32m    298\u001b[0m         \u001b[0mnext_x\u001b[0m \u001b[0;34m=\u001b[0m \u001b[0moptimizer\u001b[0m\u001b[0;34m.\u001b[0m\u001b[0mask\u001b[0m\u001b[0;34m(\u001b[0m\u001b[0;34m)\u001b[0m\u001b[0;34m\u001b[0m\u001b[0;34m\u001b[0m\u001b[0m\n\u001b[0;32m--> 299\u001b[0;31m         \u001b[0mnext_y\u001b[0m \u001b[0;34m=\u001b[0m \u001b[0mfunc\u001b[0m\u001b[0;34m(\u001b[0m\u001b[0mnext_x\u001b[0m\u001b[0;34m)\u001b[0m\u001b[0;34m\u001b[0m\u001b[0;34m\u001b[0m\u001b[0m\n\u001b[0m\u001b[1;32m    300\u001b[0m         \u001b[0mresult\u001b[0m \u001b[0;34m=\u001b[0m \u001b[0moptimizer\u001b[0m\u001b[0;34m.\u001b[0m\u001b[0mtell\u001b[0m\u001b[0;34m(\u001b[0m\u001b[0mnext_x\u001b[0m\u001b[0;34m,\u001b[0m \u001b[0mnext_y\u001b[0m\u001b[0;34m)\u001b[0m\u001b[0;34m\u001b[0m\u001b[0;34m\u001b[0m\u001b[0m\n\u001b[1;32m    301\u001b[0m         \u001b[0mresult\u001b[0m\u001b[0;34m.\u001b[0m\u001b[0mspecs\u001b[0m \u001b[0;34m=\u001b[0m \u001b[0mspecs\u001b[0m\u001b[0;34m\u001b[0m\u001b[0;34m\u001b[0m\u001b[0m\n",
      "\u001b[0;32m/opt/conda/lib/python3.9/site-packages/skopt/utils.py\u001b[0m in \u001b[0;36mwrapper\u001b[0;34m(x)\u001b[0m\n\u001b[1;32m    787\u001b[0m \u001b[0;34m\u001b[0m\u001b[0m\n\u001b[1;32m    788\u001b[0m             \u001b[0;31m# Call the wrapped objective function with the named arguments.\u001b[0m\u001b[0;34m\u001b[0m\u001b[0;34m\u001b[0m\u001b[0m\n\u001b[0;32m--> 789\u001b[0;31m             \u001b[0mobjective_value\u001b[0m \u001b[0;34m=\u001b[0m \u001b[0mfunc\u001b[0m\u001b[0;34m(\u001b[0m\u001b[0;34m**\u001b[0m\u001b[0marg_dict\u001b[0m\u001b[0;34m)\u001b[0m\u001b[0;34m\u001b[0m\u001b[0;34m\u001b[0m\u001b[0m\n\u001b[0m\u001b[1;32m    790\u001b[0m \u001b[0;34m\u001b[0m\u001b[0m\n\u001b[1;32m    791\u001b[0m             \u001b[0;32mreturn\u001b[0m \u001b[0mobjective_value\u001b[0m\u001b[0;34m\u001b[0m\u001b[0;34m\u001b[0m\u001b[0m\n",
      "\u001b[0;32m/tmp/ipykernel_50/2357479421.py\u001b[0m in \u001b[0;36mevaluate_model\u001b[0;34m(**params)\u001b[0m\n\u001b[1;32m     25\u001b[0m   \u001b[0mcv\u001b[0m \u001b[0;34m=\u001b[0m \u001b[0mKFold\u001b[0m\u001b[0;34m(\u001b[0m\u001b[0mn_splits\u001b[0m\u001b[0;34m=\u001b[0m\u001b[0;36m5\u001b[0m\u001b[0;34m,\u001b[0m \u001b[0mshuffle\u001b[0m\u001b[0;34m=\u001b[0m\u001b[0;32mTrue\u001b[0m\u001b[0;34m)\u001b[0m\u001b[0;34m\u001b[0m\u001b[0;34m\u001b[0m\u001b[0m\n\u001b[1;32m     26\u001b[0m   \u001b[0;31m# calculate 5-fold cross validation\u001b[0m\u001b[0;34m\u001b[0m\u001b[0;34m\u001b[0m\u001b[0m\n\u001b[0;32m---> 27\u001b[0;31m   \u001b[0mresult\u001b[0m \u001b[0;34m=\u001b[0m \u001b[0mcross_val_score\u001b[0m\u001b[0;34m(\u001b[0m\u001b[0mmodel\u001b[0m\u001b[0;34m,\u001b[0m \u001b[0mtf_train\u001b[0m\u001b[0;34m,\u001b[0m \u001b[0mY_tf_train\u001b[0m\u001b[0;34m,\u001b[0m \u001b[0mcv\u001b[0m\u001b[0;34m=\u001b[0m\u001b[0mcv\u001b[0m\u001b[0;34m,\u001b[0m \u001b[0mn_jobs\u001b[0m\u001b[0;34m=\u001b[0m\u001b[0;34m-\u001b[0m\u001b[0;36m1\u001b[0m\u001b[0;34m,\u001b[0m \u001b[0mscoring\u001b[0m\u001b[0;34m=\u001b[0m\u001b[0;34m'f1_micro'\u001b[0m\u001b[0;34m)\u001b[0m\u001b[0;34m\u001b[0m\u001b[0;34m\u001b[0m\u001b[0m\n\u001b[0m\u001b[1;32m     28\u001b[0m   \u001b[0;31m# calculate the mean of the scores\u001b[0m\u001b[0;34m\u001b[0m\u001b[0;34m\u001b[0m\u001b[0m\n\u001b[1;32m     29\u001b[0m   \u001b[0mestimate\u001b[0m \u001b[0;34m=\u001b[0m \u001b[0mmean\u001b[0m\u001b[0;34m(\u001b[0m\u001b[0mresult\u001b[0m\u001b[0;34m)\u001b[0m\u001b[0;34m\u001b[0m\u001b[0;34m\u001b[0m\u001b[0m\n",
      "\u001b[0;32m/opt/conda/lib/python3.9/site-packages/sklearn/model_selection/_validation.py\u001b[0m in \u001b[0;36mcross_val_score\u001b[0;34m(estimator, X, y, groups, scoring, cv, n_jobs, verbose, fit_params, pre_dispatch, error_score)\u001b[0m\n\u001b[1;32m    508\u001b[0m     \u001b[0mscorer\u001b[0m \u001b[0;34m=\u001b[0m \u001b[0mcheck_scoring\u001b[0m\u001b[0;34m(\u001b[0m\u001b[0mestimator\u001b[0m\u001b[0;34m,\u001b[0m \u001b[0mscoring\u001b[0m\u001b[0;34m=\u001b[0m\u001b[0mscoring\u001b[0m\u001b[0;34m)\u001b[0m\u001b[0;34m\u001b[0m\u001b[0;34m\u001b[0m\u001b[0m\n\u001b[1;32m    509\u001b[0m \u001b[0;34m\u001b[0m\u001b[0m\n\u001b[0;32m--> 510\u001b[0;31m     cv_results = cross_validate(\n\u001b[0m\u001b[1;32m    511\u001b[0m         \u001b[0mestimator\u001b[0m\u001b[0;34m=\u001b[0m\u001b[0mestimator\u001b[0m\u001b[0;34m,\u001b[0m\u001b[0;34m\u001b[0m\u001b[0;34m\u001b[0m\u001b[0m\n\u001b[1;32m    512\u001b[0m         \u001b[0mX\u001b[0m\u001b[0;34m=\u001b[0m\u001b[0mX\u001b[0m\u001b[0;34m,\u001b[0m\u001b[0;34m\u001b[0m\u001b[0;34m\u001b[0m\u001b[0m\n",
      "\u001b[0;32m/opt/conda/lib/python3.9/site-packages/sklearn/model_selection/_validation.py\u001b[0m in \u001b[0;36mcross_validate\u001b[0;34m(estimator, X, y, groups, scoring, cv, n_jobs, verbose, fit_params, pre_dispatch, return_train_score, return_estimator, error_score)\u001b[0m\n\u001b[1;32m    265\u001b[0m     \u001b[0;31m# independent, and that it is pickle-able.\u001b[0m\u001b[0;34m\u001b[0m\u001b[0;34m\u001b[0m\u001b[0m\n\u001b[1;32m    266\u001b[0m     \u001b[0mparallel\u001b[0m \u001b[0;34m=\u001b[0m \u001b[0mParallel\u001b[0m\u001b[0;34m(\u001b[0m\u001b[0mn_jobs\u001b[0m\u001b[0;34m=\u001b[0m\u001b[0mn_jobs\u001b[0m\u001b[0;34m,\u001b[0m \u001b[0mverbose\u001b[0m\u001b[0;34m=\u001b[0m\u001b[0mverbose\u001b[0m\u001b[0;34m,\u001b[0m \u001b[0mpre_dispatch\u001b[0m\u001b[0;34m=\u001b[0m\u001b[0mpre_dispatch\u001b[0m\u001b[0;34m)\u001b[0m\u001b[0;34m\u001b[0m\u001b[0;34m\u001b[0m\u001b[0m\n\u001b[0;32m--> 267\u001b[0;31m     results = parallel(\n\u001b[0m\u001b[1;32m    268\u001b[0m         delayed(_fit_and_score)(\n\u001b[1;32m    269\u001b[0m             \u001b[0mclone\u001b[0m\u001b[0;34m(\u001b[0m\u001b[0mestimator\u001b[0m\u001b[0;34m)\u001b[0m\u001b[0;34m,\u001b[0m\u001b[0;34m\u001b[0m\u001b[0;34m\u001b[0m\u001b[0m\n",
      "\u001b[0;32m/opt/conda/lib/python3.9/site-packages/joblib/parallel.py\u001b[0m in \u001b[0;36m__call__\u001b[0;34m(self, iterable)\u001b[0m\n\u001b[1;32m   1054\u001b[0m \u001b[0;34m\u001b[0m\u001b[0m\n\u001b[1;32m   1055\u001b[0m             \u001b[0;32mwith\u001b[0m \u001b[0mself\u001b[0m\u001b[0;34m.\u001b[0m\u001b[0m_backend\u001b[0m\u001b[0;34m.\u001b[0m\u001b[0mretrieval_context\u001b[0m\u001b[0;34m(\u001b[0m\u001b[0;34m)\u001b[0m\u001b[0;34m:\u001b[0m\u001b[0;34m\u001b[0m\u001b[0;34m\u001b[0m\u001b[0m\n\u001b[0;32m-> 1056\u001b[0;31m                 \u001b[0mself\u001b[0m\u001b[0;34m.\u001b[0m\u001b[0mretrieve\u001b[0m\u001b[0;34m(\u001b[0m\u001b[0;34m)\u001b[0m\u001b[0;34m\u001b[0m\u001b[0;34m\u001b[0m\u001b[0m\n\u001b[0m\u001b[1;32m   1057\u001b[0m             \u001b[0;31m# Make sure that we get a last message telling us we are done\u001b[0m\u001b[0;34m\u001b[0m\u001b[0;34m\u001b[0m\u001b[0m\n\u001b[1;32m   1058\u001b[0m             \u001b[0melapsed_time\u001b[0m \u001b[0;34m=\u001b[0m \u001b[0mtime\u001b[0m\u001b[0;34m.\u001b[0m\u001b[0mtime\u001b[0m\u001b[0;34m(\u001b[0m\u001b[0;34m)\u001b[0m \u001b[0;34m-\u001b[0m \u001b[0mself\u001b[0m\u001b[0;34m.\u001b[0m\u001b[0m_start_time\u001b[0m\u001b[0;34m\u001b[0m\u001b[0;34m\u001b[0m\u001b[0m\n",
      "\u001b[0;32m/opt/conda/lib/python3.9/site-packages/joblib/parallel.py\u001b[0m in \u001b[0;36mretrieve\u001b[0;34m(self)\u001b[0m\n\u001b[1;32m    933\u001b[0m             \u001b[0;32mtry\u001b[0m\u001b[0;34m:\u001b[0m\u001b[0;34m\u001b[0m\u001b[0;34m\u001b[0m\u001b[0m\n\u001b[1;32m    934\u001b[0m                 \u001b[0;32mif\u001b[0m \u001b[0mgetattr\u001b[0m\u001b[0;34m(\u001b[0m\u001b[0mself\u001b[0m\u001b[0;34m.\u001b[0m\u001b[0m_backend\u001b[0m\u001b[0;34m,\u001b[0m \u001b[0;34m'supports_timeout'\u001b[0m\u001b[0;34m,\u001b[0m \u001b[0;32mFalse\u001b[0m\u001b[0;34m)\u001b[0m\u001b[0;34m:\u001b[0m\u001b[0;34m\u001b[0m\u001b[0;34m\u001b[0m\u001b[0m\n\u001b[0;32m--> 935\u001b[0;31m                     \u001b[0mself\u001b[0m\u001b[0;34m.\u001b[0m\u001b[0m_output\u001b[0m\u001b[0;34m.\u001b[0m\u001b[0mextend\u001b[0m\u001b[0;34m(\u001b[0m\u001b[0mjob\u001b[0m\u001b[0;34m.\u001b[0m\u001b[0mget\u001b[0m\u001b[0;34m(\u001b[0m\u001b[0mtimeout\u001b[0m\u001b[0;34m=\u001b[0m\u001b[0mself\u001b[0m\u001b[0;34m.\u001b[0m\u001b[0mtimeout\u001b[0m\u001b[0;34m)\u001b[0m\u001b[0;34m)\u001b[0m\u001b[0;34m\u001b[0m\u001b[0;34m\u001b[0m\u001b[0m\n\u001b[0m\u001b[1;32m    936\u001b[0m                 \u001b[0;32melse\u001b[0m\u001b[0;34m:\u001b[0m\u001b[0;34m\u001b[0m\u001b[0;34m\u001b[0m\u001b[0m\n\u001b[1;32m    937\u001b[0m                     \u001b[0mself\u001b[0m\u001b[0;34m.\u001b[0m\u001b[0m_output\u001b[0m\u001b[0;34m.\u001b[0m\u001b[0mextend\u001b[0m\u001b[0;34m(\u001b[0m\u001b[0mjob\u001b[0m\u001b[0;34m.\u001b[0m\u001b[0mget\u001b[0m\u001b[0;34m(\u001b[0m\u001b[0;34m)\u001b[0m\u001b[0;34m)\u001b[0m\u001b[0;34m\u001b[0m\u001b[0;34m\u001b[0m\u001b[0m\n",
      "\u001b[0;32m/opt/conda/lib/python3.9/site-packages/joblib/_parallel_backends.py\u001b[0m in \u001b[0;36mwrap_future_result\u001b[0;34m(future, timeout)\u001b[0m\n\u001b[1;32m    540\u001b[0m         AsyncResults.get from multiprocessing.\"\"\"\n\u001b[1;32m    541\u001b[0m         \u001b[0;32mtry\u001b[0m\u001b[0;34m:\u001b[0m\u001b[0;34m\u001b[0m\u001b[0;34m\u001b[0m\u001b[0m\n\u001b[0;32m--> 542\u001b[0;31m             \u001b[0;32mreturn\u001b[0m \u001b[0mfuture\u001b[0m\u001b[0;34m.\u001b[0m\u001b[0mresult\u001b[0m\u001b[0;34m(\u001b[0m\u001b[0mtimeout\u001b[0m\u001b[0;34m=\u001b[0m\u001b[0mtimeout\u001b[0m\u001b[0;34m)\u001b[0m\u001b[0;34m\u001b[0m\u001b[0;34m\u001b[0m\u001b[0m\n\u001b[0m\u001b[1;32m    543\u001b[0m         \u001b[0;32mexcept\u001b[0m \u001b[0mCfTimeoutError\u001b[0m \u001b[0;32mas\u001b[0m \u001b[0me\u001b[0m\u001b[0;34m:\u001b[0m\u001b[0;34m\u001b[0m\u001b[0;34m\u001b[0m\u001b[0m\n\u001b[1;32m    544\u001b[0m             \u001b[0;32mraise\u001b[0m \u001b[0mTimeoutError\u001b[0m \u001b[0;32mfrom\u001b[0m \u001b[0me\u001b[0m\u001b[0;34m\u001b[0m\u001b[0;34m\u001b[0m\u001b[0m\n",
      "\u001b[0;32m/opt/conda/lib/python3.9/concurrent/futures/_base.py\u001b[0m in \u001b[0;36mresult\u001b[0;34m(self, timeout)\u001b[0m\n\u001b[1;32m    438\u001b[0m                     \u001b[0;32mreturn\u001b[0m \u001b[0mself\u001b[0m\u001b[0;34m.\u001b[0m\u001b[0m__get_result\u001b[0m\u001b[0;34m(\u001b[0m\u001b[0;34m)\u001b[0m\u001b[0;34m\u001b[0m\u001b[0;34m\u001b[0m\u001b[0m\n\u001b[1;32m    439\u001b[0m \u001b[0;34m\u001b[0m\u001b[0m\n\u001b[0;32m--> 440\u001b[0;31m                 \u001b[0mself\u001b[0m\u001b[0;34m.\u001b[0m\u001b[0m_condition\u001b[0m\u001b[0;34m.\u001b[0m\u001b[0mwait\u001b[0m\u001b[0;34m(\u001b[0m\u001b[0mtimeout\u001b[0m\u001b[0;34m)\u001b[0m\u001b[0;34m\u001b[0m\u001b[0;34m\u001b[0m\u001b[0m\n\u001b[0m\u001b[1;32m    441\u001b[0m \u001b[0;34m\u001b[0m\u001b[0m\n\u001b[1;32m    442\u001b[0m                 \u001b[0;32mif\u001b[0m \u001b[0mself\u001b[0m\u001b[0;34m.\u001b[0m\u001b[0m_state\u001b[0m \u001b[0;32min\u001b[0m \u001b[0;34m[\u001b[0m\u001b[0mCANCELLED\u001b[0m\u001b[0;34m,\u001b[0m \u001b[0mCANCELLED_AND_NOTIFIED\u001b[0m\u001b[0;34m]\u001b[0m\u001b[0;34m:\u001b[0m\u001b[0;34m\u001b[0m\u001b[0;34m\u001b[0m\u001b[0m\n",
      "\u001b[0;32m/opt/conda/lib/python3.9/threading.py\u001b[0m in \u001b[0;36mwait\u001b[0;34m(self, timeout)\u001b[0m\n\u001b[1;32m    310\u001b[0m         \u001b[0;32mtry\u001b[0m\u001b[0;34m:\u001b[0m    \u001b[0;31m# restore state no matter what (e.g., KeyboardInterrupt)\u001b[0m\u001b[0;34m\u001b[0m\u001b[0;34m\u001b[0m\u001b[0m\n\u001b[1;32m    311\u001b[0m             \u001b[0;32mif\u001b[0m \u001b[0mtimeout\u001b[0m \u001b[0;32mis\u001b[0m \u001b[0;32mNone\u001b[0m\u001b[0;34m:\u001b[0m\u001b[0;34m\u001b[0m\u001b[0;34m\u001b[0m\u001b[0m\n\u001b[0;32m--> 312\u001b[0;31m                 \u001b[0mwaiter\u001b[0m\u001b[0;34m.\u001b[0m\u001b[0macquire\u001b[0m\u001b[0;34m(\u001b[0m\u001b[0;34m)\u001b[0m\u001b[0;34m\u001b[0m\u001b[0;34m\u001b[0m\u001b[0m\n\u001b[0m\u001b[1;32m    313\u001b[0m                 \u001b[0mgotit\u001b[0m \u001b[0;34m=\u001b[0m \u001b[0;32mTrue\u001b[0m\u001b[0;34m\u001b[0m\u001b[0;34m\u001b[0m\u001b[0m\n\u001b[1;32m    314\u001b[0m             \u001b[0;32melse\u001b[0m\u001b[0;34m:\u001b[0m\u001b[0;34m\u001b[0m\u001b[0;34m\u001b[0m\u001b[0m\n",
      "\u001b[0;31mKeyboardInterrupt\u001b[0m: "
     ]
    }
   ],
   "source": [
    "from numpy import mean\n",
    "from sklearn.model_selection import cross_val_score\n",
    "from sklearn.model_selection import KFold\n",
    "from sklearn.svm import SVC\n",
    "from skopt.space import Integer\n",
    "from skopt.space import Real\n",
    "from skopt.space import Categorical\n",
    "from skopt.utils import use_named_args\n",
    "from skopt import gp_minimize\n",
    "\n",
    "# define the space of hyperparameters to search\n",
    "search_space = list()\n",
    "search_space.append(Real(1e-6, 100.0, 'log-uniform', name='C'))\n",
    "search_space.append(Categorical(['linear', 'poly', 'rbf', 'sigmoid'], name='kernel'))\n",
    "search_space.append(Integer(1, 5, name='degree'))\n",
    "search_space.append(Real(1e-6, 100.0, 'log-uniform', name='gamma'))\n",
    "\n",
    "# define the function used to evaluate a given configuration\n",
    "@use_named_args(search_space)\n",
    "def evaluate_model(**params):\n",
    "  # configure the model with specific hyperparameters\n",
    "  model = SVC()\n",
    "  model.set_params(**params)\n",
    "  # define test harness\n",
    "  cv = KFold(n_splits=5, shuffle=True)\n",
    "  # calculate 5-fold cross validation\n",
    "  result = cross_val_score(model, tf_train, Y_tf_train, cv=cv, n_jobs=-1, scoring='f1_micro')\n",
    "  # calculate the mean of the scores\n",
    "  estimate = mean(result)\n",
    "  # convert from a maximizing score to a minimizing score\n",
    "  print('estimate', estimate, params)\n",
    "  return 1.0 - estimate\n",
    "\n",
    "\n",
    "n_calls = 50\n",
    "\n",
    "# perform optimization\n",
    "result = gp_minimize(evaluate_model, search_space, x0 = x0, y0 = y0, n_calls=n_calls, callback=LifeSaver(total=n_calls, start=len(x0), checkpoint_path=\"./checkpoint.pkl\", compress=9))\n",
    "# summarizing finding:\n",
    "print('Best Accuracy: %.3f' % (1.0 - result.fun))\n",
    "print('Best Parameters: %s' % (result.x))"
   ]
  },
  {
   "cell_type": "code",
   "execution_count": null,
   "metadata": {
    "id": "X7qCbZANf0-K"
   },
   "outputs": [],
   "source": []
  },
  {
   "cell_type": "code",
   "execution_count": null,
   "metadata": {
    "id": "xZtdq8zqDj9f"
   },
   "outputs": [],
   "source": [
    "import numpy as np"
   ]
  },
  {
   "cell_type": "code",
   "execution_count": null,
   "metadata": {
    "id": "uP8yftXUGAyE"
   },
   "outputs": [],
   "source": [
    "from keras.preprocessing.text import Tokenizer\n",
    "from sklearn.model_selection import train_test_split\n",
    "from keras.preprocessing.text import Tokenizer\n",
    "from keras.preprocessing.sequence import pad_sequences\n",
    "from keras.models import Sequential\n",
    "from keras.layers import Dense\n",
    "from keras.layers import Flatten\n",
    "from keras.layers import LSTM\n",
    "from keras.layers import Embedding\n",
    "from keras.layers import SpatialDropout1D\n",
    "from keras.layers import Input\n",
    "MAX_WORDS = 2500\n",
    "MAX_SEQUENCE_LENGTH = description_thai_word_count.max()\n",
    "EMBEDDING_DIM = 100\n",
    "\n",
    "tokenizer = Tokenizer(num_words=MAX_WORDS, filters='!\"#$%&()*+,-./:;<=>?@[\\]^_`{|}~')\n",
    "tokenizer.fit_on_texts(X_text)\n",
    "word_index = tokenizer.word_index\n",
    "X = np.array(tokenizer.texts_to_sequences(X_text))"
   ]
  },
  {
   "cell_type": "code",
   "execution_count": null,
   "metadata": {
    "id": "iXB-8kQBMCBc"
   },
   "outputs": [],
   "source": [
    "# X = np.array(list(map(lambda x: np.array(x), X)))"
   ]
  },
  {
   "cell_type": "code",
   "execution_count": null,
   "metadata": {
    "id": "5csinGgWNsAC"
   },
   "outputs": [],
   "source": [
    "tokenizer_y = Tokenizer(num_words=MAX_WORDS, filters='!\"#$%&()*+,-./:;<=>?@[\\]^_`{|}~')\n",
    "tokenizer_y.fit_on_texts(Y_text)\n",
    "word_index_y = tokenizer_y.word_index\n",
    "Y = np.array(tokenizer_y.texts_to_sequences(Y_text))\n",
    "Y"
   ]
  },
  {
   "cell_type": "code",
   "execution_count": null,
   "metadata": {
    "id": "k13FnduuN-cu"
   },
   "outputs": [],
   "source": [
    "len(word_index_y.keys())"
   ]
  },
  {
   "cell_type": "code",
   "execution_count": null,
   "metadata": {
    "id": "MOpBms28M0rH"
   },
   "outputs": [],
   "source": [
    "from sklearn.preprocessing import OneHotEncoder\n",
    "\n",
    "enc = OneHotEncoder()\n",
    "Y = enc.fit_transform(Y).toarray()\n",
    "Y"
   ]
  },
  {
   "cell_type": "code",
   "execution_count": null,
   "metadata": {
    "id": "c2es6sXiMCxH"
   },
   "outputs": [],
   "source": [
    "X = pad_sequences(X, maxlen=MAX_SEQUENCE_LENGTH)"
   ]
  },
  {
   "cell_type": "code",
   "execution_count": null,
   "metadata": {
    "id": "a49AF8JrMJOF"
   },
   "outputs": [],
   "source": [
    "X"
   ]
  },
  {
   "cell_type": "code",
   "execution_count": null,
   "metadata": {
    "id": "Cxjr0LewGyiT"
   },
   "outputs": [],
   "source": [
    "X_train, X_test, Y_train, Y_test = train_test_split(X, Y, test_size = 0.10, random_state = 42)"
   ]
  },
  {
   "cell_type": "code",
   "execution_count": null,
   "metadata": {
    "id": "kODxq0vhH5El"
   },
   "outputs": [],
   "source": [
    "X_train.shape"
   ]
  },
  {
   "cell_type": "code",
   "execution_count": null,
   "metadata": {
    "id": "3dPLJ33eHSym"
   },
   "outputs": [],
   "source": [
    "Y_train.shape"
   ]
  },
  {
   "cell_type": "markdown",
   "metadata": {
    "id": "X6TwMXkdOTER"
   },
   "source": [
    "## Train model"
   ]
  },
  {
   "cell_type": "code",
   "execution_count": null,
   "metadata": {
    "colab": {
     "base_uri": "https://localhost:8080/"
    },
    "id": "y20FB4bgC6lg",
    "outputId": "9941fa89-8e7a-4411-b7cd-a2144c9b1668"
   },
   "outputs": [],
   "source": [
    "model = Sequential()\n",
    "model.add(Embedding(MAX_WORDS, EMBEDDING_DIM, input_length=X_train.shape[1], mask_zero=True))\n",
    "model.add(SpatialDropout1D(0.2))\n",
    "model.add(LSTM(100, dropout=0.2, recurrent_dropout=0.2))\n",
    "model.add(Dense(Y_train.shape[1], activation='softmax'))\n",
    "model.compile(loss='categorical_crossentropy', optimizer='adam', metrics=['accuracy'])\n",
    "\n",
    "epochs = 20\n",
    "batch_size = 2048\n",
    "\n",
    "history = model.fit(X_train, Y_train, epochs=epochs, batch_size=batch_size,validation_split=0.1)\n"
   ]
  },
  {
   "cell_type": "code",
   "execution_count": null,
   "metadata": {
    "colab": {
     "base_uri": "https://localhost:8080/"
    },
    "id": "st8EPWhvKIi3",
    "outputId": "2bd3b4bf-b75b-498c-fa7c-7d6b635a8080"
   },
   "outputs": [],
   "source": [
    "epochs = 5\n",
    "batch_size = 2048\n",
    "history = model.fit(X_train, Y_train, epochs=epochs, batch_size=batch_size,validation_split=0.1)"
   ]
  },
  {
   "cell_type": "code",
   "execution_count": null,
   "metadata": {
    "colab": {
     "base_uri": "https://localhost:8080/"
    },
    "id": "xzT8jdzeRwyl",
    "outputId": "ed4a6a31-e4a1-4507-8bc4-28ef9cfde2ca"
   },
   "outputs": [],
   "source": [
    "epochs = 5\n",
    "batch_size = 2048\n",
    "history = model.fit(X_train, Y_train, epochs=epochs, batch_size=batch_size,validation_split=0.1)"
   ]
  },
  {
   "cell_type": "code",
   "execution_count": null,
   "metadata": {
    "colab": {
     "base_uri": "https://localhost:8080/"
    },
    "id": "rE0mA97ySfI0",
    "outputId": "4cbc5b67-6754-41e1-9912-8fedd3f1f099"
   },
   "outputs": [],
   "source": [
    "epochs = 5\n",
    "batch_size = 2048\n",
    "history = model.fit(X_train, Y_train, epochs=epochs, batch_size=batch_size,validation_split=0.1)"
   ]
  },
  {
   "cell_type": "code",
   "execution_count": null,
   "metadata": {
    "colab": {
     "base_uri": "https://localhost:8080/"
    },
    "id": "NQJAYl0mS9K9",
    "outputId": "670b9b98-4daf-42a7-a62e-f33dfccb12e5"
   },
   "outputs": [],
   "source": [
    "epochs = 5\n",
    "batch_size = 2048\n",
    "history = model.fit(X_train, Y_train, epochs=epochs, batch_size=batch_size,validation_split=0.1)"
   ]
  },
  {
   "cell_type": "code",
   "execution_count": null,
   "metadata": {
    "colab": {
     "base_uri": "https://localhost:8080/"
    },
    "id": "bfrQveEFT2lS",
    "outputId": "cd5f9e28-f8e6-4f1c-cd5a-8493f52a133a"
   },
   "outputs": [],
   "source": [
    "epochs = 5\n",
    "batch_size = 2048\n",
    "history = model.fit(X_train, Y_train, epochs=epochs, batch_size=batch_size,validation_split=0.1)"
   ]
  },
  {
   "cell_type": "code",
   "execution_count": null,
   "metadata": {
    "colab": {
     "base_uri": "https://localhost:8080/"
    },
    "id": "HkAesWtsUPvD",
    "outputId": "9c320ed8-f15f-4f7c-db32-3f1f02bcccf2"
   },
   "outputs": [],
   "source": [
    "model.evaluate(X_test, Y_test)"
   ]
  },
  {
   "cell_type": "code",
   "execution_count": null,
   "metadata": {
    "id": "e7aOPFzmTaI6"
   },
   "outputs": [],
   "source": [
    "model.save_weights('/content/drive/My Drive/model_chula_course.h5')"
   ]
  },
  {
   "cell_type": "code",
   "execution_count": null,
   "metadata": {
    "colab": {
     "base_uri": "https://localhost:8080/"
    },
    "id": "duGNt3awUvfX",
    "outputId": "9773af07-970d-4c9e-8e53-a26ee3c671d1"
   },
   "outputs": [],
   "source": [
    "for x in X_test[0]:\n",
    "  if x != 0:\n",
    "    key =  list(word_index.keys())[list(word_index.values()).index(x)]\n",
    "    print(key, end='')"
   ]
  },
  {
   "cell_type": "code",
   "execution_count": null,
   "metadata": {
    "colab": {
     "base_uri": "https://localhost:8080/"
    },
    "id": "HD3cD64YVvce",
    "outputId": "771df5d7-ede8-45a4-bb61-c4a1fdf27b31"
   },
   "outputs": [],
   "source": [
    "word_index"
   ]
  },
  {
   "cell_type": "code",
   "execution_count": null,
   "metadata": {
    "colab": {
     "base_uri": "https://localhost:8080/"
    },
    "id": "FNoVy4YYUgUx",
    "outputId": "fdd65442-d344-4edd-c457-55e6299cb70f"
   },
   "outputs": [],
   "source": [
    "model.predict(X_test[0].reshape(1, X_test.shape[1]))"
   ]
  },
  {
   "cell_type": "code",
   "execution_count": null,
   "metadata": {
    "colab": {
     "base_uri": "https://localhost:8080/"
    },
    "id": "6K3g3E31U6Pg",
    "outputId": "d9e960e0-7b8a-44d2-8257-a39e8f4fe13d"
   },
   "outputs": [],
   "source": [
    "enc.inverse_transform([[1,0,0,0,0,0,0,0,0,0,0,0,0,0,0,0,0,0,0,0,0,0,0,0,0]])"
   ]
  },
  {
   "cell_type": "code",
   "execution_count": null,
   "metadata": {
    "colab": {
     "base_uri": "https://localhost:8080/"
    },
    "id": "iAUv9-64VNrs",
    "outputId": "24967ae9-47ad-4ecf-8d94-837303b3cd27"
   },
   "outputs": [],
   "source": [
    "word_index_y"
   ]
  },
  {
   "cell_type": "code",
   "execution_count": null,
   "metadata": {
    "colab": {
     "base_uri": "https://localhost:8080/"
    },
    "id": "_KC0U4kdVeae",
    "outputId": "826a39d9-8fbb-4cb0-f7db-d49e0e6867d3"
   },
   "outputs": [],
   "source": [
    "Y_test[0]"
   ]
  },
  {
   "cell_type": "code",
   "execution_count": null,
   "metadata": {
    "colab": {
     "base_uri": "https://localhost:8080/"
    },
    "id": "SInGI4u5WJE2",
    "outputId": "c9fa28d8-422b-48f9-f683-fb9ddc4b5ae0"
   },
   "outputs": [],
   "source": [
    "!pip install shap"
   ]
  },
  {
   "cell_type": "code",
   "execution_count": null,
   "metadata": {
    "id": "5mur_EdcWfBw"
   },
   "outputs": [],
   "source": [
    "import shap"
   ]
  },
  {
   "cell_type": "code",
   "execution_count": null,
   "metadata": {
    "colab": {
     "base_uri": "https://localhost:8080/"
    },
    "id": "Pbzn6HmnXxFS",
    "outputId": "08439301-8efb-459b-9b25-4735a0d2d0eb"
   },
   "outputs": [],
   "source": [
    "len(X_test)"
   ]
  },
  {
   "cell_type": "code",
   "execution_count": null,
   "metadata": {
    "id": "0U4fF6R3ZvP8"
   },
   "outputs": [],
   "source": [
    "shap.explainers._deep.deep_tf.op_handlers[\"AddV2\"] = shap.explainers._deep.deep_tf.passthrough"
   ]
  },
  {
   "cell_type": "code",
   "execution_count": null,
   "metadata": {
    "colab": {
     "base_uri": "https://localhost:8080/",
     "height": 656
    },
    "id": "Fy8qvbytWgG7",
    "outputId": "60f03159-b991-495f-906c-43b9d032ef08"
   },
   "outputs": [],
   "source": [
    "# explain the model on two sample inputs\n",
    "\n",
    "explainer = shap.DeepExplainer(model, X_train[:100])\n",
    "\n",
    "shap_values = explainer.shap_values(X_test[:10])"
   ]
  },
  {
   "cell_type": "code",
   "execution_count": null,
   "metadata": {
    "id": "uT-XnHthXCr4"
   },
   "outputs": [],
   "source": []
  }
 ],
 "metadata": {
  "colab": {
   "collapsed_sections": [
    "GOQA6mdL7u5E",
    "IMewtbwB7yGx",
    "r_ftpgk670Wq",
    "JoEoI_LQ8Aeh",
    "wLFlP6_2_U8d"
   ],
   "name": "Text classification Chula subject model.ipynb",
   "provenance": [],
   "toc_visible": true
  },
  "kernelspec": {
   "display_name": "Python 3 (ipykernel)",
   "language": "python",
   "name": "python3"
  },
  "language_info": {
   "codemirror_mode": {
    "name": "ipython",
    "version": 3
   },
   "file_extension": ".py",
   "mimetype": "text/x-python",
   "name": "python",
   "nbconvert_exporter": "python",
   "pygments_lexer": "ipython3",
   "version": "3.7.12"
  },
  "widgets": {
   "application/vnd.jupyter.widget-state+json": {
    "014b96817d2146e7b0263a05932ed097": {
     "model_module": "@jupyter-widgets/controls",
     "model_module_version": "1.5.0",
     "model_name": "DescriptionStyleModel",
     "state": {
      "_model_module": "@jupyter-widgets/controls",
      "_model_module_version": "1.5.0",
      "_model_name": "DescriptionStyleModel",
      "_view_count": null,
      "_view_module": "@jupyter-widgets/base",
      "_view_module_version": "1.2.0",
      "_view_name": "StyleView",
      "description_width": ""
     }
    },
    "0178d772ab7b485596a22fc242614b3c": {
     "model_module": "@jupyter-widgets/controls",
     "model_module_version": "1.5.0",
     "model_name": "HTMLModel",
     "state": {
      "_dom_classes": [],
      "_model_module": "@jupyter-widgets/controls",
      "_model_module_version": "1.5.0",
      "_model_name": "HTMLModel",
      "_view_count": null,
      "_view_module": "@jupyter-widgets/controls",
      "_view_module_version": "1.5.0",
      "_view_name": "HTMLView",
      "description": "",
      "description_tooltip": null,
      "layout": "IPY_MODEL_10ef190335c94136aa6319a32462243c",
      "placeholder": "​",
      "style": "IPY_MODEL_8337ccfb2cfd428997af521591db50d6",
      "value": "Gaussian Process:   4%"
     }
    },
    "03cc8e6ca79e44b5aaad50e7bc8ad642": {
     "model_module": "@jupyter-widgets/controls",
     "model_module_version": "1.5.0",
     "model_name": "FloatProgressModel",
     "state": {
      "_dom_classes": [],
      "_model_module": "@jupyter-widgets/controls",
      "_model_module_version": "1.5.0",
      "_model_name": "FloatProgressModel",
      "_view_count": null,
      "_view_module": "@jupyter-widgets/controls",
      "_view_module_version": "1.5.0",
      "_view_name": "ProgressView",
      "bar_style": "success",
      "description": "",
      "description_tooltip": null,
      "layout": "IPY_MODEL_758e9ff82fc14a718aeb522f3c0db0b7",
      "max": 25254,
      "min": 0,
      "orientation": "horizontal",
      "style": "IPY_MODEL_31f52daf7a6945988a71fd21bcdab786",
      "value": 25254
     }
    },
    "09b7c518c13642bf805ad589dc5ade7e": {
     "model_module": "@jupyter-widgets/base",
     "model_module_version": "1.2.0",
     "model_name": "LayoutModel",
     "state": {
      "_model_module": "@jupyter-widgets/base",
      "_model_module_version": "1.2.0",
      "_model_name": "LayoutModel",
      "_view_count": null,
      "_view_module": "@jupyter-widgets/base",
      "_view_module_version": "1.2.0",
      "_view_name": "LayoutView",
      "align_content": null,
      "align_items": null,
      "align_self": null,
      "border": null,
      "bottom": null,
      "display": null,
      "flex": null,
      "flex_flow": null,
      "grid_area": null,
      "grid_auto_columns": null,
      "grid_auto_flow": null,
      "grid_auto_rows": null,
      "grid_column": null,
      "grid_gap": null,
      "grid_row": null,
      "grid_template_areas": null,
      "grid_template_columns": null,
      "grid_template_rows": null,
      "height": null,
      "justify_content": null,
      "justify_items": null,
      "left": null,
      "margin": null,
      "max_height": null,
      "max_width": null,
      "min_height": null,
      "min_width": null,
      "object_fit": null,
      "object_position": null,
      "order": null,
      "overflow": null,
      "overflow_x": null,
      "overflow_y": null,
      "padding": null,
      "right": null,
      "top": null,
      "visibility": null,
      "width": null
     }
    },
    "0e399b341fb644a69c9dbb2dd5442fb9": {
     "model_module": "@jupyter-widgets/controls",
     "model_module_version": "1.5.0",
     "model_name": "DescriptionStyleModel",
     "state": {
      "_model_module": "@jupyter-widgets/controls",
      "_model_module_version": "1.5.0",
      "_model_name": "DescriptionStyleModel",
      "_view_count": null,
      "_view_module": "@jupyter-widgets/base",
      "_view_module_version": "1.2.0",
      "_view_name": "StyleView",
      "description_width": ""
     }
    },
    "0f187a5e25994403ac4321c46a1c397d": {
     "model_module": "@jupyter-widgets/controls",
     "model_module_version": "1.5.0",
     "model_name": "HTMLModel",
     "state": {
      "_dom_classes": [],
      "_model_module": "@jupyter-widgets/controls",
      "_model_module_version": "1.5.0",
      "_model_name": "HTMLModel",
      "_view_count": null,
      "_view_module": "@jupyter-widgets/controls",
      "_view_module_version": "1.5.0",
      "_view_name": "HTMLView",
      "description": "",
      "description_tooltip": null,
      "layout": "IPY_MODEL_81499522ae4f4b4db038309c5b03872d",
      "placeholder": "​",
      "style": "IPY_MODEL_11fea372a5a44558a080e1083cac7c15",
      "value": " 2/50 [11:26&lt;4:34:42, 343.38s/it]"
     }
    },
    "10ef190335c94136aa6319a32462243c": {
     "model_module": "@jupyter-widgets/base",
     "model_module_version": "1.2.0",
     "model_name": "LayoutModel",
     "state": {
      "_model_module": "@jupyter-widgets/base",
      "_model_module_version": "1.2.0",
      "_model_name": "LayoutModel",
      "_view_count": null,
      "_view_module": "@jupyter-widgets/base",
      "_view_module_version": "1.2.0",
      "_view_name": "LayoutView",
      "align_content": null,
      "align_items": null,
      "align_self": null,
      "border": null,
      "bottom": null,
      "display": null,
      "flex": null,
      "flex_flow": null,
      "grid_area": null,
      "grid_auto_columns": null,
      "grid_auto_flow": null,
      "grid_auto_rows": null,
      "grid_column": null,
      "grid_gap": null,
      "grid_row": null,
      "grid_template_areas": null,
      "grid_template_columns": null,
      "grid_template_rows": null,
      "height": null,
      "justify_content": null,
      "justify_items": null,
      "left": null,
      "margin": null,
      "max_height": null,
      "max_width": null,
      "min_height": null,
      "min_width": null,
      "object_fit": null,
      "object_position": null,
      "order": null,
      "overflow": null,
      "overflow_x": null,
      "overflow_y": null,
      "padding": null,
      "right": null,
      "top": null,
      "visibility": null,
      "width": null
     }
    },
    "11fea372a5a44558a080e1083cac7c15": {
     "model_module": "@jupyter-widgets/controls",
     "model_module_version": "1.5.0",
     "model_name": "DescriptionStyleModel",
     "state": {
      "_model_module": "@jupyter-widgets/controls",
      "_model_module_version": "1.5.0",
      "_model_name": "DescriptionStyleModel",
      "_view_count": null,
      "_view_module": "@jupyter-widgets/base",
      "_view_module_version": "1.2.0",
      "_view_name": "StyleView",
      "description_width": ""
     }
    },
    "137fe28a044d455785dfd2d492b53df3": {
     "model_module": "@jupyter-widgets/base",
     "model_module_version": "1.2.0",
     "model_name": "LayoutModel",
     "state": {
      "_model_module": "@jupyter-widgets/base",
      "_model_module_version": "1.2.0",
      "_model_name": "LayoutModel",
      "_view_count": null,
      "_view_module": "@jupyter-widgets/base",
      "_view_module_version": "1.2.0",
      "_view_name": "LayoutView",
      "align_content": null,
      "align_items": null,
      "align_self": null,
      "border": null,
      "bottom": null,
      "display": null,
      "flex": null,
      "flex_flow": null,
      "grid_area": null,
      "grid_auto_columns": null,
      "grid_auto_flow": null,
      "grid_auto_rows": null,
      "grid_column": null,
      "grid_gap": null,
      "grid_row": null,
      "grid_template_areas": null,
      "grid_template_columns": null,
      "grid_template_rows": null,
      "height": null,
      "justify_content": null,
      "justify_items": null,
      "left": null,
      "margin": null,
      "max_height": null,
      "max_width": null,
      "min_height": null,
      "min_width": null,
      "object_fit": null,
      "object_position": null,
      "order": null,
      "overflow": null,
      "overflow_x": null,
      "overflow_y": null,
      "padding": null,
      "right": null,
      "top": null,
      "visibility": null,
      "width": null
     }
    },
    "199e76c5ef124ba2ab6d13ef093a8abf": {
     "model_module": "@jupyter-widgets/controls",
     "model_module_version": "1.5.0",
     "model_name": "HTMLModel",
     "state": {
      "_dom_classes": [],
      "_model_module": "@jupyter-widgets/controls",
      "_model_module_version": "1.5.0",
      "_model_name": "HTMLModel",
      "_view_count": null,
      "_view_module": "@jupyter-widgets/controls",
      "_view_module_version": "1.5.0",
      "_view_name": "HTMLView",
      "description": "",
      "description_tooltip": null,
      "layout": "IPY_MODEL_d1b6e29f34fd464abb42da413b57956f",
      "placeholder": "​",
      "style": "IPY_MODEL_014b96817d2146e7b0263a05932ed097",
      "value": " 22786/22786 [00:17&lt;00:00, 1337.76it/s]"
     }
    },
    "1db00c0e3c7c40ca83012ae010bd7bfc": {
     "model_module": "@jupyter-widgets/controls",
     "model_module_version": "1.5.0",
     "model_name": "DescriptionStyleModel",
     "state": {
      "_model_module": "@jupyter-widgets/controls",
      "_model_module_version": "1.5.0",
      "_model_name": "DescriptionStyleModel",
      "_view_count": null,
      "_view_module": "@jupyter-widgets/base",
      "_view_module_version": "1.2.0",
      "_view_name": "StyleView",
      "description_width": ""
     }
    },
    "1ffae055b6024e54a61241ec92e89053": {
     "model_module": "@jupyter-widgets/controls",
     "model_module_version": "1.5.0",
     "model_name": "ProgressStyleModel",
     "state": {
      "_model_module": "@jupyter-widgets/controls",
      "_model_module_version": "1.5.0",
      "_model_name": "ProgressStyleModel",
      "_view_count": null,
      "_view_module": "@jupyter-widgets/base",
      "_view_module_version": "1.2.0",
      "_view_name": "StyleView",
      "bar_color": null,
      "description_width": ""
     }
    },
    "22b1f382567a42209bb29bf0dbb6ba3a": {
     "model_module": "@jupyter-widgets/controls",
     "model_module_version": "1.5.0",
     "model_name": "DescriptionStyleModel",
     "state": {
      "_model_module": "@jupyter-widgets/controls",
      "_model_module_version": "1.5.0",
      "_model_name": "DescriptionStyleModel",
      "_view_count": null,
      "_view_module": "@jupyter-widgets/base",
      "_view_module_version": "1.2.0",
      "_view_name": "StyleView",
      "description_width": ""
     }
    },
    "253d5bff1f15436fb432da0e1cca5167": {
     "model_module": "@jupyter-widgets/controls",
     "model_module_version": "1.5.0",
     "model_name": "HTMLModel",
     "state": {
      "_dom_classes": [],
      "_model_module": "@jupyter-widgets/controls",
      "_model_module_version": "1.5.0",
      "_model_name": "HTMLModel",
      "_view_count": null,
      "_view_module": "@jupyter-widgets/controls",
      "_view_module_version": "1.5.0",
      "_view_name": "HTMLView",
      "description": "",
      "description_tooltip": null,
      "layout": "IPY_MODEL_09b7c518c13642bf805ad589dc5ade7e",
      "placeholder": "​",
      "style": "IPY_MODEL_0e399b341fb644a69c9dbb2dd5442fb9",
      "value": "100%"
     }
    },
    "25b083cd5bd04c83b97415b24d30b9ac": {
     "model_module": "@jupyter-widgets/controls",
     "model_module_version": "1.5.0",
     "model_name": "DescriptionStyleModel",
     "state": {
      "_model_module": "@jupyter-widgets/controls",
      "_model_module_version": "1.5.0",
      "_model_name": "DescriptionStyleModel",
      "_view_count": null,
      "_view_module": "@jupyter-widgets/base",
      "_view_module_version": "1.2.0",
      "_view_name": "StyleView",
      "description_width": ""
     }
    },
    "29bc67b7482c44cfa30f3dbbec934f07": {
     "model_module": "@jupyter-widgets/controls",
     "model_module_version": "1.5.0",
     "model_name": "HBoxModel",
     "state": {
      "_dom_classes": [],
      "_model_module": "@jupyter-widgets/controls",
      "_model_module_version": "1.5.0",
      "_model_name": "HBoxModel",
      "_view_count": null,
      "_view_module": "@jupyter-widgets/controls",
      "_view_module_version": "1.5.0",
      "_view_name": "HBoxView",
      "box_style": "",
      "children": [
       "IPY_MODEL_0178d772ab7b485596a22fc242614b3c",
       "IPY_MODEL_c3d15fd0c7ff474983e15ff902426a07",
       "IPY_MODEL_0f187a5e25994403ac4321c46a1c397d"
      ],
      "layout": "IPY_MODEL_137fe28a044d455785dfd2d492b53df3"
     }
    },
    "2d36a22f99a24ab5b3bc71ce886f9acf": {
     "model_module": "@jupyter-widgets/base",
     "model_module_version": "1.2.0",
     "model_name": "LayoutModel",
     "state": {
      "_model_module": "@jupyter-widgets/base",
      "_model_module_version": "1.2.0",
      "_model_name": "LayoutModel",
      "_view_count": null,
      "_view_module": "@jupyter-widgets/base",
      "_view_module_version": "1.2.0",
      "_view_name": "LayoutView",
      "align_content": null,
      "align_items": null,
      "align_self": null,
      "border": null,
      "bottom": null,
      "display": null,
      "flex": null,
      "flex_flow": null,
      "grid_area": null,
      "grid_auto_columns": null,
      "grid_auto_flow": null,
      "grid_auto_rows": null,
      "grid_column": null,
      "grid_gap": null,
      "grid_row": null,
      "grid_template_areas": null,
      "grid_template_columns": null,
      "grid_template_rows": null,
      "height": null,
      "justify_content": null,
      "justify_items": null,
      "left": null,
      "margin": null,
      "max_height": null,
      "max_width": null,
      "min_height": null,
      "min_width": null,
      "object_fit": null,
      "object_position": null,
      "order": null,
      "overflow": null,
      "overflow_x": null,
      "overflow_y": null,
      "padding": null,
      "right": null,
      "top": null,
      "visibility": null,
      "width": null
     }
    },
    "31f52daf7a6945988a71fd21bcdab786": {
     "model_module": "@jupyter-widgets/controls",
     "model_module_version": "1.5.0",
     "model_name": "ProgressStyleModel",
     "state": {
      "_model_module": "@jupyter-widgets/controls",
      "_model_module_version": "1.5.0",
      "_model_name": "ProgressStyleModel",
      "_view_count": null,
      "_view_module": "@jupyter-widgets/base",
      "_view_module_version": "1.2.0",
      "_view_name": "StyleView",
      "bar_color": null,
      "description_width": ""
     }
    },
    "33f4bddc48bf4a1ab4470fc5b0f54729": {
     "model_module": "@jupyter-widgets/base",
     "model_module_version": "1.2.0",
     "model_name": "LayoutModel",
     "state": {
      "_model_module": "@jupyter-widgets/base",
      "_model_module_version": "1.2.0",
      "_model_name": "LayoutModel",
      "_view_count": null,
      "_view_module": "@jupyter-widgets/base",
      "_view_module_version": "1.2.0",
      "_view_name": "LayoutView",
      "align_content": null,
      "align_items": null,
      "align_self": null,
      "border": null,
      "bottom": null,
      "display": null,
      "flex": null,
      "flex_flow": null,
      "grid_area": null,
      "grid_auto_columns": null,
      "grid_auto_flow": null,
      "grid_auto_rows": null,
      "grid_column": null,
      "grid_gap": null,
      "grid_row": null,
      "grid_template_areas": null,
      "grid_template_columns": null,
      "grid_template_rows": null,
      "height": null,
      "justify_content": null,
      "justify_items": null,
      "left": null,
      "margin": null,
      "max_height": null,
      "max_width": null,
      "min_height": null,
      "min_width": null,
      "object_fit": null,
      "object_position": null,
      "order": null,
      "overflow": null,
      "overflow_x": null,
      "overflow_y": null,
      "padding": null,
      "right": null,
      "top": null,
      "visibility": null,
      "width": null
     }
    },
    "3d10b4dc674245a5b7cd1bf8ed22175e": {
     "model_module": "@jupyter-widgets/controls",
     "model_module_version": "1.5.0",
     "model_name": "HBoxModel",
     "state": {
      "_dom_classes": [],
      "_model_module": "@jupyter-widgets/controls",
      "_model_module_version": "1.5.0",
      "_model_name": "HBoxModel",
      "_view_count": null,
      "_view_module": "@jupyter-widgets/controls",
      "_view_module_version": "1.5.0",
      "_view_name": "HBoxView",
      "box_style": "",
      "children": [
       "IPY_MODEL_253d5bff1f15436fb432da0e1cca5167",
       "IPY_MODEL_03cc8e6ca79e44b5aaad50e7bc8ad642",
       "IPY_MODEL_4dc70c112e254ee3bda8461266babd4e"
      ],
      "layout": "IPY_MODEL_87a4685f34fa468782cfa2211b0d7e19"
     }
    },
    "45342777165b453ab917e31d010ec12d": {
     "model_module": "@jupyter-widgets/base",
     "model_module_version": "1.2.0",
     "model_name": "LayoutModel",
     "state": {
      "_model_module": "@jupyter-widgets/base",
      "_model_module_version": "1.2.0",
      "_model_name": "LayoutModel",
      "_view_count": null,
      "_view_module": "@jupyter-widgets/base",
      "_view_module_version": "1.2.0",
      "_view_name": "LayoutView",
      "align_content": null,
      "align_items": null,
      "align_self": null,
      "border": null,
      "bottom": null,
      "display": null,
      "flex": null,
      "flex_flow": null,
      "grid_area": null,
      "grid_auto_columns": null,
      "grid_auto_flow": null,
      "grid_auto_rows": null,
      "grid_column": null,
      "grid_gap": null,
      "grid_row": null,
      "grid_template_areas": null,
      "grid_template_columns": null,
      "grid_template_rows": null,
      "height": null,
      "justify_content": null,
      "justify_items": null,
      "left": null,
      "margin": null,
      "max_height": null,
      "max_width": null,
      "min_height": null,
      "min_width": null,
      "object_fit": null,
      "object_position": null,
      "order": null,
      "overflow": null,
      "overflow_x": null,
      "overflow_y": null,
      "padding": null,
      "right": null,
      "top": null,
      "visibility": null,
      "width": null
     }
    },
    "4dc70c112e254ee3bda8461266babd4e": {
     "model_module": "@jupyter-widgets/controls",
     "model_module_version": "1.5.0",
     "model_name": "HTMLModel",
     "state": {
      "_dom_classes": [],
      "_model_module": "@jupyter-widgets/controls",
      "_model_module_version": "1.5.0",
      "_model_name": "HTMLModel",
      "_view_count": null,
      "_view_module": "@jupyter-widgets/controls",
      "_view_module_version": "1.5.0",
      "_view_name": "HTMLView",
      "description": "",
      "description_tooltip": null,
      "layout": "IPY_MODEL_f489a3b0a1e84bfe9aa88cff9258eaf4",
      "placeholder": "​",
      "style": "IPY_MODEL_25b083cd5bd04c83b97415b24d30b9ac",
      "value": " 25254/25254 [01:10&lt;00:00, 400.88it/s]"
     }
    },
    "51146ecb8a324212bfda2fd527a85f4b": {
     "model_module": "@jupyter-widgets/controls",
     "model_module_version": "1.5.0",
     "model_name": "HTMLModel",
     "state": {
      "_dom_classes": [],
      "_model_module": "@jupyter-widgets/controls",
      "_model_module_version": "1.5.0",
      "_model_name": "HTMLModel",
      "_view_count": null,
      "_view_module": "@jupyter-widgets/controls",
      "_view_module_version": "1.5.0",
      "_view_name": "HTMLView",
      "description": "",
      "description_tooltip": null,
      "layout": "IPY_MODEL_c69ce918b8ee4410a4a6f7ccfefd45c6",
      "placeholder": "​",
      "style": "IPY_MODEL_9ea123e51bcd47b1b80d95d686f3309e",
      "value": " 25254/25254 [00:27&lt;00:00, 892.56it/s]"
     }
    },
    "5d7564c4da7e4ba3bd6f834ff7cb98d7": {
     "model_module": "@jupyter-widgets/controls",
     "model_module_version": "1.5.0",
     "model_name": "ProgressStyleModel",
     "state": {
      "_model_module": "@jupyter-widgets/controls",
      "_model_module_version": "1.5.0",
      "_model_name": "ProgressStyleModel",
      "_view_count": null,
      "_view_module": "@jupyter-widgets/base",
      "_view_module_version": "1.2.0",
      "_view_name": "StyleView",
      "bar_color": null,
      "description_width": ""
     }
    },
    "758e9ff82fc14a718aeb522f3c0db0b7": {
     "model_module": "@jupyter-widgets/base",
     "model_module_version": "1.2.0",
     "model_name": "LayoutModel",
     "state": {
      "_model_module": "@jupyter-widgets/base",
      "_model_module_version": "1.2.0",
      "_model_name": "LayoutModel",
      "_view_count": null,
      "_view_module": "@jupyter-widgets/base",
      "_view_module_version": "1.2.0",
      "_view_name": "LayoutView",
      "align_content": null,
      "align_items": null,
      "align_self": null,
      "border": null,
      "bottom": null,
      "display": null,
      "flex": null,
      "flex_flow": null,
      "grid_area": null,
      "grid_auto_columns": null,
      "grid_auto_flow": null,
      "grid_auto_rows": null,
      "grid_column": null,
      "grid_gap": null,
      "grid_row": null,
      "grid_template_areas": null,
      "grid_template_columns": null,
      "grid_template_rows": null,
      "height": null,
      "justify_content": null,
      "justify_items": null,
      "left": null,
      "margin": null,
      "max_height": null,
      "max_width": null,
      "min_height": null,
      "min_width": null,
      "object_fit": null,
      "object_position": null,
      "order": null,
      "overflow": null,
      "overflow_x": null,
      "overflow_y": null,
      "padding": null,
      "right": null,
      "top": null,
      "visibility": null,
      "width": null
     }
    },
    "80545096bbec47d998ebcd04470bb427": {
     "model_module": "@jupyter-widgets/base",
     "model_module_version": "1.2.0",
     "model_name": "LayoutModel",
     "state": {
      "_model_module": "@jupyter-widgets/base",
      "_model_module_version": "1.2.0",
      "_model_name": "LayoutModel",
      "_view_count": null,
      "_view_module": "@jupyter-widgets/base",
      "_view_module_version": "1.2.0",
      "_view_name": "LayoutView",
      "align_content": null,
      "align_items": null,
      "align_self": null,
      "border": null,
      "bottom": null,
      "display": null,
      "flex": null,
      "flex_flow": null,
      "grid_area": null,
      "grid_auto_columns": null,
      "grid_auto_flow": null,
      "grid_auto_rows": null,
      "grid_column": null,
      "grid_gap": null,
      "grid_row": null,
      "grid_template_areas": null,
      "grid_template_columns": null,
      "grid_template_rows": null,
      "height": null,
      "justify_content": null,
      "justify_items": null,
      "left": null,
      "margin": null,
      "max_height": null,
      "max_width": null,
      "min_height": null,
      "min_width": null,
      "object_fit": null,
      "object_position": null,
      "order": null,
      "overflow": null,
      "overflow_x": null,
      "overflow_y": null,
      "padding": null,
      "right": null,
      "top": null,
      "visibility": null,
      "width": null
     }
    },
    "81499522ae4f4b4db038309c5b03872d": {
     "model_module": "@jupyter-widgets/base",
     "model_module_version": "1.2.0",
     "model_name": "LayoutModel",
     "state": {
      "_model_module": "@jupyter-widgets/base",
      "_model_module_version": "1.2.0",
      "_model_name": "LayoutModel",
      "_view_count": null,
      "_view_module": "@jupyter-widgets/base",
      "_view_module_version": "1.2.0",
      "_view_name": "LayoutView",
      "align_content": null,
      "align_items": null,
      "align_self": null,
      "border": null,
      "bottom": null,
      "display": null,
      "flex": null,
      "flex_flow": null,
      "grid_area": null,
      "grid_auto_columns": null,
      "grid_auto_flow": null,
      "grid_auto_rows": null,
      "grid_column": null,
      "grid_gap": null,
      "grid_row": null,
      "grid_template_areas": null,
      "grid_template_columns": null,
      "grid_template_rows": null,
      "height": null,
      "justify_content": null,
      "justify_items": null,
      "left": null,
      "margin": null,
      "max_height": null,
      "max_width": null,
      "min_height": null,
      "min_width": null,
      "object_fit": null,
      "object_position": null,
      "order": null,
      "overflow": null,
      "overflow_x": null,
      "overflow_y": null,
      "padding": null,
      "right": null,
      "top": null,
      "visibility": null,
      "width": null
     }
    },
    "8337ccfb2cfd428997af521591db50d6": {
     "model_module": "@jupyter-widgets/controls",
     "model_module_version": "1.5.0",
     "model_name": "DescriptionStyleModel",
     "state": {
      "_model_module": "@jupyter-widgets/controls",
      "_model_module_version": "1.5.0",
      "_model_name": "DescriptionStyleModel",
      "_view_count": null,
      "_view_module": "@jupyter-widgets/base",
      "_view_module_version": "1.2.0",
      "_view_name": "StyleView",
      "description_width": ""
     }
    },
    "87a4685f34fa468782cfa2211b0d7e19": {
     "model_module": "@jupyter-widgets/base",
     "model_module_version": "1.2.0",
     "model_name": "LayoutModel",
     "state": {
      "_model_module": "@jupyter-widgets/base",
      "_model_module_version": "1.2.0",
      "_model_name": "LayoutModel",
      "_view_count": null,
      "_view_module": "@jupyter-widgets/base",
      "_view_module_version": "1.2.0",
      "_view_name": "LayoutView",
      "align_content": null,
      "align_items": null,
      "align_self": null,
      "border": null,
      "bottom": null,
      "display": null,
      "flex": null,
      "flex_flow": null,
      "grid_area": null,
      "grid_auto_columns": null,
      "grid_auto_flow": null,
      "grid_auto_rows": null,
      "grid_column": null,
      "grid_gap": null,
      "grid_row": null,
      "grid_template_areas": null,
      "grid_template_columns": null,
      "grid_template_rows": null,
      "height": null,
      "justify_content": null,
      "justify_items": null,
      "left": null,
      "margin": null,
      "max_height": null,
      "max_width": null,
      "min_height": null,
      "min_width": null,
      "object_fit": null,
      "object_position": null,
      "order": null,
      "overflow": null,
      "overflow_x": null,
      "overflow_y": null,
      "padding": null,
      "right": null,
      "top": null,
      "visibility": null,
      "width": null
     }
    },
    "95c83b37705443ef98b0cd3ac3891fc0": {
     "model_module": "@jupyter-widgets/controls",
     "model_module_version": "1.5.0",
     "model_name": "FloatProgressModel",
     "state": {
      "_dom_classes": [],
      "_model_module": "@jupyter-widgets/controls",
      "_model_module_version": "1.5.0",
      "_model_name": "FloatProgressModel",
      "_view_count": null,
      "_view_module": "@jupyter-widgets/controls",
      "_view_module_version": "1.5.0",
      "_view_name": "ProgressView",
      "bar_style": "success",
      "description": "",
      "description_tooltip": null,
      "layout": "IPY_MODEL_2d36a22f99a24ab5b3bc71ce886f9acf",
      "max": 25254,
      "min": 0,
      "orientation": "horizontal",
      "style": "IPY_MODEL_1ffae055b6024e54a61241ec92e89053",
      "value": 25254
     }
    },
    "975d51ff44ac40d497720137748c1ffb": {
     "model_module": "@jupyter-widgets/controls",
     "model_module_version": "1.5.0",
     "model_name": "FloatProgressModel",
     "state": {
      "_dom_classes": [],
      "_model_module": "@jupyter-widgets/controls",
      "_model_module_version": "1.5.0",
      "_model_name": "FloatProgressModel",
      "_view_count": null,
      "_view_module": "@jupyter-widgets/controls",
      "_view_module_version": "1.5.0",
      "_view_name": "ProgressView",
      "bar_style": "success",
      "description": "",
      "description_tooltip": null,
      "layout": "IPY_MODEL_45342777165b453ab917e31d010ec12d",
      "max": 22786,
      "min": 0,
      "orientation": "horizontal",
      "style": "IPY_MODEL_5d7564c4da7e4ba3bd6f834ff7cb98d7",
      "value": 22786
     }
    },
    "9ea123e51bcd47b1b80d95d686f3309e": {
     "model_module": "@jupyter-widgets/controls",
     "model_module_version": "1.5.0",
     "model_name": "DescriptionStyleModel",
     "state": {
      "_model_module": "@jupyter-widgets/controls",
      "_model_module_version": "1.5.0",
      "_model_name": "DescriptionStyleModel",
      "_view_count": null,
      "_view_module": "@jupyter-widgets/base",
      "_view_module_version": "1.2.0",
      "_view_name": "StyleView",
      "description_width": ""
     }
    },
    "a706f0cc7dd5432dbcd785e65ba044b1": {
     "model_module": "@jupyter-widgets/controls",
     "model_module_version": "1.5.0",
     "model_name": "HTMLModel",
     "state": {
      "_dom_classes": [],
      "_model_module": "@jupyter-widgets/controls",
      "_model_module_version": "1.5.0",
      "_model_name": "HTMLModel",
      "_view_count": null,
      "_view_module": "@jupyter-widgets/controls",
      "_view_module_version": "1.5.0",
      "_view_name": "HTMLView",
      "description": "",
      "description_tooltip": null,
      "layout": "IPY_MODEL_33f4bddc48bf4a1ab4470fc5b0f54729",
      "placeholder": "​",
      "style": "IPY_MODEL_1db00c0e3c7c40ca83012ae010bd7bfc",
      "value": "100%"
     }
    },
    "b6bc5be0a7194356b3566d6beaa19771": {
     "model_module": "@jupyter-widgets/controls",
     "model_module_version": "1.5.0",
     "model_name": "ProgressStyleModel",
     "state": {
      "_model_module": "@jupyter-widgets/controls",
      "_model_module_version": "1.5.0",
      "_model_name": "ProgressStyleModel",
      "_view_count": null,
      "_view_module": "@jupyter-widgets/base",
      "_view_module_version": "1.2.0",
      "_view_name": "StyleView",
      "bar_color": null,
      "description_width": ""
     }
    },
    "ba5b19c3f9374cbfa7b317ab2ea18e02": {
     "model_module": "@jupyter-widgets/base",
     "model_module_version": "1.2.0",
     "model_name": "LayoutModel",
     "state": {
      "_model_module": "@jupyter-widgets/base",
      "_model_module_version": "1.2.0",
      "_model_name": "LayoutModel",
      "_view_count": null,
      "_view_module": "@jupyter-widgets/base",
      "_view_module_version": "1.2.0",
      "_view_name": "LayoutView",
      "align_content": null,
      "align_items": null,
      "align_self": null,
      "border": null,
      "bottom": null,
      "display": null,
      "flex": null,
      "flex_flow": null,
      "grid_area": null,
      "grid_auto_columns": null,
      "grid_auto_flow": null,
      "grid_auto_rows": null,
      "grid_column": null,
      "grid_gap": null,
      "grid_row": null,
      "grid_template_areas": null,
      "grid_template_columns": null,
      "grid_template_rows": null,
      "height": null,
      "justify_content": null,
      "justify_items": null,
      "left": null,
      "margin": null,
      "max_height": null,
      "max_width": null,
      "min_height": null,
      "min_width": null,
      "object_fit": null,
      "object_position": null,
      "order": null,
      "overflow": null,
      "overflow_x": null,
      "overflow_y": null,
      "padding": null,
      "right": null,
      "top": null,
      "visibility": null,
      "width": null
     }
    },
    "c3d15fd0c7ff474983e15ff902426a07": {
     "model_module": "@jupyter-widgets/controls",
     "model_module_version": "1.5.0",
     "model_name": "FloatProgressModel",
     "state": {
      "_dom_classes": [],
      "_model_module": "@jupyter-widgets/controls",
      "_model_module_version": "1.5.0",
      "_model_name": "FloatProgressModel",
      "_view_count": null,
      "_view_module": "@jupyter-widgets/controls",
      "_view_module_version": "1.5.0",
      "_view_name": "ProgressView",
      "bar_style": "",
      "description": "",
      "description_tooltip": null,
      "layout": "IPY_MODEL_ba5b19c3f9374cbfa7b317ab2ea18e02",
      "max": 50,
      "min": 0,
      "orientation": "horizontal",
      "style": "IPY_MODEL_b6bc5be0a7194356b3566d6beaa19771",
      "value": 2
     }
    },
    "c69ce918b8ee4410a4a6f7ccfefd45c6": {
     "model_module": "@jupyter-widgets/base",
     "model_module_version": "1.2.0",
     "model_name": "LayoutModel",
     "state": {
      "_model_module": "@jupyter-widgets/base",
      "_model_module_version": "1.2.0",
      "_model_name": "LayoutModel",
      "_view_count": null,
      "_view_module": "@jupyter-widgets/base",
      "_view_module_version": "1.2.0",
      "_view_name": "LayoutView",
      "align_content": null,
      "align_items": null,
      "align_self": null,
      "border": null,
      "bottom": null,
      "display": null,
      "flex": null,
      "flex_flow": null,
      "grid_area": null,
      "grid_auto_columns": null,
      "grid_auto_flow": null,
      "grid_auto_rows": null,
      "grid_column": null,
      "grid_gap": null,
      "grid_row": null,
      "grid_template_areas": null,
      "grid_template_columns": null,
      "grid_template_rows": null,
      "height": null,
      "justify_content": null,
      "justify_items": null,
      "left": null,
      "margin": null,
      "max_height": null,
      "max_width": null,
      "min_height": null,
      "min_width": null,
      "object_fit": null,
      "object_position": null,
      "order": null,
      "overflow": null,
      "overflow_x": null,
      "overflow_y": null,
      "padding": null,
      "right": null,
      "top": null,
      "visibility": null,
      "width": null
     }
    },
    "c7b6e885b141411bbe4de5975f27f1ea": {
     "model_module": "@jupyter-widgets/controls",
     "model_module_version": "1.5.0",
     "model_name": "HBoxModel",
     "state": {
      "_dom_classes": [],
      "_model_module": "@jupyter-widgets/controls",
      "_model_module_version": "1.5.0",
      "_model_name": "HBoxModel",
      "_view_count": null,
      "_view_module": "@jupyter-widgets/controls",
      "_view_module_version": "1.5.0",
      "_view_name": "HBoxView",
      "box_style": "",
      "children": [
       "IPY_MODEL_feb8adfde1e249dca0135c22e6b7a896",
       "IPY_MODEL_95c83b37705443ef98b0cd3ac3891fc0",
       "IPY_MODEL_51146ecb8a324212bfda2fd527a85f4b"
      ],
      "layout": "IPY_MODEL_80545096bbec47d998ebcd04470bb427"
     }
    },
    "d1b6e29f34fd464abb42da413b57956f": {
     "model_module": "@jupyter-widgets/base",
     "model_module_version": "1.2.0",
     "model_name": "LayoutModel",
     "state": {
      "_model_module": "@jupyter-widgets/base",
      "_model_module_version": "1.2.0",
      "_model_name": "LayoutModel",
      "_view_count": null,
      "_view_module": "@jupyter-widgets/base",
      "_view_module_version": "1.2.0",
      "_view_name": "LayoutView",
      "align_content": null,
      "align_items": null,
      "align_self": null,
      "border": null,
      "bottom": null,
      "display": null,
      "flex": null,
      "flex_flow": null,
      "grid_area": null,
      "grid_auto_columns": null,
      "grid_auto_flow": null,
      "grid_auto_rows": null,
      "grid_column": null,
      "grid_gap": null,
      "grid_row": null,
      "grid_template_areas": null,
      "grid_template_columns": null,
      "grid_template_rows": null,
      "height": null,
      "justify_content": null,
      "justify_items": null,
      "left": null,
      "margin": null,
      "max_height": null,
      "max_width": null,
      "min_height": null,
      "min_width": null,
      "object_fit": null,
      "object_position": null,
      "order": null,
      "overflow": null,
      "overflow_x": null,
      "overflow_y": null,
      "padding": null,
      "right": null,
      "top": null,
      "visibility": null,
      "width": null
     }
    },
    "e640d5bf3c754cdf9d457c91b7db1523": {
     "model_module": "@jupyter-widgets/controls",
     "model_module_version": "1.5.0",
     "model_name": "HBoxModel",
     "state": {
      "_dom_classes": [],
      "_model_module": "@jupyter-widgets/controls",
      "_model_module_version": "1.5.0",
      "_model_name": "HBoxModel",
      "_view_count": null,
      "_view_module": "@jupyter-widgets/controls",
      "_view_module_version": "1.5.0",
      "_view_name": "HBoxView",
      "box_style": "",
      "children": [
       "IPY_MODEL_a706f0cc7dd5432dbcd785e65ba044b1",
       "IPY_MODEL_975d51ff44ac40d497720137748c1ffb",
       "IPY_MODEL_199e76c5ef124ba2ab6d13ef093a8abf"
      ],
      "layout": "IPY_MODEL_e7bc6dad92a642a2aa2942b18c87e253"
     }
    },
    "e7bc6dad92a642a2aa2942b18c87e253": {
     "model_module": "@jupyter-widgets/base",
     "model_module_version": "1.2.0",
     "model_name": "LayoutModel",
     "state": {
      "_model_module": "@jupyter-widgets/base",
      "_model_module_version": "1.2.0",
      "_model_name": "LayoutModel",
      "_view_count": null,
      "_view_module": "@jupyter-widgets/base",
      "_view_module_version": "1.2.0",
      "_view_name": "LayoutView",
      "align_content": null,
      "align_items": null,
      "align_self": null,
      "border": null,
      "bottom": null,
      "display": null,
      "flex": null,
      "flex_flow": null,
      "grid_area": null,
      "grid_auto_columns": null,
      "grid_auto_flow": null,
      "grid_auto_rows": null,
      "grid_column": null,
      "grid_gap": null,
      "grid_row": null,
      "grid_template_areas": null,
      "grid_template_columns": null,
      "grid_template_rows": null,
      "height": null,
      "justify_content": null,
      "justify_items": null,
      "left": null,
      "margin": null,
      "max_height": null,
      "max_width": null,
      "min_height": null,
      "min_width": null,
      "object_fit": null,
      "object_position": null,
      "order": null,
      "overflow": null,
      "overflow_x": null,
      "overflow_y": null,
      "padding": null,
      "right": null,
      "top": null,
      "visibility": null,
      "width": null
     }
    },
    "f489a3b0a1e84bfe9aa88cff9258eaf4": {
     "model_module": "@jupyter-widgets/base",
     "model_module_version": "1.2.0",
     "model_name": "LayoutModel",
     "state": {
      "_model_module": "@jupyter-widgets/base",
      "_model_module_version": "1.2.0",
      "_model_name": "LayoutModel",
      "_view_count": null,
      "_view_module": "@jupyter-widgets/base",
      "_view_module_version": "1.2.0",
      "_view_name": "LayoutView",
      "align_content": null,
      "align_items": null,
      "align_self": null,
      "border": null,
      "bottom": null,
      "display": null,
      "flex": null,
      "flex_flow": null,
      "grid_area": null,
      "grid_auto_columns": null,
      "grid_auto_flow": null,
      "grid_auto_rows": null,
      "grid_column": null,
      "grid_gap": null,
      "grid_row": null,
      "grid_template_areas": null,
      "grid_template_columns": null,
      "grid_template_rows": null,
      "height": null,
      "justify_content": null,
      "justify_items": null,
      "left": null,
      "margin": null,
      "max_height": null,
      "max_width": null,
      "min_height": null,
      "min_width": null,
      "object_fit": null,
      "object_position": null,
      "order": null,
      "overflow": null,
      "overflow_x": null,
      "overflow_y": null,
      "padding": null,
      "right": null,
      "top": null,
      "visibility": null,
      "width": null
     }
    },
    "f8afbb51c224433bbc8691f85272a30d": {
     "model_module": "@jupyter-widgets/base",
     "model_module_version": "1.2.0",
     "model_name": "LayoutModel",
     "state": {
      "_model_module": "@jupyter-widgets/base",
      "_model_module_version": "1.2.0",
      "_model_name": "LayoutModel",
      "_view_count": null,
      "_view_module": "@jupyter-widgets/base",
      "_view_module_version": "1.2.0",
      "_view_name": "LayoutView",
      "align_content": null,
      "align_items": null,
      "align_self": null,
      "border": null,
      "bottom": null,
      "display": null,
      "flex": null,
      "flex_flow": null,
      "grid_area": null,
      "grid_auto_columns": null,
      "grid_auto_flow": null,
      "grid_auto_rows": null,
      "grid_column": null,
      "grid_gap": null,
      "grid_row": null,
      "grid_template_areas": null,
      "grid_template_columns": null,
      "grid_template_rows": null,
      "height": null,
      "justify_content": null,
      "justify_items": null,
      "left": null,
      "margin": null,
      "max_height": null,
      "max_width": null,
      "min_height": null,
      "min_width": null,
      "object_fit": null,
      "object_position": null,
      "order": null,
      "overflow": null,
      "overflow_x": null,
      "overflow_y": null,
      "padding": null,
      "right": null,
      "top": null,
      "visibility": null,
      "width": null
     }
    },
    "feb8adfde1e249dca0135c22e6b7a896": {
     "model_module": "@jupyter-widgets/controls",
     "model_module_version": "1.5.0",
     "model_name": "HTMLModel",
     "state": {
      "_dom_classes": [],
      "_model_module": "@jupyter-widgets/controls",
      "_model_module_version": "1.5.0",
      "_model_name": "HTMLModel",
      "_view_count": null,
      "_view_module": "@jupyter-widgets/controls",
      "_view_module_version": "1.5.0",
      "_view_name": "HTMLView",
      "description": "",
      "description_tooltip": null,
      "layout": "IPY_MODEL_f8afbb51c224433bbc8691f85272a30d",
      "placeholder": "​",
      "style": "IPY_MODEL_22b1f382567a42209bb29bf0dbb6ba3a",
      "value": "100%"
     }
    }
   }
  }
 },
 "nbformat": 4,
 "nbformat_minor": 4
}
