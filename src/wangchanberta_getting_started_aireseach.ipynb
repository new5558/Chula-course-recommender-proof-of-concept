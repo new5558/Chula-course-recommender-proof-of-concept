{
 "cells": [
  {
   "cell_type": "markdown",
   "metadata": {
    "id": "2KhkgdxqmYi0"
   },
   "source": [
    "# WangchanBERTa: Getting Started Notebook\n"
   ]
  },
  {
   "cell_type": "markdown",
   "metadata": {
    "id": "Z4m8BZ6LK2uQ"
   },
   "source": [
    "This is a developing Getting Started Notebook for WangchanBERTa. Currently it has inference methods you can easily use from [HuggingFace](http://huggingface.co/). We will add pretraining and finetuning methods from the scripts in [vistec-ai/thai2transformers](https://github.com/vistec-AI/thai2transformers).\n",
    "\n",
    "![WangchanBERTa](https://miro.medium.com/max/2400/1*XAHtR9rKv8SJ4ESELxm2iQ.png)"
   ]
  },
  {
   "cell_type": "markdown",
   "metadata": {
    "id": "kYYDVSgj-rs6"
   },
   "source": [
    "# Installation"
   ]
  },
  {
   "cell_type": "markdown",
   "metadata": {
    "id": "CCfGDvKc-up_"
   },
   "source": [
    "Install dependencies at specific versions to make sure WangchanBERTa works."
   ]
  },
  {
   "cell_type": "code",
   "execution_count": 1,
   "metadata": {
    "colab": {
     "base_uri": "https://localhost:8080/"
    },
    "id": "431Y-zmSmYi1",
    "outputId": "41e58ef2-19d4-48ff-f79b-5b26dd910a83"
   },
   "outputs": [],
   "source": [
    "# # Install thai2transformer \n",
    "# !pip -q install torch==1.5.0 torchtext==0.4.0 torchvision==0.6.0\n",
    "# !pip -q install transformers==3.5.0 thai2transformers==0.1.2"
   ]
  },
  {
   "cell_type": "code",
   "execution_count": 2,
   "metadata": {},
   "outputs": [],
   "source": [
    "# !pip install torch==1.4.0 "
   ]
  },
  {
   "cell_type": "code",
   "execution_count": 3,
   "metadata": {},
   "outputs": [
    {
     "data": {
      "text/plain": [
       "False"
      ]
     },
     "execution_count": 3,
     "metadata": {},
     "output_type": "execute_result"
    }
   ],
   "source": [
    "import torch\n",
    "\n",
    "torch.cuda.is_available()"
   ]
  },
  {
   "cell_type": "code",
   "execution_count": 4,
   "metadata": {},
   "outputs": [
    {
     "name": "stdout",
     "output_type": "stream",
     "text": [
      "Package                       Version            \r\n",
      "----------------------------- -------------------\r\n",
      "absl-py                       0.9.0              \r\n",
      "alabaster                     0.7.12             \r\n",
      "anyio                         3.4.0              \r\n",
      "apex                          0.1                \r\n",
      "appdirs                       1.4.3              \r\n",
      "argon2-cffi                   21.1.0             \r\n",
      "ascii-graph                   1.5.1              \r\n",
      "asn1crypto                    1.2.0              \r\n",
      "attrs                         19.3.0             \r\n",
      "audioread                     2.1.8              \r\n",
      "Babel                         2.7.0              \r\n",
      "backcall                      0.1.0              \r\n",
      "beautifulsoup4                4.8.1              \r\n",
      "bleach                        3.1.0              \r\n",
      "boto3                         1.10.44            \r\n",
      "botocore                      1.13.44            \r\n",
      "cachetools                    4.0.0              \r\n",
      "certifi                       2019.11.28         \r\n",
      "cffi                          1.13.2             \r\n",
      "chardet                       3.0.4              \r\n",
      "Click                         7.0                \r\n",
      "codecov                       2.0.15             \r\n",
      "conda                         4.8.0              \r\n",
      "conda-build                   3.18.11            \r\n",
      "conda-package-handling        1.6.0              \r\n",
      "contextvars                   2.4                \r\n",
      "coverage                      5.0                \r\n",
      "cryptography                  2.8                \r\n",
      "cycler                        0.10.0             \r\n",
      "cymem                         2.0.2              \r\n",
      "Cython                        0.28.4             \r\n",
      "cytoolz                       0.9.0.1            \r\n",
      "dataclasses                   0.8                \r\n",
      "DataProperty                  0.43.1             \r\n",
      "decorator                     4.4.1              \r\n",
      "defusedxml                    0.6.0              \r\n",
      "dill                          0.2.9              \r\n",
      "docutils                      0.15.2             \r\n",
      "emoji                         1.6.1              \r\n",
      "entrypoints                   0.3                \r\n",
      "filelock                      3.0.12             \r\n",
      "flake8                        3.7.9              \r\n",
      "Flask                         1.1.1              \r\n",
      "future                        0.18.2             \r\n",
      "glob2                         0.7                \r\n",
      "google-auth                   1.10.0             \r\n",
      "google-auth-oauthlib          0.4.1              \r\n",
      "grpcio                        1.26.0             \r\n",
      "h5py                          2.10.0             \r\n",
      "html2text                     2019.9.26          \r\n",
      "hypothesis                    4.50.8             \r\n",
      "idna                          2.8                \r\n",
      "imageio                       2.6.1              \r\n",
      "imagesize                     1.1.0              \r\n",
      "immutables                    0.16               \r\n",
      "importlib-metadata            1.3.0              \r\n",
      "inflect                       3.0.2              \r\n",
      "ipdb                          0.12.3             \r\n",
      "ipykernel                     5.1.3              \r\n",
      "ipython                       7.10.2             \r\n",
      "ipython-genutils              0.2.0              \r\n",
      "ipywidgets                    7.6.5              \r\n",
      "itsdangerous                  1.1.0              \r\n",
      "jedi                          0.15.1             \r\n",
      "Jinja2                        2.10.3             \r\n",
      "jmespath                      0.9.4              \r\n",
      "joblib                        0.14.1             \r\n",
      "json5                         0.8.5              \r\n",
      "jsonschema                    3.2.0              \r\n",
      "jupyter-client                7.1.0              \r\n",
      "jupyter-core                  4.6.1              \r\n",
      "jupyter-server                1.12.0             \r\n",
      "jupyter-tensorboard           0.1.10             \r\n",
      "jupyterlab                    3.2.4              \r\n",
      "jupyterlab-server             2.8.2              \r\n",
      "jupyterlab-widgets            1.0.2              \r\n",
      "jupytext                      1.3.0              \r\n",
      "kiwisolver                    1.1.0              \r\n",
      "langdetect                    1.0.9              \r\n",
      "libarchive-c                  2.8                \r\n",
      "librosa                       0.6.3              \r\n",
      "lief                          0.9.0              \r\n",
      "llvmlite                      0.28.0             \r\n",
      "lmdb                          0.98               \r\n",
      "Mako                          1.1.0              \r\n",
      "Markdown                      3.1.1              \r\n",
      "MarkupSafe                    1.1.1              \r\n",
      "maskrcnn-benchmark            0.1                \r\n",
      "matplotlib                    3.1.2              \r\n",
      "mbstrdecoder                  0.8.1              \r\n",
      "mccabe                        0.6.1              \r\n",
      "mistune                       0.8.4              \r\n",
      "mlperf-compliance             0.0.10             \r\n",
      "mock                          3.0.5              \r\n",
      "more-itertools                8.0.2              \r\n",
      "msgfy                         0.0.7              \r\n",
      "msgpack                       0.6.1              \r\n",
      "msgpack-numpy                 0.4.3.2            \r\n",
      "murmurhash                    1.0.2              \r\n",
      "nbclassic                     0.3.4              \r\n",
      "nbconvert                     5.6.1              \r\n",
      "nbformat                      4.4.0              \r\n",
      "nest-asyncio                  1.5.1              \r\n",
      "networkx                      2.0                \r\n",
      "nltk                          3.4.5              \r\n",
      "notebook                      6.0.2              \r\n",
      "numba                         0.43.1             \r\n",
      "numpy                         1.17.4             \r\n",
      "nvidia-dali                   0.17.0             \r\n",
      "oauthlib                      3.1.0              \r\n",
      "onnx                          1.6.0              \r\n",
      "opencv-python                 3.4.1.15           \r\n",
      "packaging                     19.2               \r\n",
      "pandas                        0.24.2             \r\n",
      "pandocfilters                 1.4.2              \r\n",
      "parso                         0.5.2              \r\n",
      "pathvalidate                  0.29.0             \r\n",
      "pexpect                       4.7.0              \r\n",
      "pickleshare                   0.7.5              \r\n",
      "Pillow-SIMD                   5.3.0.post1        \r\n",
      "pip                           19.3.1             \r\n",
      "pkginfo                       1.5.0.1            \r\n",
      "plac                          0.9.6              \r\n",
      "pluggy                        0.13.1             \r\n",
      "preshed                       2.0.1              \r\n",
      "progressbar                   2.5                \r\n",
      "prometheus-client             0.7.1              \r\n",
      "prompt-toolkit                3.0.2              \r\n",
      "protobuf                      3.11.2             \r\n",
      "psutil                        5.6.7              \r\n",
      "ptyprocess                    0.6.0              \r\n",
      "py                            1.8.0              \r\n",
      "pyaml                         21.10.1            \r\n",
      "pyasn1                        0.4.8              \r\n",
      "pyasn1-modules                0.2.7              \r\n",
      "pybind11                      2.4.3              \r\n",
      "pycocotools                   2.0+nv0.3.1        \r\n",
      "pycodestyle                   2.5.0              \r\n",
      "pycosat                       0.6.3              \r\n",
      "pycparser                     2.19               \r\n",
      "pycuda                        2019.1.2           \r\n",
      "pydot                         1.4.1              \r\n",
      "pyflakes                      2.1.1              \r\n",
      "Pygments                      2.5.2              \r\n",
      "pyOpenSSL                     19.1.0             \r\n",
      "pyparsing                     2.4.5              \r\n",
      "pyrsistent                    0.15.6             \r\n",
      "PySocks                       1.7.1              \r\n",
      "pytablewriter                 0.46.1             \r\n",
      "pytest                        5.3.2              \r\n",
      "pytest-cov                    2.8.1              \r\n",
      "pytest-pythonpath             0.7.3              \r\n",
      "pythainlp                     2.3.2              \r\n",
      "python-crfsuite               0.9.7              \r\n",
      "python-dateutil               2.8.1              \r\n",
      "python-hostlist               1.18               \r\n",
      "python-nvd3                   0.15.0             \r\n",
      "python-slugify                4.0.0              \r\n",
      "pytools                       2019.1.1           \r\n",
      "pytorch-transformers          1.1.0              \r\n",
      "pytz                          2019.3             \r\n",
      "PyWavelets                    1.1.1              \r\n",
      "PyYAML                        5.2                \r\n",
      "pyzmq                         18.1.1             \r\n",
      "regex                         2018.1.10          \r\n",
      "requests                      2.22.0             \r\n",
      "requests-oauthlib             1.3.0              \r\n",
      "resampy                       0.2.2              \r\n",
      "revtok                        0.0.3              \r\n",
      "rsa                           4.0                \r\n",
      "ruamel-yaml                   0.15.87            \r\n",
      "s3transfer                    0.2.1              \r\n",
      "sacrebleu                     1.2.10             \r\n",
      "sacremoses                    0.0.35             \r\n",
      "scikit-image                  0.15.0             \r\n",
      "scikit-learn                  0.23.2             \r\n",
      "scikit-optimize               0.9.0              \r\n",
      "scipy                         1.3.2              \r\n",
      "seaborn                       0.11.2             \r\n",
      "Send2Trash                    1.5.0              \r\n",
      "sentencepiece                 0.1.91             \r\n",
      "seqeval                       1.2.2              \r\n",
      "setuptools                    42.0.2.post20191203\r\n",
      "six                           1.13.0             \r\n",
      "sniffio                       1.2.0              \r\n",
      "snowballstemmer               2.0.0              \r\n",
      "SoundFile                     0.10.3.post1       \r\n",
      "soupsieve                     1.9.5              \r\n",
      "sox                           1.3.7              \r\n",
      "spacy                         2.0.16             \r\n",
      "Sphinx                        2.3.0              \r\n",
      "sphinx-rtd-theme              0.4.3              \r\n",
      "sphinxcontrib-applehelp       1.0.1              \r\n",
      "sphinxcontrib-devhelp         1.0.1              \r\n",
      "sphinxcontrib-htmlhelp        1.0.2              \r\n",
      "sphinxcontrib-jsmath          1.0.1              \r\n",
      "sphinxcontrib-qthelp          1.0.2              \r\n",
      "sphinxcontrib-serializinghtml 1.1.3              \r\n",
      "SSD                           0.1                \r\n",
      "subword-nmt                   0.3.3              \r\n",
      "tabledata                     0.9.1              \r\n",
      "tabulate                      0.8.6              \r\n",
      "tensorboard                   2.1.0              \r\n",
      "tensorrt                      7.0.0.11           \r\n",
      "terminado                     0.8.3              \r\n",
      "testpath                      0.4.4              \r\n",
      "text-unidecode                1.3                \r\n",
      "thai2transformers             0.1.2              \r\n",
      "thinc                         6.12.1             \r\n",
      "threadpoolctl                 3.0.0              \r\n",
      "tinydb                        4.5.2              \r\n",
      "tokenizers                    0.9.3              \r\n",
      "toml                          0.10.0             \r\n",
      "toolz                         0.10.0             \r\n",
      "torch                         1.4.0a0+a5b4d78    \r\n",
      "torchtext                     0.4.0              \r\n",
      "torchvision                   0.5.0a0            \r\n",
      "tornado                       6.1                \r\n",
      "tqdm                          4.62.3             \r\n",
      "traitlets                     4.3.3              \r\n",
      "transformers                  3.5.0              \r\n",
      "typepy                        0.6.0              \r\n",
      "typing                        3.7.4.1            \r\n",
      "typing-extensions             3.10.0.2           \r\n",
      "ujson                         1.35               \r\n",
      "Unidecode                     1.1.1              \r\n",
      "urllib3                       1.25.7             \r\n",
      "wcwidth                       0.1.7              \r\n",
      "webencodings                  0.5.1              \r\n",
      "websocket-client              1.2.1              \r\n",
      "Werkzeug                      0.16.0             \r\n",
      "wheel                         0.33.6             \r\n",
      "widgetsnbextension            3.5.2              \r\n",
      "wrapt                         1.10.11            \r\n",
      "yacs                          0.1.6              \r\n",
      "zipp                          0.6.0              \r\n"
     ]
    }
   ],
   "source": [
    "!pip list"
   ]
  },
  {
   "cell_type": "code",
   "execution_count": 5,
   "metadata": {},
   "outputs": [
    {
     "name": "stdout",
     "output_type": "stream",
     "text": [
      "Python 3.6.9 :: Anaconda, Inc.\r\n"
     ]
    }
   ],
   "source": [
    "!python --version"
   ]
  },
  {
   "cell_type": "code",
   "execution_count": 6,
   "metadata": {
    "id": "eVlb6CEDmYi3"
   },
   "outputs": [],
   "source": [
    "import numpy as np\n",
    "from tqdm.auto import tqdm\n",
    "import torch\n",
    "\n",
    "#datasets\n",
    "# from datasets import load_dataset\n",
    "\n",
    "#transformers\n",
    "from transformers import (\n",
    "    CamembertTokenizer,\n",
    "    AutoTokenizer,\n",
    "    AutoModel,\n",
    "    AutoModelForMaskedLM,\n",
    "    AutoModelForSequenceClassification,\n",
    "    AutoModelForTokenClassification,\n",
    "    TrainingArguments,\n",
    "    Trainer,\n",
    "    pipeline,\n",
    ")\n",
    "\n",
    "#thai2transformers\n",
    "import thai2transformers\n",
    "from thai2transformers.preprocess import process_transformers\n",
    "from thai2transformers.metrics import (\n",
    "    classification_metrics, \n",
    "    multilabel_classification_metrics,\n",
    ")\n",
    "from thai2transformers.tokenizers import (\n",
    "    ThaiRobertaTokenizer,\n",
    "    ThaiWordsNewmmTokenizer,\n",
    "    ThaiWordsSyllableTokenizer,\n",
    "    FakeSefrCutTokenizer,\n",
    "    SEFR_SPLIT_TOKEN\n",
    ")"
   ]
  },
  {
   "cell_type": "markdown",
   "metadata": {
    "id": "QAVvxEO3Ihdg"
   },
   "source": [
    "# Choose Pretrained Model"
   ]
  },
  {
   "cell_type": "markdown",
   "metadata": {
    "id": "4ZAUQljAfTT3"
   },
   "source": [
    "In this notebook, you can choose from 5 versions of WangchanBERTa, XLMR and mBERT to perform downstream tasks with Thai datasets. The datasets are:\n",
    "\n",
    "* `wangchanberta-base-att-spm-uncased` (recommended) - Largest WangchanBERTa trained on 78.5GB of Assorted Thai Texts with subword tokenizer SentencePiece\n",
    "* `xlm-roberta-base` - Facebook's [XLMR](https://arxiv.org/abs/1911.02116) trained on 100 languages\n",
    "* `bert-base-multilingual-cased` - Google's [mBERT](https://arxiv.org/abs/1911.03310) trained on 104 languages\n",
    "* `wangchanberta-base-wiki-newmm` - WangchanBERTa trained on Thai Wikipedia Dump with PyThaiNLP's word-level tokenizer  `newmm`\n",
    "* `wangchanberta-base-wiki-syllable` - WangchanBERTa trained on Thai Wikipedia Dump with PyThaiNLP's syllabel-level tokenizer `syllable`\n",
    "* `wangchanberta-base-wiki-sefr` - WangchanBERTa trained on Thai Wikipedia Dump with word-level tokenizer  `SEFR`\n",
    "* `wangchanberta-base-wiki-spm` - WangchanBERTa trained on Thai Wikipedia Dump with subword-level tokenizer SentencePiece"
   ]
  },
  {
   "cell_type": "code",
   "execution_count": 7,
   "metadata": {
    "colab": {
     "base_uri": "https://localhost:8080/",
     "height": 427,
     "referenced_widgets": [
      "3cc60d69b90e44e39504a07ba76deb3f",
      "11314463d236484ba8d386ecc769f875",
      "86f46adfbcae4ba8af2737072690334a",
      "80e1b23c565c4a088d9b00d051ea40b6",
      "d2dac6277ff3464dbff6be3c6ebdf13f",
      "10c51c1f85074472ab1f0d955aeb2f20",
      "60ec7b7445334fc19c8f6876b980d9a8",
      "dc6d0c48f89040989f01ca18cc2c3364",
      "9341d22666904e36830bed0c26f3729c",
      "01e9fddf32444b89a80ffa76e6c30ba6",
      "65d18fb6b51c4570bfaf4437a4a7a61a",
      "26242eb0e6f744fba96a5ac00f12937c",
      "7b21982fef5e4472b616584aa68aade1",
      "361696f66c3141f5953852be176eb3db",
      "30e5cf5ca910476f85e99457fae4346b",
      "8e72a3542f144bffb8e62b44239a2249",
      "1759747674db4254abbe7c1bf59079ad",
      "de23a80ba76b48d186aa243694347310",
      "9904ac58e33745af9288c24b5324a81f",
      "b16600859f8d4d59b1233eea33b09c5c",
      "34cfb27573f14f0ab128d8c5792b94f6",
      "a48f4124e36e43c9bb5f909b102afcc3",
      "8ac1ce4202824455b1a9d4cac99fc8ce",
      "f6a4a000916d43e097c91752cb90d915"
     ]
    },
    "id": "n5IaCot9b3cF",
    "outputId": "00d598d1-2037-4ea4-ab95-f3dffc5668cf"
   },
   "outputs": [
    {
     "data": {
      "application/vnd.jupyter.widget-view+json": {
       "model_id": "556051c9d3714fa2b686e0d1868396d2",
       "version_major": 2,
       "version_minor": 0
      },
      "text/plain": [
       "Downloading:   0%|          | 0.00/546 [00:00<?, ?B/s]"
      ]
     },
     "metadata": {},
     "output_type": "display_data"
    },
    {
     "data": {
      "application/vnd.jupyter.widget-view+json": {
       "model_id": "b1fae8ecddaf41dba023b2324c6e3f93",
       "version_major": 2,
       "version_minor": 0
      },
      "text/plain": [
       "Downloading:   0%|          | 0.00/905k [00:00<?, ?B/s]"
      ]
     },
     "metadata": {},
     "output_type": "display_data"
    },
    {
     "data": {
      "application/vnd.jupyter.widget-view+json": {
       "model_id": "73383d4a790642739fe2c14f78dc06a0",
       "version_major": 2,
       "version_minor": 0
      },
      "text/plain": [
       "Downloading:   0%|          | 0.00/282 [00:00<?, ?B/s]"
      ]
     },
     "metadata": {},
     "output_type": "display_data"
    }
   ],
   "source": [
    "model_names = [\n",
    "    'wangchanberta-base-att-spm-uncased',\n",
    "    'xlm-roberta-base',\n",
    "    'bert-base-multilingual-cased',\n",
    "    'wangchanberta-base-wiki-newmm',\n",
    "    'wangchanberta-base-wiki-ssg',\n",
    "    'wangchanberta-base-wiki-sefr',\n",
    "    'wangchanberta-base-wiki-spm',\n",
    "]\n",
    "\n",
    "tokenizers = {\n",
    "    'wangchanberta-base-att-spm-uncased': AutoTokenizer,\n",
    "    'xlm-roberta-base': AutoTokenizer,\n",
    "    'bert-base-multilingual-cased': AutoTokenizer,\n",
    "#     'wangchanberta-base-wiki-newmm': ThaiWordsNewmmTokenizer,\n",
    "#     'wangchanberta-base-wiki-ssg': ThaiWordsSyllableTokenizer,\n",
    "#     'wangchanberta-base-wiki-sefr': FakeSefrCutTokenizer,\n",
    "#     'wangchanberta-base-wiki-spm': ThaiRobertaTokenizer,\n",
    "}\n",
    "public_models = ['xlm-roberta-base', 'bert-base-multilingual-cased'] \n",
    "#@title Choose Pretrained Model\n",
    "model_name = \"wangchanberta-base-att-spm-uncased\" #@param [\"wangchanberta-base-att-spm-uncased\", \"xlm-roberta-base\", \"bert-base-multilingual-cased\", \"wangchanberta-base-wiki-newmm\", \"wangchanberta-base-wiki-syllable\", \"wangchanberta-base-wiki-sefr\", \"wangchanberta-base-wiki-spm\"]\n",
    "\n",
    "#create tokenizer\n",
    "tokenizer = tokenizers[model_name].from_pretrained(\n",
    "                f'airesearch/{model_name}' if model_name not in public_models else f'{model_name}',\n",
    "                revision='main',\n",
    "                model_max_length=416,)\n"
   ]
  },
  {
   "cell_type": "markdown",
   "metadata": {
    "id": "ioofbdH49Mud"
   },
   "source": [
    "# Masked Token Prediction"
   ]
  },
  {
   "cell_type": "markdown",
   "metadata": {
    "id": "5HvwQAS_gfRp"
   },
   "source": [
    "The simplest task for WangchanBERTa is the task it was trained on, that is, masked token prediction. The model will try to predict the masked token in a given sequence. For example:\n",
    "\n",
    "> **Question**: วังจันทร์วัลเลย์ ตั้งอยู่บนพื้นที่ 3,454 `<mask>` ของอำเภอวังจันทร์ จังหวัดระยอง\n",
    "\n",
    "> **Answer** [`ไร่`, `ตารางเมตร`, `กิโลเมตร`, `ตารางวา`, `ไมล์`]\n",
    "\n",
    "We can use this to create more data for smaller datasets by substituting parts of the sequences; for instance, if you have 1,000 sequences, you can mask parts of each sequence and generate another 10,000 sentences for traning set. This has been proven to increase downstream performance such as the case of [AUG-BERT](https://link.springer.com/chapter/10.1007/978-981-13-9409-6_266) for English."
   ]
  },
  {
   "cell_type": "code",
   "execution_count": null,
   "metadata": {
    "colab": {
     "base_uri": "https://localhost:8080/",
     "height": 66,
     "referenced_widgets": [
      "c69ae5f47870438ba9f40cd77bd4c295",
      "d07da8898e954f53838380ed1ca00140",
      "b01dfb2a2e3f4a57a19027e6ddd7d5e2",
      "7ce4bd3e364442769daf36aa57373787",
      "f2da8f2259da4271a8ad9b7e3a71b3ee",
      "a15a1bccf0414c7c835a9025b731df5c",
      "90231f3db2b045e0acc81b579992aa29",
      "5f81421e4dcc44b5b15dfb54d47d7cbe"
     ]
    },
    "id": "kAcpAdkddVQ8",
    "outputId": "51d60b8c-5149-4539-f61b-c2fb1761e5c8"
   },
   "outputs": [
    {
     "data": {
      "application/vnd.jupyter.widget-view+json": {
       "model_id": "47511698ae6d4d5f8445e92f55f51608",
       "version_major": 2,
       "version_minor": 0
      },
      "text/plain": [
       "Downloading:   0%|          | 0.00/423M [00:00<?, ?B/s]"
      ]
     },
     "metadata": {},
     "output_type": "display_data"
    }
   ],
   "source": [
    "#pipeline\n",
    "fill_mask = pipeline(task='fill-mask',\n",
    "         tokenizer=tokenizer,\n",
    "         model = f'airesearch/{model_name}' if model_name not in public_models else f'{model_name}',\n",
    "         revision = 'main',)"
   ]
  },
  {
   "cell_type": "code",
   "execution_count": null,
   "metadata": {
    "colab": {
     "base_uri": "https://localhost:8080/"
    },
    "id": "xAPvcK9JIgjo",
    "outputId": "cfb9d044-256c-459f-e82e-c2cffd8b4266"
   },
   "outputs": [],
   "source": [
    "input_text = '\\u0E02\\u0E2D\\u0E40\\u0E07\\u0E34\\u0E19\\u0E01\\u0E39\\u0E49\\u003Cmask>\\u0E2B\\u0E19\\u0E48\\u0E2D\\u0E22' #@param ['โครงการมีระยะทางทั้งหมด 114.3 <mask> มีจำนวนสถานี 36 สถานี เป็นเส้นทางหลักในแนวเหนือ–ใต้ ตามแนวทางรถไฟเดิมของการรถไฟแห่งประเทศไทย', 'วังจันทร์วัลเลย์ ตั้งอยู่บนพื้นที่ 3,454 <mask> ของอำเภอวังจันทร์ จังหวัดระยอง', 'ข้าวหน้าเนื้อ หรือเรียกเป็นภาษา<mask>ว่ากิวด้ง (Gyūdon)','จะไปเป็น<mask>โดดเด่นบนฟากฟ้า จะไปไขว่ขว้าเอามาดั่งใจฝัน', 'เช็คยอด<mask>', 'ขอเงินกู้<mask>หน่อย','กด<mask>ไม่ได้'] {allow-input: true}\n",
    "\n",
    "preprocess_input_text = True #@param {type:\"boolean\"}\n",
    "if preprocess_input_text:\n",
    "    if model_name not in public_models:\n",
    "        input_text = process_transformers(input_text)\n",
    "\n",
    "#if the sequence is too short, it needs padding\n",
    "def fill_mask_pad(input_text):\n",
    "    return fill_mask(input_text+'<pad>')\n",
    "#infer\n",
    "fill_mask_pad(input_text)\n"
   ]
  },
  {
   "cell_type": "markdown",
   "metadata": {
    "id": "uuhgmkcM9StV"
   },
   "source": [
    "# Sequence Classification"
   ]
  },
  {
   "cell_type": "markdown",
   "metadata": {
    "id": "sUzeKha1ozzm"
   },
   "source": [
    "Multi-class sequence classification datasets such as:\n",
    "* `wisesight_sentiment` - sentiment analysis from social media data provided by Wisesight\n",
    "* `wongnai_reviews` - review classification from Wongnai.com"
   ]
  },
  {
   "cell_type": "markdown",
   "metadata": {
    "id": "hq8eN2xi1YCN"
   },
   "source": [
    "## Pretrained Multi-class Classifiers - Wisesight Sentiment and Wongnai Reviews"
   ]
  },
  {
   "cell_type": "markdown",
   "metadata": {
    "id": "5Rfrlk3cr-jp"
   },
   "source": [
    "You can use our state-of-the-art finetuned WangchanBERTa for these tasks right away with:"
   ]
  },
  {
   "cell_type": "code",
   "execution_count": 7,
   "metadata": {
    "colab": {
     "base_uri": "https://localhost:8080/",
     "height": 115,
     "referenced_widgets": [
      "7bf903dea1da415384cd3857658f27ac",
      "5edc117f68b74f1fa961935a5d0e700b",
      "cd948f7685684e6595e0cdf3d21ee054",
      "24aceaaa13b34e969c0516b9d019c756",
      "6e0ea13e95a94342b044cbcb5e16c328",
      "c3109e391fe34d7eae1447a46a757a8a",
      "e1a769f7710a4dabaafb961b5dd54ccc",
      "ded8ccbf84d1445e9f028903e6558d40",
      "97827c45a13648cb8b1f5fbc483b7bcd",
      "6e9c256597614f9cb4243e2d58d7686b",
      "dcca37fb760a478d932091cca3f060a8",
      "55734666b0484f12af0910d4b20ea1ee",
      "c645314eb8fe439787ea033f4f763193",
      "8eee572f87304b38a64c3548a6dbe87a",
      "c1ccd441224f4f06bbcc38eea6ca3949",
      "fa9cf221a3ea4304b9daa14ee5995e02"
     ]
    },
    "id": "YcFRPt3h9XcU",
    "outputId": "caa9b0d6-7756-4931-ef6c-537e8844b184"
   },
   "outputs": [
    {
     "data": {
      "application/vnd.jupyter.widget-view+json": {
       "model_id": "e4b2a6f5f05c492aa7976640e59a40ed",
       "version_major": 2,
       "version_minor": 0
      },
      "text/plain": [
       "Downloading:   0%|          | 0.00/716 [00:00<?, ?B/s]"
      ]
     },
     "metadata": {},
     "output_type": "display_data"
    },
    {
     "data": {
      "application/vnd.jupyter.widget-view+json": {
       "model_id": "00f5369ffcf0456fbe7ad588b641d5f6",
       "version_major": 2,
       "version_minor": 0
      },
      "text/plain": [
       "Downloading:   0%|          | 0.00/421M [00:00<?, ?B/s]"
      ]
     },
     "metadata": {},
     "output_type": "display_data"
    }
   ],
   "source": [
    "#@title Choose Multi-class Classification Dataset\n",
    "dataset_name = \"wisesight_sentiment\" #@param ['wisesight_sentiment','wongnai_reviews']\n",
    "\n",
    "#pipeline\n",
    "classify_multiclass = pipeline(task='sentiment-analysis',\n",
    "         tokenizer=tokenizer,\n",
    "         model = f'airesearch/{model_name}' if model_name not in public_models else f'{model_name}',\n",
    "         revision = f'finetuned@{dataset_name}')"
   ]
  },
  {
   "cell_type": "code",
   "execution_count": 8,
   "metadata": {
    "colab": {
     "base_uri": "https://localhost:8080/"
    },
    "id": "1coyq1-GiGPw",
    "outputId": "fd22fa40-e0a7-494a-f78b-2bdd3dcc962e"
   },
   "outputs": [
    {
     "data": {
      "text/plain": [
       "[{'label': 'neg', 'score': 0.9360982179641724}]"
      ]
     },
     "execution_count": 8,
     "metadata": {},
     "output_type": "execute_result"
    }
   ],
   "source": [
    "input_text = '\\u0E40\\u0E04\\u0E22\\u0E1A\\u0E49\\u0E32\\u0E40\\u0E2D\\u0E47\\u0E21\\u0E40\\u0E04\\u0E01\\u0E31\\u0E1A\\u0E41\\u0E21\\u0E48 \\u0E01\\u0E34\\u0E19\\u0E2D\\u0E32\\u0E17\\u0E34\\u0E15\\u0E22\\u0E4C\\u0E25\\u0E303-4 \\u0E27\\u0E31\\u0E19\\u0E15\\u0E34\\u0E14 \\u0E42\\u0E04\\u0E15\\u0E23\\u0E2B\\u0E19\\u0E31\\u0E01\\u0E41\\u0E25\\u0E30\\u0E42\\u0E04\\u0E15\\u0E23\\u0E40\\u0E1B\\u0E25\\u0E37\\u0E2D\\u0E07\\u0E07\\u0E07\\u0E07'  #@param ['อยากกินวะแก ซื้อมาให้หน่อยจิ', 'ขอบคุณแกมาก โคตรบ้าเลย', 'ฟอร์ด บุกตลาด อีวี ในอินเดีย #prachachat #ตลาดรถยนต์', 'สั่งไป2 เมนู คือมัชฉะลาเต้ร้อน กับ ไอศครีมชาเขียว มัชฉะลาเต้ร้อน รสชาเขียวเข้มข้น หอม มัน แต่ไม่กลมกล่อม มันจืดแบบจืดสนิท ส่วนไอศครีมชาเขียว ทานแล้วรสมันออกใบไม้ๆมากกว่าชาเขียว แล้วก็หวานไป โดยรวมแล้วเฉยมากก ดีแค่รสชาเขียวเข้ม มีน้ำเปล่าบริการฟรี','เคยบ้าเอ็มเคกับแม่ กินอาทิตย์ละ3-4 วันติด โคตรหนักและโคตรเปลืองงงง'] {allow-input: true}\n",
    "\n",
    "preprocess_input_text = True #@param {type:\"boolean\"}\n",
    "if preprocess_input_text:\n",
    "    if model_name not in public_models:\n",
    "        input_text = process_transformers(input_text)\n",
    "\n",
    "#infer\n",
    "classify_multiclass(input_text)"
   ]
  },
  {
   "cell_type": "markdown",
   "metadata": {
    "id": "_oq4vnrz9aa8"
   },
   "source": [
    "# Token Classification"
   ]
  },
  {
   "cell_type": "markdown",
   "metadata": {
    "id": "5zFRV9SPi1dv"
   },
   "source": [
    "We have state-of-the-art named entity recognition taggers based on both ThaiNER and LST20."
   ]
  },
  {
   "cell_type": "markdown",
   "metadata": {
    "id": "r_IY0lDi1qTp"
   },
   "source": [
    "## Pretrained Token Classifiers - ThaiNER and LST20"
   ]
  },
  {
   "cell_type": "code",
   "execution_count": 5,
   "metadata": {
    "colab": {
     "base_uri": "https://localhost:8080/",
     "height": 115,
     "referenced_widgets": [
      "43bbdb3ea7aa4e71985602dba504e3fa",
      "7c859b3b369d4db197f87c839e6ffe4d",
      "d5147a6c703c404faaa432ad351265ec",
      "ce5833ee02334b458c8ca02986c713eb",
      "0c17e566227c4f6d998fddb3e1eb3555",
      "64fb505a454f4b71ac449c2f5d054172",
      "7bfac019dbdf4bd7948db7be9a34a3ce",
      "cb0c5b946d7a4be299830b253cabbce3",
      "428b7d86577741119a413748b7021b6a",
      "302cefa2b9ae4117a53612b81d7081b7",
      "067fa700a3da462aa33e3d6f6ef87d5a",
      "ec486c1b6593424582ae6250c756cdd8",
      "ca61be13e61a46f19420d1dc8d147441",
      "448ad7686fea4e0091b5768a62003ad7",
      "421234b6a19f4ca49b037d3c22f4a6ae",
      "37ccdc9b59bd4999a25f1aa42d7376d3"
     ]
    },
    "id": "7olw26qp9Z0q",
    "outputId": "023c6352-7f11-435a-bd70-6eddfcab5faa"
   },
   "outputs": [
    {
     "data": {
      "application/vnd.jupyter.widget-view+json": {
       "model_id": "e6a8d1f28ea5412496d26c6d53348d9f",
       "version_major": 2,
       "version_minor": 0
      },
      "text/plain": [
       "Downloading:   0%|          | 0.00/423M [00:00<?, ?B/s]"
      ]
     },
     "metadata": {},
     "output_type": "display_data"
    },
    {
     "data": {
      "application/vnd.jupyter.widget-view+json": {
       "model_id": "099d410f19d04430ba69d3bdafe5690a",
       "version_major": 2,
       "version_minor": 0
      },
      "text/plain": [
       "Downloading:   0%|          | 0.00/1.79k [00:00<?, ?B/s]"
      ]
     },
     "metadata": {},
     "output_type": "display_data"
    },
    {
     "data": {
      "application/vnd.jupyter.widget-view+json": {
       "model_id": "a7d2af8862a84e60b63f5ebe1e2d6f61",
       "version_major": 2,
       "version_minor": 0
      },
      "text/plain": [
       "Downloading:   0%|          | 0.00/419M [00:00<?, ?B/s]"
      ]
     },
     "metadata": {},
     "output_type": "display_data"
    }
   ],
   "source": [
    "#@title Choose Token Classification Dataset\n",
    "dataset_name = \"thainer\" #@param ['thainer','lst20']\n",
    "\n",
    "#pipeline\n",
    "classify_tokens = pipeline(task='ner',\n",
    "         tokenizer=tokenizer,\n",
    "         model = f'airesearch/{model_name}' if model_name not in public_models else f'{model_name}',\n",
    "         revision = f'finetuned@{dataset_name}-ner',\n",
    "         ignore_labels=[], \n",
    "         grouped_entities=True)"
   ]
  },
  {
   "cell_type": "code",
   "execution_count": 6,
   "metadata": {
    "colab": {
     "base_uri": "https://localhost:8080/"
    },
    "id": "XuzaarV7k4Ax",
    "outputId": "59fa7bac-21fc-46e6-d170-2999694a6bb5"
   },
   "outputs": [
    {
     "data": {
      "text/plain": [
       "[{'entity_group': 'ORGANIZATION', 'score': 0.782966673374176, 'word': ''},\n",
       " {'entity_group': 'ORGANIZATION',\n",
       "  'score': 0.9278751015663147,\n",
       "  'word': 'โรงเรียน'},\n",
       " {'entity_group': 'ORGANIZATION',\n",
       "  'score': 0.9350615739822388,\n",
       "  'word': 'สวนกุหลาบ'},\n",
       " {'entity_group': 'O',\n",
       "  'score': 0.8276159550462451,\n",
       "  'word': 'เป็นโรงเรียนที่ดี<_> แต่ไม่มีสวนกุหลาบ'}]"
      ]
     },
     "execution_count": 6,
     "metadata": {},
     "output_type": "execute_result"
    }
   ],
   "source": [
    "input_text = '\\u0E42\\u0E23\\u0E07\\u0E40\\u0E23\\u0E35\\u0E22\\u0E19\\u0E2A\\u0E27\\u0E19\\u0E01\\u0E38\\u0E2B\\u0E25\\u0E32\\u0E1A\\u0E40\\u0E1B\\u0E47\\u0E19\\u0E42\\u0E23\\u0E07\\u0E40\\u0E23\\u0E35\\u0E22\\u0E19\\u0E17\\u0E35\\u0E48\\u0E14\\u0E35 \\u0E41\\u0E15\\u0E48\\u0E44\\u0E21\\u0E48\\u0E21\\u0E35\\u0E2A\\u0E27\\u0E19\\u0E01\\u0E38\\u0E2B\\u0E25\\u0E32\\u0E1A' #@param ['โรงเรียนสวนกุหลาบเป็นโรงเรียนที่ดี แต่ไม่มีสวนกุหลาบ', 'แดงเดือดรอบสอง ลิเวอร์พูล บุกเยือน แมนฯ ยูไนเต็ด', 'จีน-อินเดียเสี่ยงสูญเสียจากภัยธรรมชาติมากสุด', 'ทำให้ประชาชนกว่า 10,000 คน ต้องอพยพออกจากพื้นที่ อิทธิพลของพายุยังทำให้บ้านเรือนเกือบ 9,700 หลังพังถล่มลงมา สร้างความเสียหายคิดเป็นมูลค่า 450 ล้านหยวน','กทช.เตรียมทดลองประมูล 3จี 25 ก.ค.นี้']\n",
    "preprocess_input_text = True #@param {type:\"boolean\"}\n",
    "if preprocess_input_text:\n",
    "    if model_name not in public_models:\n",
    "        input_text = process_transformers(input_text)\n",
    "\n",
    "#infer\n",
    "classify_tokens(input_text)"
   ]
  },
  {
   "cell_type": "markdown",
   "metadata": {
    "id": "xza1BTvK16rb"
   },
   "source": [
    "# Document Vectors"
   ]
  },
  {
   "cell_type": "markdown",
   "metadata": {
    "id": "AH-Eiz1quJEJ"
   },
   "source": [
    "If the HuggingFace finetuners do not have what you are looking for, or you want to do something less traditional such as clustering using document vectors or simply use the document vectors for other classifiers such as logistic regression, random forest and gradient boosting.\n",
    "![Image by @mrpeerat](https://miro.medium.com/max/1000/1*3JJRwT1f2zTK1hx36-qXdg.jpeg)\n",
    "\n",
    "Image by [@mrpeerat](https://github.com/mrpeerat)"
   ]
  },
  {
   "cell_type": "markdown",
   "metadata": {
    "id": "dMnIv7-g2DNi"
   },
   "source": [
    "## Feature Extraction"
   ]
  },
  {
   "cell_type": "markdown",
   "metadata": {
    "id": "KCkfGlQhw4vF"
   },
   "source": [
    "We can use the outputs of WangchanBERTa (or any transformer-based models) as document vectors as an example by [BramVanroy](https://github.com/BramVanroy/bert-for-inference/blob/master/introduction-to-bert.ipynb).\n",
    "\n",
    "![](https://github.com/BramVanroy/bert-for-inference/raw/ab7c57d6e7c79faf83ac0f9b6595c4b3d660c43c/img/bert-feature-extraction-contextualized-embeddings.png)"
   ]
  },
  {
   "cell_type": "code",
   "execution_count": 12,
   "metadata": {
    "colab": {
     "base_uri": "https://localhost:8080/",
     "height": 66,
     "referenced_widgets": [
      "7a300943beb341b9a53eb89fc44891f9",
      "0cc47b3983fb49b09b81f61b651b76dd",
      "8e3ba1b50c104d4abc9b765b8fb15921",
      "4ef312da966f42b1a669412f6d075d27",
      "edafc45582df4a1b8d35cb3d13ddb7a7",
      "ed3fc0cdc1e04d339c48f4dac0923ed9",
      "7ecf79e1000a4340a6d59e6bdc1a09dc",
      "ed0b498b1a204631a74d4fb04c4c4732"
     ]
    },
    "id": "ogLCllbU07Pp",
    "outputId": "cb381cbd-653f-4b34-e1e3-0e7c2fef563f"
   },
   "outputs": [],
   "source": [
    "#pipeline\n",
    "feature_extractor = pipeline(task='feature-extraction',\n",
    "         tokenizer=tokenizer,\n",
    "         model = f'airesearch/{model_name}' if model_name not in public_models else f'{model_name}',\n",
    "         revision = 'main')\n",
    "\n",
    "def extract_last_k(input_text, feature_extractor, last_k=4):\n",
    "    hidden_states = feature_extractor(input_text)[0]\n",
    "    last_k_layers = [hidden_states[i] for i in [-i for i in range(1,last_k+1)]]\n",
    "    cat_hidden_states = sum(last_k_layers, [])\n",
    "    return np.array(cat_hidden_states)"
   ]
  },
  {
   "cell_type": "markdown",
   "metadata": {
    "id": "ewem8iik3k77"
   },
   "source": [
    "You can see `I like Japanese food` and `I like gyudon` (as well as `I like Italian food` and `I like macaroni`) have high cosine similarity as they are considered \"close\" by WangchanBERTa."
   ]
  },
  {
   "cell_type": "code",
   "execution_count": 13,
   "metadata": {
    "colab": {
     "base_uri": "https://localhost:8080/",
     "height": 286
    },
    "id": "JT8-9mxW22pq",
    "outputId": "afd27756-4a92-484e-e697-2345cbac63da"
   },
   "outputs": [
    {
     "ename": "ModuleNotFoundError",
     "evalue": "No module named 'seaborn'",
     "output_type": "error",
     "traceback": [
      "\u001b[0;31m---------------------------------------------------------------------------\u001b[0m",
      "\u001b[0;31mModuleNotFoundError\u001b[0m                       Traceback (most recent call last)",
      "\u001b[0;32m<ipython-input-13-7d7c84701662>\u001b[0m in \u001b[0;36m<module>\u001b[0;34m\u001b[0m\n\u001b[1;32m     12\u001b[0m \u001b[0;34m\u001b[0m\u001b[0m\n\u001b[1;32m     13\u001b[0m \u001b[0;32mfrom\u001b[0m \u001b[0msklearn\u001b[0m\u001b[0;34m.\u001b[0m\u001b[0mmetrics\u001b[0m\u001b[0;34m.\u001b[0m\u001b[0mpairwise\u001b[0m \u001b[0;32mimport\u001b[0m \u001b[0mcosine_similarity\u001b[0m\u001b[0;34m\u001b[0m\u001b[0;34m\u001b[0m\u001b[0m\n\u001b[0;32m---> 14\u001b[0;31m \u001b[0;32mimport\u001b[0m \u001b[0mseaborn\u001b[0m \u001b[0;32mas\u001b[0m \u001b[0msns\u001b[0m\u001b[0;34m\u001b[0m\u001b[0;34m\u001b[0m\u001b[0m\n\u001b[0m\u001b[1;32m     15\u001b[0m \u001b[0msim_matrix\u001b[0m \u001b[0;34m=\u001b[0m \u001b[0mcosine_similarity\u001b[0m\u001b[0;34m(\u001b[0m\u001b[0mts\u001b[0m\u001b[0;34m,\u001b[0m\u001b[0mts\u001b[0m\u001b[0;34m)\u001b[0m\u001b[0;34m\u001b[0m\u001b[0;34m\u001b[0m\u001b[0m\n\u001b[1;32m     16\u001b[0m sns.heatmap(sim_matrix, annot=True, \n",
      "\u001b[0;31mModuleNotFoundError\u001b[0m: No module named 'seaborn'"
     ]
    }
   ],
   "source": [
    "#@title Show similarity between Food and Country\n",
    "text1 = 'ฉันชอบกินอาหารญี่ปุ่น' #@param {type:\"raw\"}\n",
    "text2 = 'ฉันชอบกินอาหารอิตาเลียน' #@param {type:\"raw\"}\n",
    "text3 = 'ฉันชอบกินกิวด้ง' #@param {type:\"raw\"}\n",
    "text4 = 'ฉันชอบกินมักกะโรนี' #@param {type:\"raw\"}\n",
    "\n",
    "t1 = extract_last_k(text1, feature_extractor)[None,:]\n",
    "t2 = extract_last_k(text2, feature_extractor)[None,:]\n",
    "t3 = extract_last_k(text3, feature_extractor)[None,:]\n",
    "t4 = extract_last_k(text4, feature_extractor)[None,:]\n",
    "ts = np.concatenate([t1,t2,t3,t4],0)\n",
    "\n",
    "from sklearn.metrics.pairwise import cosine_similarity\n",
    "import seaborn as sns\n",
    "sim_matrix = cosine_similarity(ts,ts)\n",
    "sns.heatmap(sim_matrix, annot=True, \n",
    "            fmt='.2%', cmap='Blues',\n",
    "            xticklabels=['japanese','italian','gyudon','macaroni'],\n",
    "            yticklabels=['japanese','italian','gyudon','macaroni'])"
   ]
  },
  {
   "cell_type": "markdown",
   "metadata": {
    "id": "-ffgI_dRZPdJ"
   },
   "source": [
    "## Zero-shot Text Classification"
   ]
  },
  {
   "cell_type": "markdown",
   "metadata": {
    "id": "UM7WvAXLZSlQ"
   },
   "source": [
    "Zero-shot text classification is a fancy way of saying \"do similarity search with a given set of labels based on pretrained model outputs\". It maybe useful when you do not have any training data to finetune at all. Here is how you can do it.\n",
    "\n",
    "<br>\n",
    "\n",
    "__Updated on Friday 26 March 2021__: We have released WanchanBERTa, XLMR and mBERT models finetuned on [XNLI](https://github.com/facebookresearch/XNLI) dataset ( Thai sentence pairs). The finetuned model checkpoints are stored under the branch named `finetuned@xnli_th` in our organization repositories (available at Huggingface Model Hub (https://huggingface.co/airesearch))."
   ]
  },
  {
   "cell_type": "code",
   "execution_count": 14,
   "metadata": {
    "colab": {
     "base_uri": "https://localhost:8080/",
     "height": 115,
     "referenced_widgets": [
      "9cc0050e8633454daaeade8b4d17efaa",
      "2218a3cc79ca463fbd4222fdd97607f9",
      "a8445b650c494c1e90af208e39453bb2",
      "1785d5d0b21e40e882cf60029280799e",
      "e0561c8085f54eadb7d168f7c3950598",
      "82bc9f2c4ae347cdbb985ed11c90c09a",
      "759c32a5ea584e0f9033cb84ae802078",
      "157107fff9bf4c40994f65ce2dcb42bb",
      "a116718dba114a2bbaafb9629f9b6775",
      "a31c0fdd0c4b44a38ebfe0b2b61e437e",
      "0c7e5166c8514f50be0fb14179810842",
      "591820d55a7446579bce904759f50a57",
      "869600d06c6145768c19534fd4557b22",
      "846f5e0ead1f486cb87e4bd541f5079e",
      "ce5655f7807744cfa37b5d3c1e4c87bc",
      "dfdaf30e3a5741609b991a7e1dd0d7e5"
     ]
    },
    "id": "NnN04n4kZRom",
    "outputId": "23474b3f-1cbe-4305-eb4c-dd4e93cf1aef"
   },
   "outputs": [
    {
     "data": {
      "application/vnd.jupyter.widget-view+json": {
       "model_id": "5e002a33505c4ff188cc33d28d0a8275",
       "version_major": 2,
       "version_minor": 0
      },
      "text/plain": [
       "Downloading:   0%|          | 0.00/730 [00:00<?, ?B/s]"
      ]
     },
     "metadata": {},
     "output_type": "display_data"
    },
    {
     "data": {
      "application/vnd.jupyter.widget-view+json": {
       "model_id": "f1ec11a4a40747bb9eec7b94620d51c9",
       "version_major": 2,
       "version_minor": 0
      },
      "text/plain": [
       "Downloading:   0%|          | 0.00/421M [00:00<?, ?B/s]"
      ]
     },
     "metadata": {},
     "output_type": "display_data"
    }
   ],
   "source": [
    "#pipeline\n",
    "zero_classify = pipeline(task='zero-shot-classification',\n",
    "         tokenizer=tokenizer,\n",
    "         model=AutoModelForSequenceClassification.from_pretrained(\n",
    "             f'airesearch/{model_name}' if model_name not in public_models else f'airesearch/{model_name}-finetuned',\n",
    "             revision='finetuned@xnli_th')\n",
    "         )"
   ]
  },
  {
   "cell_type": "code",
   "execution_count": 15,
   "metadata": {
    "colab": {
     "base_uri": "https://localhost:8080/"
    },
    "id": "Nczz1ZAqbSnX",
    "outputId": "02f2a7be-2063-4369-9edd-973d741b028d"
   },
   "outputs": [
    {
     "data": {
      "text/plain": [
       "{'sequence': 'ทีมไบเดนหารือกับญี่ปุ่น<_>กระชับความเป็นพันธมิตร',\n",
       " 'labels': ['การเมือง', 'เทคโนโลยี', 'ศิลปะ-บันเทิง', 'เศรษฐกิจ-ธุรกิจ'],\n",
       " 'scores': [0.39383983612060547,\n",
       "  0.2437462955713272,\n",
       "  0.20734050869941711,\n",
       "  0.15507344901561737]}"
      ]
     },
     "execution_count": 15,
     "metadata": {},
     "output_type": "execute_result"
    }
   ],
   "source": [
    "input_text = \"\\u0E17\\u0E35\\u0E21\\u0E44\\u0E1A\\u0E40\\u0E14\\u0E19\\u0E2B\\u0E32\\u0E23\\u0E37\\u0E2D\\u0E01\\u0E31\\u0E1A\\u0E0D\\u0E35\\u0E48\\u0E1B\\u0E38\\u0E48\\u0E19 \\u0E01\\u0E23\\u0E30\\u0E0A\\u0E31\\u0E1A\\u0E04\\u0E27\\u0E32\\u0E21\\u0E40\\u0E1B\\u0E47\\u0E19\\u0E1E\\u0E31\\u0E19\\u0E18\\u0E21\\u0E34\\u0E15\\u0E23\" #@param [\"SCB 10X \\u0E23\\u0E48\\u0E27\\u0E21\\u0E25\\u0E07\\u0E17\\u0E38\\u0E19\\u0E43\\u0E19 BlockFi Startup \\u0E14\\u0E49\\u0E32\\u0E19 Digital Asset\", \"\\u0E2D\\u0E32\\u0E40\\u0E1A\\u0E30\\u0E1B\\u0E23\\u0E31\\u0E1A\\u0E04\\u0E13\\u0E30\\u0E23\\u0E31\\u0E10\\u0E21\\u0E19\\u0E15\\u0E23\\u0E35\\u0E0D\\u0E35\\u0E48\\u0E1B\\u0E38\\u0E48\\u0E19 \\u0E15\\u0E31\\u0E49\\u0E07 \\u201C\\u0E23\\u0E21\\u0E15.\\u0E01\\u0E25\\u0E32\\u0E42\\u0E2B\\u0E21\\u201D \\u0E04\\u0E19\\u0E43\\u0E2B\\u0E21\\u0E48\", \"WangchanBERTa \\u0E42\\u0E21\\u0E40\\u0E14\\u0E25\\u0E1B\\u0E23\\u0E30\\u0E21\\u0E27\\u0E25\\u0E1C\\u0E25\\u0E20\\u0E32\\u0E29\\u0E32\\u0E44\\u0E17\\u0E22\\u0E17\\u0E35\\u0E48\\u0E43\\u0E2B\\u0E0D\\u0E48\\u0E41\\u0E25\\u0E30\\u0E01\\u0E49\\u0E32\\u0E27\\u0E2B\\u0E19\\u0E49\\u0E32\\u0E17\\u0E35\\u0E48\\u0E2A\\u0E38\\u0E14\\u0E43\\u0E19\\u0E02\\u0E13\\u0E30\\u0E19\\u0E35\\u0E49\", \"\\u201CWhere We Belong\\\" \\u0E04\\u0E27\\u0E49\\u0E32\\u0E20\\u0E32\\u0E1E\\u0E22\\u0E19\\u0E15\\u0E23\\u0E4C\\u0E22\\u0E2D\\u0E14\\u0E40\\u0E22\\u0E35\\u0E48\\u0E22\\u0E21 \\u0E2A\\u0E38\\u0E1E\\u0E23\\u0E23\\u0E13\\u0E2B\\u0E07\\u0E2A\\u0E4C\\u0E04\\u0E23\\u0E31\\u0E49\\u0E07\\u0E17\\u0E35\\u0E48 29\", \"\\u0E17\\u0E35\\u0E21\\u0E44\\u0E1A\\u0E40\\u0E14\\u0E19\\u0E2B\\u0E32\\u0E23\\u0E37\\u0E2D\\u0E01\\u0E31\\u0E1A\\u0E0D\\u0E35\\u0E48\\u0E1B\\u0E38\\u0E48\\u0E19 \\u0E01\\u0E23\\u0E30\\u0E0A\\u0E31\\u0E1A\\u0E04\\u0E27\\u0E32\\u0E21\\u0E40\\u0E1B\\u0E47\\u0E19\\u0E1E\\u0E31\\u0E19\\u0E18\\u0E21\\u0E34\\u0E15\\u0E23\", \"\\u0E19\\u0E31\\u0E01\\u0E27\\u0E34\\u0E08\\u0E31\\u0E22\\u0E19\\u0E32\\u0E42\\u0E19\\u0E40\\u0E17\\u0E04\\u0E42\\u0E19\\u0E42\\u0E25\\u0E22\\u0E35 \\u0E08\\u0E32\\u0E01\\u0E2A\\u0E16\\u0E32\\u0E1A\\u0E31\\u0E19\\u0E27\\u0E34\\u0E17\\u0E22\\u0E2A\\u0E34\\u0E23\\u0E34\\u0E40\\u0E21\\u0E18\\u0E35 \\u0E1C\\u0E39\\u0E49\\u0E04\\u0E34\\u0E14\\u0E04\\u0E49\\u0E19\\u0E41\\u0E1A\\u0E15\\u0E40\\u0E15\\u0E2D\\u0E23\\u0E35\\u0E48\\u0E08\\u0E32\\u0E01\\u0E27\\u0E31\\u0E2A\\u0E14\\u0E38\\u0E01\\u0E23\\u0E32\\u0E1F\\u0E35\\u0E19 \\u0E04\\u0E27\\u0E49\\u0E32\\u0E23\\u0E32\\u0E07\\u0E27\\u0E31\\u0E25\\u0E19\\u0E31\\u0E01\\u0E27\\u0E34\\u0E17\\u0E22\\u0E32\\u0E28\\u0E32\\u0E2A\\u0E15\\u0E23\\u0E4C\\u0E14\\u0E35\\u0E40\\u0E14\\u0E48\\u0E19 \\u0E1B\\u0E23\\u0E30\\u0E08\\u0E33\\u0E1B\\u0E35 2562 \", \"\\u0E1E\\u0E34\\u0E1E\\u0E34\\u0E18\\u0E20\\u0E31\\u0E13\\u0E11\\u0E4C\\u0E1D\\u0E23\\u0E31\\u0E48\\u0E07\\u0E40\\u0E28\\u0E2A\\u0E40\\u0E1C\\u0E22\\u0E41\\u0E1E\\u0E23\\u0E48\\u0E44\\u0E1F\\u0E25\\u0E4C\\u0E14\\u0E34\\u0E08\\u0E34\\u0E17\\u0E31\\u0E25\\u0E20\\u0E32\\u0E1E\\u0E27\\u0E32\\u0E14 \\u0E20\\u0E32\\u0E1E\\u0E16\\u0E48\\u0E32\\u0E22 \\u0E41\\u0E25\\u0E30\\u0E20\\u0E32\\u0E1E\\u0E1B\\u0E23\\u0E30\\u0E01\\u0E2D\\u0E1A\\u0E2B\\u0E19\\u0E31\\u0E07\\u0E2A\\u0E37\\u0E2D\\u0E43\\u0E19\\u0E2D\\u0E14\\u0E35\\u0E15 \\u0E23\\u0E27\\u0E21\\u0E01\\u0E27\\u0E48\\u0E32 1 \\u0E41\\u0E2A\\u0E19\\u0E23\\u0E39\\u0E1B \"] {allow-input: true}\n",
    "\n",
    "preprocess_input_text = True #@param {type:\"boolean\"}\n",
    "if preprocess_input_text:\n",
    "    if model_name not in public_models:\n",
    "        input_text = process_transformers(input_text)\n",
    "\n",
    "#infer\n",
    "zero_classify(input_text, \n",
    "              candidate_labels=['เศรษฐกิจ-ธุรกิจ','การเมือง',\n",
    "                                'เทคโนโลยี', 'ศิลปะ-บันเทิง'],\n",
    "              hypothesis_template='พาดหัวข่าวนี้้เกี่ยวกับ{}')"
   ]
  },
  {
   "cell_type": "code",
   "execution_count": null,
   "metadata": {
    "id": "_ZRQus3IUud-"
   },
   "outputs": [],
   "source": []
  },
  {
   "cell_type": "code",
   "execution_count": null,
   "metadata": {},
   "outputs": [],
   "source": []
  }
 ],
 "metadata": {
  "accelerator": "GPU",
  "colab": {
   "collapsed_sections": [],
   "name": "wangchanberta_getting_started.aireseach.ipynb",
   "provenance": []
  },
  "kernelspec": {
   "display_name": "Python 3",
   "language": "python",
   "name": "python3"
  },
  "language_info": {
   "codemirror_mode": {
    "name": "ipython",
    "version": 3
   },
   "file_extension": ".py",
   "mimetype": "text/x-python",
   "name": "python",
   "nbconvert_exporter": "python",
   "pygments_lexer": "ipython3",
   "version": "3.6.9"
  },
  "widgets": {
   "application/vnd.jupyter.widget-state+json": {
    "01e9fddf32444b89a80ffa76e6c30ba6": {
     "model_module": "@jupyter-widgets/base",
     "model_module_version": "1.2.0",
     "model_name": "LayoutModel",
     "state": {
      "_model_module": "@jupyter-widgets/base",
      "_model_module_version": "1.2.0",
      "_model_name": "LayoutModel",
      "_view_count": null,
      "_view_module": "@jupyter-widgets/base",
      "_view_module_version": "1.2.0",
      "_view_name": "LayoutView",
      "align_content": null,
      "align_items": null,
      "align_self": null,
      "border": null,
      "bottom": null,
      "display": null,
      "flex": null,
      "flex_flow": null,
      "grid_area": null,
      "grid_auto_columns": null,
      "grid_auto_flow": null,
      "grid_auto_rows": null,
      "grid_column": null,
      "grid_gap": null,
      "grid_row": null,
      "grid_template_areas": null,
      "grid_template_columns": null,
      "grid_template_rows": null,
      "height": null,
      "justify_content": null,
      "justify_items": null,
      "left": null,
      "margin": null,
      "max_height": null,
      "max_width": null,
      "min_height": null,
      "min_width": null,
      "object_fit": null,
      "object_position": null,
      "order": null,
      "overflow": null,
      "overflow_x": null,
      "overflow_y": null,
      "padding": null,
      "right": null,
      "top": null,
      "visibility": null,
      "width": null
     }
    },
    "067fa700a3da462aa33e3d6f6ef87d5a": {
     "model_module": "@jupyter-widgets/controls",
     "model_module_version": "1.5.0",
     "model_name": "FloatProgressModel",
     "state": {
      "_dom_classes": [],
      "_model_module": "@jupyter-widgets/controls",
      "_model_module_version": "1.5.0",
      "_model_name": "FloatProgressModel",
      "_view_count": null,
      "_view_module": "@jupyter-widgets/controls",
      "_view_module_version": "1.5.0",
      "_view_name": "ProgressView",
      "bar_style": "success",
      "description": "Downloading: 100%",
      "description_tooltip": null,
      "layout": "IPY_MODEL_448ad7686fea4e0091b5768a62003ad7",
      "max": 418756768,
      "min": 0,
      "orientation": "horizontal",
      "style": "IPY_MODEL_ca61be13e61a46f19420d1dc8d147441",
      "value": 418756768
     }
    },
    "0c17e566227c4f6d998fddb3e1eb3555": {
     "model_module": "@jupyter-widgets/controls",
     "model_module_version": "1.5.0",
     "model_name": "ProgressStyleModel",
     "state": {
      "_model_module": "@jupyter-widgets/controls",
      "_model_module_version": "1.5.0",
      "_model_name": "ProgressStyleModel",
      "_view_count": null,
      "_view_module": "@jupyter-widgets/base",
      "_view_module_version": "1.2.0",
      "_view_name": "StyleView",
      "bar_color": null,
      "description_width": "initial"
     }
    },
    "0c7e5166c8514f50be0fb14179810842": {
     "model_module": "@jupyter-widgets/controls",
     "model_module_version": "1.5.0",
     "model_name": "FloatProgressModel",
     "state": {
      "_dom_classes": [],
      "_model_module": "@jupyter-widgets/controls",
      "_model_module_version": "1.5.0",
      "_model_name": "FloatProgressModel",
      "_view_count": null,
      "_view_module": "@jupyter-widgets/controls",
      "_view_module_version": "1.5.0",
      "_view_name": "ProgressView",
      "bar_style": "success",
      "description": "Downloading: 100%",
      "description_tooltip": null,
      "layout": "IPY_MODEL_846f5e0ead1f486cb87e4bd541f5079e",
      "max": 421042678,
      "min": 0,
      "orientation": "horizontal",
      "style": "IPY_MODEL_869600d06c6145768c19534fd4557b22",
      "value": 421042678
     }
    },
    "0cc47b3983fb49b09b81f61b651b76dd": {
     "model_module": "@jupyter-widgets/base",
     "model_module_version": "1.2.0",
     "model_name": "LayoutModel",
     "state": {
      "_model_module": "@jupyter-widgets/base",
      "_model_module_version": "1.2.0",
      "_model_name": "LayoutModel",
      "_view_count": null,
      "_view_module": "@jupyter-widgets/base",
      "_view_module_version": "1.2.0",
      "_view_name": "LayoutView",
      "align_content": null,
      "align_items": null,
      "align_self": null,
      "border": null,
      "bottom": null,
      "display": null,
      "flex": null,
      "flex_flow": null,
      "grid_area": null,
      "grid_auto_columns": null,
      "grid_auto_flow": null,
      "grid_auto_rows": null,
      "grid_column": null,
      "grid_gap": null,
      "grid_row": null,
      "grid_template_areas": null,
      "grid_template_columns": null,
      "grid_template_rows": null,
      "height": null,
      "justify_content": null,
      "justify_items": null,
      "left": null,
      "margin": null,
      "max_height": null,
      "max_width": null,
      "min_height": null,
      "min_width": null,
      "object_fit": null,
      "object_position": null,
      "order": null,
      "overflow": null,
      "overflow_x": null,
      "overflow_y": null,
      "padding": null,
      "right": null,
      "top": null,
      "visibility": null,
      "width": null
     }
    },
    "10c51c1f85074472ab1f0d955aeb2f20": {
     "model_module": "@jupyter-widgets/base",
     "model_module_version": "1.2.0",
     "model_name": "LayoutModel",
     "state": {
      "_model_module": "@jupyter-widgets/base",
      "_model_module_version": "1.2.0",
      "_model_name": "LayoutModel",
      "_view_count": null,
      "_view_module": "@jupyter-widgets/base",
      "_view_module_version": "1.2.0",
      "_view_name": "LayoutView",
      "align_content": null,
      "align_items": null,
      "align_self": null,
      "border": null,
      "bottom": null,
      "display": null,
      "flex": null,
      "flex_flow": null,
      "grid_area": null,
      "grid_auto_columns": null,
      "grid_auto_flow": null,
      "grid_auto_rows": null,
      "grid_column": null,
      "grid_gap": null,
      "grid_row": null,
      "grid_template_areas": null,
      "grid_template_columns": null,
      "grid_template_rows": null,
      "height": null,
      "justify_content": null,
      "justify_items": null,
      "left": null,
      "margin": null,
      "max_height": null,
      "max_width": null,
      "min_height": null,
      "min_width": null,
      "object_fit": null,
      "object_position": null,
      "order": null,
      "overflow": null,
      "overflow_x": null,
      "overflow_y": null,
      "padding": null,
      "right": null,
      "top": null,
      "visibility": null,
      "width": null
     }
    },
    "11314463d236484ba8d386ecc769f875": {
     "model_module": "@jupyter-widgets/base",
     "model_module_version": "1.2.0",
     "model_name": "LayoutModel",
     "state": {
      "_model_module": "@jupyter-widgets/base",
      "_model_module_version": "1.2.0",
      "_model_name": "LayoutModel",
      "_view_count": null,
      "_view_module": "@jupyter-widgets/base",
      "_view_module_version": "1.2.0",
      "_view_name": "LayoutView",
      "align_content": null,
      "align_items": null,
      "align_self": null,
      "border": null,
      "bottom": null,
      "display": null,
      "flex": null,
      "flex_flow": null,
      "grid_area": null,
      "grid_auto_columns": null,
      "grid_auto_flow": null,
      "grid_auto_rows": null,
      "grid_column": null,
      "grid_gap": null,
      "grid_row": null,
      "grid_template_areas": null,
      "grid_template_columns": null,
      "grid_template_rows": null,
      "height": null,
      "justify_content": null,
      "justify_items": null,
      "left": null,
      "margin": null,
      "max_height": null,
      "max_width": null,
      "min_height": null,
      "min_width": null,
      "object_fit": null,
      "object_position": null,
      "order": null,
      "overflow": null,
      "overflow_x": null,
      "overflow_y": null,
      "padding": null,
      "right": null,
      "top": null,
      "visibility": null,
      "width": null
     }
    },
    "157107fff9bf4c40994f65ce2dcb42bb": {
     "model_module": "@jupyter-widgets/base",
     "model_module_version": "1.2.0",
     "model_name": "LayoutModel",
     "state": {
      "_model_module": "@jupyter-widgets/base",
      "_model_module_version": "1.2.0",
      "_model_name": "LayoutModel",
      "_view_count": null,
      "_view_module": "@jupyter-widgets/base",
      "_view_module_version": "1.2.0",
      "_view_name": "LayoutView",
      "align_content": null,
      "align_items": null,
      "align_self": null,
      "border": null,
      "bottom": null,
      "display": null,
      "flex": null,
      "flex_flow": null,
      "grid_area": null,
      "grid_auto_columns": null,
      "grid_auto_flow": null,
      "grid_auto_rows": null,
      "grid_column": null,
      "grid_gap": null,
      "grid_row": null,
      "grid_template_areas": null,
      "grid_template_columns": null,
      "grid_template_rows": null,
      "height": null,
      "justify_content": null,
      "justify_items": null,
      "left": null,
      "margin": null,
      "max_height": null,
      "max_width": null,
      "min_height": null,
      "min_width": null,
      "object_fit": null,
      "object_position": null,
      "order": null,
      "overflow": null,
      "overflow_x": null,
      "overflow_y": null,
      "padding": null,
      "right": null,
      "top": null,
      "visibility": null,
      "width": null
     }
    },
    "1759747674db4254abbe7c1bf59079ad": {
     "model_module": "@jupyter-widgets/controls",
     "model_module_version": "1.5.0",
     "model_name": "HBoxModel",
     "state": {
      "_dom_classes": [],
      "_model_module": "@jupyter-widgets/controls",
      "_model_module_version": "1.5.0",
      "_model_name": "HBoxModel",
      "_view_count": null,
      "_view_module": "@jupyter-widgets/controls",
      "_view_module_version": "1.5.0",
      "_view_name": "HBoxView",
      "box_style": "",
      "children": [
       "IPY_MODEL_9904ac58e33745af9288c24b5324a81f",
       "IPY_MODEL_b16600859f8d4d59b1233eea33b09c5c"
      ],
      "layout": "IPY_MODEL_de23a80ba76b48d186aa243694347310"
     }
    },
    "1785d5d0b21e40e882cf60029280799e": {
     "model_module": "@jupyter-widgets/controls",
     "model_module_version": "1.5.0",
     "model_name": "HTMLModel",
     "state": {
      "_dom_classes": [],
      "_model_module": "@jupyter-widgets/controls",
      "_model_module_version": "1.5.0",
      "_model_name": "HTMLModel",
      "_view_count": null,
      "_view_module": "@jupyter-widgets/controls",
      "_view_module_version": "1.5.0",
      "_view_name": "HTMLView",
      "description": "",
      "description_tooltip": null,
      "layout": "IPY_MODEL_157107fff9bf4c40994f65ce2dcb42bb",
      "placeholder": "​",
      "style": "IPY_MODEL_759c32a5ea584e0f9033cb84ae802078",
      "value": " 730/730 [00:14&lt;00:00, 51.2B/s]"
     }
    },
    "2218a3cc79ca463fbd4222fdd97607f9": {
     "model_module": "@jupyter-widgets/base",
     "model_module_version": "1.2.0",
     "model_name": "LayoutModel",
     "state": {
      "_model_module": "@jupyter-widgets/base",
      "_model_module_version": "1.2.0",
      "_model_name": "LayoutModel",
      "_view_count": null,
      "_view_module": "@jupyter-widgets/base",
      "_view_module_version": "1.2.0",
      "_view_name": "LayoutView",
      "align_content": null,
      "align_items": null,
      "align_self": null,
      "border": null,
      "bottom": null,
      "display": null,
      "flex": null,
      "flex_flow": null,
      "grid_area": null,
      "grid_auto_columns": null,
      "grid_auto_flow": null,
      "grid_auto_rows": null,
      "grid_column": null,
      "grid_gap": null,
      "grid_row": null,
      "grid_template_areas": null,
      "grid_template_columns": null,
      "grid_template_rows": null,
      "height": null,
      "justify_content": null,
      "justify_items": null,
      "left": null,
      "margin": null,
      "max_height": null,
      "max_width": null,
      "min_height": null,
      "min_width": null,
      "object_fit": null,
      "object_position": null,
      "order": null,
      "overflow": null,
      "overflow_x": null,
      "overflow_y": null,
      "padding": null,
      "right": null,
      "top": null,
      "visibility": null,
      "width": null
     }
    },
    "24aceaaa13b34e969c0516b9d019c756": {
     "model_module": "@jupyter-widgets/controls",
     "model_module_version": "1.5.0",
     "model_name": "HTMLModel",
     "state": {
      "_dom_classes": [],
      "_model_module": "@jupyter-widgets/controls",
      "_model_module_version": "1.5.0",
      "_model_name": "HTMLModel",
      "_view_count": null,
      "_view_module": "@jupyter-widgets/controls",
      "_view_module_version": "1.5.0",
      "_view_name": "HTMLView",
      "description": "",
      "description_tooltip": null,
      "layout": "IPY_MODEL_ded8ccbf84d1445e9f028903e6558d40",
      "placeholder": "​",
      "style": "IPY_MODEL_e1a769f7710a4dabaafb961b5dd54ccc",
      "value": " 716/716 [00:00&lt;00:00, 1.22kB/s]"
     }
    },
    "26242eb0e6f744fba96a5ac00f12937c": {
     "model_module": "@jupyter-widgets/controls",
     "model_module_version": "1.5.0",
     "model_name": "HTMLModel",
     "state": {
      "_dom_classes": [],
      "_model_module": "@jupyter-widgets/controls",
      "_model_module_version": "1.5.0",
      "_model_name": "HTMLModel",
      "_view_count": null,
      "_view_module": "@jupyter-widgets/controls",
      "_view_module_version": "1.5.0",
      "_view_name": "HTMLView",
      "description": "",
      "description_tooltip": null,
      "layout": "IPY_MODEL_8e72a3542f144bffb8e62b44239a2249",
      "placeholder": "​",
      "style": "IPY_MODEL_30e5cf5ca910476f85e99457fae4346b",
      "value": " 905k/905k [00:00&lt;00:00, 4.69MB/s]"
     }
    },
    "302cefa2b9ae4117a53612b81d7081b7": {
     "model_module": "@jupyter-widgets/base",
     "model_module_version": "1.2.0",
     "model_name": "LayoutModel",
     "state": {
      "_model_module": "@jupyter-widgets/base",
      "_model_module_version": "1.2.0",
      "_model_name": "LayoutModel",
      "_view_count": null,
      "_view_module": "@jupyter-widgets/base",
      "_view_module_version": "1.2.0",
      "_view_name": "LayoutView",
      "align_content": null,
      "align_items": null,
      "align_self": null,
      "border": null,
      "bottom": null,
      "display": null,
      "flex": null,
      "flex_flow": null,
      "grid_area": null,
      "grid_auto_columns": null,
      "grid_auto_flow": null,
      "grid_auto_rows": null,
      "grid_column": null,
      "grid_gap": null,
      "grid_row": null,
      "grid_template_areas": null,
      "grid_template_columns": null,
      "grid_template_rows": null,
      "height": null,
      "justify_content": null,
      "justify_items": null,
      "left": null,
      "margin": null,
      "max_height": null,
      "max_width": null,
      "min_height": null,
      "min_width": null,
      "object_fit": null,
      "object_position": null,
      "order": null,
      "overflow": null,
      "overflow_x": null,
      "overflow_y": null,
      "padding": null,
      "right": null,
      "top": null,
      "visibility": null,
      "width": null
     }
    },
    "30e5cf5ca910476f85e99457fae4346b": {
     "model_module": "@jupyter-widgets/controls",
     "model_module_version": "1.5.0",
     "model_name": "DescriptionStyleModel",
     "state": {
      "_model_module": "@jupyter-widgets/controls",
      "_model_module_version": "1.5.0",
      "_model_name": "DescriptionStyleModel",
      "_view_count": null,
      "_view_module": "@jupyter-widgets/base",
      "_view_module_version": "1.2.0",
      "_view_name": "StyleView",
      "description_width": ""
     }
    },
    "34cfb27573f14f0ab128d8c5792b94f6": {
     "model_module": "@jupyter-widgets/controls",
     "model_module_version": "1.5.0",
     "model_name": "ProgressStyleModel",
     "state": {
      "_model_module": "@jupyter-widgets/controls",
      "_model_module_version": "1.5.0",
      "_model_name": "ProgressStyleModel",
      "_view_count": null,
      "_view_module": "@jupyter-widgets/base",
      "_view_module_version": "1.2.0",
      "_view_name": "StyleView",
      "bar_color": null,
      "description_width": "initial"
     }
    },
    "361696f66c3141f5953852be176eb3db": {
     "model_module": "@jupyter-widgets/base",
     "model_module_version": "1.2.0",
     "model_name": "LayoutModel",
     "state": {
      "_model_module": "@jupyter-widgets/base",
      "_model_module_version": "1.2.0",
      "_model_name": "LayoutModel",
      "_view_count": null,
      "_view_module": "@jupyter-widgets/base",
      "_view_module_version": "1.2.0",
      "_view_name": "LayoutView",
      "align_content": null,
      "align_items": null,
      "align_self": null,
      "border": null,
      "bottom": null,
      "display": null,
      "flex": null,
      "flex_flow": null,
      "grid_area": null,
      "grid_auto_columns": null,
      "grid_auto_flow": null,
      "grid_auto_rows": null,
      "grid_column": null,
      "grid_gap": null,
      "grid_row": null,
      "grid_template_areas": null,
      "grid_template_columns": null,
      "grid_template_rows": null,
      "height": null,
      "justify_content": null,
      "justify_items": null,
      "left": null,
      "margin": null,
      "max_height": null,
      "max_width": null,
      "min_height": null,
      "min_width": null,
      "object_fit": null,
      "object_position": null,
      "order": null,
      "overflow": null,
      "overflow_x": null,
      "overflow_y": null,
      "padding": null,
      "right": null,
      "top": null,
      "visibility": null,
      "width": null
     }
    },
    "37ccdc9b59bd4999a25f1aa42d7376d3": {
     "model_module": "@jupyter-widgets/base",
     "model_module_version": "1.2.0",
     "model_name": "LayoutModel",
     "state": {
      "_model_module": "@jupyter-widgets/base",
      "_model_module_version": "1.2.0",
      "_model_name": "LayoutModel",
      "_view_count": null,
      "_view_module": "@jupyter-widgets/base",
      "_view_module_version": "1.2.0",
      "_view_name": "LayoutView",
      "align_content": null,
      "align_items": null,
      "align_self": null,
      "border": null,
      "bottom": null,
      "display": null,
      "flex": null,
      "flex_flow": null,
      "grid_area": null,
      "grid_auto_columns": null,
      "grid_auto_flow": null,
      "grid_auto_rows": null,
      "grid_column": null,
      "grid_gap": null,
      "grid_row": null,
      "grid_template_areas": null,
      "grid_template_columns": null,
      "grid_template_rows": null,
      "height": null,
      "justify_content": null,
      "justify_items": null,
      "left": null,
      "margin": null,
      "max_height": null,
      "max_width": null,
      "min_height": null,
      "min_width": null,
      "object_fit": null,
      "object_position": null,
      "order": null,
      "overflow": null,
      "overflow_x": null,
      "overflow_y": null,
      "padding": null,
      "right": null,
      "top": null,
      "visibility": null,
      "width": null
     }
    },
    "3cc60d69b90e44e39504a07ba76deb3f": {
     "model_module": "@jupyter-widgets/controls",
     "model_module_version": "1.5.0",
     "model_name": "HBoxModel",
     "state": {
      "_dom_classes": [],
      "_model_module": "@jupyter-widgets/controls",
      "_model_module_version": "1.5.0",
      "_model_name": "HBoxModel",
      "_view_count": null,
      "_view_module": "@jupyter-widgets/controls",
      "_view_module_version": "1.5.0",
      "_view_name": "HBoxView",
      "box_style": "",
      "children": [
       "IPY_MODEL_86f46adfbcae4ba8af2737072690334a",
       "IPY_MODEL_80e1b23c565c4a088d9b00d051ea40b6"
      ],
      "layout": "IPY_MODEL_11314463d236484ba8d386ecc769f875"
     }
    },
    "421234b6a19f4ca49b037d3c22f4a6ae": {
     "model_module": "@jupyter-widgets/controls",
     "model_module_version": "1.5.0",
     "model_name": "DescriptionStyleModel",
     "state": {
      "_model_module": "@jupyter-widgets/controls",
      "_model_module_version": "1.5.0",
      "_model_name": "DescriptionStyleModel",
      "_view_count": null,
      "_view_module": "@jupyter-widgets/base",
      "_view_module_version": "1.2.0",
      "_view_name": "StyleView",
      "description_width": ""
     }
    },
    "428b7d86577741119a413748b7021b6a": {
     "model_module": "@jupyter-widgets/controls",
     "model_module_version": "1.5.0",
     "model_name": "HBoxModel",
     "state": {
      "_dom_classes": [],
      "_model_module": "@jupyter-widgets/controls",
      "_model_module_version": "1.5.0",
      "_model_name": "HBoxModel",
      "_view_count": null,
      "_view_module": "@jupyter-widgets/controls",
      "_view_module_version": "1.5.0",
      "_view_name": "HBoxView",
      "box_style": "",
      "children": [
       "IPY_MODEL_067fa700a3da462aa33e3d6f6ef87d5a",
       "IPY_MODEL_ec486c1b6593424582ae6250c756cdd8"
      ],
      "layout": "IPY_MODEL_302cefa2b9ae4117a53612b81d7081b7"
     }
    },
    "43bbdb3ea7aa4e71985602dba504e3fa": {
     "model_module": "@jupyter-widgets/controls",
     "model_module_version": "1.5.0",
     "model_name": "HBoxModel",
     "state": {
      "_dom_classes": [],
      "_model_module": "@jupyter-widgets/controls",
      "_model_module_version": "1.5.0",
      "_model_name": "HBoxModel",
      "_view_count": null,
      "_view_module": "@jupyter-widgets/controls",
      "_view_module_version": "1.5.0",
      "_view_name": "HBoxView",
      "box_style": "",
      "children": [
       "IPY_MODEL_d5147a6c703c404faaa432ad351265ec",
       "IPY_MODEL_ce5833ee02334b458c8ca02986c713eb"
      ],
      "layout": "IPY_MODEL_7c859b3b369d4db197f87c839e6ffe4d"
     }
    },
    "448ad7686fea4e0091b5768a62003ad7": {
     "model_module": "@jupyter-widgets/base",
     "model_module_version": "1.2.0",
     "model_name": "LayoutModel",
     "state": {
      "_model_module": "@jupyter-widgets/base",
      "_model_module_version": "1.2.0",
      "_model_name": "LayoutModel",
      "_view_count": null,
      "_view_module": "@jupyter-widgets/base",
      "_view_module_version": "1.2.0",
      "_view_name": "LayoutView",
      "align_content": null,
      "align_items": null,
      "align_self": null,
      "border": null,
      "bottom": null,
      "display": null,
      "flex": null,
      "flex_flow": null,
      "grid_area": null,
      "grid_auto_columns": null,
      "grid_auto_flow": null,
      "grid_auto_rows": null,
      "grid_column": null,
      "grid_gap": null,
      "grid_row": null,
      "grid_template_areas": null,
      "grid_template_columns": null,
      "grid_template_rows": null,
      "height": null,
      "justify_content": null,
      "justify_items": null,
      "left": null,
      "margin": null,
      "max_height": null,
      "max_width": null,
      "min_height": null,
      "min_width": null,
      "object_fit": null,
      "object_position": null,
      "order": null,
      "overflow": null,
      "overflow_x": null,
      "overflow_y": null,
      "padding": null,
      "right": null,
      "top": null,
      "visibility": null,
      "width": null
     }
    },
    "4ef312da966f42b1a669412f6d075d27": {
     "model_module": "@jupyter-widgets/controls",
     "model_module_version": "1.5.0",
     "model_name": "HTMLModel",
     "state": {
      "_dom_classes": [],
      "_model_module": "@jupyter-widgets/controls",
      "_model_module_version": "1.5.0",
      "_model_name": "HTMLModel",
      "_view_count": null,
      "_view_module": "@jupyter-widgets/controls",
      "_view_module_version": "1.5.0",
      "_view_name": "HTMLView",
      "description": "",
      "description_tooltip": null,
      "layout": "IPY_MODEL_ed0b498b1a204631a74d4fb04c4c4732",
      "placeholder": "​",
      "style": "IPY_MODEL_7ecf79e1000a4340a6d59e6bdc1a09dc",
      "value": " 423M/423M [00:10&lt;00:00, 41.6MB/s]"
     }
    },
    "55734666b0484f12af0910d4b20ea1ee": {
     "model_module": "@jupyter-widgets/controls",
     "model_module_version": "1.5.0",
     "model_name": "HTMLModel",
     "state": {
      "_dom_classes": [],
      "_model_module": "@jupyter-widgets/controls",
      "_model_module_version": "1.5.0",
      "_model_name": "HTMLModel",
      "_view_count": null,
      "_view_module": "@jupyter-widgets/controls",
      "_view_module_version": "1.5.0",
      "_view_name": "HTMLView",
      "description": "",
      "description_tooltip": null,
      "layout": "IPY_MODEL_fa9cf221a3ea4304b9daa14ee5995e02",
      "placeholder": "​",
      "style": "IPY_MODEL_c1ccd441224f4f06bbcc38eea6ca3949",
      "value": " 421M/421M [00:08&lt;00:00, 50.3MB/s]"
     }
    },
    "591820d55a7446579bce904759f50a57": {
     "model_module": "@jupyter-widgets/controls",
     "model_module_version": "1.5.0",
     "model_name": "HTMLModel",
     "state": {
      "_dom_classes": [],
      "_model_module": "@jupyter-widgets/controls",
      "_model_module_version": "1.5.0",
      "_model_name": "HTMLModel",
      "_view_count": null,
      "_view_module": "@jupyter-widgets/controls",
      "_view_module_version": "1.5.0",
      "_view_name": "HTMLView",
      "description": "",
      "description_tooltip": null,
      "layout": "IPY_MODEL_dfdaf30e3a5741609b991a7e1dd0d7e5",
      "placeholder": "​",
      "style": "IPY_MODEL_ce5655f7807744cfa37b5d3c1e4c87bc",
      "value": " 421M/421M [00:11&lt;00:00, 36.4MB/s]"
     }
    },
    "5edc117f68b74f1fa961935a5d0e700b": {
     "model_module": "@jupyter-widgets/base",
     "model_module_version": "1.2.0",
     "model_name": "LayoutModel",
     "state": {
      "_model_module": "@jupyter-widgets/base",
      "_model_module_version": "1.2.0",
      "_model_name": "LayoutModel",
      "_view_count": null,
      "_view_module": "@jupyter-widgets/base",
      "_view_module_version": "1.2.0",
      "_view_name": "LayoutView",
      "align_content": null,
      "align_items": null,
      "align_self": null,
      "border": null,
      "bottom": null,
      "display": null,
      "flex": null,
      "flex_flow": null,
      "grid_area": null,
      "grid_auto_columns": null,
      "grid_auto_flow": null,
      "grid_auto_rows": null,
      "grid_column": null,
      "grid_gap": null,
      "grid_row": null,
      "grid_template_areas": null,
      "grid_template_columns": null,
      "grid_template_rows": null,
      "height": null,
      "justify_content": null,
      "justify_items": null,
      "left": null,
      "margin": null,
      "max_height": null,
      "max_width": null,
      "min_height": null,
      "min_width": null,
      "object_fit": null,
      "object_position": null,
      "order": null,
      "overflow": null,
      "overflow_x": null,
      "overflow_y": null,
      "padding": null,
      "right": null,
      "top": null,
      "visibility": null,
      "width": null
     }
    },
    "5f81421e4dcc44b5b15dfb54d47d7cbe": {
     "model_module": "@jupyter-widgets/base",
     "model_module_version": "1.2.0",
     "model_name": "LayoutModel",
     "state": {
      "_model_module": "@jupyter-widgets/base",
      "_model_module_version": "1.2.0",
      "_model_name": "LayoutModel",
      "_view_count": null,
      "_view_module": "@jupyter-widgets/base",
      "_view_module_version": "1.2.0",
      "_view_name": "LayoutView",
      "align_content": null,
      "align_items": null,
      "align_self": null,
      "border": null,
      "bottom": null,
      "display": null,
      "flex": null,
      "flex_flow": null,
      "grid_area": null,
      "grid_auto_columns": null,
      "grid_auto_flow": null,
      "grid_auto_rows": null,
      "grid_column": null,
      "grid_gap": null,
      "grid_row": null,
      "grid_template_areas": null,
      "grid_template_columns": null,
      "grid_template_rows": null,
      "height": null,
      "justify_content": null,
      "justify_items": null,
      "left": null,
      "margin": null,
      "max_height": null,
      "max_width": null,
      "min_height": null,
      "min_width": null,
      "object_fit": null,
      "object_position": null,
      "order": null,
      "overflow": null,
      "overflow_x": null,
      "overflow_y": null,
      "padding": null,
      "right": null,
      "top": null,
      "visibility": null,
      "width": null
     }
    },
    "60ec7b7445334fc19c8f6876b980d9a8": {
     "model_module": "@jupyter-widgets/controls",
     "model_module_version": "1.5.0",
     "model_name": "DescriptionStyleModel",
     "state": {
      "_model_module": "@jupyter-widgets/controls",
      "_model_module_version": "1.5.0",
      "_model_name": "DescriptionStyleModel",
      "_view_count": null,
      "_view_module": "@jupyter-widgets/base",
      "_view_module_version": "1.2.0",
      "_view_name": "StyleView",
      "description_width": ""
     }
    },
    "64fb505a454f4b71ac449c2f5d054172": {
     "model_module": "@jupyter-widgets/base",
     "model_module_version": "1.2.0",
     "model_name": "LayoutModel",
     "state": {
      "_model_module": "@jupyter-widgets/base",
      "_model_module_version": "1.2.0",
      "_model_name": "LayoutModel",
      "_view_count": null,
      "_view_module": "@jupyter-widgets/base",
      "_view_module_version": "1.2.0",
      "_view_name": "LayoutView",
      "align_content": null,
      "align_items": null,
      "align_self": null,
      "border": null,
      "bottom": null,
      "display": null,
      "flex": null,
      "flex_flow": null,
      "grid_area": null,
      "grid_auto_columns": null,
      "grid_auto_flow": null,
      "grid_auto_rows": null,
      "grid_column": null,
      "grid_gap": null,
      "grid_row": null,
      "grid_template_areas": null,
      "grid_template_columns": null,
      "grid_template_rows": null,
      "height": null,
      "justify_content": null,
      "justify_items": null,
      "left": null,
      "margin": null,
      "max_height": null,
      "max_width": null,
      "min_height": null,
      "min_width": null,
      "object_fit": null,
      "object_position": null,
      "order": null,
      "overflow": null,
      "overflow_x": null,
      "overflow_y": null,
      "padding": null,
      "right": null,
      "top": null,
      "visibility": null,
      "width": null
     }
    },
    "65d18fb6b51c4570bfaf4437a4a7a61a": {
     "model_module": "@jupyter-widgets/controls",
     "model_module_version": "1.5.0",
     "model_name": "FloatProgressModel",
     "state": {
      "_dom_classes": [],
      "_model_module": "@jupyter-widgets/controls",
      "_model_module_version": "1.5.0",
      "_model_name": "FloatProgressModel",
      "_view_count": null,
      "_view_module": "@jupyter-widgets/controls",
      "_view_module_version": "1.5.0",
      "_view_name": "ProgressView",
      "bar_style": "success",
      "description": "Downloading: 100%",
      "description_tooltip": null,
      "layout": "IPY_MODEL_361696f66c3141f5953852be176eb3db",
      "max": 904693,
      "min": 0,
      "orientation": "horizontal",
      "style": "IPY_MODEL_7b21982fef5e4472b616584aa68aade1",
      "value": 904693
     }
    },
    "6e0ea13e95a94342b044cbcb5e16c328": {
     "model_module": "@jupyter-widgets/controls",
     "model_module_version": "1.5.0",
     "model_name": "ProgressStyleModel",
     "state": {
      "_model_module": "@jupyter-widgets/controls",
      "_model_module_version": "1.5.0",
      "_model_name": "ProgressStyleModel",
      "_view_count": null,
      "_view_module": "@jupyter-widgets/base",
      "_view_module_version": "1.2.0",
      "_view_name": "StyleView",
      "bar_color": null,
      "description_width": "initial"
     }
    },
    "6e9c256597614f9cb4243e2d58d7686b": {
     "model_module": "@jupyter-widgets/base",
     "model_module_version": "1.2.0",
     "model_name": "LayoutModel",
     "state": {
      "_model_module": "@jupyter-widgets/base",
      "_model_module_version": "1.2.0",
      "_model_name": "LayoutModel",
      "_view_count": null,
      "_view_module": "@jupyter-widgets/base",
      "_view_module_version": "1.2.0",
      "_view_name": "LayoutView",
      "align_content": null,
      "align_items": null,
      "align_self": null,
      "border": null,
      "bottom": null,
      "display": null,
      "flex": null,
      "flex_flow": null,
      "grid_area": null,
      "grid_auto_columns": null,
      "grid_auto_flow": null,
      "grid_auto_rows": null,
      "grid_column": null,
      "grid_gap": null,
      "grid_row": null,
      "grid_template_areas": null,
      "grid_template_columns": null,
      "grid_template_rows": null,
      "height": null,
      "justify_content": null,
      "justify_items": null,
      "left": null,
      "margin": null,
      "max_height": null,
      "max_width": null,
      "min_height": null,
      "min_width": null,
      "object_fit": null,
      "object_position": null,
      "order": null,
      "overflow": null,
      "overflow_x": null,
      "overflow_y": null,
      "padding": null,
      "right": null,
      "top": null,
      "visibility": null,
      "width": null
     }
    },
    "759c32a5ea584e0f9033cb84ae802078": {
     "model_module": "@jupyter-widgets/controls",
     "model_module_version": "1.5.0",
     "model_name": "DescriptionStyleModel",
     "state": {
      "_model_module": "@jupyter-widgets/controls",
      "_model_module_version": "1.5.0",
      "_model_name": "DescriptionStyleModel",
      "_view_count": null,
      "_view_module": "@jupyter-widgets/base",
      "_view_module_version": "1.2.0",
      "_view_name": "StyleView",
      "description_width": ""
     }
    },
    "7a300943beb341b9a53eb89fc44891f9": {
     "model_module": "@jupyter-widgets/controls",
     "model_module_version": "1.5.0",
     "model_name": "HBoxModel",
     "state": {
      "_dom_classes": [],
      "_model_module": "@jupyter-widgets/controls",
      "_model_module_version": "1.5.0",
      "_model_name": "HBoxModel",
      "_view_count": null,
      "_view_module": "@jupyter-widgets/controls",
      "_view_module_version": "1.5.0",
      "_view_name": "HBoxView",
      "box_style": "",
      "children": [
       "IPY_MODEL_8e3ba1b50c104d4abc9b765b8fb15921",
       "IPY_MODEL_4ef312da966f42b1a669412f6d075d27"
      ],
      "layout": "IPY_MODEL_0cc47b3983fb49b09b81f61b651b76dd"
     }
    },
    "7b21982fef5e4472b616584aa68aade1": {
     "model_module": "@jupyter-widgets/controls",
     "model_module_version": "1.5.0",
     "model_name": "ProgressStyleModel",
     "state": {
      "_model_module": "@jupyter-widgets/controls",
      "_model_module_version": "1.5.0",
      "_model_name": "ProgressStyleModel",
      "_view_count": null,
      "_view_module": "@jupyter-widgets/base",
      "_view_module_version": "1.2.0",
      "_view_name": "StyleView",
      "bar_color": null,
      "description_width": "initial"
     }
    },
    "7bf903dea1da415384cd3857658f27ac": {
     "model_module": "@jupyter-widgets/controls",
     "model_module_version": "1.5.0",
     "model_name": "HBoxModel",
     "state": {
      "_dom_classes": [],
      "_model_module": "@jupyter-widgets/controls",
      "_model_module_version": "1.5.0",
      "_model_name": "HBoxModel",
      "_view_count": null,
      "_view_module": "@jupyter-widgets/controls",
      "_view_module_version": "1.5.0",
      "_view_name": "HBoxView",
      "box_style": "",
      "children": [
       "IPY_MODEL_cd948f7685684e6595e0cdf3d21ee054",
       "IPY_MODEL_24aceaaa13b34e969c0516b9d019c756"
      ],
      "layout": "IPY_MODEL_5edc117f68b74f1fa961935a5d0e700b"
     }
    },
    "7bfac019dbdf4bd7948db7be9a34a3ce": {
     "model_module": "@jupyter-widgets/controls",
     "model_module_version": "1.5.0",
     "model_name": "DescriptionStyleModel",
     "state": {
      "_model_module": "@jupyter-widgets/controls",
      "_model_module_version": "1.5.0",
      "_model_name": "DescriptionStyleModel",
      "_view_count": null,
      "_view_module": "@jupyter-widgets/base",
      "_view_module_version": "1.2.0",
      "_view_name": "StyleView",
      "description_width": ""
     }
    },
    "7c859b3b369d4db197f87c839e6ffe4d": {
     "model_module": "@jupyter-widgets/base",
     "model_module_version": "1.2.0",
     "model_name": "LayoutModel",
     "state": {
      "_model_module": "@jupyter-widgets/base",
      "_model_module_version": "1.2.0",
      "_model_name": "LayoutModel",
      "_view_count": null,
      "_view_module": "@jupyter-widgets/base",
      "_view_module_version": "1.2.0",
      "_view_name": "LayoutView",
      "align_content": null,
      "align_items": null,
      "align_self": null,
      "border": null,
      "bottom": null,
      "display": null,
      "flex": null,
      "flex_flow": null,
      "grid_area": null,
      "grid_auto_columns": null,
      "grid_auto_flow": null,
      "grid_auto_rows": null,
      "grid_column": null,
      "grid_gap": null,
      "grid_row": null,
      "grid_template_areas": null,
      "grid_template_columns": null,
      "grid_template_rows": null,
      "height": null,
      "justify_content": null,
      "justify_items": null,
      "left": null,
      "margin": null,
      "max_height": null,
      "max_width": null,
      "min_height": null,
      "min_width": null,
      "object_fit": null,
      "object_position": null,
      "order": null,
      "overflow": null,
      "overflow_x": null,
      "overflow_y": null,
      "padding": null,
      "right": null,
      "top": null,
      "visibility": null,
      "width": null
     }
    },
    "7ce4bd3e364442769daf36aa57373787": {
     "model_module": "@jupyter-widgets/controls",
     "model_module_version": "1.5.0",
     "model_name": "HTMLModel",
     "state": {
      "_dom_classes": [],
      "_model_module": "@jupyter-widgets/controls",
      "_model_module_version": "1.5.0",
      "_model_name": "HTMLModel",
      "_view_count": null,
      "_view_module": "@jupyter-widgets/controls",
      "_view_module_version": "1.5.0",
      "_view_name": "HTMLView",
      "description": "",
      "description_tooltip": null,
      "layout": "IPY_MODEL_5f81421e4dcc44b5b15dfb54d47d7cbe",
      "placeholder": "​",
      "style": "IPY_MODEL_90231f3db2b045e0acc81b579992aa29",
      "value": " 423M/423M [00:07&lt;00:00, 53.4MB/s]"
     }
    },
    "7ecf79e1000a4340a6d59e6bdc1a09dc": {
     "model_module": "@jupyter-widgets/controls",
     "model_module_version": "1.5.0",
     "model_name": "DescriptionStyleModel",
     "state": {
      "_model_module": "@jupyter-widgets/controls",
      "_model_module_version": "1.5.0",
      "_model_name": "DescriptionStyleModel",
      "_view_count": null,
      "_view_module": "@jupyter-widgets/base",
      "_view_module_version": "1.2.0",
      "_view_name": "StyleView",
      "description_width": ""
     }
    },
    "80e1b23c565c4a088d9b00d051ea40b6": {
     "model_module": "@jupyter-widgets/controls",
     "model_module_version": "1.5.0",
     "model_name": "HTMLModel",
     "state": {
      "_dom_classes": [],
      "_model_module": "@jupyter-widgets/controls",
      "_model_module_version": "1.5.0",
      "_model_name": "HTMLModel",
      "_view_count": null,
      "_view_module": "@jupyter-widgets/controls",
      "_view_module_version": "1.5.0",
      "_view_name": "HTMLView",
      "description": "",
      "description_tooltip": null,
      "layout": "IPY_MODEL_dc6d0c48f89040989f01ca18cc2c3364",
      "placeholder": "​",
      "style": "IPY_MODEL_60ec7b7445334fc19c8f6876b980d9a8",
      "value": " 546/546 [00:00&lt;00:00, 11.8kB/s]"
     }
    },
    "82bc9f2c4ae347cdbb985ed11c90c09a": {
     "model_module": "@jupyter-widgets/base",
     "model_module_version": "1.2.0",
     "model_name": "LayoutModel",
     "state": {
      "_model_module": "@jupyter-widgets/base",
      "_model_module_version": "1.2.0",
      "_model_name": "LayoutModel",
      "_view_count": null,
      "_view_module": "@jupyter-widgets/base",
      "_view_module_version": "1.2.0",
      "_view_name": "LayoutView",
      "align_content": null,
      "align_items": null,
      "align_self": null,
      "border": null,
      "bottom": null,
      "display": null,
      "flex": null,
      "flex_flow": null,
      "grid_area": null,
      "grid_auto_columns": null,
      "grid_auto_flow": null,
      "grid_auto_rows": null,
      "grid_column": null,
      "grid_gap": null,
      "grid_row": null,
      "grid_template_areas": null,
      "grid_template_columns": null,
      "grid_template_rows": null,
      "height": null,
      "justify_content": null,
      "justify_items": null,
      "left": null,
      "margin": null,
      "max_height": null,
      "max_width": null,
      "min_height": null,
      "min_width": null,
      "object_fit": null,
      "object_position": null,
      "order": null,
      "overflow": null,
      "overflow_x": null,
      "overflow_y": null,
      "padding": null,
      "right": null,
      "top": null,
      "visibility": null,
      "width": null
     }
    },
    "846f5e0ead1f486cb87e4bd541f5079e": {
     "model_module": "@jupyter-widgets/base",
     "model_module_version": "1.2.0",
     "model_name": "LayoutModel",
     "state": {
      "_model_module": "@jupyter-widgets/base",
      "_model_module_version": "1.2.0",
      "_model_name": "LayoutModel",
      "_view_count": null,
      "_view_module": "@jupyter-widgets/base",
      "_view_module_version": "1.2.0",
      "_view_name": "LayoutView",
      "align_content": null,
      "align_items": null,
      "align_self": null,
      "border": null,
      "bottom": null,
      "display": null,
      "flex": null,
      "flex_flow": null,
      "grid_area": null,
      "grid_auto_columns": null,
      "grid_auto_flow": null,
      "grid_auto_rows": null,
      "grid_column": null,
      "grid_gap": null,
      "grid_row": null,
      "grid_template_areas": null,
      "grid_template_columns": null,
      "grid_template_rows": null,
      "height": null,
      "justify_content": null,
      "justify_items": null,
      "left": null,
      "margin": null,
      "max_height": null,
      "max_width": null,
      "min_height": null,
      "min_width": null,
      "object_fit": null,
      "object_position": null,
      "order": null,
      "overflow": null,
      "overflow_x": null,
      "overflow_y": null,
      "padding": null,
      "right": null,
      "top": null,
      "visibility": null,
      "width": null
     }
    },
    "869600d06c6145768c19534fd4557b22": {
     "model_module": "@jupyter-widgets/controls",
     "model_module_version": "1.5.0",
     "model_name": "ProgressStyleModel",
     "state": {
      "_model_module": "@jupyter-widgets/controls",
      "_model_module_version": "1.5.0",
      "_model_name": "ProgressStyleModel",
      "_view_count": null,
      "_view_module": "@jupyter-widgets/base",
      "_view_module_version": "1.2.0",
      "_view_name": "StyleView",
      "bar_color": null,
      "description_width": "initial"
     }
    },
    "86f46adfbcae4ba8af2737072690334a": {
     "model_module": "@jupyter-widgets/controls",
     "model_module_version": "1.5.0",
     "model_name": "FloatProgressModel",
     "state": {
      "_dom_classes": [],
      "_model_module": "@jupyter-widgets/controls",
      "_model_module_version": "1.5.0",
      "_model_name": "FloatProgressModel",
      "_view_count": null,
      "_view_module": "@jupyter-widgets/controls",
      "_view_module_version": "1.5.0",
      "_view_name": "ProgressView",
      "bar_style": "success",
      "description": "Downloading: 100%",
      "description_tooltip": null,
      "layout": "IPY_MODEL_10c51c1f85074472ab1f0d955aeb2f20",
      "max": 546,
      "min": 0,
      "orientation": "horizontal",
      "style": "IPY_MODEL_d2dac6277ff3464dbff6be3c6ebdf13f",
      "value": 546
     }
    },
    "8ac1ce4202824455b1a9d4cac99fc8ce": {
     "model_module": "@jupyter-widgets/controls",
     "model_module_version": "1.5.0",
     "model_name": "DescriptionStyleModel",
     "state": {
      "_model_module": "@jupyter-widgets/controls",
      "_model_module_version": "1.5.0",
      "_model_name": "DescriptionStyleModel",
      "_view_count": null,
      "_view_module": "@jupyter-widgets/base",
      "_view_module_version": "1.2.0",
      "_view_name": "StyleView",
      "description_width": ""
     }
    },
    "8e3ba1b50c104d4abc9b765b8fb15921": {
     "model_module": "@jupyter-widgets/controls",
     "model_module_version": "1.5.0",
     "model_name": "FloatProgressModel",
     "state": {
      "_dom_classes": [],
      "_model_module": "@jupyter-widgets/controls",
      "_model_module_version": "1.5.0",
      "_model_name": "FloatProgressModel",
      "_view_count": null,
      "_view_module": "@jupyter-widgets/controls",
      "_view_module_version": "1.5.0",
      "_view_name": "ProgressView",
      "bar_style": "success",
      "description": "Downloading: 100%",
      "description_tooltip": null,
      "layout": "IPY_MODEL_ed3fc0cdc1e04d339c48f4dac0923ed9",
      "max": 423498558,
      "min": 0,
      "orientation": "horizontal",
      "style": "IPY_MODEL_edafc45582df4a1b8d35cb3d13ddb7a7",
      "value": 423498558
     }
    },
    "8e72a3542f144bffb8e62b44239a2249": {
     "model_module": "@jupyter-widgets/base",
     "model_module_version": "1.2.0",
     "model_name": "LayoutModel",
     "state": {
      "_model_module": "@jupyter-widgets/base",
      "_model_module_version": "1.2.0",
      "_model_name": "LayoutModel",
      "_view_count": null,
      "_view_module": "@jupyter-widgets/base",
      "_view_module_version": "1.2.0",
      "_view_name": "LayoutView",
      "align_content": null,
      "align_items": null,
      "align_self": null,
      "border": null,
      "bottom": null,
      "display": null,
      "flex": null,
      "flex_flow": null,
      "grid_area": null,
      "grid_auto_columns": null,
      "grid_auto_flow": null,
      "grid_auto_rows": null,
      "grid_column": null,
      "grid_gap": null,
      "grid_row": null,
      "grid_template_areas": null,
      "grid_template_columns": null,
      "grid_template_rows": null,
      "height": null,
      "justify_content": null,
      "justify_items": null,
      "left": null,
      "margin": null,
      "max_height": null,
      "max_width": null,
      "min_height": null,
      "min_width": null,
      "object_fit": null,
      "object_position": null,
      "order": null,
      "overflow": null,
      "overflow_x": null,
      "overflow_y": null,
      "padding": null,
      "right": null,
      "top": null,
      "visibility": null,
      "width": null
     }
    },
    "8eee572f87304b38a64c3548a6dbe87a": {
     "model_module": "@jupyter-widgets/base",
     "model_module_version": "1.2.0",
     "model_name": "LayoutModel",
     "state": {
      "_model_module": "@jupyter-widgets/base",
      "_model_module_version": "1.2.0",
      "_model_name": "LayoutModel",
      "_view_count": null,
      "_view_module": "@jupyter-widgets/base",
      "_view_module_version": "1.2.0",
      "_view_name": "LayoutView",
      "align_content": null,
      "align_items": null,
      "align_self": null,
      "border": null,
      "bottom": null,
      "display": null,
      "flex": null,
      "flex_flow": null,
      "grid_area": null,
      "grid_auto_columns": null,
      "grid_auto_flow": null,
      "grid_auto_rows": null,
      "grid_column": null,
      "grid_gap": null,
      "grid_row": null,
      "grid_template_areas": null,
      "grid_template_columns": null,
      "grid_template_rows": null,
      "height": null,
      "justify_content": null,
      "justify_items": null,
      "left": null,
      "margin": null,
      "max_height": null,
      "max_width": null,
      "min_height": null,
      "min_width": null,
      "object_fit": null,
      "object_position": null,
      "order": null,
      "overflow": null,
      "overflow_x": null,
      "overflow_y": null,
      "padding": null,
      "right": null,
      "top": null,
      "visibility": null,
      "width": null
     }
    },
    "90231f3db2b045e0acc81b579992aa29": {
     "model_module": "@jupyter-widgets/controls",
     "model_module_version": "1.5.0",
     "model_name": "DescriptionStyleModel",
     "state": {
      "_model_module": "@jupyter-widgets/controls",
      "_model_module_version": "1.5.0",
      "_model_name": "DescriptionStyleModel",
      "_view_count": null,
      "_view_module": "@jupyter-widgets/base",
      "_view_module_version": "1.2.0",
      "_view_name": "StyleView",
      "description_width": ""
     }
    },
    "9341d22666904e36830bed0c26f3729c": {
     "model_module": "@jupyter-widgets/controls",
     "model_module_version": "1.5.0",
     "model_name": "HBoxModel",
     "state": {
      "_dom_classes": [],
      "_model_module": "@jupyter-widgets/controls",
      "_model_module_version": "1.5.0",
      "_model_name": "HBoxModel",
      "_view_count": null,
      "_view_module": "@jupyter-widgets/controls",
      "_view_module_version": "1.5.0",
      "_view_name": "HBoxView",
      "box_style": "",
      "children": [
       "IPY_MODEL_65d18fb6b51c4570bfaf4437a4a7a61a",
       "IPY_MODEL_26242eb0e6f744fba96a5ac00f12937c"
      ],
      "layout": "IPY_MODEL_01e9fddf32444b89a80ffa76e6c30ba6"
     }
    },
    "97827c45a13648cb8b1f5fbc483b7bcd": {
     "model_module": "@jupyter-widgets/controls",
     "model_module_version": "1.5.0",
     "model_name": "HBoxModel",
     "state": {
      "_dom_classes": [],
      "_model_module": "@jupyter-widgets/controls",
      "_model_module_version": "1.5.0",
      "_model_name": "HBoxModel",
      "_view_count": null,
      "_view_module": "@jupyter-widgets/controls",
      "_view_module_version": "1.5.0",
      "_view_name": "HBoxView",
      "box_style": "",
      "children": [
       "IPY_MODEL_dcca37fb760a478d932091cca3f060a8",
       "IPY_MODEL_55734666b0484f12af0910d4b20ea1ee"
      ],
      "layout": "IPY_MODEL_6e9c256597614f9cb4243e2d58d7686b"
     }
    },
    "9904ac58e33745af9288c24b5324a81f": {
     "model_module": "@jupyter-widgets/controls",
     "model_module_version": "1.5.0",
     "model_name": "FloatProgressModel",
     "state": {
      "_dom_classes": [],
      "_model_module": "@jupyter-widgets/controls",
      "_model_module_version": "1.5.0",
      "_model_name": "FloatProgressModel",
      "_view_count": null,
      "_view_module": "@jupyter-widgets/controls",
      "_view_module_version": "1.5.0",
      "_view_name": "ProgressView",
      "bar_style": "success",
      "description": "Downloading: 100%",
      "description_tooltip": null,
      "layout": "IPY_MODEL_a48f4124e36e43c9bb5f909b102afcc3",
      "max": 282,
      "min": 0,
      "orientation": "horizontal",
      "style": "IPY_MODEL_34cfb27573f14f0ab128d8c5792b94f6",
      "value": 282
     }
    },
    "9cc0050e8633454daaeade8b4d17efaa": {
     "model_module": "@jupyter-widgets/controls",
     "model_module_version": "1.5.0",
     "model_name": "HBoxModel",
     "state": {
      "_dom_classes": [],
      "_model_module": "@jupyter-widgets/controls",
      "_model_module_version": "1.5.0",
      "_model_name": "HBoxModel",
      "_view_count": null,
      "_view_module": "@jupyter-widgets/controls",
      "_view_module_version": "1.5.0",
      "_view_name": "HBoxView",
      "box_style": "",
      "children": [
       "IPY_MODEL_a8445b650c494c1e90af208e39453bb2",
       "IPY_MODEL_1785d5d0b21e40e882cf60029280799e"
      ],
      "layout": "IPY_MODEL_2218a3cc79ca463fbd4222fdd97607f9"
     }
    },
    "a116718dba114a2bbaafb9629f9b6775": {
     "model_module": "@jupyter-widgets/controls",
     "model_module_version": "1.5.0",
     "model_name": "HBoxModel",
     "state": {
      "_dom_classes": [],
      "_model_module": "@jupyter-widgets/controls",
      "_model_module_version": "1.5.0",
      "_model_name": "HBoxModel",
      "_view_count": null,
      "_view_module": "@jupyter-widgets/controls",
      "_view_module_version": "1.5.0",
      "_view_name": "HBoxView",
      "box_style": "",
      "children": [
       "IPY_MODEL_0c7e5166c8514f50be0fb14179810842",
       "IPY_MODEL_591820d55a7446579bce904759f50a57"
      ],
      "layout": "IPY_MODEL_a31c0fdd0c4b44a38ebfe0b2b61e437e"
     }
    },
    "a15a1bccf0414c7c835a9025b731df5c": {
     "model_module": "@jupyter-widgets/base",
     "model_module_version": "1.2.0",
     "model_name": "LayoutModel",
     "state": {
      "_model_module": "@jupyter-widgets/base",
      "_model_module_version": "1.2.0",
      "_model_name": "LayoutModel",
      "_view_count": null,
      "_view_module": "@jupyter-widgets/base",
      "_view_module_version": "1.2.0",
      "_view_name": "LayoutView",
      "align_content": null,
      "align_items": null,
      "align_self": null,
      "border": null,
      "bottom": null,
      "display": null,
      "flex": null,
      "flex_flow": null,
      "grid_area": null,
      "grid_auto_columns": null,
      "grid_auto_flow": null,
      "grid_auto_rows": null,
      "grid_column": null,
      "grid_gap": null,
      "grid_row": null,
      "grid_template_areas": null,
      "grid_template_columns": null,
      "grid_template_rows": null,
      "height": null,
      "justify_content": null,
      "justify_items": null,
      "left": null,
      "margin": null,
      "max_height": null,
      "max_width": null,
      "min_height": null,
      "min_width": null,
      "object_fit": null,
      "object_position": null,
      "order": null,
      "overflow": null,
      "overflow_x": null,
      "overflow_y": null,
      "padding": null,
      "right": null,
      "top": null,
      "visibility": null,
      "width": null
     }
    },
    "a31c0fdd0c4b44a38ebfe0b2b61e437e": {
     "model_module": "@jupyter-widgets/base",
     "model_module_version": "1.2.0",
     "model_name": "LayoutModel",
     "state": {
      "_model_module": "@jupyter-widgets/base",
      "_model_module_version": "1.2.0",
      "_model_name": "LayoutModel",
      "_view_count": null,
      "_view_module": "@jupyter-widgets/base",
      "_view_module_version": "1.2.0",
      "_view_name": "LayoutView",
      "align_content": null,
      "align_items": null,
      "align_self": null,
      "border": null,
      "bottom": null,
      "display": null,
      "flex": null,
      "flex_flow": null,
      "grid_area": null,
      "grid_auto_columns": null,
      "grid_auto_flow": null,
      "grid_auto_rows": null,
      "grid_column": null,
      "grid_gap": null,
      "grid_row": null,
      "grid_template_areas": null,
      "grid_template_columns": null,
      "grid_template_rows": null,
      "height": null,
      "justify_content": null,
      "justify_items": null,
      "left": null,
      "margin": null,
      "max_height": null,
      "max_width": null,
      "min_height": null,
      "min_width": null,
      "object_fit": null,
      "object_position": null,
      "order": null,
      "overflow": null,
      "overflow_x": null,
      "overflow_y": null,
      "padding": null,
      "right": null,
      "top": null,
      "visibility": null,
      "width": null
     }
    },
    "a48f4124e36e43c9bb5f909b102afcc3": {
     "model_module": "@jupyter-widgets/base",
     "model_module_version": "1.2.0",
     "model_name": "LayoutModel",
     "state": {
      "_model_module": "@jupyter-widgets/base",
      "_model_module_version": "1.2.0",
      "_model_name": "LayoutModel",
      "_view_count": null,
      "_view_module": "@jupyter-widgets/base",
      "_view_module_version": "1.2.0",
      "_view_name": "LayoutView",
      "align_content": null,
      "align_items": null,
      "align_self": null,
      "border": null,
      "bottom": null,
      "display": null,
      "flex": null,
      "flex_flow": null,
      "grid_area": null,
      "grid_auto_columns": null,
      "grid_auto_flow": null,
      "grid_auto_rows": null,
      "grid_column": null,
      "grid_gap": null,
      "grid_row": null,
      "grid_template_areas": null,
      "grid_template_columns": null,
      "grid_template_rows": null,
      "height": null,
      "justify_content": null,
      "justify_items": null,
      "left": null,
      "margin": null,
      "max_height": null,
      "max_width": null,
      "min_height": null,
      "min_width": null,
      "object_fit": null,
      "object_position": null,
      "order": null,
      "overflow": null,
      "overflow_x": null,
      "overflow_y": null,
      "padding": null,
      "right": null,
      "top": null,
      "visibility": null,
      "width": null
     }
    },
    "a8445b650c494c1e90af208e39453bb2": {
     "model_module": "@jupyter-widgets/controls",
     "model_module_version": "1.5.0",
     "model_name": "FloatProgressModel",
     "state": {
      "_dom_classes": [],
      "_model_module": "@jupyter-widgets/controls",
      "_model_module_version": "1.5.0",
      "_model_name": "FloatProgressModel",
      "_view_count": null,
      "_view_module": "@jupyter-widgets/controls",
      "_view_module_version": "1.5.0",
      "_view_name": "ProgressView",
      "bar_style": "success",
      "description": "Downloading: 100%",
      "description_tooltip": null,
      "layout": "IPY_MODEL_82bc9f2c4ae347cdbb985ed11c90c09a",
      "max": 730,
      "min": 0,
      "orientation": "horizontal",
      "style": "IPY_MODEL_e0561c8085f54eadb7d168f7c3950598",
      "value": 730
     }
    },
    "b01dfb2a2e3f4a57a19027e6ddd7d5e2": {
     "model_module": "@jupyter-widgets/controls",
     "model_module_version": "1.5.0",
     "model_name": "FloatProgressModel",
     "state": {
      "_dom_classes": [],
      "_model_module": "@jupyter-widgets/controls",
      "_model_module_version": "1.5.0",
      "_model_name": "FloatProgressModel",
      "_view_count": null,
      "_view_module": "@jupyter-widgets/controls",
      "_view_module_version": "1.5.0",
      "_view_name": "ProgressView",
      "bar_style": "success",
      "description": "Downloading: 100%",
      "description_tooltip": null,
      "layout": "IPY_MODEL_a15a1bccf0414c7c835a9025b731df5c",
      "max": 423498558,
      "min": 0,
      "orientation": "horizontal",
      "style": "IPY_MODEL_f2da8f2259da4271a8ad9b7e3a71b3ee",
      "value": 423498558
     }
    },
    "b16600859f8d4d59b1233eea33b09c5c": {
     "model_module": "@jupyter-widgets/controls",
     "model_module_version": "1.5.0",
     "model_name": "HTMLModel",
     "state": {
      "_dom_classes": [],
      "_model_module": "@jupyter-widgets/controls",
      "_model_module_version": "1.5.0",
      "_model_name": "HTMLModel",
      "_view_count": null,
      "_view_module": "@jupyter-widgets/controls",
      "_view_module_version": "1.5.0",
      "_view_name": "HTMLView",
      "description": "",
      "description_tooltip": null,
      "layout": "IPY_MODEL_f6a4a000916d43e097c91752cb90d915",
      "placeholder": "​",
      "style": "IPY_MODEL_8ac1ce4202824455b1a9d4cac99fc8ce",
      "value": " 282/282 [00:00&lt;00:00, 6.42kB/s]"
     }
    },
    "c1ccd441224f4f06bbcc38eea6ca3949": {
     "model_module": "@jupyter-widgets/controls",
     "model_module_version": "1.5.0",
     "model_name": "DescriptionStyleModel",
     "state": {
      "_model_module": "@jupyter-widgets/controls",
      "_model_module_version": "1.5.0",
      "_model_name": "DescriptionStyleModel",
      "_view_count": null,
      "_view_module": "@jupyter-widgets/base",
      "_view_module_version": "1.2.0",
      "_view_name": "StyleView",
      "description_width": ""
     }
    },
    "c3109e391fe34d7eae1447a46a757a8a": {
     "model_module": "@jupyter-widgets/base",
     "model_module_version": "1.2.0",
     "model_name": "LayoutModel",
     "state": {
      "_model_module": "@jupyter-widgets/base",
      "_model_module_version": "1.2.0",
      "_model_name": "LayoutModel",
      "_view_count": null,
      "_view_module": "@jupyter-widgets/base",
      "_view_module_version": "1.2.0",
      "_view_name": "LayoutView",
      "align_content": null,
      "align_items": null,
      "align_self": null,
      "border": null,
      "bottom": null,
      "display": null,
      "flex": null,
      "flex_flow": null,
      "grid_area": null,
      "grid_auto_columns": null,
      "grid_auto_flow": null,
      "grid_auto_rows": null,
      "grid_column": null,
      "grid_gap": null,
      "grid_row": null,
      "grid_template_areas": null,
      "grid_template_columns": null,
      "grid_template_rows": null,
      "height": null,
      "justify_content": null,
      "justify_items": null,
      "left": null,
      "margin": null,
      "max_height": null,
      "max_width": null,
      "min_height": null,
      "min_width": null,
      "object_fit": null,
      "object_position": null,
      "order": null,
      "overflow": null,
      "overflow_x": null,
      "overflow_y": null,
      "padding": null,
      "right": null,
      "top": null,
      "visibility": null,
      "width": null
     }
    },
    "c645314eb8fe439787ea033f4f763193": {
     "model_module": "@jupyter-widgets/controls",
     "model_module_version": "1.5.0",
     "model_name": "ProgressStyleModel",
     "state": {
      "_model_module": "@jupyter-widgets/controls",
      "_model_module_version": "1.5.0",
      "_model_name": "ProgressStyleModel",
      "_view_count": null,
      "_view_module": "@jupyter-widgets/base",
      "_view_module_version": "1.2.0",
      "_view_name": "StyleView",
      "bar_color": null,
      "description_width": "initial"
     }
    },
    "c69ae5f47870438ba9f40cd77bd4c295": {
     "model_module": "@jupyter-widgets/controls",
     "model_module_version": "1.5.0",
     "model_name": "HBoxModel",
     "state": {
      "_dom_classes": [],
      "_model_module": "@jupyter-widgets/controls",
      "_model_module_version": "1.5.0",
      "_model_name": "HBoxModel",
      "_view_count": null,
      "_view_module": "@jupyter-widgets/controls",
      "_view_module_version": "1.5.0",
      "_view_name": "HBoxView",
      "box_style": "",
      "children": [
       "IPY_MODEL_b01dfb2a2e3f4a57a19027e6ddd7d5e2",
       "IPY_MODEL_7ce4bd3e364442769daf36aa57373787"
      ],
      "layout": "IPY_MODEL_d07da8898e954f53838380ed1ca00140"
     }
    },
    "ca61be13e61a46f19420d1dc8d147441": {
     "model_module": "@jupyter-widgets/controls",
     "model_module_version": "1.5.0",
     "model_name": "ProgressStyleModel",
     "state": {
      "_model_module": "@jupyter-widgets/controls",
      "_model_module_version": "1.5.0",
      "_model_name": "ProgressStyleModel",
      "_view_count": null,
      "_view_module": "@jupyter-widgets/base",
      "_view_module_version": "1.2.0",
      "_view_name": "StyleView",
      "bar_color": null,
      "description_width": "initial"
     }
    },
    "cb0c5b946d7a4be299830b253cabbce3": {
     "model_module": "@jupyter-widgets/base",
     "model_module_version": "1.2.0",
     "model_name": "LayoutModel",
     "state": {
      "_model_module": "@jupyter-widgets/base",
      "_model_module_version": "1.2.0",
      "_model_name": "LayoutModel",
      "_view_count": null,
      "_view_module": "@jupyter-widgets/base",
      "_view_module_version": "1.2.0",
      "_view_name": "LayoutView",
      "align_content": null,
      "align_items": null,
      "align_self": null,
      "border": null,
      "bottom": null,
      "display": null,
      "flex": null,
      "flex_flow": null,
      "grid_area": null,
      "grid_auto_columns": null,
      "grid_auto_flow": null,
      "grid_auto_rows": null,
      "grid_column": null,
      "grid_gap": null,
      "grid_row": null,
      "grid_template_areas": null,
      "grid_template_columns": null,
      "grid_template_rows": null,
      "height": null,
      "justify_content": null,
      "justify_items": null,
      "left": null,
      "margin": null,
      "max_height": null,
      "max_width": null,
      "min_height": null,
      "min_width": null,
      "object_fit": null,
      "object_position": null,
      "order": null,
      "overflow": null,
      "overflow_x": null,
      "overflow_y": null,
      "padding": null,
      "right": null,
      "top": null,
      "visibility": null,
      "width": null
     }
    },
    "cd948f7685684e6595e0cdf3d21ee054": {
     "model_module": "@jupyter-widgets/controls",
     "model_module_version": "1.5.0",
     "model_name": "FloatProgressModel",
     "state": {
      "_dom_classes": [],
      "_model_module": "@jupyter-widgets/controls",
      "_model_module_version": "1.5.0",
      "_model_name": "FloatProgressModel",
      "_view_count": null,
      "_view_module": "@jupyter-widgets/controls",
      "_view_module_version": "1.5.0",
      "_view_name": "ProgressView",
      "bar_style": "success",
      "description": "Downloading: 100%",
      "description_tooltip": null,
      "layout": "IPY_MODEL_c3109e391fe34d7eae1447a46a757a8a",
      "max": 716,
      "min": 0,
      "orientation": "horizontal",
      "style": "IPY_MODEL_6e0ea13e95a94342b044cbcb5e16c328",
      "value": 716
     }
    },
    "ce5655f7807744cfa37b5d3c1e4c87bc": {
     "model_module": "@jupyter-widgets/controls",
     "model_module_version": "1.5.0",
     "model_name": "DescriptionStyleModel",
     "state": {
      "_model_module": "@jupyter-widgets/controls",
      "_model_module_version": "1.5.0",
      "_model_name": "DescriptionStyleModel",
      "_view_count": null,
      "_view_module": "@jupyter-widgets/base",
      "_view_module_version": "1.2.0",
      "_view_name": "StyleView",
      "description_width": ""
     }
    },
    "ce5833ee02334b458c8ca02986c713eb": {
     "model_module": "@jupyter-widgets/controls",
     "model_module_version": "1.5.0",
     "model_name": "HTMLModel",
     "state": {
      "_dom_classes": [],
      "_model_module": "@jupyter-widgets/controls",
      "_model_module_version": "1.5.0",
      "_model_name": "HTMLModel",
      "_view_count": null,
      "_view_module": "@jupyter-widgets/controls",
      "_view_module_version": "1.5.0",
      "_view_name": "HTMLView",
      "description": "",
      "description_tooltip": null,
      "layout": "IPY_MODEL_cb0c5b946d7a4be299830b253cabbce3",
      "placeholder": "​",
      "style": "IPY_MODEL_7bfac019dbdf4bd7948db7be9a34a3ce",
      "value": " 1.79k/1.79k [00:00&lt;00:00, 5.42kB/s]"
     }
    },
    "d07da8898e954f53838380ed1ca00140": {
     "model_module": "@jupyter-widgets/base",
     "model_module_version": "1.2.0",
     "model_name": "LayoutModel",
     "state": {
      "_model_module": "@jupyter-widgets/base",
      "_model_module_version": "1.2.0",
      "_model_name": "LayoutModel",
      "_view_count": null,
      "_view_module": "@jupyter-widgets/base",
      "_view_module_version": "1.2.0",
      "_view_name": "LayoutView",
      "align_content": null,
      "align_items": null,
      "align_self": null,
      "border": null,
      "bottom": null,
      "display": null,
      "flex": null,
      "flex_flow": null,
      "grid_area": null,
      "grid_auto_columns": null,
      "grid_auto_flow": null,
      "grid_auto_rows": null,
      "grid_column": null,
      "grid_gap": null,
      "grid_row": null,
      "grid_template_areas": null,
      "grid_template_columns": null,
      "grid_template_rows": null,
      "height": null,
      "justify_content": null,
      "justify_items": null,
      "left": null,
      "margin": null,
      "max_height": null,
      "max_width": null,
      "min_height": null,
      "min_width": null,
      "object_fit": null,
      "object_position": null,
      "order": null,
      "overflow": null,
      "overflow_x": null,
      "overflow_y": null,
      "padding": null,
      "right": null,
      "top": null,
      "visibility": null,
      "width": null
     }
    },
    "d2dac6277ff3464dbff6be3c6ebdf13f": {
     "model_module": "@jupyter-widgets/controls",
     "model_module_version": "1.5.0",
     "model_name": "ProgressStyleModel",
     "state": {
      "_model_module": "@jupyter-widgets/controls",
      "_model_module_version": "1.5.0",
      "_model_name": "ProgressStyleModel",
      "_view_count": null,
      "_view_module": "@jupyter-widgets/base",
      "_view_module_version": "1.2.0",
      "_view_name": "StyleView",
      "bar_color": null,
      "description_width": "initial"
     }
    },
    "d5147a6c703c404faaa432ad351265ec": {
     "model_module": "@jupyter-widgets/controls",
     "model_module_version": "1.5.0",
     "model_name": "FloatProgressModel",
     "state": {
      "_dom_classes": [],
      "_model_module": "@jupyter-widgets/controls",
      "_model_module_version": "1.5.0",
      "_model_name": "FloatProgressModel",
      "_view_count": null,
      "_view_module": "@jupyter-widgets/controls",
      "_view_module_version": "1.5.0",
      "_view_name": "ProgressView",
      "bar_style": "success",
      "description": "Downloading: 100%",
      "description_tooltip": null,
      "layout": "IPY_MODEL_64fb505a454f4b71ac449c2f5d054172",
      "max": 1789,
      "min": 0,
      "orientation": "horizontal",
      "style": "IPY_MODEL_0c17e566227c4f6d998fddb3e1eb3555",
      "value": 1789
     }
    },
    "dc6d0c48f89040989f01ca18cc2c3364": {
     "model_module": "@jupyter-widgets/base",
     "model_module_version": "1.2.0",
     "model_name": "LayoutModel",
     "state": {
      "_model_module": "@jupyter-widgets/base",
      "_model_module_version": "1.2.0",
      "_model_name": "LayoutModel",
      "_view_count": null,
      "_view_module": "@jupyter-widgets/base",
      "_view_module_version": "1.2.0",
      "_view_name": "LayoutView",
      "align_content": null,
      "align_items": null,
      "align_self": null,
      "border": null,
      "bottom": null,
      "display": null,
      "flex": null,
      "flex_flow": null,
      "grid_area": null,
      "grid_auto_columns": null,
      "grid_auto_flow": null,
      "grid_auto_rows": null,
      "grid_column": null,
      "grid_gap": null,
      "grid_row": null,
      "grid_template_areas": null,
      "grid_template_columns": null,
      "grid_template_rows": null,
      "height": null,
      "justify_content": null,
      "justify_items": null,
      "left": null,
      "margin": null,
      "max_height": null,
      "max_width": null,
      "min_height": null,
      "min_width": null,
      "object_fit": null,
      "object_position": null,
      "order": null,
      "overflow": null,
      "overflow_x": null,
      "overflow_y": null,
      "padding": null,
      "right": null,
      "top": null,
      "visibility": null,
      "width": null
     }
    },
    "dcca37fb760a478d932091cca3f060a8": {
     "model_module": "@jupyter-widgets/controls",
     "model_module_version": "1.5.0",
     "model_name": "FloatProgressModel",
     "state": {
      "_dom_classes": [],
      "_model_module": "@jupyter-widgets/controls",
      "_model_module_version": "1.5.0",
      "_model_name": "FloatProgressModel",
      "_view_count": null,
      "_view_module": "@jupyter-widgets/controls",
      "_view_module_version": "1.5.0",
      "_view_name": "ProgressView",
      "bar_style": "success",
      "description": "Downloading: 100%",
      "description_tooltip": null,
      "layout": "IPY_MODEL_8eee572f87304b38a64c3548a6dbe87a",
      "max": 421045754,
      "min": 0,
      "orientation": "horizontal",
      "style": "IPY_MODEL_c645314eb8fe439787ea033f4f763193",
      "value": 421045754
     }
    },
    "de23a80ba76b48d186aa243694347310": {
     "model_module": "@jupyter-widgets/base",
     "model_module_version": "1.2.0",
     "model_name": "LayoutModel",
     "state": {
      "_model_module": "@jupyter-widgets/base",
      "_model_module_version": "1.2.0",
      "_model_name": "LayoutModel",
      "_view_count": null,
      "_view_module": "@jupyter-widgets/base",
      "_view_module_version": "1.2.0",
      "_view_name": "LayoutView",
      "align_content": null,
      "align_items": null,
      "align_self": null,
      "border": null,
      "bottom": null,
      "display": null,
      "flex": null,
      "flex_flow": null,
      "grid_area": null,
      "grid_auto_columns": null,
      "grid_auto_flow": null,
      "grid_auto_rows": null,
      "grid_column": null,
      "grid_gap": null,
      "grid_row": null,
      "grid_template_areas": null,
      "grid_template_columns": null,
      "grid_template_rows": null,
      "height": null,
      "justify_content": null,
      "justify_items": null,
      "left": null,
      "margin": null,
      "max_height": null,
      "max_width": null,
      "min_height": null,
      "min_width": null,
      "object_fit": null,
      "object_position": null,
      "order": null,
      "overflow": null,
      "overflow_x": null,
      "overflow_y": null,
      "padding": null,
      "right": null,
      "top": null,
      "visibility": null,
      "width": null
     }
    },
    "ded8ccbf84d1445e9f028903e6558d40": {
     "model_module": "@jupyter-widgets/base",
     "model_module_version": "1.2.0",
     "model_name": "LayoutModel",
     "state": {
      "_model_module": "@jupyter-widgets/base",
      "_model_module_version": "1.2.0",
      "_model_name": "LayoutModel",
      "_view_count": null,
      "_view_module": "@jupyter-widgets/base",
      "_view_module_version": "1.2.0",
      "_view_name": "LayoutView",
      "align_content": null,
      "align_items": null,
      "align_self": null,
      "border": null,
      "bottom": null,
      "display": null,
      "flex": null,
      "flex_flow": null,
      "grid_area": null,
      "grid_auto_columns": null,
      "grid_auto_flow": null,
      "grid_auto_rows": null,
      "grid_column": null,
      "grid_gap": null,
      "grid_row": null,
      "grid_template_areas": null,
      "grid_template_columns": null,
      "grid_template_rows": null,
      "height": null,
      "justify_content": null,
      "justify_items": null,
      "left": null,
      "margin": null,
      "max_height": null,
      "max_width": null,
      "min_height": null,
      "min_width": null,
      "object_fit": null,
      "object_position": null,
      "order": null,
      "overflow": null,
      "overflow_x": null,
      "overflow_y": null,
      "padding": null,
      "right": null,
      "top": null,
      "visibility": null,
      "width": null
     }
    },
    "dfdaf30e3a5741609b991a7e1dd0d7e5": {
     "model_module": "@jupyter-widgets/base",
     "model_module_version": "1.2.0",
     "model_name": "LayoutModel",
     "state": {
      "_model_module": "@jupyter-widgets/base",
      "_model_module_version": "1.2.0",
      "_model_name": "LayoutModel",
      "_view_count": null,
      "_view_module": "@jupyter-widgets/base",
      "_view_module_version": "1.2.0",
      "_view_name": "LayoutView",
      "align_content": null,
      "align_items": null,
      "align_self": null,
      "border": null,
      "bottom": null,
      "display": null,
      "flex": null,
      "flex_flow": null,
      "grid_area": null,
      "grid_auto_columns": null,
      "grid_auto_flow": null,
      "grid_auto_rows": null,
      "grid_column": null,
      "grid_gap": null,
      "grid_row": null,
      "grid_template_areas": null,
      "grid_template_columns": null,
      "grid_template_rows": null,
      "height": null,
      "justify_content": null,
      "justify_items": null,
      "left": null,
      "margin": null,
      "max_height": null,
      "max_width": null,
      "min_height": null,
      "min_width": null,
      "object_fit": null,
      "object_position": null,
      "order": null,
      "overflow": null,
      "overflow_x": null,
      "overflow_y": null,
      "padding": null,
      "right": null,
      "top": null,
      "visibility": null,
      "width": null
     }
    },
    "e0561c8085f54eadb7d168f7c3950598": {
     "model_module": "@jupyter-widgets/controls",
     "model_module_version": "1.5.0",
     "model_name": "ProgressStyleModel",
     "state": {
      "_model_module": "@jupyter-widgets/controls",
      "_model_module_version": "1.5.0",
      "_model_name": "ProgressStyleModel",
      "_view_count": null,
      "_view_module": "@jupyter-widgets/base",
      "_view_module_version": "1.2.0",
      "_view_name": "StyleView",
      "bar_color": null,
      "description_width": "initial"
     }
    },
    "e1a769f7710a4dabaafb961b5dd54ccc": {
     "model_module": "@jupyter-widgets/controls",
     "model_module_version": "1.5.0",
     "model_name": "DescriptionStyleModel",
     "state": {
      "_model_module": "@jupyter-widgets/controls",
      "_model_module_version": "1.5.0",
      "_model_name": "DescriptionStyleModel",
      "_view_count": null,
      "_view_module": "@jupyter-widgets/base",
      "_view_module_version": "1.2.0",
      "_view_name": "StyleView",
      "description_width": ""
     }
    },
    "ec486c1b6593424582ae6250c756cdd8": {
     "model_module": "@jupyter-widgets/controls",
     "model_module_version": "1.5.0",
     "model_name": "HTMLModel",
     "state": {
      "_dom_classes": [],
      "_model_module": "@jupyter-widgets/controls",
      "_model_module_version": "1.5.0",
      "_model_name": "HTMLModel",
      "_view_count": null,
      "_view_module": "@jupyter-widgets/controls",
      "_view_module_version": "1.5.0",
      "_view_name": "HTMLView",
      "description": "",
      "description_tooltip": null,
      "layout": "IPY_MODEL_37ccdc9b59bd4999a25f1aa42d7376d3",
      "placeholder": "​",
      "style": "IPY_MODEL_421234b6a19f4ca49b037d3c22f4a6ae",
      "value": " 419M/419M [00:11&lt;00:00, 37.0MB/s]"
     }
    },
    "ed0b498b1a204631a74d4fb04c4c4732": {
     "model_module": "@jupyter-widgets/base",
     "model_module_version": "1.2.0",
     "model_name": "LayoutModel",
     "state": {
      "_model_module": "@jupyter-widgets/base",
      "_model_module_version": "1.2.0",
      "_model_name": "LayoutModel",
      "_view_count": null,
      "_view_module": "@jupyter-widgets/base",
      "_view_module_version": "1.2.0",
      "_view_name": "LayoutView",
      "align_content": null,
      "align_items": null,
      "align_self": null,
      "border": null,
      "bottom": null,
      "display": null,
      "flex": null,
      "flex_flow": null,
      "grid_area": null,
      "grid_auto_columns": null,
      "grid_auto_flow": null,
      "grid_auto_rows": null,
      "grid_column": null,
      "grid_gap": null,
      "grid_row": null,
      "grid_template_areas": null,
      "grid_template_columns": null,
      "grid_template_rows": null,
      "height": null,
      "justify_content": null,
      "justify_items": null,
      "left": null,
      "margin": null,
      "max_height": null,
      "max_width": null,
      "min_height": null,
      "min_width": null,
      "object_fit": null,
      "object_position": null,
      "order": null,
      "overflow": null,
      "overflow_x": null,
      "overflow_y": null,
      "padding": null,
      "right": null,
      "top": null,
      "visibility": null,
      "width": null
     }
    },
    "ed3fc0cdc1e04d339c48f4dac0923ed9": {
     "model_module": "@jupyter-widgets/base",
     "model_module_version": "1.2.0",
     "model_name": "LayoutModel",
     "state": {
      "_model_module": "@jupyter-widgets/base",
      "_model_module_version": "1.2.0",
      "_model_name": "LayoutModel",
      "_view_count": null,
      "_view_module": "@jupyter-widgets/base",
      "_view_module_version": "1.2.0",
      "_view_name": "LayoutView",
      "align_content": null,
      "align_items": null,
      "align_self": null,
      "border": null,
      "bottom": null,
      "display": null,
      "flex": null,
      "flex_flow": null,
      "grid_area": null,
      "grid_auto_columns": null,
      "grid_auto_flow": null,
      "grid_auto_rows": null,
      "grid_column": null,
      "grid_gap": null,
      "grid_row": null,
      "grid_template_areas": null,
      "grid_template_columns": null,
      "grid_template_rows": null,
      "height": null,
      "justify_content": null,
      "justify_items": null,
      "left": null,
      "margin": null,
      "max_height": null,
      "max_width": null,
      "min_height": null,
      "min_width": null,
      "object_fit": null,
      "object_position": null,
      "order": null,
      "overflow": null,
      "overflow_x": null,
      "overflow_y": null,
      "padding": null,
      "right": null,
      "top": null,
      "visibility": null,
      "width": null
     }
    },
    "edafc45582df4a1b8d35cb3d13ddb7a7": {
     "model_module": "@jupyter-widgets/controls",
     "model_module_version": "1.5.0",
     "model_name": "ProgressStyleModel",
     "state": {
      "_model_module": "@jupyter-widgets/controls",
      "_model_module_version": "1.5.0",
      "_model_name": "ProgressStyleModel",
      "_view_count": null,
      "_view_module": "@jupyter-widgets/base",
      "_view_module_version": "1.2.0",
      "_view_name": "StyleView",
      "bar_color": null,
      "description_width": "initial"
     }
    },
    "f2da8f2259da4271a8ad9b7e3a71b3ee": {
     "model_module": "@jupyter-widgets/controls",
     "model_module_version": "1.5.0",
     "model_name": "ProgressStyleModel",
     "state": {
      "_model_module": "@jupyter-widgets/controls",
      "_model_module_version": "1.5.0",
      "_model_name": "ProgressStyleModel",
      "_view_count": null,
      "_view_module": "@jupyter-widgets/base",
      "_view_module_version": "1.2.0",
      "_view_name": "StyleView",
      "bar_color": null,
      "description_width": "initial"
     }
    },
    "f6a4a000916d43e097c91752cb90d915": {
     "model_module": "@jupyter-widgets/base",
     "model_module_version": "1.2.0",
     "model_name": "LayoutModel",
     "state": {
      "_model_module": "@jupyter-widgets/base",
      "_model_module_version": "1.2.0",
      "_model_name": "LayoutModel",
      "_view_count": null,
      "_view_module": "@jupyter-widgets/base",
      "_view_module_version": "1.2.0",
      "_view_name": "LayoutView",
      "align_content": null,
      "align_items": null,
      "align_self": null,
      "border": null,
      "bottom": null,
      "display": null,
      "flex": null,
      "flex_flow": null,
      "grid_area": null,
      "grid_auto_columns": null,
      "grid_auto_flow": null,
      "grid_auto_rows": null,
      "grid_column": null,
      "grid_gap": null,
      "grid_row": null,
      "grid_template_areas": null,
      "grid_template_columns": null,
      "grid_template_rows": null,
      "height": null,
      "justify_content": null,
      "justify_items": null,
      "left": null,
      "margin": null,
      "max_height": null,
      "max_width": null,
      "min_height": null,
      "min_width": null,
      "object_fit": null,
      "object_position": null,
      "order": null,
      "overflow": null,
      "overflow_x": null,
      "overflow_y": null,
      "padding": null,
      "right": null,
      "top": null,
      "visibility": null,
      "width": null
     }
    },
    "fa9cf221a3ea4304b9daa14ee5995e02": {
     "model_module": "@jupyter-widgets/base",
     "model_module_version": "1.2.0",
     "model_name": "LayoutModel",
     "state": {
      "_model_module": "@jupyter-widgets/base",
      "_model_module_version": "1.2.0",
      "_model_name": "LayoutModel",
      "_view_count": null,
      "_view_module": "@jupyter-widgets/base",
      "_view_module_version": "1.2.0",
      "_view_name": "LayoutView",
      "align_content": null,
      "align_items": null,
      "align_self": null,
      "border": null,
      "bottom": null,
      "display": null,
      "flex": null,
      "flex_flow": null,
      "grid_area": null,
      "grid_auto_columns": null,
      "grid_auto_flow": null,
      "grid_auto_rows": null,
      "grid_column": null,
      "grid_gap": null,
      "grid_row": null,
      "grid_template_areas": null,
      "grid_template_columns": null,
      "grid_template_rows": null,
      "height": null,
      "justify_content": null,
      "justify_items": null,
      "left": null,
      "margin": null,
      "max_height": null,
      "max_width": null,
      "min_height": null,
      "min_width": null,
      "object_fit": null,
      "object_position": null,
      "order": null,
      "overflow": null,
      "overflow_x": null,
      "overflow_y": null,
      "padding": null,
      "right": null,
      "top": null,
      "visibility": null,
      "width": null
     }
    }
   }
  }
 },
 "nbformat": 4,
 "nbformat_minor": 1
}
