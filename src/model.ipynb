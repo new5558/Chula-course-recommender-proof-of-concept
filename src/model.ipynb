{
  "nbformat": 4,
  "nbformat_minor": 0,
  "metadata": {
    "accelerator": "GPU",
    "colab": {
      "name": "Text classification Chula subject model.ipynb",
      "provenance": [],
      "collapsed_sections": [
        "GOQA6mdL7u5E",
        "IMewtbwB7yGx",
        "r_ftpgk670Wq",
        "JoEoI_LQ8Aeh",
        "wLFlP6_2_U8d"
      ]
    },
    "kernelspec": {
      "display_name": "Python 3 (ipykernel)",
      "language": "python",
      "name": "python3"
    },
    "language_info": {
      "codemirror_mode": {
        "name": "ipython",
        "version": 3
      },
      "file_extension": ".py",
      "mimetype": "text/x-python",
      "name": "python",
      "nbconvert_exporter": "python",
      "pygments_lexer": "ipython3",
      "version": "3.7.12"
    },
    "widgets": {
      "application/vnd.jupyter.widget-state+json": {
        "603e29418deb4a308caa8cebf698af77": {
          "model_module": "@jupyter-widgets/controls",
          "model_name": "HBoxModel",
          "model_module_version": "1.5.0",
          "state": {
            "_view_name": "HBoxView",
            "_dom_classes": [],
            "_model_name": "HBoxModel",
            "_view_module": "@jupyter-widgets/controls",
            "_model_module_version": "1.5.0",
            "_view_count": null,
            "_view_module_version": "1.5.0",
            "box_style": "",
            "layout": "IPY_MODEL_f36223a64de74aaea46778f5594d836c",
            "_model_module": "@jupyter-widgets/controls",
            "children": [
              "IPY_MODEL_71011279dcdc4bda91d739fced8ff18d",
              "IPY_MODEL_231fe8164bd7431887fe58dc7f385a2f",
              "IPY_MODEL_240d0a6a4f50431891e0d8279ffc4758"
            ]
          }
        },
        "f36223a64de74aaea46778f5594d836c": {
          "model_module": "@jupyter-widgets/base",
          "model_name": "LayoutModel",
          "model_module_version": "1.2.0",
          "state": {
            "_view_name": "LayoutView",
            "grid_template_rows": null,
            "right": null,
            "justify_content": null,
            "_view_module": "@jupyter-widgets/base",
            "overflow": null,
            "_model_module_version": "1.2.0",
            "_view_count": null,
            "flex_flow": null,
            "width": null,
            "min_width": null,
            "border": null,
            "align_items": null,
            "bottom": null,
            "_model_module": "@jupyter-widgets/base",
            "top": null,
            "grid_column": null,
            "overflow_y": null,
            "overflow_x": null,
            "grid_auto_flow": null,
            "grid_area": null,
            "grid_template_columns": null,
            "flex": null,
            "_model_name": "LayoutModel",
            "justify_items": null,
            "grid_row": null,
            "max_height": null,
            "align_content": null,
            "visibility": null,
            "align_self": null,
            "height": null,
            "min_height": null,
            "padding": null,
            "grid_auto_rows": null,
            "grid_gap": null,
            "max_width": null,
            "order": null,
            "_view_module_version": "1.2.0",
            "grid_template_areas": null,
            "object_position": null,
            "object_fit": null,
            "grid_auto_columns": null,
            "margin": null,
            "display": null,
            "left": null
          }
        },
        "71011279dcdc4bda91d739fced8ff18d": {
          "model_module": "@jupyter-widgets/controls",
          "model_name": "HTMLModel",
          "model_module_version": "1.5.0",
          "state": {
            "_view_name": "HTMLView",
            "style": "IPY_MODEL_af4a6a8be59146d0b6bffa7a2db7139e",
            "_dom_classes": [],
            "description": "",
            "_model_name": "HTMLModel",
            "placeholder": "​",
            "_view_module": "@jupyter-widgets/controls",
            "_model_module_version": "1.5.0",
            "value": "100%",
            "_view_count": null,
            "_view_module_version": "1.5.0",
            "description_tooltip": null,
            "_model_module": "@jupyter-widgets/controls",
            "layout": "IPY_MODEL_e20626992b1c4bbeb25680ea154f70bc"
          }
        },
        "231fe8164bd7431887fe58dc7f385a2f": {
          "model_module": "@jupyter-widgets/controls",
          "model_name": "FloatProgressModel",
          "model_module_version": "1.5.0",
          "state": {
            "_view_name": "ProgressView",
            "style": "IPY_MODEL_97bb012ace974b458475a63c43c0a4e0",
            "_dom_classes": [],
            "description": "",
            "_model_name": "FloatProgressModel",
            "bar_style": "success",
            "max": 25254,
            "_view_module": "@jupyter-widgets/controls",
            "_model_module_version": "1.5.0",
            "value": 25254,
            "_view_count": null,
            "_view_module_version": "1.5.0",
            "orientation": "horizontal",
            "min": 0,
            "description_tooltip": null,
            "_model_module": "@jupyter-widgets/controls",
            "layout": "IPY_MODEL_82b352398d8c44e4bbbf2c6457d45f96"
          }
        },
        "240d0a6a4f50431891e0d8279ffc4758": {
          "model_module": "@jupyter-widgets/controls",
          "model_name": "HTMLModel",
          "model_module_version": "1.5.0",
          "state": {
            "_view_name": "HTMLView",
            "style": "IPY_MODEL_3bd7401eddd549c197f0bcfbf4ee6a1c",
            "_dom_classes": [],
            "description": "",
            "_model_name": "HTMLModel",
            "placeholder": "​",
            "_view_module": "@jupyter-widgets/controls",
            "_model_module_version": "1.5.0",
            "value": " 25254/25254 [01:09&lt;00:00, 407.48it/s]",
            "_view_count": null,
            "_view_module_version": "1.5.0",
            "description_tooltip": null,
            "_model_module": "@jupyter-widgets/controls",
            "layout": "IPY_MODEL_7e7053497ec9454fb65d9241d95bc784"
          }
        },
        "af4a6a8be59146d0b6bffa7a2db7139e": {
          "model_module": "@jupyter-widgets/controls",
          "model_name": "DescriptionStyleModel",
          "model_module_version": "1.5.0",
          "state": {
            "_view_name": "StyleView",
            "_model_name": "DescriptionStyleModel",
            "description_width": "",
            "_view_module": "@jupyter-widgets/base",
            "_model_module_version": "1.5.0",
            "_view_count": null,
            "_view_module_version": "1.2.0",
            "_model_module": "@jupyter-widgets/controls"
          }
        },
        "e20626992b1c4bbeb25680ea154f70bc": {
          "model_module": "@jupyter-widgets/base",
          "model_name": "LayoutModel",
          "model_module_version": "1.2.0",
          "state": {
            "_view_name": "LayoutView",
            "grid_template_rows": null,
            "right": null,
            "justify_content": null,
            "_view_module": "@jupyter-widgets/base",
            "overflow": null,
            "_model_module_version": "1.2.0",
            "_view_count": null,
            "flex_flow": null,
            "width": null,
            "min_width": null,
            "border": null,
            "align_items": null,
            "bottom": null,
            "_model_module": "@jupyter-widgets/base",
            "top": null,
            "grid_column": null,
            "overflow_y": null,
            "overflow_x": null,
            "grid_auto_flow": null,
            "grid_area": null,
            "grid_template_columns": null,
            "flex": null,
            "_model_name": "LayoutModel",
            "justify_items": null,
            "grid_row": null,
            "max_height": null,
            "align_content": null,
            "visibility": null,
            "align_self": null,
            "height": null,
            "min_height": null,
            "padding": null,
            "grid_auto_rows": null,
            "grid_gap": null,
            "max_width": null,
            "order": null,
            "_view_module_version": "1.2.0",
            "grid_template_areas": null,
            "object_position": null,
            "object_fit": null,
            "grid_auto_columns": null,
            "margin": null,
            "display": null,
            "left": null
          }
        },
        "97bb012ace974b458475a63c43c0a4e0": {
          "model_module": "@jupyter-widgets/controls",
          "model_name": "ProgressStyleModel",
          "model_module_version": "1.5.0",
          "state": {
            "_view_name": "StyleView",
            "_model_name": "ProgressStyleModel",
            "description_width": "",
            "_view_module": "@jupyter-widgets/base",
            "_model_module_version": "1.5.0",
            "_view_count": null,
            "_view_module_version": "1.2.0",
            "bar_color": null,
            "_model_module": "@jupyter-widgets/controls"
          }
        },
        "82b352398d8c44e4bbbf2c6457d45f96": {
          "model_module": "@jupyter-widgets/base",
          "model_name": "LayoutModel",
          "model_module_version": "1.2.0",
          "state": {
            "_view_name": "LayoutView",
            "grid_template_rows": null,
            "right": null,
            "justify_content": null,
            "_view_module": "@jupyter-widgets/base",
            "overflow": null,
            "_model_module_version": "1.2.0",
            "_view_count": null,
            "flex_flow": null,
            "width": null,
            "min_width": null,
            "border": null,
            "align_items": null,
            "bottom": null,
            "_model_module": "@jupyter-widgets/base",
            "top": null,
            "grid_column": null,
            "overflow_y": null,
            "overflow_x": null,
            "grid_auto_flow": null,
            "grid_area": null,
            "grid_template_columns": null,
            "flex": null,
            "_model_name": "LayoutModel",
            "justify_items": null,
            "grid_row": null,
            "max_height": null,
            "align_content": null,
            "visibility": null,
            "align_self": null,
            "height": null,
            "min_height": null,
            "padding": null,
            "grid_auto_rows": null,
            "grid_gap": null,
            "max_width": null,
            "order": null,
            "_view_module_version": "1.2.0",
            "grid_template_areas": null,
            "object_position": null,
            "object_fit": null,
            "grid_auto_columns": null,
            "margin": null,
            "display": null,
            "left": null
          }
        },
        "3bd7401eddd549c197f0bcfbf4ee6a1c": {
          "model_module": "@jupyter-widgets/controls",
          "model_name": "DescriptionStyleModel",
          "model_module_version": "1.5.0",
          "state": {
            "_view_name": "StyleView",
            "_model_name": "DescriptionStyleModel",
            "description_width": "",
            "_view_module": "@jupyter-widgets/base",
            "_model_module_version": "1.5.0",
            "_view_count": null,
            "_view_module_version": "1.2.0",
            "_model_module": "@jupyter-widgets/controls"
          }
        },
        "7e7053497ec9454fb65d9241d95bc784": {
          "model_module": "@jupyter-widgets/base",
          "model_name": "LayoutModel",
          "model_module_version": "1.2.0",
          "state": {
            "_view_name": "LayoutView",
            "grid_template_rows": null,
            "right": null,
            "justify_content": null,
            "_view_module": "@jupyter-widgets/base",
            "overflow": null,
            "_model_module_version": "1.2.0",
            "_view_count": null,
            "flex_flow": null,
            "width": null,
            "min_width": null,
            "border": null,
            "align_items": null,
            "bottom": null,
            "_model_module": "@jupyter-widgets/base",
            "top": null,
            "grid_column": null,
            "overflow_y": null,
            "overflow_x": null,
            "grid_auto_flow": null,
            "grid_area": null,
            "grid_template_columns": null,
            "flex": null,
            "_model_name": "LayoutModel",
            "justify_items": null,
            "grid_row": null,
            "max_height": null,
            "align_content": null,
            "visibility": null,
            "align_self": null,
            "height": null,
            "min_height": null,
            "padding": null,
            "grid_auto_rows": null,
            "grid_gap": null,
            "max_width": null,
            "order": null,
            "_view_module_version": "1.2.0",
            "grid_template_areas": null,
            "object_position": null,
            "object_fit": null,
            "grid_auto_columns": null,
            "margin": null,
            "display": null,
            "left": null
          }
        },
        "53ae5694c98d404f98d588020aa8269c": {
          "model_module": "@jupyter-widgets/controls",
          "model_name": "HBoxModel",
          "model_module_version": "1.5.0",
          "state": {
            "_view_name": "HBoxView",
            "_dom_classes": [],
            "_model_name": "HBoxModel",
            "_view_module": "@jupyter-widgets/controls",
            "_model_module_version": "1.5.0",
            "_view_count": null,
            "_view_module_version": "1.5.0",
            "box_style": "",
            "layout": "IPY_MODEL_b3dcdd08fec0452eb84bd6aa1ebec476",
            "_model_module": "@jupyter-widgets/controls",
            "children": [
              "IPY_MODEL_5d610d38312e44ccb9eba60b81968f62",
              "IPY_MODEL_647b6bfa98054e8680b713e5f5b34046",
              "IPY_MODEL_e71eb40a39024fdf9dbba50f4634bc5d"
            ]
          }
        },
        "b3dcdd08fec0452eb84bd6aa1ebec476": {
          "model_module": "@jupyter-widgets/base",
          "model_name": "LayoutModel",
          "model_module_version": "1.2.0",
          "state": {
            "_view_name": "LayoutView",
            "grid_template_rows": null,
            "right": null,
            "justify_content": null,
            "_view_module": "@jupyter-widgets/base",
            "overflow": null,
            "_model_module_version": "1.2.0",
            "_view_count": null,
            "flex_flow": null,
            "width": null,
            "min_width": null,
            "border": null,
            "align_items": null,
            "bottom": null,
            "_model_module": "@jupyter-widgets/base",
            "top": null,
            "grid_column": null,
            "overflow_y": null,
            "overflow_x": null,
            "grid_auto_flow": null,
            "grid_area": null,
            "grid_template_columns": null,
            "flex": null,
            "_model_name": "LayoutModel",
            "justify_items": null,
            "grid_row": null,
            "max_height": null,
            "align_content": null,
            "visibility": null,
            "align_self": null,
            "height": null,
            "min_height": null,
            "padding": null,
            "grid_auto_rows": null,
            "grid_gap": null,
            "max_width": null,
            "order": null,
            "_view_module_version": "1.2.0",
            "grid_template_areas": null,
            "object_position": null,
            "object_fit": null,
            "grid_auto_columns": null,
            "margin": null,
            "display": null,
            "left": null
          }
        },
        "5d610d38312e44ccb9eba60b81968f62": {
          "model_module": "@jupyter-widgets/controls",
          "model_name": "HTMLModel",
          "model_module_version": "1.5.0",
          "state": {
            "_view_name": "HTMLView",
            "style": "IPY_MODEL_5cdca5de6ef74ad8b1154a9e6f43650f",
            "_dom_classes": [],
            "description": "",
            "_model_name": "HTMLModel",
            "placeholder": "​",
            "_view_module": "@jupyter-widgets/controls",
            "_model_module_version": "1.5.0",
            "value": "100%",
            "_view_count": null,
            "_view_module_version": "1.5.0",
            "description_tooltip": null,
            "_model_module": "@jupyter-widgets/controls",
            "layout": "IPY_MODEL_840eb4d3e926406799af59ba886cca10"
          }
        },
        "647b6bfa98054e8680b713e5f5b34046": {
          "model_module": "@jupyter-widgets/controls",
          "model_name": "FloatProgressModel",
          "model_module_version": "1.5.0",
          "state": {
            "_view_name": "ProgressView",
            "style": "IPY_MODEL_19b137c8cc1b44e5965985711b05ebd0",
            "_dom_classes": [],
            "description": "",
            "_model_name": "FloatProgressModel",
            "bar_style": "success",
            "max": 25254,
            "_view_module": "@jupyter-widgets/controls",
            "_model_module_version": "1.5.0",
            "value": 25254,
            "_view_count": null,
            "_view_module_version": "1.5.0",
            "orientation": "horizontal",
            "min": 0,
            "description_tooltip": null,
            "_model_module": "@jupyter-widgets/controls",
            "layout": "IPY_MODEL_d671d504c79c428892d31625275e00cf"
          }
        },
        "e71eb40a39024fdf9dbba50f4634bc5d": {
          "model_module": "@jupyter-widgets/controls",
          "model_name": "HTMLModel",
          "model_module_version": "1.5.0",
          "state": {
            "_view_name": "HTMLView",
            "style": "IPY_MODEL_edbd69e8dea74834a3c56d73f65c8c8d",
            "_dom_classes": [],
            "description": "",
            "_model_name": "HTMLModel",
            "placeholder": "​",
            "_view_module": "@jupyter-widgets/controls",
            "_model_module_version": "1.5.0",
            "value": " 25254/25254 [00:29&lt;00:00, 845.78it/s]",
            "_view_count": null,
            "_view_module_version": "1.5.0",
            "description_tooltip": null,
            "_model_module": "@jupyter-widgets/controls",
            "layout": "IPY_MODEL_026b967a6b364888910361edc67256e9"
          }
        },
        "5cdca5de6ef74ad8b1154a9e6f43650f": {
          "model_module": "@jupyter-widgets/controls",
          "model_name": "DescriptionStyleModel",
          "model_module_version": "1.5.0",
          "state": {
            "_view_name": "StyleView",
            "_model_name": "DescriptionStyleModel",
            "description_width": "",
            "_view_module": "@jupyter-widgets/base",
            "_model_module_version": "1.5.0",
            "_view_count": null,
            "_view_module_version": "1.2.0",
            "_model_module": "@jupyter-widgets/controls"
          }
        },
        "840eb4d3e926406799af59ba886cca10": {
          "model_module": "@jupyter-widgets/base",
          "model_name": "LayoutModel",
          "model_module_version": "1.2.0",
          "state": {
            "_view_name": "LayoutView",
            "grid_template_rows": null,
            "right": null,
            "justify_content": null,
            "_view_module": "@jupyter-widgets/base",
            "overflow": null,
            "_model_module_version": "1.2.0",
            "_view_count": null,
            "flex_flow": null,
            "width": null,
            "min_width": null,
            "border": null,
            "align_items": null,
            "bottom": null,
            "_model_module": "@jupyter-widgets/base",
            "top": null,
            "grid_column": null,
            "overflow_y": null,
            "overflow_x": null,
            "grid_auto_flow": null,
            "grid_area": null,
            "grid_template_columns": null,
            "flex": null,
            "_model_name": "LayoutModel",
            "justify_items": null,
            "grid_row": null,
            "max_height": null,
            "align_content": null,
            "visibility": null,
            "align_self": null,
            "height": null,
            "min_height": null,
            "padding": null,
            "grid_auto_rows": null,
            "grid_gap": null,
            "max_width": null,
            "order": null,
            "_view_module_version": "1.2.0",
            "grid_template_areas": null,
            "object_position": null,
            "object_fit": null,
            "grid_auto_columns": null,
            "margin": null,
            "display": null,
            "left": null
          }
        },
        "19b137c8cc1b44e5965985711b05ebd0": {
          "model_module": "@jupyter-widgets/controls",
          "model_name": "ProgressStyleModel",
          "model_module_version": "1.5.0",
          "state": {
            "_view_name": "StyleView",
            "_model_name": "ProgressStyleModel",
            "description_width": "",
            "_view_module": "@jupyter-widgets/base",
            "_model_module_version": "1.5.0",
            "_view_count": null,
            "_view_module_version": "1.2.0",
            "bar_color": null,
            "_model_module": "@jupyter-widgets/controls"
          }
        },
        "d671d504c79c428892d31625275e00cf": {
          "model_module": "@jupyter-widgets/base",
          "model_name": "LayoutModel",
          "model_module_version": "1.2.0",
          "state": {
            "_view_name": "LayoutView",
            "grid_template_rows": null,
            "right": null,
            "justify_content": null,
            "_view_module": "@jupyter-widgets/base",
            "overflow": null,
            "_model_module_version": "1.2.0",
            "_view_count": null,
            "flex_flow": null,
            "width": null,
            "min_width": null,
            "border": null,
            "align_items": null,
            "bottom": null,
            "_model_module": "@jupyter-widgets/base",
            "top": null,
            "grid_column": null,
            "overflow_y": null,
            "overflow_x": null,
            "grid_auto_flow": null,
            "grid_area": null,
            "grid_template_columns": null,
            "flex": null,
            "_model_name": "LayoutModel",
            "justify_items": null,
            "grid_row": null,
            "max_height": null,
            "align_content": null,
            "visibility": null,
            "align_self": null,
            "height": null,
            "min_height": null,
            "padding": null,
            "grid_auto_rows": null,
            "grid_gap": null,
            "max_width": null,
            "order": null,
            "_view_module_version": "1.2.0",
            "grid_template_areas": null,
            "object_position": null,
            "object_fit": null,
            "grid_auto_columns": null,
            "margin": null,
            "display": null,
            "left": null
          }
        },
        "edbd69e8dea74834a3c56d73f65c8c8d": {
          "model_module": "@jupyter-widgets/controls",
          "model_name": "DescriptionStyleModel",
          "model_module_version": "1.5.0",
          "state": {
            "_view_name": "StyleView",
            "_model_name": "DescriptionStyleModel",
            "description_width": "",
            "_view_module": "@jupyter-widgets/base",
            "_model_module_version": "1.5.0",
            "_view_count": null,
            "_view_module_version": "1.2.0",
            "_model_module": "@jupyter-widgets/controls"
          }
        },
        "026b967a6b364888910361edc67256e9": {
          "model_module": "@jupyter-widgets/base",
          "model_name": "LayoutModel",
          "model_module_version": "1.2.0",
          "state": {
            "_view_name": "LayoutView",
            "grid_template_rows": null,
            "right": null,
            "justify_content": null,
            "_view_module": "@jupyter-widgets/base",
            "overflow": null,
            "_model_module_version": "1.2.0",
            "_view_count": null,
            "flex_flow": null,
            "width": null,
            "min_width": null,
            "border": null,
            "align_items": null,
            "bottom": null,
            "_model_module": "@jupyter-widgets/base",
            "top": null,
            "grid_column": null,
            "overflow_y": null,
            "overflow_x": null,
            "grid_auto_flow": null,
            "grid_area": null,
            "grid_template_columns": null,
            "flex": null,
            "_model_name": "LayoutModel",
            "justify_items": null,
            "grid_row": null,
            "max_height": null,
            "align_content": null,
            "visibility": null,
            "align_self": null,
            "height": null,
            "min_height": null,
            "padding": null,
            "grid_auto_rows": null,
            "grid_gap": null,
            "max_width": null,
            "order": null,
            "_view_module_version": "1.2.0",
            "grid_template_areas": null,
            "object_position": null,
            "object_fit": null,
            "grid_auto_columns": null,
            "margin": null,
            "display": null,
            "left": null
          }
        },
        "a4dff24f5dba4d1fb8c3e08ae9b7afbd": {
          "model_module": "@jupyter-widgets/controls",
          "model_name": "HBoxModel",
          "model_module_version": "1.5.0",
          "state": {
            "_view_name": "HBoxView",
            "_dom_classes": [],
            "_model_name": "HBoxModel",
            "_view_module": "@jupyter-widgets/controls",
            "_model_module_version": "1.5.0",
            "_view_count": null,
            "_view_module_version": "1.5.0",
            "box_style": "",
            "layout": "IPY_MODEL_ae040723a7a24444b3adf1b136416d83",
            "_model_module": "@jupyter-widgets/controls",
            "children": [
              "IPY_MODEL_c7c589d0c0294f31b08d34b878321a4b",
              "IPY_MODEL_3e1b005ce8e24070ad6514e5fd508a53",
              "IPY_MODEL_14ca2f578c7c40f5b3ac50d813d97492"
            ]
          }
        },
        "ae040723a7a24444b3adf1b136416d83": {
          "model_module": "@jupyter-widgets/base",
          "model_name": "LayoutModel",
          "model_module_version": "1.2.0",
          "state": {
            "_view_name": "LayoutView",
            "grid_template_rows": null,
            "right": null,
            "justify_content": null,
            "_view_module": "@jupyter-widgets/base",
            "overflow": null,
            "_model_module_version": "1.2.0",
            "_view_count": null,
            "flex_flow": null,
            "width": null,
            "min_width": null,
            "border": null,
            "align_items": null,
            "bottom": null,
            "_model_module": "@jupyter-widgets/base",
            "top": null,
            "grid_column": null,
            "overflow_y": null,
            "overflow_x": null,
            "grid_auto_flow": null,
            "grid_area": null,
            "grid_template_columns": null,
            "flex": null,
            "_model_name": "LayoutModel",
            "justify_items": null,
            "grid_row": null,
            "max_height": null,
            "align_content": null,
            "visibility": null,
            "align_self": null,
            "height": null,
            "min_height": null,
            "padding": null,
            "grid_auto_rows": null,
            "grid_gap": null,
            "max_width": null,
            "order": null,
            "_view_module_version": "1.2.0",
            "grid_template_areas": null,
            "object_position": null,
            "object_fit": null,
            "grid_auto_columns": null,
            "margin": null,
            "display": null,
            "left": null
          }
        },
        "c7c589d0c0294f31b08d34b878321a4b": {
          "model_module": "@jupyter-widgets/controls",
          "model_name": "HTMLModel",
          "model_module_version": "1.5.0",
          "state": {
            "_view_name": "HTMLView",
            "style": "IPY_MODEL_deed8526442b4b16a4f1aefac2e4178c",
            "_dom_classes": [],
            "description": "",
            "_model_name": "HTMLModel",
            "placeholder": "​",
            "_view_module": "@jupyter-widgets/controls",
            "_model_module_version": "1.5.0",
            "value": "100%",
            "_view_count": null,
            "_view_module_version": "1.5.0",
            "description_tooltip": null,
            "_model_module": "@jupyter-widgets/controls",
            "layout": "IPY_MODEL_b123beb1155547e1a5f2d9eec0153bdd"
          }
        },
        "3e1b005ce8e24070ad6514e5fd508a53": {
          "model_module": "@jupyter-widgets/controls",
          "model_name": "FloatProgressModel",
          "model_module_version": "1.5.0",
          "state": {
            "_view_name": "ProgressView",
            "style": "IPY_MODEL_80be903070fd4d33a66ced0e39d90642",
            "_dom_classes": [],
            "description": "",
            "_model_name": "FloatProgressModel",
            "bar_style": "success",
            "max": 22786,
            "_view_module": "@jupyter-widgets/controls",
            "_model_module_version": "1.5.0",
            "value": 22786,
            "_view_count": null,
            "_view_module_version": "1.5.0",
            "orientation": "horizontal",
            "min": 0,
            "description_tooltip": null,
            "_model_module": "@jupyter-widgets/controls",
            "layout": "IPY_MODEL_37e90daca3a747309fcb5a6c1b3e1ea4"
          }
        },
        "14ca2f578c7c40f5b3ac50d813d97492": {
          "model_module": "@jupyter-widgets/controls",
          "model_name": "HTMLModel",
          "model_module_version": "1.5.0",
          "state": {
            "_view_name": "HTMLView",
            "style": "IPY_MODEL_fb2433e6638a4586814c316a9ccfc366",
            "_dom_classes": [],
            "description": "",
            "_model_name": "HTMLModel",
            "placeholder": "​",
            "_view_module": "@jupyter-widgets/controls",
            "_model_module_version": "1.5.0",
            "value": " 22786/22786 [00:45&lt;00:00, 502.32it/s]",
            "_view_count": null,
            "_view_module_version": "1.5.0",
            "description_tooltip": null,
            "_model_module": "@jupyter-widgets/controls",
            "layout": "IPY_MODEL_06c1fa2ba02749dab07d176cf85f84c3"
          }
        },
        "deed8526442b4b16a4f1aefac2e4178c": {
          "model_module": "@jupyter-widgets/controls",
          "model_name": "DescriptionStyleModel",
          "model_module_version": "1.5.0",
          "state": {
            "_view_name": "StyleView",
            "_model_name": "DescriptionStyleModel",
            "description_width": "",
            "_view_module": "@jupyter-widgets/base",
            "_model_module_version": "1.5.0",
            "_view_count": null,
            "_view_module_version": "1.2.0",
            "_model_module": "@jupyter-widgets/controls"
          }
        },
        "b123beb1155547e1a5f2d9eec0153bdd": {
          "model_module": "@jupyter-widgets/base",
          "model_name": "LayoutModel",
          "model_module_version": "1.2.0",
          "state": {
            "_view_name": "LayoutView",
            "grid_template_rows": null,
            "right": null,
            "justify_content": null,
            "_view_module": "@jupyter-widgets/base",
            "overflow": null,
            "_model_module_version": "1.2.0",
            "_view_count": null,
            "flex_flow": null,
            "width": null,
            "min_width": null,
            "border": null,
            "align_items": null,
            "bottom": null,
            "_model_module": "@jupyter-widgets/base",
            "top": null,
            "grid_column": null,
            "overflow_y": null,
            "overflow_x": null,
            "grid_auto_flow": null,
            "grid_area": null,
            "grid_template_columns": null,
            "flex": null,
            "_model_name": "LayoutModel",
            "justify_items": null,
            "grid_row": null,
            "max_height": null,
            "align_content": null,
            "visibility": null,
            "align_self": null,
            "height": null,
            "min_height": null,
            "padding": null,
            "grid_auto_rows": null,
            "grid_gap": null,
            "max_width": null,
            "order": null,
            "_view_module_version": "1.2.0",
            "grid_template_areas": null,
            "object_position": null,
            "object_fit": null,
            "grid_auto_columns": null,
            "margin": null,
            "display": null,
            "left": null
          }
        },
        "80be903070fd4d33a66ced0e39d90642": {
          "model_module": "@jupyter-widgets/controls",
          "model_name": "ProgressStyleModel",
          "model_module_version": "1.5.0",
          "state": {
            "_view_name": "StyleView",
            "_model_name": "ProgressStyleModel",
            "description_width": "",
            "_view_module": "@jupyter-widgets/base",
            "_model_module_version": "1.5.0",
            "_view_count": null,
            "_view_module_version": "1.2.0",
            "bar_color": null,
            "_model_module": "@jupyter-widgets/controls"
          }
        },
        "37e90daca3a747309fcb5a6c1b3e1ea4": {
          "model_module": "@jupyter-widgets/base",
          "model_name": "LayoutModel",
          "model_module_version": "1.2.0",
          "state": {
            "_view_name": "LayoutView",
            "grid_template_rows": null,
            "right": null,
            "justify_content": null,
            "_view_module": "@jupyter-widgets/base",
            "overflow": null,
            "_model_module_version": "1.2.0",
            "_view_count": null,
            "flex_flow": null,
            "width": null,
            "min_width": null,
            "border": null,
            "align_items": null,
            "bottom": null,
            "_model_module": "@jupyter-widgets/base",
            "top": null,
            "grid_column": null,
            "overflow_y": null,
            "overflow_x": null,
            "grid_auto_flow": null,
            "grid_area": null,
            "grid_template_columns": null,
            "flex": null,
            "_model_name": "LayoutModel",
            "justify_items": null,
            "grid_row": null,
            "max_height": null,
            "align_content": null,
            "visibility": null,
            "align_self": null,
            "height": null,
            "min_height": null,
            "padding": null,
            "grid_auto_rows": null,
            "grid_gap": null,
            "max_width": null,
            "order": null,
            "_view_module_version": "1.2.0",
            "grid_template_areas": null,
            "object_position": null,
            "object_fit": null,
            "grid_auto_columns": null,
            "margin": null,
            "display": null,
            "left": null
          }
        },
        "fb2433e6638a4586814c316a9ccfc366": {
          "model_module": "@jupyter-widgets/controls",
          "model_name": "DescriptionStyleModel",
          "model_module_version": "1.5.0",
          "state": {
            "_view_name": "StyleView",
            "_model_name": "DescriptionStyleModel",
            "description_width": "",
            "_view_module": "@jupyter-widgets/base",
            "_model_module_version": "1.5.0",
            "_view_count": null,
            "_view_module_version": "1.2.0",
            "_model_module": "@jupyter-widgets/controls"
          }
        },
        "06c1fa2ba02749dab07d176cf85f84c3": {
          "model_module": "@jupyter-widgets/base",
          "model_name": "LayoutModel",
          "model_module_version": "1.2.0",
          "state": {
            "_view_name": "LayoutView",
            "grid_template_rows": null,
            "right": null,
            "justify_content": null,
            "_view_module": "@jupyter-widgets/base",
            "overflow": null,
            "_model_module_version": "1.2.0",
            "_view_count": null,
            "flex_flow": null,
            "width": null,
            "min_width": null,
            "border": null,
            "align_items": null,
            "bottom": null,
            "_model_module": "@jupyter-widgets/base",
            "top": null,
            "grid_column": null,
            "overflow_y": null,
            "overflow_x": null,
            "grid_auto_flow": null,
            "grid_area": null,
            "grid_template_columns": null,
            "flex": null,
            "_model_name": "LayoutModel",
            "justify_items": null,
            "grid_row": null,
            "max_height": null,
            "align_content": null,
            "visibility": null,
            "align_self": null,
            "height": null,
            "min_height": null,
            "padding": null,
            "grid_auto_rows": null,
            "grid_gap": null,
            "max_width": null,
            "order": null,
            "_view_module_version": "1.2.0",
            "grid_template_areas": null,
            "object_position": null,
            "object_fit": null,
            "grid_auto_columns": null,
            "margin": null,
            "display": null,
            "left": null
          }
        },
        "51a7733845cf4c1f895b09eda1743cef": {
          "model_module": "@jupyter-widgets/controls",
          "model_name": "HBoxModel",
          "model_module_version": "1.5.0",
          "state": {
            "_view_name": "HBoxView",
            "_dom_classes": [],
            "_model_name": "HBoxModel",
            "_view_module": "@jupyter-widgets/controls",
            "_model_module_version": "1.5.0",
            "_view_count": null,
            "_view_module_version": "1.5.0",
            "box_style": "",
            "layout": "IPY_MODEL_90ea1750757f4e09a2d652368b9ba779",
            "_model_module": "@jupyter-widgets/controls",
            "children": [
              "IPY_MODEL_aba2e09e4b6b4276a44452f065f4db44",
              "IPY_MODEL_7f837df595a94a36bd012fcf728ee82a",
              "IPY_MODEL_16898710d28147609e65b436c2dca3bf"
            ]
          }
        },
        "90ea1750757f4e09a2d652368b9ba779": {
          "model_module": "@jupyter-widgets/base",
          "model_name": "LayoutModel",
          "model_module_version": "1.2.0",
          "state": {
            "_view_name": "LayoutView",
            "grid_template_rows": null,
            "right": null,
            "justify_content": null,
            "_view_module": "@jupyter-widgets/base",
            "overflow": null,
            "_model_module_version": "1.2.0",
            "_view_count": null,
            "flex_flow": null,
            "width": null,
            "min_width": null,
            "border": null,
            "align_items": null,
            "bottom": null,
            "_model_module": "@jupyter-widgets/base",
            "top": null,
            "grid_column": null,
            "overflow_y": null,
            "overflow_x": null,
            "grid_auto_flow": null,
            "grid_area": null,
            "grid_template_columns": null,
            "flex": null,
            "_model_name": "LayoutModel",
            "justify_items": null,
            "grid_row": null,
            "max_height": null,
            "align_content": null,
            "visibility": null,
            "align_self": null,
            "height": null,
            "min_height": null,
            "padding": null,
            "grid_auto_rows": null,
            "grid_gap": null,
            "max_width": null,
            "order": null,
            "_view_module_version": "1.2.0",
            "grid_template_areas": null,
            "object_position": null,
            "object_fit": null,
            "grid_auto_columns": null,
            "margin": null,
            "display": null,
            "left": null
          }
        },
        "aba2e09e4b6b4276a44452f065f4db44": {
          "model_module": "@jupyter-widgets/controls",
          "model_name": "HTMLModel",
          "model_module_version": "1.5.0",
          "state": {
            "_view_name": "HTMLView",
            "style": "IPY_MODEL_c6749c9525834e2886164f0e62e1c19f",
            "_dom_classes": [],
            "description": "",
            "_model_name": "HTMLModel",
            "placeholder": "​",
            "_view_module": "@jupyter-widgets/controls",
            "_model_module_version": "1.5.0",
            "value": "100%",
            "_view_count": null,
            "_view_module_version": "1.5.0",
            "description_tooltip": null,
            "_model_module": "@jupyter-widgets/controls",
            "layout": "IPY_MODEL_f94e935eb5cd426396785216989314cb"
          }
        },
        "7f837df595a94a36bd012fcf728ee82a": {
          "model_module": "@jupyter-widgets/controls",
          "model_name": "FloatProgressModel",
          "model_module_version": "1.5.0",
          "state": {
            "_view_name": "ProgressView",
            "style": "IPY_MODEL_e9cc3d109d06428e9e64e002e6f9e0cb",
            "_dom_classes": [],
            "description": "",
            "_model_name": "FloatProgressModel",
            "bar_style": "success",
            "max": 22786,
            "_view_module": "@jupyter-widgets/controls",
            "_model_module_version": "1.5.0",
            "value": 22786,
            "_view_count": null,
            "_view_module_version": "1.5.0",
            "orientation": "horizontal",
            "min": 0,
            "description_tooltip": null,
            "_model_module": "@jupyter-widgets/controls",
            "layout": "IPY_MODEL_2c1a690566f24bf98f3253d5add79abc"
          }
        },
        "16898710d28147609e65b436c2dca3bf": {
          "model_module": "@jupyter-widgets/controls",
          "model_name": "HTMLModel",
          "model_module_version": "1.5.0",
          "state": {
            "_view_name": "HTMLView",
            "style": "IPY_MODEL_a5b7a3cf492f4130909f9fc280e1412e",
            "_dom_classes": [],
            "description": "",
            "_model_name": "HTMLModel",
            "placeholder": "​",
            "_view_module": "@jupyter-widgets/controls",
            "_model_module_version": "1.5.0",
            "value": " 22786/22786 [00:16&lt;00:00, 1476.04it/s]",
            "_view_count": null,
            "_view_module_version": "1.5.0",
            "description_tooltip": null,
            "_model_module": "@jupyter-widgets/controls",
            "layout": "IPY_MODEL_79512516120e447e9c657de1007811fd"
          }
        },
        "c6749c9525834e2886164f0e62e1c19f": {
          "model_module": "@jupyter-widgets/controls",
          "model_name": "DescriptionStyleModel",
          "model_module_version": "1.5.0",
          "state": {
            "_view_name": "StyleView",
            "_model_name": "DescriptionStyleModel",
            "description_width": "",
            "_view_module": "@jupyter-widgets/base",
            "_model_module_version": "1.5.0",
            "_view_count": null,
            "_view_module_version": "1.2.0",
            "_model_module": "@jupyter-widgets/controls"
          }
        },
        "f94e935eb5cd426396785216989314cb": {
          "model_module": "@jupyter-widgets/base",
          "model_name": "LayoutModel",
          "model_module_version": "1.2.0",
          "state": {
            "_view_name": "LayoutView",
            "grid_template_rows": null,
            "right": null,
            "justify_content": null,
            "_view_module": "@jupyter-widgets/base",
            "overflow": null,
            "_model_module_version": "1.2.0",
            "_view_count": null,
            "flex_flow": null,
            "width": null,
            "min_width": null,
            "border": null,
            "align_items": null,
            "bottom": null,
            "_model_module": "@jupyter-widgets/base",
            "top": null,
            "grid_column": null,
            "overflow_y": null,
            "overflow_x": null,
            "grid_auto_flow": null,
            "grid_area": null,
            "grid_template_columns": null,
            "flex": null,
            "_model_name": "LayoutModel",
            "justify_items": null,
            "grid_row": null,
            "max_height": null,
            "align_content": null,
            "visibility": null,
            "align_self": null,
            "height": null,
            "min_height": null,
            "padding": null,
            "grid_auto_rows": null,
            "grid_gap": null,
            "max_width": null,
            "order": null,
            "_view_module_version": "1.2.0",
            "grid_template_areas": null,
            "object_position": null,
            "object_fit": null,
            "grid_auto_columns": null,
            "margin": null,
            "display": null,
            "left": null
          }
        },
        "e9cc3d109d06428e9e64e002e6f9e0cb": {
          "model_module": "@jupyter-widgets/controls",
          "model_name": "ProgressStyleModel",
          "model_module_version": "1.5.0",
          "state": {
            "_view_name": "StyleView",
            "_model_name": "ProgressStyleModel",
            "description_width": "",
            "_view_module": "@jupyter-widgets/base",
            "_model_module_version": "1.5.0",
            "_view_count": null,
            "_view_module_version": "1.2.0",
            "bar_color": null,
            "_model_module": "@jupyter-widgets/controls"
          }
        },
        "2c1a690566f24bf98f3253d5add79abc": {
          "model_module": "@jupyter-widgets/base",
          "model_name": "LayoutModel",
          "model_module_version": "1.2.0",
          "state": {
            "_view_name": "LayoutView",
            "grid_template_rows": null,
            "right": null,
            "justify_content": null,
            "_view_module": "@jupyter-widgets/base",
            "overflow": null,
            "_model_module_version": "1.2.0",
            "_view_count": null,
            "flex_flow": null,
            "width": null,
            "min_width": null,
            "border": null,
            "align_items": null,
            "bottom": null,
            "_model_module": "@jupyter-widgets/base",
            "top": null,
            "grid_column": null,
            "overflow_y": null,
            "overflow_x": null,
            "grid_auto_flow": null,
            "grid_area": null,
            "grid_template_columns": null,
            "flex": null,
            "_model_name": "LayoutModel",
            "justify_items": null,
            "grid_row": null,
            "max_height": null,
            "align_content": null,
            "visibility": null,
            "align_self": null,
            "height": null,
            "min_height": null,
            "padding": null,
            "grid_auto_rows": null,
            "grid_gap": null,
            "max_width": null,
            "order": null,
            "_view_module_version": "1.2.0",
            "grid_template_areas": null,
            "object_position": null,
            "object_fit": null,
            "grid_auto_columns": null,
            "margin": null,
            "display": null,
            "left": null
          }
        },
        "a5b7a3cf492f4130909f9fc280e1412e": {
          "model_module": "@jupyter-widgets/controls",
          "model_name": "DescriptionStyleModel",
          "model_module_version": "1.5.0",
          "state": {
            "_view_name": "StyleView",
            "_model_name": "DescriptionStyleModel",
            "description_width": "",
            "_view_module": "@jupyter-widgets/base",
            "_model_module_version": "1.5.0",
            "_view_count": null,
            "_view_module_version": "1.2.0",
            "_model_module": "@jupyter-widgets/controls"
          }
        },
        "79512516120e447e9c657de1007811fd": {
          "model_module": "@jupyter-widgets/base",
          "model_name": "LayoutModel",
          "model_module_version": "1.2.0",
          "state": {
            "_view_name": "LayoutView",
            "grid_template_rows": null,
            "right": null,
            "justify_content": null,
            "_view_module": "@jupyter-widgets/base",
            "overflow": null,
            "_model_module_version": "1.2.0",
            "_view_count": null,
            "flex_flow": null,
            "width": null,
            "min_width": null,
            "border": null,
            "align_items": null,
            "bottom": null,
            "_model_module": "@jupyter-widgets/base",
            "top": null,
            "grid_column": null,
            "overflow_y": null,
            "overflow_x": null,
            "grid_auto_flow": null,
            "grid_area": null,
            "grid_template_columns": null,
            "flex": null,
            "_model_name": "LayoutModel",
            "justify_items": null,
            "grid_row": null,
            "max_height": null,
            "align_content": null,
            "visibility": null,
            "align_self": null,
            "height": null,
            "min_height": null,
            "padding": null,
            "grid_auto_rows": null,
            "grid_gap": null,
            "max_width": null,
            "order": null,
            "_view_module_version": "1.2.0",
            "grid_template_areas": null,
            "object_position": null,
            "object_fit": null,
            "grid_auto_columns": null,
            "margin": null,
            "display": null,
            "left": null
          }
        },
        "684da757c82e4033bdb1f755445f19fb": {
          "model_module": "@jupyter-widgets/controls",
          "model_name": "HBoxModel",
          "model_module_version": "1.5.0",
          "state": {
            "_dom_classes": [],
            "_model_module": "@jupyter-widgets/controls",
            "_model_module_version": "1.5.0",
            "_model_name": "HBoxModel",
            "_view_count": null,
            "_view_module": "@jupyter-widgets/controls",
            "_view_module_version": "1.5.0",
            "_view_name": "HBoxView",
            "box_style": "",
            "children": [
              "IPY_MODEL_42494ea1c8b34eb9a14c8e15792a8ef1",
              "IPY_MODEL_5ef52bf96005493eaae382d372f43a2f",
              "IPY_MODEL_30113bb959bb4dc5b0e70fa4705fdd87"
            ],
            "layout": "IPY_MODEL_8b833a15e7744be0a9a0fd0278982f31"
          }
        },
        "8b833a15e7744be0a9a0fd0278982f31": {
          "model_module": "@jupyter-widgets/base",
          "model_name": "LayoutModel",
          "model_module_version": "1.2.0",
          "state": {
            "_model_module": "@jupyter-widgets/base",
            "_model_module_version": "1.2.0",
            "_model_name": "LayoutModel",
            "_view_count": null,
            "_view_module": "@jupyter-widgets/base",
            "_view_module_version": "1.2.0",
            "_view_name": "LayoutView",
            "align_content": null,
            "align_items": null,
            "align_self": null,
            "border": null,
            "bottom": null,
            "display": null,
            "flex": null,
            "flex_flow": null,
            "grid_area": null,
            "grid_auto_columns": null,
            "grid_auto_flow": null,
            "grid_auto_rows": null,
            "grid_column": null,
            "grid_gap": null,
            "grid_row": null,
            "grid_template_areas": null,
            "grid_template_columns": null,
            "grid_template_rows": null,
            "height": null,
            "justify_content": null,
            "justify_items": null,
            "left": null,
            "margin": null,
            "max_height": null,
            "max_width": null,
            "min_height": null,
            "min_width": null,
            "object_fit": null,
            "object_position": null,
            "order": null,
            "overflow": null,
            "overflow_x": null,
            "overflow_y": null,
            "padding": null,
            "right": null,
            "top": null,
            "visibility": null,
            "width": null
          }
        },
        "42494ea1c8b34eb9a14c8e15792a8ef1": {
          "model_module": "@jupyter-widgets/controls",
          "model_name": "HTMLModel",
          "model_module_version": "1.5.0",
          "state": {
            "_dom_classes": [],
            "_model_module": "@jupyter-widgets/controls",
            "_model_module_version": "1.5.0",
            "_model_name": "HTMLModel",
            "_view_count": null,
            "_view_module": "@jupyter-widgets/controls",
            "_view_module_version": "1.5.0",
            "_view_name": "HTMLView",
            "description": "",
            "description_tooltip": null,
            "layout": "IPY_MODEL_e7ccb4b8afe74609b79932df9b982a94",
            "placeholder": "​",
            "style": "IPY_MODEL_52cea60d9bef451eb6f438a5c7b5b488",
            "value": "100%"
          }
        },
        "5ef52bf96005493eaae382d372f43a2f": {
          "model_module": "@jupyter-widgets/controls",
          "model_name": "FloatProgressModel",
          "model_module_version": "1.5.0",
          "state": {
            "_dom_classes": [],
            "_model_module": "@jupyter-widgets/controls",
            "_model_module_version": "1.5.0",
            "_model_name": "FloatProgressModel",
            "_view_count": null,
            "_view_module": "@jupyter-widgets/controls",
            "_view_module_version": "1.5.0",
            "_view_name": "ProgressView",
            "bar_style": "success",
            "description": "",
            "description_tooltip": null,
            "layout": "IPY_MODEL_dd9efd7d41274ea091d41f89c4c12a0a",
            "max": 22786,
            "min": 0,
            "orientation": "horizontal",
            "style": "IPY_MODEL_7dbb97692f9c448db24dc62afe0f3633",
            "value": 22786
          }
        },
        "30113bb959bb4dc5b0e70fa4705fdd87": {
          "model_module": "@jupyter-widgets/controls",
          "model_name": "HTMLModel",
          "model_module_version": "1.5.0",
          "state": {
            "_dom_classes": [],
            "_model_module": "@jupyter-widgets/controls",
            "_model_module_version": "1.5.0",
            "_model_name": "HTMLModel",
            "_view_count": null,
            "_view_module": "@jupyter-widgets/controls",
            "_view_module_version": "1.5.0",
            "_view_name": "HTMLView",
            "description": "",
            "description_tooltip": null,
            "layout": "IPY_MODEL_6f21dda99946413eac03d8de2486b35e",
            "placeholder": "​",
            "style": "IPY_MODEL_ec9a1c0b635946faa4d83729f8c1cfae",
            "value": " 22786/22786 [03:29&lt;00:00, 112.91it/s]"
          }
        },
        "52cea60d9bef451eb6f438a5c7b5b488": {
          "model_module": "@jupyter-widgets/controls",
          "model_name": "DescriptionStyleModel",
          "model_module_version": "1.5.0",
          "state": {
            "_model_module": "@jupyter-widgets/controls",
            "_model_module_version": "1.5.0",
            "_model_name": "DescriptionStyleModel",
            "_view_count": null,
            "_view_module": "@jupyter-widgets/base",
            "_view_module_version": "1.2.0",
            "_view_name": "StyleView",
            "description_width": ""
          }
        },
        "e7ccb4b8afe74609b79932df9b982a94": {
          "model_module": "@jupyter-widgets/base",
          "model_name": "LayoutModel",
          "model_module_version": "1.2.0",
          "state": {
            "_model_module": "@jupyter-widgets/base",
            "_model_module_version": "1.2.0",
            "_model_name": "LayoutModel",
            "_view_count": null,
            "_view_module": "@jupyter-widgets/base",
            "_view_module_version": "1.2.0",
            "_view_name": "LayoutView",
            "align_content": null,
            "align_items": null,
            "align_self": null,
            "border": null,
            "bottom": null,
            "display": null,
            "flex": null,
            "flex_flow": null,
            "grid_area": null,
            "grid_auto_columns": null,
            "grid_auto_flow": null,
            "grid_auto_rows": null,
            "grid_column": null,
            "grid_gap": null,
            "grid_row": null,
            "grid_template_areas": null,
            "grid_template_columns": null,
            "grid_template_rows": null,
            "height": null,
            "justify_content": null,
            "justify_items": null,
            "left": null,
            "margin": null,
            "max_height": null,
            "max_width": null,
            "min_height": null,
            "min_width": null,
            "object_fit": null,
            "object_position": null,
            "order": null,
            "overflow": null,
            "overflow_x": null,
            "overflow_y": null,
            "padding": null,
            "right": null,
            "top": null,
            "visibility": null,
            "width": null
          }
        },
        "7dbb97692f9c448db24dc62afe0f3633": {
          "model_module": "@jupyter-widgets/controls",
          "model_name": "ProgressStyleModel",
          "model_module_version": "1.5.0",
          "state": {
            "_model_module": "@jupyter-widgets/controls",
            "_model_module_version": "1.5.0",
            "_model_name": "ProgressStyleModel",
            "_view_count": null,
            "_view_module": "@jupyter-widgets/base",
            "_view_module_version": "1.2.0",
            "_view_name": "StyleView",
            "bar_color": null,
            "description_width": ""
          }
        },
        "dd9efd7d41274ea091d41f89c4c12a0a": {
          "model_module": "@jupyter-widgets/base",
          "model_name": "LayoutModel",
          "model_module_version": "1.2.0",
          "state": {
            "_model_module": "@jupyter-widgets/base",
            "_model_module_version": "1.2.0",
            "_model_name": "LayoutModel",
            "_view_count": null,
            "_view_module": "@jupyter-widgets/base",
            "_view_module_version": "1.2.0",
            "_view_name": "LayoutView",
            "align_content": null,
            "align_items": null,
            "align_self": null,
            "border": null,
            "bottom": null,
            "display": null,
            "flex": null,
            "flex_flow": null,
            "grid_area": null,
            "grid_auto_columns": null,
            "grid_auto_flow": null,
            "grid_auto_rows": null,
            "grid_column": null,
            "grid_gap": null,
            "grid_row": null,
            "grid_template_areas": null,
            "grid_template_columns": null,
            "grid_template_rows": null,
            "height": null,
            "justify_content": null,
            "justify_items": null,
            "left": null,
            "margin": null,
            "max_height": null,
            "max_width": null,
            "min_height": null,
            "min_width": null,
            "object_fit": null,
            "object_position": null,
            "order": null,
            "overflow": null,
            "overflow_x": null,
            "overflow_y": null,
            "padding": null,
            "right": null,
            "top": null,
            "visibility": null,
            "width": null
          }
        },
        "ec9a1c0b635946faa4d83729f8c1cfae": {
          "model_module": "@jupyter-widgets/controls",
          "model_name": "DescriptionStyleModel",
          "model_module_version": "1.5.0",
          "state": {
            "_model_module": "@jupyter-widgets/controls",
            "_model_module_version": "1.5.0",
            "_model_name": "DescriptionStyleModel",
            "_view_count": null,
            "_view_module": "@jupyter-widgets/base",
            "_view_module_version": "1.2.0",
            "_view_name": "StyleView",
            "description_width": ""
          }
        },
        "6f21dda99946413eac03d8de2486b35e": {
          "model_module": "@jupyter-widgets/base",
          "model_name": "LayoutModel",
          "model_module_version": "1.2.0",
          "state": {
            "_model_module": "@jupyter-widgets/base",
            "_model_module_version": "1.2.0",
            "_model_name": "LayoutModel",
            "_view_count": null,
            "_view_module": "@jupyter-widgets/base",
            "_view_module_version": "1.2.0",
            "_view_name": "LayoutView",
            "align_content": null,
            "align_items": null,
            "align_self": null,
            "border": null,
            "bottom": null,
            "display": null,
            "flex": null,
            "flex_flow": null,
            "grid_area": null,
            "grid_auto_columns": null,
            "grid_auto_flow": null,
            "grid_auto_rows": null,
            "grid_column": null,
            "grid_gap": null,
            "grid_row": null,
            "grid_template_areas": null,
            "grid_template_columns": null,
            "grid_template_rows": null,
            "height": null,
            "justify_content": null,
            "justify_items": null,
            "left": null,
            "margin": null,
            "max_height": null,
            "max_width": null,
            "min_height": null,
            "min_width": null,
            "object_fit": null,
            "object_position": null,
            "order": null,
            "overflow": null,
            "overflow_x": null,
            "overflow_y": null,
            "padding": null,
            "right": null,
            "top": null,
            "visibility": null,
            "width": null
          }
        }
      }
    }
  },
  "cells": [
    {
      "cell_type": "markdown",
      "metadata": {
        "id": "mD2zIasXiHQG"
      },
      "source": [
        "# Text Classification: Classify Faculty from Chula courses description"
      ]
    },
    {
      "cell_type": "markdown",
      "metadata": {
        "id": "GOQA6mdL7u5E",
        "tags": []
      },
      "source": [
        "## Import libraries and Data"
      ]
    },
    {
      "cell_type": "code",
      "metadata": {
        "id": "S4Lno-ge4Fw7"
      },
      "source": [
        "# from google.colab import drive\n",
        "# drive.mount('/content/drive')"
      ],
      "execution_count": 1,
      "outputs": []
    },
    {
      "cell_type": "code",
      "metadata": {
        "colab": {
          "base_uri": "https://localhost:8080/"
        },
        "id": "-dCiY3E_fbQk",
        "outputId": "242661ac-53c8-41b9-9866-3a0f69e24384"
      },
      "source": [
        "## Uncomment if used in Google Colab\n",
        "!git init .\n",
        "!git remote add origin https://github.com/new5558/Chula-course-recommender-proof-of-concept\n",
        "!git pull origin master\n",
        "!pip install -r requirements.txt"
      ],
      "execution_count": 2,
      "outputs": [
        {
          "output_type": "stream",
          "name": "stdout",
          "text": [
            "Reinitialized existing Git repository in /content/.git/\n",
            "fatal: remote origin already exists.\n",
            "From https://github.com/new5558/Chula-course-recommender-proof-of-concept\n",
            " * branch            master     -> FETCH_HEAD\n",
            "Already up to date.\n",
            "Requirement already satisfied: langdetect==1.0.9 in /usr/local/lib/python3.7/dist-packages (from -r requirements.txt (line 1)) (1.0.9)\n",
            "Requirement already satisfied: pythainlp==2.3.2 in /usr/local/lib/python3.7/dist-packages (from -r requirements.txt (line 2)) (2.3.2)\n",
            "Requirement already satisfied: tqdm==4.62.3 in /usr/local/lib/python3.7/dist-packages (from -r requirements.txt (line 3)) (4.62.3)\n",
            "Requirement already satisfied: scikit-learn==0.23.2 in /usr/local/lib/python3.7/dist-packages (from -r requirements.txt (line 4)) (0.23.2)\n",
            "Requirement already satisfied: scikit-optimize==0.9.0 in /usr/local/lib/python3.7/dist-packages (from -r requirements.txt (line 5)) (0.9.0)\n",
            "Requirement already satisfied: jupyterlab==3.2.4 in /usr/local/lib/python3.7/dist-packages (from -r requirements.txt (line 6)) (3.2.4)\n",
            "Requirement already satisfied: ipywidgets==7.6.5 in /usr/local/lib/python3.7/dist-packages (from -r requirements.txt (line 7)) (7.6.5)\n",
            "Requirement already satisfied: seaborn==0.11.2 in /usr/local/lib/python3.7/dist-packages (from -r requirements.txt (line 8)) (0.11.2)\n",
            "Requirement already satisfied: beautifulsoup4==4.10.0 in /usr/local/lib/python3.7/dist-packages (from -r requirements.txt (line 9)) (4.10.0)\n",
            "Requirement already satisfied: gensim==4.1.2 in /usr/local/lib/python3.7/dist-packages (from -r requirements.txt (line 10)) (4.1.2)\n",
            "Requirement already satisfied: deepcut in /usr/local/lib/python3.7/dist-packages (from -r requirements.txt (line 11)) (0.7.0.0)\n",
            "Requirement already satisfied: six in /usr/local/lib/python3.7/dist-packages (from langdetect==1.0.9->-r requirements.txt (line 1)) (1.15.0)\n",
            "Requirement already satisfied: requests>=2.22.0 in /usr/local/lib/python3.7/dist-packages (from pythainlp==2.3.2->-r requirements.txt (line 2)) (2.23.0)\n",
            "Requirement already satisfied: python-crfsuite>=0.9.6 in /usr/local/lib/python3.7/dist-packages (from pythainlp==2.3.2->-r requirements.txt (line 2)) (0.9.7)\n",
            "Requirement already satisfied: tinydb>=3.0 in /usr/local/lib/python3.7/dist-packages (from pythainlp==2.3.2->-r requirements.txt (line 2)) (4.5.2)\n",
            "Requirement already satisfied: numpy>=1.13.3 in /usr/local/lib/python3.7/dist-packages (from scikit-learn==0.23.2->-r requirements.txt (line 4)) (1.19.5)\n",
            "Requirement already satisfied: scipy>=0.19.1 in /usr/local/lib/python3.7/dist-packages (from scikit-learn==0.23.2->-r requirements.txt (line 4)) (1.4.1)\n",
            "Requirement already satisfied: threadpoolctl>=2.0.0 in /usr/local/lib/python3.7/dist-packages (from scikit-learn==0.23.2->-r requirements.txt (line 4)) (3.0.0)\n",
            "Requirement already satisfied: joblib>=0.11 in /usr/local/lib/python3.7/dist-packages (from scikit-learn==0.23.2->-r requirements.txt (line 4)) (1.1.0)\n",
            "Requirement already satisfied: pyaml>=16.9 in /usr/local/lib/python3.7/dist-packages (from scikit-optimize==0.9.0->-r requirements.txt (line 5)) (21.10.1)\n",
            "Requirement already satisfied: nbclassic~=0.2 in /usr/local/lib/python3.7/dist-packages (from jupyterlab==3.2.4->-r requirements.txt (line 6)) (0.3.4)\n",
            "Requirement already satisfied: jupyterlab-server~=2.3 in /usr/local/lib/python3.7/dist-packages (from jupyterlab==3.2.4->-r requirements.txt (line 6)) (2.8.2)\n",
            "Requirement already satisfied: ipython in /usr/local/lib/python3.7/dist-packages (from jupyterlab==3.2.4->-r requirements.txt (line 6)) (5.5.0)\n",
            "Requirement already satisfied: jinja2>=2.1 in /usr/local/lib/python3.7/dist-packages (from jupyterlab==3.2.4->-r requirements.txt (line 6)) (2.11.3)\n",
            "Requirement already satisfied: jupyter-server~=1.4 in /usr/local/lib/python3.7/dist-packages (from jupyterlab==3.2.4->-r requirements.txt (line 6)) (1.12.1)\n",
            "Requirement already satisfied: packaging in /usr/local/lib/python3.7/dist-packages (from jupyterlab==3.2.4->-r requirements.txt (line 6)) (21.3)\n",
            "Requirement already satisfied: tornado>=6.1.0 in /usr/local/lib/python3.7/dist-packages (from jupyterlab==3.2.4->-r requirements.txt (line 6)) (6.1)\n",
            "Requirement already satisfied: jupyter-core in /usr/local/lib/python3.7/dist-packages (from jupyterlab==3.2.4->-r requirements.txt (line 6)) (4.9.1)\n",
            "Requirement already satisfied: ipykernel>=4.5.1 in /usr/local/lib/python3.7/dist-packages (from ipywidgets==7.6.5->-r requirements.txt (line 7)) (4.10.1)\n",
            "Requirement already satisfied: widgetsnbextension~=3.5.0 in /usr/local/lib/python3.7/dist-packages (from ipywidgets==7.6.5->-r requirements.txt (line 7)) (3.5.2)\n",
            "Requirement already satisfied: jupyterlab-widgets>=1.0.0 in /usr/local/lib/python3.7/dist-packages (from ipywidgets==7.6.5->-r requirements.txt (line 7)) (1.0.2)\n",
            "Requirement already satisfied: traitlets>=4.3.1 in /usr/local/lib/python3.7/dist-packages (from ipywidgets==7.6.5->-r requirements.txt (line 7)) (5.1.1)\n",
            "Requirement already satisfied: ipython-genutils~=0.2.0 in /usr/local/lib/python3.7/dist-packages (from ipywidgets==7.6.5->-r requirements.txt (line 7)) (0.2.0)\n",
            "Requirement already satisfied: nbformat>=4.2.0 in /usr/local/lib/python3.7/dist-packages (from ipywidgets==7.6.5->-r requirements.txt (line 7)) (5.1.3)\n",
            "Requirement already satisfied: pandas>=0.23 in /usr/local/lib/python3.7/dist-packages (from seaborn==0.11.2->-r requirements.txt (line 8)) (1.1.5)\n",
            "Requirement already satisfied: matplotlib>=2.2 in /usr/local/lib/python3.7/dist-packages (from seaborn==0.11.2->-r requirements.txt (line 8)) (3.2.2)\n",
            "Requirement already satisfied: soupsieve>1.2 in /usr/local/lib/python3.7/dist-packages (from beautifulsoup4==4.10.0->-r requirements.txt (line 9)) (2.3.1)\n",
            "Requirement already satisfied: smart-open>=1.8.1 in /usr/local/lib/python3.7/dist-packages (from gensim==4.1.2->-r requirements.txt (line 10)) (5.2.1)\n",
            "Requirement already satisfied: jupyter-client in /usr/local/lib/python3.7/dist-packages (from ipykernel>=4.5.1->ipywidgets==7.6.5->-r requirements.txt (line 7)) (7.1.0)\n",
            "Requirement already satisfied: prompt-toolkit<2.0.0,>=1.0.4 in /usr/local/lib/python3.7/dist-packages (from ipython->jupyterlab==3.2.4->-r requirements.txt (line 6)) (1.0.18)\n",
            "Requirement already satisfied: decorator in /usr/local/lib/python3.7/dist-packages (from ipython->jupyterlab==3.2.4->-r requirements.txt (line 6)) (4.4.2)\n",
            "Requirement already satisfied: pexpect in /usr/local/lib/python3.7/dist-packages (from ipython->jupyterlab==3.2.4->-r requirements.txt (line 6)) (4.8.0)\n",
            "Requirement already satisfied: pickleshare in /usr/local/lib/python3.7/dist-packages (from ipython->jupyterlab==3.2.4->-r requirements.txt (line 6)) (0.7.5)\n",
            "Requirement already satisfied: simplegeneric>0.8 in /usr/local/lib/python3.7/dist-packages (from ipython->jupyterlab==3.2.4->-r requirements.txt (line 6)) (0.8.1)\n",
            "Requirement already satisfied: setuptools>=18.5 in /usr/local/lib/python3.7/dist-packages (from ipython->jupyterlab==3.2.4->-r requirements.txt (line 6)) (57.4.0)\n",
            "Requirement already satisfied: pygments in /usr/local/lib/python3.7/dist-packages (from ipython->jupyterlab==3.2.4->-r requirements.txt (line 6)) (2.6.1)\n",
            "Requirement already satisfied: MarkupSafe>=0.23 in /usr/local/lib/python3.7/dist-packages (from jinja2>=2.1->jupyterlab==3.2.4->-r requirements.txt (line 6)) (2.0.1)\n",
            "Requirement already satisfied: terminado>=0.8.3 in /usr/local/lib/python3.7/dist-packages (from jupyter-server~=1.4->jupyterlab==3.2.4->-r requirements.txt (line 6)) (0.12.1)\n",
            "Requirement already satisfied: nbconvert in /usr/local/lib/python3.7/dist-packages (from jupyter-server~=1.4->jupyterlab==3.2.4->-r requirements.txt (line 6)) (5.6.1)\n",
            "Requirement already satisfied: anyio<4,>=3.1.0 in /usr/local/lib/python3.7/dist-packages (from jupyter-server~=1.4->jupyterlab==3.2.4->-r requirements.txt (line 6)) (3.4.0)\n",
            "Requirement already satisfied: pyzmq>=17 in /usr/local/lib/python3.7/dist-packages (from jupyter-server~=1.4->jupyterlab==3.2.4->-r requirements.txt (line 6)) (22.3.0)\n",
            "Requirement already satisfied: Send2Trash in /usr/local/lib/python3.7/dist-packages (from jupyter-server~=1.4->jupyterlab==3.2.4->-r requirements.txt (line 6)) (1.8.0)\n",
            "Requirement already satisfied: argon2-cffi in /usr/local/lib/python3.7/dist-packages (from jupyter-server~=1.4->jupyterlab==3.2.4->-r requirements.txt (line 6)) (21.1.0)\n",
            "Requirement already satisfied: prometheus-client in /usr/local/lib/python3.7/dist-packages (from jupyter-server~=1.4->jupyterlab==3.2.4->-r requirements.txt (line 6)) (0.12.0)\n",
            "Requirement already satisfied: websocket-client in /usr/local/lib/python3.7/dist-packages (from jupyter-server~=1.4->jupyterlab==3.2.4->-r requirements.txt (line 6)) (1.2.1)\n",
            "Requirement already satisfied: typing-extensions in /usr/local/lib/python3.7/dist-packages (from anyio<4,>=3.1.0->jupyter-server~=1.4->jupyterlab==3.2.4->-r requirements.txt (line 6)) (3.10.0.2)\n",
            "Requirement already satisfied: idna>=2.8 in /usr/local/lib/python3.7/dist-packages (from anyio<4,>=3.1.0->jupyter-server~=1.4->jupyterlab==3.2.4->-r requirements.txt (line 6)) (2.10)\n",
            "Requirement already satisfied: sniffio>=1.1 in /usr/local/lib/python3.7/dist-packages (from anyio<4,>=3.1.0->jupyter-server~=1.4->jupyterlab==3.2.4->-r requirements.txt (line 6)) (1.2.0)\n",
            "Requirement already satisfied: python-dateutil>=2.1 in /usr/local/lib/python3.7/dist-packages (from jupyter-client->ipykernel>=4.5.1->ipywidgets==7.6.5->-r requirements.txt (line 7)) (2.8.2)\n",
            "Requirement already satisfied: entrypoints in /usr/local/lib/python3.7/dist-packages (from jupyter-client->ipykernel>=4.5.1->ipywidgets==7.6.5->-r requirements.txt (line 7)) (0.3)\n",
            "Requirement already satisfied: nest-asyncio>=1.5 in /usr/local/lib/python3.7/dist-packages (from jupyter-client->ipykernel>=4.5.1->ipywidgets==7.6.5->-r requirements.txt (line 7)) (1.5.1)\n",
            "Requirement already satisfied: json5 in /usr/local/lib/python3.7/dist-packages (from jupyterlab-server~=2.3->jupyterlab==3.2.4->-r requirements.txt (line 6)) (0.9.6)\n",
            "Requirement already satisfied: babel in /usr/local/lib/python3.7/dist-packages (from jupyterlab-server~=2.3->jupyterlab==3.2.4->-r requirements.txt (line 6)) (2.9.1)\n",
            "Requirement already satisfied: jsonschema>=3.0.1 in /usr/local/lib/python3.7/dist-packages (from jupyterlab-server~=2.3->jupyterlab==3.2.4->-r requirements.txt (line 6)) (4.2.1)\n",
            "Requirement already satisfied: importlib-metadata in /usr/local/lib/python3.7/dist-packages (from jsonschema>=3.0.1->jupyterlab-server~=2.3->jupyterlab==3.2.4->-r requirements.txt (line 6)) (4.8.2)\n",
            "Requirement already satisfied: attrs>=17.4.0 in /usr/local/lib/python3.7/dist-packages (from jsonschema>=3.0.1->jupyterlab-server~=2.3->jupyterlab==3.2.4->-r requirements.txt (line 6)) (21.2.0)\n",
            "Requirement already satisfied: importlib-resources>=1.4.0 in /usr/local/lib/python3.7/dist-packages (from jsonschema>=3.0.1->jupyterlab-server~=2.3->jupyterlab==3.2.4->-r requirements.txt (line 6)) (5.4.0)\n",
            "Requirement already satisfied: pyrsistent!=0.17.0,!=0.17.1,!=0.17.2,>=0.14.0 in /usr/local/lib/python3.7/dist-packages (from jsonschema>=3.0.1->jupyterlab-server~=2.3->jupyterlab==3.2.4->-r requirements.txt (line 6)) (0.18.0)\n",
            "Requirement already satisfied: zipp>=3.1.0 in /usr/local/lib/python3.7/dist-packages (from importlib-resources>=1.4.0->jsonschema>=3.0.1->jupyterlab-server~=2.3->jupyterlab==3.2.4->-r requirements.txt (line 6)) (3.6.0)\n",
            "Requirement already satisfied: cycler>=0.10 in /usr/local/lib/python3.7/dist-packages (from matplotlib>=2.2->seaborn==0.11.2->-r requirements.txt (line 8)) (0.11.0)\n",
            "Requirement already satisfied: kiwisolver>=1.0.1 in /usr/local/lib/python3.7/dist-packages (from matplotlib>=2.2->seaborn==0.11.2->-r requirements.txt (line 8)) (1.3.2)\n",
            "Requirement already satisfied: pyparsing!=2.0.4,!=2.1.2,!=2.1.6,>=2.0.1 in /usr/local/lib/python3.7/dist-packages (from matplotlib>=2.2->seaborn==0.11.2->-r requirements.txt (line 8)) (3.0.6)\n",
            "Requirement already satisfied: notebook<7 in /usr/local/lib/python3.7/dist-packages (from nbclassic~=0.2->jupyterlab==3.2.4->-r requirements.txt (line 6)) (5.3.1)\n",
            "Requirement already satisfied: pytz>=2017.2 in /usr/local/lib/python3.7/dist-packages (from pandas>=0.23->seaborn==0.11.2->-r requirements.txt (line 8)) (2018.9)\n",
            "Requirement already satisfied: wcwidth in /usr/local/lib/python3.7/dist-packages (from prompt-toolkit<2.0.0,>=1.0.4->ipython->jupyterlab==3.2.4->-r requirements.txt (line 6)) (0.2.5)\n",
            "Requirement already satisfied: PyYAML in /usr/local/lib/python3.7/dist-packages (from pyaml>=16.9->scikit-optimize==0.9.0->-r requirements.txt (line 5)) (3.13)\n",
            "Requirement already satisfied: chardet<4,>=3.0.2 in /usr/local/lib/python3.7/dist-packages (from requests>=2.22.0->pythainlp==2.3.2->-r requirements.txt (line 2)) (3.0.4)\n",
            "Requirement already satisfied: certifi>=2017.4.17 in /usr/local/lib/python3.7/dist-packages (from requests>=2.22.0->pythainlp==2.3.2->-r requirements.txt (line 2)) (2021.10.8)\n",
            "Requirement already satisfied: urllib3!=1.25.0,!=1.25.1,<1.26,>=1.21.1 in /usr/local/lib/python3.7/dist-packages (from requests>=2.22.0->pythainlp==2.3.2->-r requirements.txt (line 2)) (1.24.3)\n",
            "Requirement already satisfied: ptyprocess in /usr/local/lib/python3.7/dist-packages (from terminado>=0.8.3->jupyter-server~=1.4->jupyterlab==3.2.4->-r requirements.txt (line 6)) (0.7.0)\n",
            "Requirement already satisfied: tensorflow>=2.0.0 in /usr/local/lib/python3.7/dist-packages (from deepcut->-r requirements.txt (line 11)) (2.7.0)\n",
            "Requirement already satisfied: h5py in /usr/local/lib/python3.7/dist-packages (from deepcut->-r requirements.txt (line 11)) (3.1.0)\n",
            "Requirement already satisfied: protobuf>=3.9.2 in /usr/local/lib/python3.7/dist-packages (from tensorflow>=2.0.0->deepcut->-r requirements.txt (line 11)) (3.17.3)\n",
            "Requirement already satisfied: gast<0.5.0,>=0.2.1 in /usr/local/lib/python3.7/dist-packages (from tensorflow>=2.0.0->deepcut->-r requirements.txt (line 11)) (0.4.0)\n",
            "Requirement already satisfied: tensorboard~=2.6 in /usr/local/lib/python3.7/dist-packages (from tensorflow>=2.0.0->deepcut->-r requirements.txt (line 11)) (2.7.0)\n",
            "Requirement already satisfied: tensorflow-io-gcs-filesystem>=0.21.0 in /usr/local/lib/python3.7/dist-packages (from tensorflow>=2.0.0->deepcut->-r requirements.txt (line 11)) (0.22.0)\n",
            "Requirement already satisfied: astunparse>=1.6.0 in /usr/local/lib/python3.7/dist-packages (from tensorflow>=2.0.0->deepcut->-r requirements.txt (line 11)) (1.6.3)\n",
            "Requirement already satisfied: opt-einsum>=2.3.2 in /usr/local/lib/python3.7/dist-packages (from tensorflow>=2.0.0->deepcut->-r requirements.txt (line 11)) (3.3.0)\n",
            "Requirement already satisfied: libclang>=9.0.1 in /usr/local/lib/python3.7/dist-packages (from tensorflow>=2.0.0->deepcut->-r requirements.txt (line 11)) (12.0.0)\n",
            "Requirement already satisfied: flatbuffers<3.0,>=1.12 in /usr/local/lib/python3.7/dist-packages (from tensorflow>=2.0.0->deepcut->-r requirements.txt (line 11)) (2.0)\n",
            "Requirement already satisfied: keras<2.8,>=2.7.0rc0 in /usr/local/lib/python3.7/dist-packages (from tensorflow>=2.0.0->deepcut->-r requirements.txt (line 11)) (2.7.0)\n",
            "Requirement already satisfied: google-pasta>=0.1.1 in /usr/local/lib/python3.7/dist-packages (from tensorflow>=2.0.0->deepcut->-r requirements.txt (line 11)) (0.2.0)\n",
            "Requirement already satisfied: grpcio<2.0,>=1.24.3 in /usr/local/lib/python3.7/dist-packages (from tensorflow>=2.0.0->deepcut->-r requirements.txt (line 11)) (1.42.0)\n",
            "Requirement already satisfied: wheel<1.0,>=0.32.0 in /usr/local/lib/python3.7/dist-packages (from tensorflow>=2.0.0->deepcut->-r requirements.txt (line 11)) (0.37.0)\n",
            "Requirement already satisfied: termcolor>=1.1.0 in /usr/local/lib/python3.7/dist-packages (from tensorflow>=2.0.0->deepcut->-r requirements.txt (line 11)) (1.1.0)\n",
            "Requirement already satisfied: wrapt>=1.11.0 in /usr/local/lib/python3.7/dist-packages (from tensorflow>=2.0.0->deepcut->-r requirements.txt (line 11)) (1.13.3)\n",
            "Requirement already satisfied: tensorflow-estimator<2.8,~=2.7.0rc0 in /usr/local/lib/python3.7/dist-packages (from tensorflow>=2.0.0->deepcut->-r requirements.txt (line 11)) (2.7.0)\n",
            "Requirement already satisfied: absl-py>=0.4.0 in /usr/local/lib/python3.7/dist-packages (from tensorflow>=2.0.0->deepcut->-r requirements.txt (line 11)) (0.12.0)\n",
            "Requirement already satisfied: keras-preprocessing>=1.1.1 in /usr/local/lib/python3.7/dist-packages (from tensorflow>=2.0.0->deepcut->-r requirements.txt (line 11)) (1.1.2)\n",
            "Requirement already satisfied: cached-property in /usr/local/lib/python3.7/dist-packages (from h5py->deepcut->-r requirements.txt (line 11)) (1.5.2)\n",
            "Requirement already satisfied: werkzeug>=0.11.15 in /usr/local/lib/python3.7/dist-packages (from tensorboard~=2.6->tensorflow>=2.0.0->deepcut->-r requirements.txt (line 11)) (1.0.1)\n",
            "Requirement already satisfied: google-auth-oauthlib<0.5,>=0.4.1 in /usr/local/lib/python3.7/dist-packages (from tensorboard~=2.6->tensorflow>=2.0.0->deepcut->-r requirements.txt (line 11)) (0.4.6)\n",
            "Requirement already satisfied: tensorboard-data-server<0.7.0,>=0.6.0 in /usr/local/lib/python3.7/dist-packages (from tensorboard~=2.6->tensorflow>=2.0.0->deepcut->-r requirements.txt (line 11)) (0.6.1)\n",
            "Requirement already satisfied: markdown>=2.6.8 in /usr/local/lib/python3.7/dist-packages (from tensorboard~=2.6->tensorflow>=2.0.0->deepcut->-r requirements.txt (line 11)) (3.3.6)\n",
            "Requirement already satisfied: tensorboard-plugin-wit>=1.6.0 in /usr/local/lib/python3.7/dist-packages (from tensorboard~=2.6->tensorflow>=2.0.0->deepcut->-r requirements.txt (line 11)) (1.8.0)\n",
            "Requirement already satisfied: google-auth<3,>=1.6.3 in /usr/local/lib/python3.7/dist-packages (from tensorboard~=2.6->tensorflow>=2.0.0->deepcut->-r requirements.txt (line 11)) (1.35.0)\n",
            "Requirement already satisfied: rsa<5,>=3.1.4 in /usr/local/lib/python3.7/dist-packages (from google-auth<3,>=1.6.3->tensorboard~=2.6->tensorflow>=2.0.0->deepcut->-r requirements.txt (line 11)) (4.7.2)\n",
            "Requirement already satisfied: cachetools<5.0,>=2.0.0 in /usr/local/lib/python3.7/dist-packages (from google-auth<3,>=1.6.3->tensorboard~=2.6->tensorflow>=2.0.0->deepcut->-r requirements.txt (line 11)) (4.2.4)\n",
            "Requirement already satisfied: pyasn1-modules>=0.2.1 in /usr/local/lib/python3.7/dist-packages (from google-auth<3,>=1.6.3->tensorboard~=2.6->tensorflow>=2.0.0->deepcut->-r requirements.txt (line 11)) (0.2.8)\n",
            "Requirement already satisfied: requests-oauthlib>=0.7.0 in /usr/local/lib/python3.7/dist-packages (from google-auth-oauthlib<0.5,>=0.4.1->tensorboard~=2.6->tensorflow>=2.0.0->deepcut->-r requirements.txt (line 11)) (1.3.0)\n",
            "Requirement already satisfied: pyasn1<0.5.0,>=0.4.6 in /usr/local/lib/python3.7/dist-packages (from pyasn1-modules>=0.2.1->google-auth<3,>=1.6.3->tensorboard~=2.6->tensorflow>=2.0.0->deepcut->-r requirements.txt (line 11)) (0.4.8)\n",
            "Requirement already satisfied: oauthlib>=3.0.0 in /usr/local/lib/python3.7/dist-packages (from requests-oauthlib>=0.7.0->google-auth-oauthlib<0.5,>=0.4.1->tensorboard~=2.6->tensorflow>=2.0.0->deepcut->-r requirements.txt (line 11)) (3.1.1)\n",
            "Requirement already satisfied: cffi>=1.0.0 in /usr/local/lib/python3.7/dist-packages (from argon2-cffi->jupyter-server~=1.4->jupyterlab==3.2.4->-r requirements.txt (line 6)) (1.15.0)\n",
            "Requirement already satisfied: pycparser in /usr/local/lib/python3.7/dist-packages (from cffi>=1.0.0->argon2-cffi->jupyter-server~=1.4->jupyterlab==3.2.4->-r requirements.txt (line 6)) (2.21)\n",
            "Requirement already satisfied: bleach in /usr/local/lib/python3.7/dist-packages (from nbconvert->jupyter-server~=1.4->jupyterlab==3.2.4->-r requirements.txt (line 6)) (4.1.0)\n",
            "Requirement already satisfied: pandocfilters>=1.4.1 in /usr/local/lib/python3.7/dist-packages (from nbconvert->jupyter-server~=1.4->jupyterlab==3.2.4->-r requirements.txt (line 6)) (1.5.0)\n",
            "Requirement already satisfied: testpath in /usr/local/lib/python3.7/dist-packages (from nbconvert->jupyter-server~=1.4->jupyterlab==3.2.4->-r requirements.txt (line 6)) (0.5.0)\n",
            "Requirement already satisfied: mistune<2,>=0.8.1 in /usr/local/lib/python3.7/dist-packages (from nbconvert->jupyter-server~=1.4->jupyterlab==3.2.4->-r requirements.txt (line 6)) (0.8.4)\n",
            "Requirement already satisfied: defusedxml in /usr/local/lib/python3.7/dist-packages (from nbconvert->jupyter-server~=1.4->jupyterlab==3.2.4->-r requirements.txt (line 6)) (0.7.1)\n",
            "Requirement already satisfied: webencodings in /usr/local/lib/python3.7/dist-packages (from bleach->nbconvert->jupyter-server~=1.4->jupyterlab==3.2.4->-r requirements.txt (line 6)) (0.5.1)\n"
          ]
        }
      ]
    },
    {
      "cell_type": "code",
      "metadata": {
        "colab": {
          "base_uri": "https://localhost:8080/"
        },
        "id": "aq2D5w6Z54jP",
        "outputId": "ea28fac0-31f2-448f-b3a5-b143d28f742c"
      },
      "source": [
        "import pandas as pd\n",
        "from langdetect import detect\n",
        "from tqdm import tqdm\n",
        "from tqdm.autonotebook import tqdm\n",
        "\n",
        "import multiprocessing as mp\n",
        "import skopt\n",
        "import numpy as np\n",
        "from sklearn.preprocessing import OneHotEncoder\n",
        "\n",
        "tqdm.pandas()"
      ],
      "execution_count": 3,
      "outputs": [
        {
          "output_type": "stream",
          "name": "stderr",
          "text": [
            "/usr/local/lib/python3.7/dist-packages/ipykernel_launcher.py:4: TqdmExperimentalWarning: Using `tqdm.autonotebook.tqdm` in notebook mode. Use `tqdm.tqdm` instead to force console mode (e.g. in jupyter console)\n",
            "  after removing the cwd from sys.path.\n"
          ]
        }
      ]
    },
    {
      "cell_type": "code",
      "metadata": {
        "colab": {
          "base_uri": "https://localhost:8080/",
          "height": 0
        },
        "id": "gS5_yXfOm9oa",
        "outputId": "4172e0ef-f174-45a8-87ad-81eecfdd03ce"
      },
      "source": [
        "import os\n",
        "os.getcwd()"
      ],
      "execution_count": 4,
      "outputs": [
        {
          "output_type": "execute_result",
          "data": {
            "application/vnd.google.colaboratory.intrinsic+json": {
              "type": "string"
            },
            "text/plain": [
              "'/content'"
            ]
          },
          "metadata": {},
          "execution_count": 4
        }
      ]
    },
    {
      "cell_type": "code",
      "metadata": {
        "id": "SRp-mF-_4K44"
      },
      "source": [
        "dtype_dic= {'course_no': str, 'program_code': str}\n",
        "\n",
        "courses_df = pd.read_csv('./data/course_chula_full.csv', index_col=0)\n",
        "program_courses_thai_df = pd.read_csv('./data/program_courses_thai.csv', dtype=dtype_dic, index_col=0)"
      ],
      "execution_count": 5,
      "outputs": []
    },
    {
      "cell_type": "code",
      "metadata": {
        "colab": {
          "base_uri": "https://localhost:8080/",
          "height": 0
        },
        "id": "uTbVTWbV6agT",
        "outputId": "6b543c2c-7aa7-439b-ef23-0dd81e3beb04"
      },
      "source": [
        "courses_df"
      ],
      "execution_count": 6,
      "outputs": [
        {
          "output_type": "execute_result",
          "data": {
            "text/html": [
              "<div>\n",
              "<style scoped>\n",
              "    .dataframe tbody tr th:only-of-type {\n",
              "        vertical-align: middle;\n",
              "    }\n",
              "\n",
              "    .dataframe tbody tr th {\n",
              "        vertical-align: top;\n",
              "    }\n",
              "\n",
              "    .dataframe thead th {\n",
              "        text-align: right;\n",
              "    }\n",
              "</style>\n",
              "<table border=\"1\" class=\"dataframe\">\n",
              "  <thead>\n",
              "    <tr style=\"text-align: right;\">\n",
              "      <th></th>\n",
              "      <th>course_no</th>\n",
              "      <th>course_name</th>\n",
              "      <th>course_abberviation</th>\n",
              "      <th>description</th>\n",
              "      <th>course_name_thai</th>\n",
              "      <th>description_thai</th>\n",
              "    </tr>\n",
              "  </thead>\n",
              "  <tbody>\n",
              "    <tr>\n",
              "      <th>0</th>\n",
              "      <td>2000503</td>\n",
              "      <td>Research Ethics</td>\n",
              "      <td>RESEARCH ETHICS</td>\n",
              "      <td>Definition of research and research ethics; da...</td>\n",
              "      <td>จริยธรรมการวิจัย</td>\n",
              "      <td>ความหมายของงานวิจัยและจริยธรรมการวิจัย การได้ม...</td>\n",
              "    </tr>\n",
              "    <tr>\n",
              "      <th>1</th>\n",
              "      <td>2000504</td>\n",
              "      <td>Social Change Initiative Implementation</td>\n",
              "      <td>SOC CHG IMP</td>\n",
              "      <td>Principle on social change initiative towards ...</td>\n",
              "      <td>การดําเนินงานตามแผนปฏิบัติการเพื่อการเปลี่ยนแป...</td>\n",
              "      <td>หลักการการริเริ่มการเปลี่ยนแปลงของสังคมโลกที่ม...</td>\n",
              "    </tr>\n",
              "    <tr>\n",
              "      <th>2</th>\n",
              "      <td>2000601</td>\n",
              "      <td>CORPORATE GOVERNANCE</td>\n",
              "      <td>CORP GOVERNANCE</td>\n",
              "      <td>-</td>\n",
              "      <td>กิจการภิบาล</td>\n",
              "      <td>ภาพรวมของกิจการภิบาล ปัญหาและต้นทุนของตัวแทน ก...</td>\n",
              "    </tr>\n",
              "    <tr>\n",
              "      <th>3</th>\n",
              "      <td>2000611</td>\n",
              "      <td>Study Abroad I</td>\n",
              "      <td>STUDY ABROAD I</td>\n",
              "      <td>Study additional courses abroad according to t...</td>\n",
              "      <td>การศึกษาต่างประเทศ 1</td>\n",
              "      <td>การศึกษารายวิชาเพิ่มเติมในต่างประเทศตามที่หลัก...</td>\n",
              "    </tr>\n",
              "    <tr>\n",
              "      <th>4</th>\n",
              "      <td>2000612</td>\n",
              "      <td>Study Abroad II</td>\n",
              "      <td>STUDY ABROAD II</td>\n",
              "      <td>Study additional courses abroad according to t...</td>\n",
              "      <td>การศึกษาต่างประเทศ 2</td>\n",
              "      <td>การศึกษารายวิชาเพิ่มเติมในต่างประเทศตามที่หลัก...</td>\n",
              "    </tr>\n",
              "    <tr>\n",
              "      <th>...</th>\n",
              "      <td>...</td>\n",
              "      <td>...</td>\n",
              "      <td>...</td>\n",
              "      <td>...</td>\n",
              "      <td>...</td>\n",
              "      <td>...</td>\n",
              "    </tr>\n",
              "    <tr>\n",
              "      <th>25249</th>\n",
              "      <td>JDBA931</td>\n",
              "      <td>READING AND CONFERENCES IN TERNATIONAL BUSINESS</td>\n",
              "      <td>-</td>\n",
              "      <td>Advanced or specialized topics in internationa...</td>\n",
              "      <td>-</td>\n",
              "      <td>-</td>\n",
              "    </tr>\n",
              "    <tr>\n",
              "      <th>25250</th>\n",
              "      <td>JDBA936</td>\n",
              "      <td>DISSERTATION</td>\n",
              "      <td>-</td>\n",
              "      <td>This course is for the doctoral students who a...</td>\n",
              "      <td>-</td>\n",
              "      <td>-</td>\n",
              "    </tr>\n",
              "    <tr>\n",
              "      <th>25251</th>\n",
              "      <td>JDBA941</td>\n",
              "      <td>READING AND CONFERENCES IN MARKETING</td>\n",
              "      <td>-</td>\n",
              "      <td>Advanced or specialized topics in marketing wh...</td>\n",
              "      <td>-</td>\n",
              "      <td>-</td>\n",
              "    </tr>\n",
              "    <tr>\n",
              "      <th>25252</th>\n",
              "      <td>JDBA946</td>\n",
              "      <td>DISSERTATION</td>\n",
              "      <td>-</td>\n",
              "      <td>This course is for the doctoral students who a...</td>\n",
              "      <td>-</td>\n",
              "      <td>-</td>\n",
              "    </tr>\n",
              "    <tr>\n",
              "      <th>25253</th>\n",
              "      <td>PSYC201</td>\n",
              "      <td>Psychological Research Method II</td>\n",
              "      <td>-</td>\n",
              "      <td>The aim of this course is to provide students ...</td>\n",
              "      <td>-</td>\n",
              "      <td>-</td>\n",
              "    </tr>\n",
              "  </tbody>\n",
              "</table>\n",
              "<p>25254 rows × 6 columns</p>\n",
              "</div>"
            ],
            "text/plain": [
              "      course_no  ...                                   description_thai\n",
              "0       2000503  ...  ความหมายของงานวิจัยและจริยธรรมการวิจัย การได้ม...\n",
              "1       2000504  ...  หลักการการริเริ่มการเปลี่ยนแปลงของสังคมโลกที่ม...\n",
              "2       2000601  ...  ภาพรวมของกิจการภิบาล ปัญหาและต้นทุนของตัวแทน ก...\n",
              "3       2000611  ...  การศึกษารายวิชาเพิ่มเติมในต่างประเทศตามที่หลัก...\n",
              "4       2000612  ...  การศึกษารายวิชาเพิ่มเติมในต่างประเทศตามที่หลัก...\n",
              "...         ...  ...                                                ...\n",
              "25249   JDBA931  ...                                                  -\n",
              "25250   JDBA936  ...                                                  -\n",
              "25251   JDBA941  ...                                                  -\n",
              "25252   JDBA946  ...                                                  -\n",
              "25253   PSYC201  ...                                                  -\n",
              "\n",
              "[25254 rows x 6 columns]"
            ]
          },
          "metadata": {},
          "execution_count": 6
        }
      ]
    },
    {
      "cell_type": "code",
      "metadata": {
        "id": "YHNhbg5i1vW-",
        "outputId": "b6a7c046-aa04-44be-a0d8-fe72d55ccbf1",
        "colab": {
          "base_uri": "https://localhost:8080/",
          "height": 0
        }
      },
      "source": [
        "program_courses_thai_df"
      ],
      "execution_count": 7,
      "outputs": [
        {
          "output_type": "execute_result",
          "data": {
            "text/html": [
              "<div>\n",
              "<style scoped>\n",
              "    .dataframe tbody tr th:only-of-type {\n",
              "        vertical-align: middle;\n",
              "    }\n",
              "\n",
              "    .dataframe tbody tr th {\n",
              "        vertical-align: top;\n",
              "    }\n",
              "\n",
              "    .dataframe thead th {\n",
              "        text-align: right;\n",
              "    }\n",
              "</style>\n",
              "<table border=\"1\" class=\"dataframe\">\n",
              "  <thead>\n",
              "    <tr style=\"text-align: right;\">\n",
              "      <th></th>\n",
              "      <th>tag</th>\n",
              "      <th>course_no</th>\n",
              "      <th>program_code</th>\n",
              "    </tr>\n",
              "  </thead>\n",
              "  <tbody>\n",
              "    <tr>\n",
              "      <th>0</th>\n",
              "      <td>กลุ่มวิชาภาษาต่างประเทศ</td>\n",
              "      <td>5501112</td>\n",
              "      <td>121001</td>\n",
              "    </tr>\n",
              "    <tr>\n",
              "      <th>1</th>\n",
              "      <td>กลุ่มวิชาภาษาต่างประเทศ</td>\n",
              "      <td>5501123</td>\n",
              "      <td>121001</td>\n",
              "    </tr>\n",
              "    <tr>\n",
              "      <th>2</th>\n",
              "      <td>กลุ่มวิชาภาษาต่างประเทศ</td>\n",
              "      <td>5501214</td>\n",
              "      <td>121001</td>\n",
              "    </tr>\n",
              "    <tr>\n",
              "      <th>3</th>\n",
              "      <td>กลุ่มวิชาภาษาต่างประเทศ</td>\n",
              "      <td>5501225</td>\n",
              "      <td>121001</td>\n",
              "    </tr>\n",
              "    <tr>\n",
              "      <th>4</th>\n",
              "      <td>กลุ่มวิชาศึกษาทั่วไปกลุ่มพิเศษ</td>\n",
              "      <td>2140111</td>\n",
              "      <td>121001</td>\n",
              "    </tr>\n",
              "    <tr>\n",
              "      <th>...</th>\n",
              "      <td>...</td>\n",
              "      <td>...</td>\n",
              "      <td>...</td>\n",
              "    </tr>\n",
              "    <tr>\n",
              "      <th>25570</th>\n",
              "      <td>วิทยานิพนธ์</td>\n",
              "      <td>6302828</td>\n",
              "      <td>563001</td>\n",
              "    </tr>\n",
              "    <tr>\n",
              "      <th>25573</th>\n",
              "      <td>รายวิชาบังคับเลือก</td>\n",
              "      <td>6302601</td>\n",
              "      <td>563001</td>\n",
              "    </tr>\n",
              "    <tr>\n",
              "      <th>25574</th>\n",
              "      <td>รายวิชาบังคับเลือก</td>\n",
              "      <td>6302602</td>\n",
              "      <td>563001</td>\n",
              "    </tr>\n",
              "    <tr>\n",
              "      <th>25575</th>\n",
              "      <td>รายวิชาบังคับเลือก</td>\n",
              "      <td>6302603</td>\n",
              "      <td>563001</td>\n",
              "    </tr>\n",
              "    <tr>\n",
              "      <th>25576</th>\n",
              "      <td>รายวิชาบังคับเลือก</td>\n",
              "      <td>6302604</td>\n",
              "      <td>563001</td>\n",
              "    </tr>\n",
              "  </tbody>\n",
              "</table>\n",
              "<p>20607 rows × 3 columns</p>\n",
              "</div>"
            ],
            "text/plain": [
              "                                  tag course_no program_code\n",
              "0             กลุ่มวิชาภาษาต่างประเทศ   5501112       121001\n",
              "1             กลุ่มวิชาภาษาต่างประเทศ   5501123       121001\n",
              "2             กลุ่มวิชาภาษาต่างประเทศ   5501214       121001\n",
              "3             กลุ่มวิชาภาษาต่างประเทศ   5501225       121001\n",
              "4      กลุ่มวิชาศึกษาทั่วไปกลุ่มพิเศษ   2140111       121001\n",
              "...                               ...       ...          ...\n",
              "25570                     วิทยานิพนธ์   6302828       563001\n",
              "25573              รายวิชาบังคับเลือก   6302601       563001\n",
              "25574              รายวิชาบังคับเลือก   6302602       563001\n",
              "25575              รายวิชาบังคับเลือก   6302603       563001\n",
              "25576              รายวิชาบังคับเลือก   6302604       563001\n",
              "\n",
              "[20607 rows x 3 columns]"
            ]
          },
          "metadata": {},
          "execution_count": 7
        }
      ]
    },
    {
      "cell_type": "markdown",
      "metadata": {
        "id": "IMewtbwB7yGx",
        "tags": []
      },
      "source": [
        "## Data Exploration"
      ]
    },
    {
      "cell_type": "code",
      "metadata": {
        "id": "XirQc8wA1vXC",
        "outputId": "4b3242f9-da78-423f-c3df-4fd0887ad100",
        "colab": {
          "base_uri": "https://localhost:8080/"
        }
      },
      "source": [
        "program_courses_thai_df['course_no'].apply(lambda x: len(str(x))).value_counts()"
      ],
      "execution_count": 8,
      "outputs": [
        {
          "output_type": "execute_result",
          "data": {
            "text/plain": [
              "7    20607\n",
              "Name: course_no, dtype: int64"
            ]
          },
          "metadata": {},
          "execution_count": 8
        }
      ]
    },
    {
      "cell_type": "code",
      "metadata": {
        "id": "8yOLKzH71vXC",
        "outputId": "8a351f5a-85a7-4a2b-f20b-12787f1052fe",
        "colab": {
          "base_uri": "https://localhost:8080/"
        }
      },
      "source": [
        "program_courses_thai_df.dtypes"
      ],
      "execution_count": 9,
      "outputs": [
        {
          "output_type": "execute_result",
          "data": {
            "text/plain": [
              "tag             object\n",
              "course_no       object\n",
              "program_code    object\n",
              "dtype: object"
            ]
          },
          "metadata": {},
          "execution_count": 9
        }
      ]
    },
    {
      "cell_type": "code",
      "metadata": {
        "id": "aTlp8o5u1vXD",
        "outputId": "7f8f8e4d-1d6e-47ea-b5df-3fafe04af8b6",
        "colab": {
          "base_uri": "https://localhost:8080/"
        }
      },
      "source": [
        "courses_df.dtypes"
      ],
      "execution_count": 10,
      "outputs": [
        {
          "output_type": "execute_result",
          "data": {
            "text/plain": [
              "course_no              object\n",
              "course_name            object\n",
              "course_abberviation    object\n",
              "description            object\n",
              "course_name_thai       object\n",
              "description_thai       object\n",
              "dtype: object"
            ]
          },
          "metadata": {},
          "execution_count": 10
        }
      ]
    },
    {
      "cell_type": "code",
      "metadata": {
        "id": "Sz_N9vWt6dQC"
      },
      "source": [
        "def detect_language(text):\n",
        "  if text == '-':\n",
        "    return text\n",
        "  try:\n",
        "    return detect(text)\n",
        "  except:\n",
        "    return 'err'"
      ],
      "execution_count": 11,
      "outputs": []
    },
    {
      "cell_type": "code",
      "metadata": {
        "colab": {
          "base_uri": "https://localhost:8080/",
          "height": 48,
          "referenced_widgets": [
            "603e29418deb4a308caa8cebf698af77",
            "f36223a64de74aaea46778f5594d836c",
            "71011279dcdc4bda91d739fced8ff18d",
            "231fe8164bd7431887fe58dc7f385a2f",
            "240d0a6a4f50431891e0d8279ffc4758",
            "af4a6a8be59146d0b6bffa7a2db7139e",
            "e20626992b1c4bbeb25680ea154f70bc",
            "97bb012ace974b458475a63c43c0a4e0",
            "82b352398d8c44e4bbbf2c6457d45f96",
            "3bd7401eddd549c197f0bcfbf4ee6a1c",
            "7e7053497ec9454fb65d9241d95bc784"
          ]
        },
        "id": "IBlPnnDRfbQp",
        "outputId": "46c19022-a6ac-47af-8122-44c50187de85"
      },
      "source": [
        "p = mp.Pool(mp.cpu_count())\n",
        "description_thai_language = pd.Series(list(tqdm(p.imap(detect_language, courses_df['description_thai']), total = len(courses_df))), name=\"description_thai\")"
      ],
      "execution_count": 12,
      "outputs": [
        {
          "output_type": "display_data",
          "data": {
            "application/vnd.jupyter.widget-view+json": {
              "model_id": "603e29418deb4a308caa8cebf698af77",
              "version_minor": 0,
              "version_major": 2
            },
            "text/plain": [
              "  0%|          | 0/25254 [00:00<?, ?it/s]"
            ]
          },
          "metadata": {}
        }
      ]
    },
    {
      "cell_type": "code",
      "metadata": {
        "colab": {
          "base_uri": "https://localhost:8080/"
        },
        "id": "USqP9R-i58Ot",
        "outputId": "7f2c4895-eebd-4863-8467-85833da15b69"
      },
      "source": [
        "description_thai_language.value_counts()"
      ],
      "execution_count": 13,
      "outputs": [
        {
          "output_type": "execute_result",
          "data": {
            "text/plain": [
              "th    22880\n",
              "-      2360\n",
              "de       11\n",
              "en        3\n",
              "Name: description_thai, dtype: int64"
            ]
          },
          "metadata": {},
          "execution_count": 13
        }
      ]
    },
    {
      "cell_type": "code",
      "metadata": {
        "colab": {
          "base_uri": "https://localhost:8080/",
          "height": 487
        },
        "id": "8mce4m5O64e2",
        "outputId": "9d69ecab-9b81-4304-cc0d-51959eb4a854"
      },
      "source": [
        "courses_df[(description_thai_language != 'th') & (description_thai_language != '-')]"
      ],
      "execution_count": 14,
      "outputs": [
        {
          "output_type": "execute_result",
          "data": {
            "text/html": [
              "<div>\n",
              "<style scoped>\n",
              "    .dataframe tbody tr th:only-of-type {\n",
              "        vertical-align: middle;\n",
              "    }\n",
              "\n",
              "    .dataframe tbody tr th {\n",
              "        vertical-align: top;\n",
              "    }\n",
              "\n",
              "    .dataframe thead th {\n",
              "        text-align: right;\n",
              "    }\n",
              "</style>\n",
              "<table border=\"1\" class=\"dataframe\">\n",
              "  <thead>\n",
              "    <tr style=\"text-align: right;\">\n",
              "      <th></th>\n",
              "      <th>course_no</th>\n",
              "      <th>course_name</th>\n",
              "      <th>course_abberviation</th>\n",
              "      <th>description</th>\n",
              "      <th>course_name_thai</th>\n",
              "      <th>description_thai</th>\n",
              "    </tr>\n",
              "  </thead>\n",
              "  <tbody>\n",
              "    <tr>\n",
              "      <th>286</th>\n",
              "      <td>2007894</td>\n",
              "      <td>DOCTORAL DISSERTATION SEMINAR</td>\n",
              "      <td>DOC DISS SEM</td>\n",
              "      <td>S/U</td>\n",
              "      <td>สัมมนาวิทยานิพนธ์ระดับดุษฎีบัณฑิต</td>\n",
              "      <td>S/U</td>\n",
              "    </tr>\n",
              "    <tr>\n",
              "      <th>324</th>\n",
              "      <td>2008896</td>\n",
              "      <td>Comprehensive Examination</td>\n",
              "      <td>COMPREHENSIVE EXAM</td>\n",
              "      <td>S/U</td>\n",
              "      <td>การสอบประมวลความรู้</td>\n",
              "      <td>S/U</td>\n",
              "    </tr>\n",
              "    <tr>\n",
              "      <th>417</th>\n",
              "      <td>2010897</td>\n",
              "      <td>QUALIFYING EXAMINATION</td>\n",
              "      <td>QUALIFYING EXAM</td>\n",
              "      <td>การสอบวัดคุณสมบัติ</td>\n",
              "      <td>การสอบวัดคุณสมบัติ</td>\n",
              "      <td>QUALIFYING EXAMINATION</td>\n",
              "    </tr>\n",
              "    <tr>\n",
              "      <th>446</th>\n",
              "      <td>2013811</td>\n",
              "      <td>THESIS</td>\n",
              "      <td>THESIS</td>\n",
              "      <td>-</td>\n",
              "      <td>วิทยานิพนธ์</td>\n",
              "      <td>S/U</td>\n",
              "    </tr>\n",
              "    <tr>\n",
              "      <th>2431</th>\n",
              "      <td>2109520</td>\n",
              "      <td>PHYSICAL CERAMICS</td>\n",
              "      <td>PHY CERAMICS</td>\n",
              "      <td>Physical and chemical process responsible for ...</td>\n",
              "      <td>เซรามิกกายภาพ</td>\n",
              "      <td>Physical and chemical process responsible for ...</td>\n",
              "    </tr>\n",
              "    <tr>\n",
              "      <th>4837</th>\n",
              "      <td>2208896</td>\n",
              "      <td>COMPREHENSIVE EXAMINATION</td>\n",
              "      <td>COM EXAM</td>\n",
              "      <td>S/U</td>\n",
              "      <td>สอบประมวลความรู้</td>\n",
              "      <td>S/U</td>\n",
              "    </tr>\n",
              "    <tr>\n",
              "      <th>5820</th>\n",
              "      <td>2231841</td>\n",
              "      <td>SEMINAR IN FRENCH LANGUAGE AND LITERATURE I</td>\n",
              "      <td>SEM FR LANG LIT I</td>\n",
              "      <td>S/U</td>\n",
              "      <td>สัมมนาภาษาและวรรณคดีฝรั่งเศส 1</td>\n",
              "      <td>S/U</td>\n",
              "    </tr>\n",
              "    <tr>\n",
              "      <th>5821</th>\n",
              "      <td>2231842</td>\n",
              "      <td>SEMINAR IN FRENCH LANGUAGE AND LITERATURE II</td>\n",
              "      <td>SEM FE LAND LIT II</td>\n",
              "      <td>S/U</td>\n",
              "      <td>สัมมนาภาษาและวรรณคดีฝรั่งเศส 2</td>\n",
              "      <td>S/U</td>\n",
              "    </tr>\n",
              "    <tr>\n",
              "      <th>5822</th>\n",
              "      <td>2231894</td>\n",
              "      <td>DOCTORAL DISSERTATION SEMINAR</td>\n",
              "      <td>DOC DISS SEM</td>\n",
              "      <td>S/U</td>\n",
              "      <td>สัมมนาวิทยานิพนธ์ระดับดุษฎีบัณฑิต</td>\n",
              "      <td>S/U</td>\n",
              "    </tr>\n",
              "    <tr>\n",
              "      <th>10417</th>\n",
              "      <td>2600896</td>\n",
              "      <td>COMPREHENSIVE EXAMINIATION</td>\n",
              "      <td>COMPREHENSIVE EXAM</td>\n",
              "      <td>(S/U)</td>\n",
              "      <td>การสอบประมวลความรู้</td>\n",
              "      <td>S/U</td>\n",
              "    </tr>\n",
              "    <tr>\n",
              "      <th>13415</th>\n",
              "      <td>2747894</td>\n",
              "      <td>DOCTORAL  DISSERTATION  SEMINAR</td>\n",
              "      <td>DOCTORAL  DISST  SEM</td>\n",
              "      <td>S/U</td>\n",
              "      <td>สัมมนาวิทยานิพนธ์ระดับดุษฎีบัณฑิต</td>\n",
              "      <td>S/U</td>\n",
              "    </tr>\n",
              "    <tr>\n",
              "      <th>15418</th>\n",
              "      <td>2948811</td>\n",
              "      <td>THESIS</td>\n",
              "      <td>THESIS</td>\n",
              "      <td>-</td>\n",
              "      <td>วิทยานิพนธ์</td>\n",
              "      <td>(S/U) (1/2540) (6291R)</td>\n",
              "    </tr>\n",
              "    <tr>\n",
              "      <th>17405</th>\n",
              "      <td>3015735</td>\n",
              "      <td>Operative Urologic Surgery II</td>\n",
              "      <td>OPER URO SURG II</td>\n",
              "      <td>Urologic surgical practice in and operative ro...</td>\n",
              "      <td>ศัลยศาสตร์ยูโรวิทยาหัตถการ 2</td>\n",
              "      <td>ปฏิบัติงานฝึกทำผ่าตัดที่ยากขึ้น เช่น transuret...</td>\n",
              "    </tr>\n",
              "    <tr>\n",
              "      <th>24608</th>\n",
              "      <td>3934606</td>\n",
              "      <td>Theme Park and Entertainment Industry Management</td>\n",
              "      <td>THEME/ENT IND MGT</td>\n",
              "      <td>Principles and concepts of theme park and ente...</td>\n",
              "      <td>การจัดการสวนสนุกและอุตสาหกรรมบันเทิง</td>\n",
              "      <td>Principles and concepts of theme park and ente...</td>\n",
              "    </tr>\n",
              "  </tbody>\n",
              "</table>\n",
              "</div>"
            ],
            "text/plain": [
              "      course_no  ...                                   description_thai\n",
              "286     2007894  ...                                                S/U\n",
              "324     2008896  ...                                                S/U\n",
              "417     2010897  ...                             QUALIFYING EXAMINATION\n",
              "446     2013811  ...                                                S/U\n",
              "2431    2109520  ...  Physical and chemical process responsible for ...\n",
              "4837    2208896  ...                                                S/U\n",
              "5820    2231841  ...                                                S/U\n",
              "5821    2231842  ...                                                S/U\n",
              "5822    2231894  ...                                                S/U\n",
              "10417   2600896  ...                                                S/U\n",
              "13415   2747894  ...                                                S/U\n",
              "15418   2948811  ...                             (S/U) (1/2540) (6291R)\n",
              "17405   3015735  ...  ปฏิบัติงานฝึกทำผ่าตัดที่ยากขึ้น เช่น transuret...\n",
              "24608   3934606  ...  Principles and concepts of theme park and ente...\n",
              "\n",
              "[14 rows x 6 columns]"
            ]
          },
          "metadata": {},
          "execution_count": 14
        }
      ]
    },
    {
      "cell_type": "code",
      "metadata": {
        "colab": {
          "base_uri": "https://localhost:8080/",
          "height": 54
        },
        "id": "myj98CxK7i8F",
        "outputId": "6711f128-b395-4b1b-fd7a-a88a4c67dc6e"
      },
      "source": [
        "courses_df.iloc[17405]['description_thai']"
      ],
      "execution_count": 15,
      "outputs": [
        {
          "output_type": "execute_result",
          "data": {
            "application/vnd.google.colaboratory.intrinsic+json": {
              "type": "string"
            },
            "text/plain": [
              "'ปฏิบัติงานฝึกทำผ่าตัดที่ยากขึ้น เช่น transurethral resection of prostate, reconstructive surgery อย่างง่าย เช่น pyeloplasty, urethroplasty, vasovasostomy, urinary diversion, radialsurgery อย่างง่าย เช่น radical nephrectomy, radical orchiectomy'"
            ]
          },
          "metadata": {},
          "execution_count": 15
        }
      ]
    },
    {
      "cell_type": "code",
      "metadata": {
        "colab": {
          "base_uri": "https://localhost:8080/",
          "height": 48,
          "referenced_widgets": [
            "53ae5694c98d404f98d588020aa8269c",
            "b3dcdd08fec0452eb84bd6aa1ebec476",
            "5d610d38312e44ccb9eba60b81968f62",
            "647b6bfa98054e8680b713e5f5b34046",
            "e71eb40a39024fdf9dbba50f4634bc5d",
            "5cdca5de6ef74ad8b1154a9e6f43650f",
            "840eb4d3e926406799af59ba886cca10",
            "19b137c8cc1b44e5965985711b05ebd0",
            "d671d504c79c428892d31625275e00cf",
            "edbd69e8dea74834a3c56d73f65c8c8d",
            "026b967a6b364888910361edc67256e9"
          ]
        },
        "id": "XYf_9MZS8JY0",
        "outputId": "8d506b88-8306-419a-c3f1-d0b89096847b"
      },
      "source": [
        "p = mp.Pool(mp.cpu_count())\n",
        "course_name_thai_language = pd.Series(list(tqdm(p.imap(detect_language, courses_df['course_name_thai']), total = len(courses_df))), name=\"course_name_thai\")"
      ],
      "execution_count": 16,
      "outputs": [
        {
          "output_type": "display_data",
          "data": {
            "application/vnd.jupyter.widget-view+json": {
              "model_id": "53ae5694c98d404f98d588020aa8269c",
              "version_minor": 0,
              "version_major": 2
            },
            "text/plain": [
              "  0%|          | 0/25254 [00:00<?, ?it/s]"
            ]
          },
          "metadata": {}
        }
      ]
    },
    {
      "cell_type": "code",
      "metadata": {
        "colab": {
          "base_uri": "https://localhost:8080/"
        },
        "id": "0VZslNJY8NtE",
        "outputId": "17510e53-49c8-407c-f269-de559493f5ba"
      },
      "source": [
        "course_name_thai_language.value_counts()"
      ],
      "execution_count": 17,
      "outputs": [
        {
          "output_type": "execute_result",
          "data": {
            "text/plain": [
              "th    24589\n",
              "-       663\n",
              "en        2\n",
              "Name: course_name_thai, dtype: int64"
            ]
          },
          "metadata": {},
          "execution_count": 17
        }
      ]
    },
    {
      "cell_type": "code",
      "metadata": {
        "colab": {
          "base_uri": "https://localhost:8080/",
          "height": 112
        },
        "id": "PDcFUu1T8X0m",
        "outputId": "773a78ad-fb0f-44b5-df08-8ead6d886269"
      },
      "source": [
        "courses_df[(course_name_thai_language != 'th') & (course_name_thai_language != '-')]"
      ],
      "execution_count": 18,
      "outputs": [
        {
          "output_type": "execute_result",
          "data": {
            "text/html": [
              "<div>\n",
              "<style scoped>\n",
              "    .dataframe tbody tr th:only-of-type {\n",
              "        vertical-align: middle;\n",
              "    }\n",
              "\n",
              "    .dataframe tbody tr th {\n",
              "        vertical-align: top;\n",
              "    }\n",
              "\n",
              "    .dataframe thead th {\n",
              "        text-align: right;\n",
              "    }\n",
              "</style>\n",
              "<table border=\"1\" class=\"dataframe\">\n",
              "  <thead>\n",
              "    <tr style=\"text-align: right;\">\n",
              "      <th></th>\n",
              "      <th>course_no</th>\n",
              "      <th>course_name</th>\n",
              "      <th>course_abberviation</th>\n",
              "      <th>description</th>\n",
              "      <th>course_name_thai</th>\n",
              "      <th>description_thai</th>\n",
              "    </tr>\n",
              "  </thead>\n",
              "  <tbody>\n",
              "    <tr>\n",
              "      <th>666</th>\n",
              "      <td>2023505</td>\n",
              "      <td>ENGY CONSERV IND</td>\n",
              "      <td>การอนุรักษ์พลังงานในภาคอุตสาหกรรม</td>\n",
              "      <td>Principles and process of energy conservation ...</td>\n",
              "      <td>Energy Conservation in Industry</td>\n",
              "      <td>หลักการและกระบวนการในการดำเนินการอนุรักษ์พลังง...</td>\n",
              "    </tr>\n",
              "    <tr>\n",
              "      <th>21649</th>\n",
              "      <td>3341711</td>\n",
              "      <td>PHARMACEUTICAL CHEMISTRY AND NATURAL PRODUCTS ...</td>\n",
              "      <td>-</td>\n",
              "      <td>Oral presentation and discussion of selected a...</td>\n",
              "      <td>PH CHM NAT SEM II</td>\n",
              "      <td>-</td>\n",
              "    </tr>\n",
              "  </tbody>\n",
              "</table>\n",
              "</div>"
            ],
            "text/plain": [
              "      course_no  ...                                   description_thai\n",
              "666     2023505  ...  หลักการและกระบวนการในการดำเนินการอนุรักษ์พลังง...\n",
              "21649   3341711  ...                                                  -\n",
              "\n",
              "[2 rows x 6 columns]"
            ]
          },
          "metadata": {},
          "execution_count": 18
        }
      ]
    },
    {
      "cell_type": "markdown",
      "metadata": {
        "id": "r_ftpgk670Wq",
        "tags": []
      },
      "source": [
        "## Clean Data"
      ]
    },
    {
      "cell_type": "code",
      "metadata": {
        "id": "oh31sug77oWJ"
      },
      "source": [
        "courses_df_clean = courses_df[((description_thai_language == 'th') & (course_name_thai_language == 'th'))]"
      ],
      "execution_count": 19,
      "outputs": []
    },
    {
      "cell_type": "code",
      "metadata": {
        "colab": {
          "base_uri": "https://localhost:8080/",
          "height": 0
        },
        "id": "xxKuM78x79y9",
        "outputId": "ef0ad5c3-5336-4dff-f3b1-c05d9f30c8d5"
      },
      "source": [
        "courses_df_clean"
      ],
      "execution_count": 20,
      "outputs": [
        {
          "output_type": "execute_result",
          "data": {
            "text/html": [
              "<div>\n",
              "<style scoped>\n",
              "    .dataframe tbody tr th:only-of-type {\n",
              "        vertical-align: middle;\n",
              "    }\n",
              "\n",
              "    .dataframe tbody tr th {\n",
              "        vertical-align: top;\n",
              "    }\n",
              "\n",
              "    .dataframe thead th {\n",
              "        text-align: right;\n",
              "    }\n",
              "</style>\n",
              "<table border=\"1\" class=\"dataframe\">\n",
              "  <thead>\n",
              "    <tr style=\"text-align: right;\">\n",
              "      <th></th>\n",
              "      <th>course_no</th>\n",
              "      <th>course_name</th>\n",
              "      <th>course_abberviation</th>\n",
              "      <th>description</th>\n",
              "      <th>course_name_thai</th>\n",
              "      <th>description_thai</th>\n",
              "    </tr>\n",
              "  </thead>\n",
              "  <tbody>\n",
              "    <tr>\n",
              "      <th>0</th>\n",
              "      <td>2000503</td>\n",
              "      <td>Research Ethics</td>\n",
              "      <td>RESEARCH ETHICS</td>\n",
              "      <td>Definition of research and research ethics; da...</td>\n",
              "      <td>จริยธรรมการวิจัย</td>\n",
              "      <td>ความหมายของงานวิจัยและจริยธรรมการวิจัย การได้ม...</td>\n",
              "    </tr>\n",
              "    <tr>\n",
              "      <th>1</th>\n",
              "      <td>2000504</td>\n",
              "      <td>Social Change Initiative Implementation</td>\n",
              "      <td>SOC CHG IMP</td>\n",
              "      <td>Principle on social change initiative towards ...</td>\n",
              "      <td>การดําเนินงานตามแผนปฏิบัติการเพื่อการเปลี่ยนแป...</td>\n",
              "      <td>หลักการการริเริ่มการเปลี่ยนแปลงของสังคมโลกที่ม...</td>\n",
              "    </tr>\n",
              "    <tr>\n",
              "      <th>2</th>\n",
              "      <td>2000601</td>\n",
              "      <td>CORPORATE GOVERNANCE</td>\n",
              "      <td>CORP GOVERNANCE</td>\n",
              "      <td>-</td>\n",
              "      <td>กิจการภิบาล</td>\n",
              "      <td>ภาพรวมของกิจการภิบาล ปัญหาและต้นทุนของตัวแทน ก...</td>\n",
              "    </tr>\n",
              "    <tr>\n",
              "      <th>3</th>\n",
              "      <td>2000611</td>\n",
              "      <td>Study Abroad I</td>\n",
              "      <td>STUDY ABROAD I</td>\n",
              "      <td>Study additional courses abroad according to t...</td>\n",
              "      <td>การศึกษาต่างประเทศ 1</td>\n",
              "      <td>การศึกษารายวิชาเพิ่มเติมในต่างประเทศตามที่หลัก...</td>\n",
              "    </tr>\n",
              "    <tr>\n",
              "      <th>4</th>\n",
              "      <td>2000612</td>\n",
              "      <td>Study Abroad II</td>\n",
              "      <td>STUDY ABROAD II</td>\n",
              "      <td>Study additional courses abroad according to t...</td>\n",
              "      <td>การศึกษาต่างประเทศ 2</td>\n",
              "      <td>การศึกษารายวิชาเพิ่มเติมในต่างประเทศตามที่หลัก...</td>\n",
              "    </tr>\n",
              "    <tr>\n",
              "      <th>...</th>\n",
              "      <td>...</td>\n",
              "      <td>...</td>\n",
              "      <td>...</td>\n",
              "      <td>...</td>\n",
              "      <td>...</td>\n",
              "      <td>...</td>\n",
              "    </tr>\n",
              "    <tr>\n",
              "      <th>25191</th>\n",
              "      <td>6800682</td>\n",
              "      <td>Doctoral Seminar II</td>\n",
              "      <td>DOC SEMINAR II</td>\n",
              "      <td>Seminar for consideration of issues related to...</td>\n",
              "      <td>สัมมนาปริญญาเอก 2</td>\n",
              "      <td>สัมมนาประเด็นที่สัมพันธ์กับวิทยานิพนธ์</td>\n",
              "    </tr>\n",
              "    <tr>\n",
              "      <th>25201</th>\n",
              "      <td>6800810</td>\n",
              "      <td>Special Project</td>\n",
              "      <td>SPEC PROJECT</td>\n",
              "      <td>For those who have not botained an MPH degree ...</td>\n",
              "      <td>โครงการพิเศษ</td>\n",
              "      <td>สำหรับผู้ที่ยังไม่ได้รับปริญญาสาธารณสุขศาสตรมห...</td>\n",
              "    </tr>\n",
              "    <tr>\n",
              "      <th>25206</th>\n",
              "      <td>857701</td>\n",
              "      <td>SEMINAR I</td>\n",
              "      <td>-</td>\n",
              "      <td>Serminar on current research in petrochemical ...</td>\n",
              "      <td>สัมมนา 1</td>\n",
              "      <td>การประชุมทางวิชาการเพื่อเสนอและวิจารณ์ผลงานทาง...</td>\n",
              "    </tr>\n",
              "    <tr>\n",
              "      <th>25207</th>\n",
              "      <td>857702</td>\n",
              "      <td>SEMINAR II</td>\n",
              "      <td>-</td>\n",
              "      <td>Seminar on current research in petrochemical t...</td>\n",
              "      <td>สัมมนา 2</td>\n",
              "      <td>การประชุมทางวิชาการเพื่อเสนอและวิจารณ์ผลงานทาง...</td>\n",
              "    </tr>\n",
              "    <tr>\n",
              "      <th>25208</th>\n",
              "      <td>Basics</td>\n",
              "      <td>On-Screen Scene Design</td>\n",
              "      <td>ONSCREEN SCEN DSGN</td>\n",
              "      <td>Importance and functions of scene; scene desig...</td>\n",
              "      <td>การออกแบบฉากสำหรับสื่อบนจอ</td>\n",
              "      <td>ความสำคัญ และบทบาทหน้าที่ของฉาก หลักการออกแบบฉ...</td>\n",
              "    </tr>\n",
              "  </tbody>\n",
              "</table>\n",
              "<p>22876 rows × 6 columns</p>\n",
              "</div>"
            ],
            "text/plain": [
              "      course_no  ...                                   description_thai\n",
              "0       2000503  ...  ความหมายของงานวิจัยและจริยธรรมการวิจัย การได้ม...\n",
              "1       2000504  ...  หลักการการริเริ่มการเปลี่ยนแปลงของสังคมโลกที่ม...\n",
              "2       2000601  ...  ภาพรวมของกิจการภิบาล ปัญหาและต้นทุนของตัวแทน ก...\n",
              "3       2000611  ...  การศึกษารายวิชาเพิ่มเติมในต่างประเทศตามที่หลัก...\n",
              "4       2000612  ...  การศึกษารายวิชาเพิ่มเติมในต่างประเทศตามที่หลัก...\n",
              "...         ...  ...                                                ...\n",
              "25191   6800682  ...             สัมมนาประเด็นที่สัมพันธ์กับวิทยานิพนธ์\n",
              "25201   6800810  ...  สำหรับผู้ที่ยังไม่ได้รับปริญญาสาธารณสุขศาสตรมห...\n",
              "25206    857701  ...  การประชุมทางวิชาการเพื่อเสนอและวิจารณ์ผลงานทาง...\n",
              "25207    857702  ...  การประชุมทางวิชาการเพื่อเสนอและวิจารณ์ผลงานทาง...\n",
              "25208    Basics  ...  ความสำคัญ และบทบาทหน้าที่ของฉาก หลักการออกแบบฉ...\n",
              "\n",
              "[22876 rows x 6 columns]"
            ]
          },
          "metadata": {},
          "execution_count": 20
        }
      ]
    },
    {
      "cell_type": "markdown",
      "metadata": {
        "id": "JoEoI_LQ8Aeh",
        "tags": []
      },
      "source": [
        "## Data transformation"
      ]
    },
    {
      "cell_type": "code",
      "metadata": {
        "id": "4Nn1Ap5x75fE"
      },
      "source": [
        "df_faculty = courses_df_clean[['course_no', 'course_name_thai', 'description_thai']]"
      ],
      "execution_count": 21,
      "outputs": []
    },
    {
      "cell_type": "code",
      "metadata": {
        "id": "HWB1GaiM8t1Z"
      },
      "source": [
        "course_no_len = df_faculty['course_no'].apply(lambda x: len(x))"
      ],
      "execution_count": 22,
      "outputs": []
    },
    {
      "cell_type": "code",
      "metadata": {
        "colab": {
          "base_uri": "https://localhost:8080/"
        },
        "id": "_yyM0mKJ82-R",
        "outputId": "75456efd-97b0-49a5-a78b-6064d581b79c"
      },
      "source": [
        "course_no_len.value_counts()"
      ],
      "execution_count": 23,
      "outputs": [
        {
          "output_type": "execute_result",
          "data": {
            "text/plain": [
              "7    22831\n",
              "6       44\n",
              "4        1\n",
              "Name: course_no, dtype: int64"
            ]
          },
          "metadata": {},
          "execution_count": 23
        }
      ]
    },
    {
      "cell_type": "code",
      "metadata": {
        "colab": {
          "base_uri": "https://localhost:8080/",
          "height": 0
        },
        "id": "iR0tjNUw83qt",
        "outputId": "6d80b400-e6b4-470d-9e6b-d35ff054df7a"
      },
      "source": [
        "df_faculty[course_no_len == 6]"
      ],
      "execution_count": 24,
      "outputs": [
        {
          "output_type": "execute_result",
          "data": {
            "text/html": [
              "<div>\n",
              "<style scoped>\n",
              "    .dataframe tbody tr th:only-of-type {\n",
              "        vertical-align: middle;\n",
              "    }\n",
              "\n",
              "    .dataframe tbody tr th {\n",
              "        vertical-align: top;\n",
              "    }\n",
              "\n",
              "    .dataframe thead th {\n",
              "        text-align: right;\n",
              "    }\n",
              "</style>\n",
              "<table border=\"1\" class=\"dataframe\">\n",
              "  <thead>\n",
              "    <tr style=\"text-align: right;\">\n",
              "      <th></th>\n",
              "      <th>course_no</th>\n",
              "      <th>course_name_thai</th>\n",
              "      <th>description_thai</th>\n",
              "    </tr>\n",
              "  </thead>\n",
              "  <tbody>\n",
              "    <tr>\n",
              "      <th>208</th>\n",
              "      <td>200614</td>\n",
              "      <td>การจัดการบริการผู้โดยสาร</td>\n",
              "      <td>การบริการผู้โดยสาร การบริการในห้องรับรองผู้โดย...</td>\n",
              "    </tr>\n",
              "    <tr>\n",
              "      <th>636</th>\n",
              "      <td>202169</td>\n",
              "      <td>เคมีสำหรับนิสิตแพทย์</td>\n",
              "      <td>เทอร์โมไดนามิกส์ สมดุลเคมี จลนพลศาสตร์เคมี โคร...</td>\n",
              "    </tr>\n",
              "    <tr>\n",
              "      <th>1636</th>\n",
              "      <td>210443</td>\n",
              "      <td>ออโตเมชัน</td>\n",
              "      <td>แนวคิดพื้นฐานเกี่ยวกับระบบออโตเมชันในอุตสาหกรร...</td>\n",
              "    </tr>\n",
              "    <tr>\n",
              "      <th>1897</th>\n",
              "      <td>210564</td>\n",
              "      <td>วิศวกรรมของวัสดุที่ย่อยสลายได้ทางชีวภาพ</td>\n",
              "      <td>ประเภทของวัสดุที่ย่อยสลายได้ทางชีวภาพทั้งวัสดุ...</td>\n",
              "    </tr>\n",
              "    <tr>\n",
              "      <th>2236</th>\n",
              "      <td>210794</td>\n",
              "      <td>การผลิตน้ำใช้และการบำบัดน้ำเสียในอุตสาหกรรม</td>\n",
              "      <td>แหล่งของน้ำใช้ มาตรฐานของน้ำในอุตสาหกรรมเทคนิค...</td>\n",
              "    </tr>\n",
              "    <tr>\n",
              "      <th>2929</th>\n",
              "      <td>213225</td>\n",
              "      <td>ปฏิบัติการวัดความดำ</td>\n",
              "      <td>ปฏิบัติการเกี่ยวกับการวัดแสง  การวัดความดำ การ...</td>\n",
              "    </tr>\n",
              "    <tr>\n",
              "      <th>3308</th>\n",
              "      <td>218220</td>\n",
              "      <td>วิธีเชิงคณิตศาสตร์ขั้นสูง</td>\n",
              "      <td>การวิเคราะห์เชิงซ้อนซึ่งประกอบด้วยฟังก์ชันของต...</td>\n",
              "    </tr>\n",
              "    <tr>\n",
              "      <th>3318</th>\n",
              "      <td>218228</td>\n",
              "      <td>สิ่งประดิษฐ์สารกึ่งตัวนำ 1</td>\n",
              "      <td>สมบัติของผลึกและการปลูกผลึกสารกึ่งตัวนำ อะตอมแ...</td>\n",
              "    </tr>\n",
              "    <tr>\n",
              "      <th>3332</th>\n",
              "      <td>218244</td>\n",
              "      <td>อิเล็กทรอนิกส์ชีวแพทย์</td>\n",
              "      <td>สัญญาณไฟฟ้าในร่างกายมนุษย์ ศักย์กระทำในเซลล์ อ...</td>\n",
              "    </tr>\n",
              "    <tr>\n",
              "      <th>3345</th>\n",
              "      <td>218248</td>\n",
              "      <td>สิ่งประดิษฐ์สารกึ่งตัวนำ 2</td>\n",
              "      <td>การทบทวนฟิสิกส์และสมบัติของสารกึ่งตัวนำ สารประ...</td>\n",
              "    </tr>\n",
              "    <tr>\n",
              "      <th>3368</th>\n",
              "      <td>218341</td>\n",
              "      <td>เทคโนโลยีการสร้างสิ่งประดิษฐ์ในระดับไมโครและนาโน</td>\n",
              "      <td>การปลูกผลึก เอพิแทกซีแบบไอ เอพิแทกซีแบบของเหลว...</td>\n",
              "    </tr>\n",
              "    <tr>\n",
              "      <th>3390</th>\n",
              "      <td>218522</td>\n",
              "      <td>เคมีอินทรีย์พื้นฐาน</td>\n",
              "      <td>โครงสร้างและพันธะ สเตอริโอเคมี สเปกโตรสโกปี สา...</td>\n",
              "    </tr>\n",
              "    <tr>\n",
              "      <th>3404</th>\n",
              "      <td>218547</td>\n",
              "      <td>วิศวกรรมนาโนพอลิเมอร์</td>\n",
              "      <td>นิยามและแนวคิดเบื้องต้น พอลิเมอร์ชนิดโครงสร้าง...</td>\n",
              "    </tr>\n",
              "    <tr>\n",
              "      <th>3469</th>\n",
              "      <td>219010</td>\n",
              "      <td>การเขียนโปรแกรมคอมพิวเตอร์</td>\n",
              "      <td>บทนำสู่ระบบคอมพิวเตอร์ การแก้ปัญหาโดยใช้คอมพิว...</td>\n",
              "    </tr>\n",
              "    <tr>\n",
              "      <th>3472</th>\n",
              "      <td>219015</td>\n",
              "      <td>ปฏิบัติการการเขียนโปรแกรมคอมพิวเตอร์</td>\n",
              "      <td>การเขียนโปรแกรมคอมพิวเตอร์ในงานวิศวกรรม การทบท...</td>\n",
              "    </tr>\n",
              "    <tr>\n",
              "      <th>3475</th>\n",
              "      <td>219020</td>\n",
              "      <td>โครงสร้างดิสครีต</td>\n",
              "      <td>เซต ความสัมพันธ์ ฟังก์ชัน ทฤษฎีบทและการพิสูจน์...</td>\n",
              "    </tr>\n",
              "    <tr>\n",
              "      <th>3496</th>\n",
              "      <td>219046</td>\n",
              "      <td>ปฏิบัติการระบบฐานข้อมูล</td>\n",
              "      <td>การออกแบบฐานข้อมูลและการทำให้เกิดผลตามระบบจัดก...</td>\n",
              "    </tr>\n",
              "    <tr>\n",
              "      <th>3516</th>\n",
              "      <td>220020</td>\n",
              "      <td>การเขียนรายงานเชิงวิชาการ</td>\n",
              "      <td>วิธีใช้ทรัพยากรสารนิเทศอย่างมีประสิทธิภาพ  วิธ...</td>\n",
              "    </tr>\n",
              "    <tr>\n",
              "      <th>4623</th>\n",
              "      <td>220768</td>\n",
              "      <td>ปรัชญาตรรกวิทยา</td>\n",
              "      <td>ธรรมชาติและขอบเขตของตรรกวิทยา ความหมายกับความจ...</td>\n",
              "    </tr>\n",
              "    <tr>\n",
              "      <th>4694</th>\n",
              "      <td>220826</td>\n",
              "      <td>สัมมนาการละครในการศึกษา</td>\n",
              "      <td>การศึกษาเชิงวิเคราะห์และวิจารณ์ด้านการละครในกา...</td>\n",
              "    </tr>\n",
              "    <tr>\n",
              "      <th>5210</th>\n",
              "      <td>222231</td>\n",
              "      <td>ทักษะการพูดภาษาจีนขั้นกลาง</td>\n",
              "      <td>ทักษะการพูดภาษาจีนกลางขั้นกลาง การเล่าเรื่องจา...</td>\n",
              "    </tr>\n",
              "    <tr>\n",
              "      <th>6353</th>\n",
              "      <td>223649</td>\n",
              "      <td>การศึกษาเฉพาะเรื่องด้านภาษารัสเซีย</td>\n",
              "      <td>การศึกษาวิเคราะห์ภาษารัสเซียในหัวข้อที่กำหนด</td>\n",
              "    </tr>\n",
              "    <tr>\n",
              "      <th>8379</th>\n",
              "      <td>231360</td>\n",
              "      <td>การวัดค่าสี</td>\n",
              "      <td>หลักการวัดและกำหนดค่าสี ค่าฟังก์ชันการเทียบสี ...</td>\n",
              "    </tr>\n",
              "    <tr>\n",
              "      <th>10359</th>\n",
              "      <td>260016</td>\n",
              "      <td>สัมมนาการจัดการการบิน</td>\n",
              "      <td>ประเด็นร่วมสมัยเกี่ยวกับธุรกิจการบิน พันธมิตกา...</td>\n",
              "    </tr>\n",
              "    <tr>\n",
              "      <th>13346</th>\n",
              "      <td>274773</td>\n",
              "      <td>การบริหารงานวิชาการกับการประกันคุณภาพการศึกษา</td>\n",
              "      <td>ความสำคัญของงานวิชาการ ขอบเขตการบริหารงานวิชาก...</td>\n",
              "    </tr>\n",
              "    <tr>\n",
              "      <th>13382</th>\n",
              "      <td>274785</td>\n",
              "      <td>เอกัตศึกษา</td>\n",
              "      <td>การศึกษาตามความสนใจเกี่ยวกับการบริหารการศึกษา ...</td>\n",
              "    </tr>\n",
              "    <tr>\n",
              "      <th>13391</th>\n",
              "      <td>274786</td>\n",
              "      <td>เรื่องคัดเฉพาะทางการบริหารการศึกษา</td>\n",
              "      <td>การอภิปรายเชิงวิเคราะห์เกี่ยวกับปัญหาทางการบริ...</td>\n",
              "    </tr>\n",
              "    <tr>\n",
              "      <th>13760</th>\n",
              "      <td>275867</td>\n",
              "      <td>สถิติวิเคราะห์เพื่อการวางแผนและการพัฒนาทางการศ...</td>\n",
              "      <td>ปัญหาทางสถิติสำหรับการวิเคราะห์ข้อมูลเพื่อการว...</td>\n",
              "    </tr>\n",
              "    <tr>\n",
              "      <th>13983</th>\n",
              "      <td>280011</td>\n",
              "      <td>หลักการถ่ายภาพเพื่อการสื่อสาร</td>\n",
              "      <td>หลักเบื้องต้นของการถ่ายภาพ อิทธิพลของการถ่ายภา...</td>\n",
              "    </tr>\n",
              "    <tr>\n",
              "      <th>15341</th>\n",
              "      <td>294613</td>\n",
              "      <td>เศรษฐศาสตร์ประชากร</td>\n",
              "      <td>แนวคิดทางประชากรสำหรับการวิคราะห์ปัญหาทางเศรษฐ...</td>\n",
              "    </tr>\n",
              "    <tr>\n",
              "      <th>16058</th>\n",
              "      <td>300268</td>\n",
              "      <td>ระบบทางเดินอาหาร 1</td>\n",
              "      <td>ลักษณะทางมหกายวิภาคและจุลกายวิภาค ภาพเงา สรีรว...</td>\n",
              "    </tr>\n",
              "    <tr>\n",
              "      <th>16685</th>\n",
              "      <td>300972</td>\n",
              "      <td>พยาธิวิทยาภูมิคุ้มกั</td>\n",
              "      <td>พยาธิกำาเนิดและลักษณะพยาธิสภาพของโรคในระบบภูมิ...</td>\n",
              "    </tr>\n",
              "    <tr>\n",
              "      <th>16733</th>\n",
              "      <td>300986</td>\n",
              "      <td>ศัลยพยาธิวิทยาวินิจฉัย 1</td>\n",
              "      <td>การตรวจและวินิจฉัยชิ้นเนื้อทางศัลยพยาธิวิทยาด้...</td>\n",
              "    </tr>\n",
              "    <tr>\n",
              "      <th>17598</th>\n",
              "      <td>301597</td>\n",
              "      <td>ศัลยศาสตร์ลำไส้ใหญ่และทวารหนักหัตถการ 2</td>\n",
              "      <td>ความรู้และทักษะการผ่าตัดลำไส้ใหญ่ผ่านกล้องส่อง...</td>\n",
              "    </tr>\n",
              "    <tr>\n",
              "      <th>18361</th>\n",
              "      <td>303846</td>\n",
              "      <td>โครงการพิเศษ 2</td>\n",
              "      <td>การรวบรวมข้อมูล การวิเคราะห์ข้อมูล การบริหารงา...</td>\n",
              "    </tr>\n",
              "    <tr>\n",
              "      <th>18409</th>\n",
              "      <td>307755</td>\n",
              "      <td>ลายพิมพ์ดีเอ็นเอของสมุนไพร</td>\n",
              "      <td>ทฤษฎี หลักการ และเทคนิคสำหรับการสร้างลายพิมพ์ด...</td>\n",
              "    </tr>\n",
              "    <tr>\n",
              "      <th>18506</th>\n",
              "      <td>310172</td>\n",
              "      <td>กายวิภาคศาสตร์พัฒนาการ</td>\n",
              "      <td>การกำเนิดของสิ่งมีชีวิตตั้งแต่การเจริญของเซลล์...</td>\n",
              "    </tr>\n",
              "    <tr>\n",
              "      <th>20711</th>\n",
              "      <td>330063</td>\n",
              "      <td>การฝึกปฏิบัติงานวิชาชีพในโรงงานอุตสาหกรรมยา 3</td>\n",
              "      <td>การฝึกปฏิบัติงานวิชาชีพในโรงงานอุตสาหกรรมการผล...</td>\n",
              "    </tr>\n",
              "    <tr>\n",
              "      <th>21593</th>\n",
              "      <td>331760</td>\n",
              "      <td>ปัญหาพิเศษทางสรีรวิทยา 1</td>\n",
              "      <td>วิจัยปัญหาพิเศษของระบบต่างๆ ทางสรีรวิทยาในสัตว...</td>\n",
              "    </tr>\n",
              "    <tr>\n",
              "      <th>24131</th>\n",
              "      <td>384601</td>\n",
              "      <td>พัฒนาการมนุษย์ทุกช่วงวัย</td>\n",
              "      <td>ทฤษฎีและการวิจัยเกี่ยวกับพัฒนาการมนุษย์ทุกช่วง...</td>\n",
              "    </tr>\n",
              "    <tr>\n",
              "      <th>25151</th>\n",
              "      <td>630362</td>\n",
              "      <td>การสำรวจและการผลิตปิโตรเลียม</td>\n",
              "      <td>ธรณีวิทยาปิโตรเลียม การสำรวจปิโตรเลียมและธรณีฟ...</td>\n",
              "    </tr>\n",
              "    <tr>\n",
              "      <th>25206</th>\n",
              "      <td>857701</td>\n",
              "      <td>สัมมนา 1</td>\n",
              "      <td>การประชุมทางวิชาการเพื่อเสนอและวิจารณ์ผลงานทาง...</td>\n",
              "    </tr>\n",
              "    <tr>\n",
              "      <th>25207</th>\n",
              "      <td>857702</td>\n",
              "      <td>สัมมนา 2</td>\n",
              "      <td>การประชุมทางวิชาการเพื่อเสนอและวิจารณ์ผลงานทาง...</td>\n",
              "    </tr>\n",
              "    <tr>\n",
              "      <th>25208</th>\n",
              "      <td>Basics</td>\n",
              "      <td>การออกแบบฉากสำหรับสื่อบนจอ</td>\n",
              "      <td>ความสำคัญ และบทบาทหน้าที่ของฉาก หลักการออกแบบฉ...</td>\n",
              "    </tr>\n",
              "  </tbody>\n",
              "</table>\n",
              "</div>"
            ],
            "text/plain": [
              "      course_no  ...                                   description_thai\n",
              "208      200614  ...  การบริการผู้โดยสาร การบริการในห้องรับรองผู้โดย...\n",
              "636      202169  ...  เทอร์โมไดนามิกส์ สมดุลเคมี จลนพลศาสตร์เคมี โคร...\n",
              "1636     210443  ...  แนวคิดพื้นฐานเกี่ยวกับระบบออโตเมชันในอุตสาหกรร...\n",
              "1897     210564  ...  ประเภทของวัสดุที่ย่อยสลายได้ทางชีวภาพทั้งวัสดุ...\n",
              "2236     210794  ...  แหล่งของน้ำใช้ มาตรฐานของน้ำในอุตสาหกรรมเทคนิค...\n",
              "2929     213225  ...  ปฏิบัติการเกี่ยวกับการวัดแสง  การวัดความดำ การ...\n",
              "3308     218220  ...  การวิเคราะห์เชิงซ้อนซึ่งประกอบด้วยฟังก์ชันของต...\n",
              "3318     218228  ...  สมบัติของผลึกและการปลูกผลึกสารกึ่งตัวนำ อะตอมแ...\n",
              "3332     218244  ...  สัญญาณไฟฟ้าในร่างกายมนุษย์ ศักย์กระทำในเซลล์ อ...\n",
              "3345     218248  ...  การทบทวนฟิสิกส์และสมบัติของสารกึ่งตัวนำ สารประ...\n",
              "3368     218341  ...  การปลูกผลึก เอพิแทกซีแบบไอ เอพิแทกซีแบบของเหลว...\n",
              "3390     218522  ...  โครงสร้างและพันธะ สเตอริโอเคมี สเปกโตรสโกปี สา...\n",
              "3404     218547  ...  นิยามและแนวคิดเบื้องต้น พอลิเมอร์ชนิดโครงสร้าง...\n",
              "3469     219010  ...  บทนำสู่ระบบคอมพิวเตอร์ การแก้ปัญหาโดยใช้คอมพิว...\n",
              "3472     219015  ...  การเขียนโปรแกรมคอมพิวเตอร์ในงานวิศวกรรม การทบท...\n",
              "3475     219020  ...  เซต ความสัมพันธ์ ฟังก์ชัน ทฤษฎีบทและการพิสูจน์...\n",
              "3496     219046  ...  การออกแบบฐานข้อมูลและการทำให้เกิดผลตามระบบจัดก...\n",
              "3516     220020  ...  วิธีใช้ทรัพยากรสารนิเทศอย่างมีประสิทธิภาพ  วิธ...\n",
              "4623     220768  ...  ธรรมชาติและขอบเขตของตรรกวิทยา ความหมายกับความจ...\n",
              "4694     220826  ...  การศึกษาเชิงวิเคราะห์และวิจารณ์ด้านการละครในกา...\n",
              "5210     222231  ...  ทักษะการพูดภาษาจีนกลางขั้นกลาง การเล่าเรื่องจา...\n",
              "6353     223649  ...       การศึกษาวิเคราะห์ภาษารัสเซียในหัวข้อที่กำหนด\n",
              "8379     231360  ...  หลักการวัดและกำหนดค่าสี ค่าฟังก์ชันการเทียบสี ...\n",
              "10359    260016  ...  ประเด็นร่วมสมัยเกี่ยวกับธุรกิจการบิน พันธมิตกา...\n",
              "13346    274773  ...  ความสำคัญของงานวิชาการ ขอบเขตการบริหารงานวิชาก...\n",
              "13382    274785  ...  การศึกษาตามความสนใจเกี่ยวกับการบริหารการศึกษา ...\n",
              "13391    274786  ...  การอภิปรายเชิงวิเคราะห์เกี่ยวกับปัญหาทางการบริ...\n",
              "13760    275867  ...  ปัญหาทางสถิติสำหรับการวิเคราะห์ข้อมูลเพื่อการว...\n",
              "13983    280011  ...  หลักเบื้องต้นของการถ่ายภาพ อิทธิพลของการถ่ายภา...\n",
              "15341    294613  ...  แนวคิดทางประชากรสำหรับการวิคราะห์ปัญหาทางเศรษฐ...\n",
              "16058    300268  ...  ลักษณะทางมหกายวิภาคและจุลกายวิภาค ภาพเงา สรีรว...\n",
              "16685    300972  ...  พยาธิกำาเนิดและลักษณะพยาธิสภาพของโรคในระบบภูมิ...\n",
              "16733    300986  ...  การตรวจและวินิจฉัยชิ้นเนื้อทางศัลยพยาธิวิทยาด้...\n",
              "17598    301597  ...  ความรู้และทักษะการผ่าตัดลำไส้ใหญ่ผ่านกล้องส่อง...\n",
              "18361    303846  ...  การรวบรวมข้อมูล การวิเคราะห์ข้อมูล การบริหารงา...\n",
              "18409    307755  ...  ทฤษฎี หลักการ และเทคนิคสำหรับการสร้างลายพิมพ์ด...\n",
              "18506    310172  ...  การกำเนิดของสิ่งมีชีวิตตั้งแต่การเจริญของเซลล์...\n",
              "20711    330063  ...  การฝึกปฏิบัติงานวิชาชีพในโรงงานอุตสาหกรรมการผล...\n",
              "21593    331760  ...  วิจัยปัญหาพิเศษของระบบต่างๆ ทางสรีรวิทยาในสัตว...\n",
              "24131    384601  ...  ทฤษฎีและการวิจัยเกี่ยวกับพัฒนาการมนุษย์ทุกช่วง...\n",
              "25151    630362  ...  ธรณีวิทยาปิโตรเลียม การสำรวจปิโตรเลียมและธรณีฟ...\n",
              "25206    857701  ...  การประชุมทางวิชาการเพื่อเสนอและวิจารณ์ผลงานทาง...\n",
              "25207    857702  ...  การประชุมทางวิชาการเพื่อเสนอและวิจารณ์ผลงานทาง...\n",
              "25208    Basics  ...  ความสำคัญ และบทบาทหน้าที่ของฉาก หลักการออกแบบฉ...\n",
              "\n",
              "[44 rows x 3 columns]"
            ]
          },
          "metadata": {},
          "execution_count": 24
        }
      ]
    },
    {
      "cell_type": "code",
      "metadata": {
        "id": "uqvSYg_N9spQ"
      },
      "source": [
        "df_faculty = df_faculty[course_no_len == 7]"
      ],
      "execution_count": 25,
      "outputs": []
    },
    {
      "cell_type": "code",
      "metadata": {
        "colab": {
          "base_uri": "https://localhost:8080/"
        },
        "id": "GuutbWoj9wcu",
        "outputId": "5cae4203-44ae-4d82-90a8-2f70aae59bfa"
      },
      "source": [
        "faculty_no = df_faculty['course_no'].apply(lambda x: x[:2])\n",
        "faculty_no"
      ],
      "execution_count": 26,
      "outputs": [
        {
          "output_type": "execute_result",
          "data": {
            "text/plain": [
              "0        20\n",
              "1        20\n",
              "2        20\n",
              "3        20\n",
              "4        20\n",
              "         ..\n",
              "25188    68\n",
              "25189    68\n",
              "25190    68\n",
              "25191    68\n",
              "25201    68\n",
              "Name: course_no, Length: 22831, dtype: object"
            ]
          },
          "metadata": {},
          "execution_count": 26
        }
      ]
    },
    {
      "cell_type": "code",
      "metadata": {
        "colab": {
          "base_uri": "https://localhost:8080/"
        },
        "id": "_8PxLLPi_IO4",
        "outputId": "d13a54d6-f655-4613-e58c-4c45843101ae"
      },
      "source": [
        "faculty_no_counts = faculty_no.value_counts()\n",
        "faculty_no_counts"
      ],
      "execution_count": 27,
      "outputs": [
        {
          "output_type": "execute_result",
          "data": {
            "text/plain": [
              "30    2652\n",
              "22    2614\n",
              "21    2453\n",
              "27    2407\n",
              "23    2039\n",
              "33    1015\n",
              "32    1010\n",
              "28     991\n",
              "31     941\n",
              "26     907\n",
              "25     844\n",
              "24     638\n",
              "20     605\n",
              "37     577\n",
              "34     525\n",
              "38     507\n",
              "29     496\n",
              "39     463\n",
              "35     397\n",
              "36     232\n",
              "53     118\n",
              "55     118\n",
              "63      98\n",
              "51      80\n",
              "40      59\n",
              "68      28\n",
              "56      13\n",
              "48       1\n",
              "58       1\n",
              "60       1\n",
              "65       1\n",
              "Name: course_no, dtype: int64"
            ]
          },
          "metadata": {},
          "execution_count": 27
        }
      ]
    },
    {
      "cell_type": "code",
      "metadata": {
        "colab": {
          "base_uri": "https://localhost:8080/"
        },
        "id": "7CVBphgL9Ee5",
        "outputId": "cf5d335f-f42a-49bb-f1a7-60b0d2b8fda7"
      },
      "source": [
        "faculty_more_than_50 = faculty_no_counts[faculty_no_counts > 50].index\n",
        "faculty_more_than_50"
      ],
      "execution_count": 28,
      "outputs": [
        {
          "output_type": "execute_result",
          "data": {
            "text/plain": [
              "Index(['30', '22', '21', '27', '23', '33', '32', '28', '31', '26', '25', '24',\n",
              "       '20', '37', '34', '38', '29', '39', '35', '36', '53', '55', '63', '51',\n",
              "       '40'],\n",
              "      dtype='object')"
            ]
          },
          "metadata": {},
          "execution_count": 28
        }
      ]
    },
    {
      "cell_type": "code",
      "metadata": {
        "colab": {
          "base_uri": "https://localhost:8080/"
        },
        "id": "WszAaLRV95it",
        "outputId": "fc40efb8-b4b0-4f97-ae44-2df5a0bb1b22"
      },
      "source": [
        "df_faculty['faculty_no'] = faculty_no"
      ],
      "execution_count": 29,
      "outputs": [
        {
          "output_type": "stream",
          "name": "stderr",
          "text": [
            "/usr/local/lib/python3.7/dist-packages/ipykernel_launcher.py:1: SettingWithCopyWarning: \n",
            "A value is trying to be set on a copy of a slice from a DataFrame.\n",
            "Try using .loc[row_indexer,col_indexer] = value instead\n",
            "\n",
            "See the caveats in the documentation: https://pandas.pydata.org/pandas-docs/stable/user_guide/indexing.html#returning-a-view-versus-a-copy\n",
            "  \"\"\"Entry point for launching an IPython kernel.\n"
          ]
        }
      ]
    },
    {
      "cell_type": "code",
      "metadata": {
        "id": "0so5S5E2-upN"
      },
      "source": [
        "df_faculty = df_faculty[df_faculty['faculty_no'].isin(faculty_more_than_50)]"
      ],
      "execution_count": 30,
      "outputs": []
    },
    {
      "cell_type": "code",
      "metadata": {
        "id": "T6jLvJrk1vXR",
        "outputId": "e8f8bd3c-0553-4017-fb76-77dd1b42d563",
        "colab": {
          "base_uri": "https://localhost:8080/",
          "height": 0
        }
      },
      "source": [
        "df_faculty"
      ],
      "execution_count": 31,
      "outputs": [
        {
          "output_type": "execute_result",
          "data": {
            "text/html": [
              "<div>\n",
              "<style scoped>\n",
              "    .dataframe tbody tr th:only-of-type {\n",
              "        vertical-align: middle;\n",
              "    }\n",
              "\n",
              "    .dataframe tbody tr th {\n",
              "        vertical-align: top;\n",
              "    }\n",
              "\n",
              "    .dataframe thead th {\n",
              "        text-align: right;\n",
              "    }\n",
              "</style>\n",
              "<table border=\"1\" class=\"dataframe\">\n",
              "  <thead>\n",
              "    <tr style=\"text-align: right;\">\n",
              "      <th></th>\n",
              "      <th>course_no</th>\n",
              "      <th>course_name_thai</th>\n",
              "      <th>description_thai</th>\n",
              "      <th>faculty_no</th>\n",
              "    </tr>\n",
              "  </thead>\n",
              "  <tbody>\n",
              "    <tr>\n",
              "      <th>0</th>\n",
              "      <td>2000503</td>\n",
              "      <td>จริยธรรมการวิจัย</td>\n",
              "      <td>ความหมายของงานวิจัยและจริยธรรมการวิจัย การได้ม...</td>\n",
              "      <td>20</td>\n",
              "    </tr>\n",
              "    <tr>\n",
              "      <th>1</th>\n",
              "      <td>2000504</td>\n",
              "      <td>การดําเนินงานตามแผนปฏิบัติการเพื่อการเปลี่ยนแป...</td>\n",
              "      <td>หลักการการริเริ่มการเปลี่ยนแปลงของสังคมโลกที่ม...</td>\n",
              "      <td>20</td>\n",
              "    </tr>\n",
              "    <tr>\n",
              "      <th>2</th>\n",
              "      <td>2000601</td>\n",
              "      <td>กิจการภิบาล</td>\n",
              "      <td>ภาพรวมของกิจการภิบาล ปัญหาและต้นทุนของตัวแทน ก...</td>\n",
              "      <td>20</td>\n",
              "    </tr>\n",
              "    <tr>\n",
              "      <th>3</th>\n",
              "      <td>2000611</td>\n",
              "      <td>การศึกษาต่างประเทศ 1</td>\n",
              "      <td>การศึกษารายวิชาเพิ่มเติมในต่างประเทศตามที่หลัก...</td>\n",
              "      <td>20</td>\n",
              "    </tr>\n",
              "    <tr>\n",
              "      <th>4</th>\n",
              "      <td>2000612</td>\n",
              "      <td>การศึกษาต่างประเทศ 2</td>\n",
              "      <td>การศึกษารายวิชาเพิ่มเติมในต่างประเทศตามที่หลัก...</td>\n",
              "      <td>20</td>\n",
              "    </tr>\n",
              "    <tr>\n",
              "      <th>...</th>\n",
              "      <td>...</td>\n",
              "      <td>...</td>\n",
              "      <td>...</td>\n",
              "      <td>...</td>\n",
              "    </tr>\n",
              "    <tr>\n",
              "      <th>25154</th>\n",
              "      <td>6303622</td>\n",
              "      <td>ความก้าวหน้าด้านเทคโนโลยีปิโตรเลียม</td>\n",
              "      <td>การอภิปรายหัวข้อพิเศษที่เกี่ยวข้องกับความก้าวห...</td>\n",
              "      <td>63</td>\n",
              "    </tr>\n",
              "    <tr>\n",
              "      <th>25155</th>\n",
              "      <td>6303623</td>\n",
              "      <td>วิชาเลือกเฉพาะด้านในการผลิตน้ำมันดิบและก๊าซธรร...</td>\n",
              "      <td>เนื้อหาวิชาครอบคลุม พัฒนาการและความเปลี่ยนแปลง...</td>\n",
              "      <td>63</td>\n",
              "    </tr>\n",
              "    <tr>\n",
              "      <th>25156</th>\n",
              "      <td>6303624</td>\n",
              "      <td>การเพิ่มประสิทธิภาพการเก็บกู้น้ำมัน</td>\n",
              "      <td>หลักการของการเพิ่มการเก็บกู้น้ำมัน คุณสมบัติขอ...</td>\n",
              "      <td>63</td>\n",
              "    </tr>\n",
              "    <tr>\n",
              "      <th>25157</th>\n",
              "      <td>6303625</td>\n",
              "      <td>การบริหารโครงการ</td>\n",
              "      <td>เนื้อหาวิชาครอบคลุมภาคทฤษฎีและภาคปฏิบัติของการ...</td>\n",
              "      <td>63</td>\n",
              "    </tr>\n",
              "    <tr>\n",
              "      <th>25158</th>\n",
              "      <td>6303811</td>\n",
              "      <td>วิทยานิพนธ์</td>\n",
              "      <td>การวิจัยในเทคโนโลยีปิโตรเลียมเพื่อความก้าวหน้า...</td>\n",
              "      <td>63</td>\n",
              "    </tr>\n",
              "  </tbody>\n",
              "</table>\n",
              "<p>22786 rows × 4 columns</p>\n",
              "</div>"
            ],
            "text/plain": [
              "      course_no  ... faculty_no\n",
              "0       2000503  ...         20\n",
              "1       2000504  ...         20\n",
              "2       2000601  ...         20\n",
              "3       2000611  ...         20\n",
              "4       2000612  ...         20\n",
              "...         ...  ...        ...\n",
              "25154   6303622  ...         63\n",
              "25155   6303623  ...         63\n",
              "25156   6303624  ...         63\n",
              "25157   6303625  ...         63\n",
              "25158   6303811  ...         63\n",
              "\n",
              "[22786 rows x 4 columns]"
            ]
          },
          "metadata": {},
          "execution_count": 31
        }
      ]
    },
    {
      "cell_type": "code",
      "metadata": {
        "id": "Mmg8HtXW1vXR"
      },
      "source": [
        "df = df_faculty"
      ],
      "execution_count": 32,
      "outputs": []
    },
    {
      "cell_type": "markdown",
      "metadata": {
        "id": "wLFlP6_2_U8d"
      },
      "source": [
        "## Prepare data for each models"
      ]
    },
    {
      "cell_type": "markdown",
      "metadata": {
        "id": "5vG7fZrzfbQw"
      },
      "source": [
        "### Commons"
      ]
    },
    {
      "cell_type": "code",
      "metadata": {
        "id": "gABofMnyfbQw"
      },
      "source": [
        "from skopt.callbacks import CheckpointSaver\n",
        "import time\n",
        "\n",
        "\n",
        "class BayesianCallback(object):\n",
        "    current = 0\n",
        "    def __init__(self, total, start = 0, **kwargs):\n",
        "        self.current = start\n",
        "        self._checkpoint_saver = CheckpointSaver(**kwargs)\n",
        "        self.total = total\n",
        "    def __call__(self, res):\n",
        "        self._checkpoint_saver.__call__(res)\n",
        "        self.current += 1\n",
        "        print(f\"{self.current}/{self.total}\")\n",
        "\n",
        "# Backward compatible reason\n",
        "class LifeSaver(object):\n",
        "    current = 0\n",
        "    def __init__(self, total, start = 0, **kwargs):\n",
        "        self.current = start\n",
        "        self._checkpoint_saver = CheckpointSaver(**kwargs)\n",
        "        self.total = total\n",
        "    def __call__(self, res):\n",
        "        self._checkpoint_saver.__call__(res)\n",
        "        self.current += 1\n",
        "        print(f\"{self.current}/{self.total}\")\n"
      ],
      "execution_count": 33,
      "outputs": []
    },
    {
      "cell_type": "code",
      "metadata": {
        "colab": {
          "base_uri": "https://localhost:8080/"
        },
        "id": "06fwC-E_mDUL",
        "outputId": "08f41021-6052-47b6-9dc5-72ee0f636e9e"
      },
      "source": [
        "Y_text = df['faculty_no'].values\n",
        "Y_text"
      ],
      "execution_count": 34,
      "outputs": [
        {
          "output_type": "execute_result",
          "data": {
            "text/plain": [
              "array(['20', '20', '20', ..., '63', '63', '63'], dtype=object)"
            ]
          },
          "metadata": {},
          "execution_count": 34
        }
      ]
    },
    {
      "cell_type": "code",
      "metadata": {
        "id": "2X0TKiOn1vXT",
        "outputId": "5e98ed6b-2386-484f-c49a-ee624b88cc7b",
        "colab": {
          "base_uri": "https://localhost:8080/",
          "height": 174
        }
      },
      "source": [
        "program_courses_thai_df[program_courses_thai_df['course_no'] == '5501112']"
      ],
      "execution_count": 35,
      "outputs": [
        {
          "output_type": "execute_result",
          "data": {
            "text/html": [
              "<div>\n",
              "<style scoped>\n",
              "    .dataframe tbody tr th:only-of-type {\n",
              "        vertical-align: middle;\n",
              "    }\n",
              "\n",
              "    .dataframe tbody tr th {\n",
              "        vertical-align: top;\n",
              "    }\n",
              "\n",
              "    .dataframe thead th {\n",
              "        text-align: right;\n",
              "    }\n",
              "</style>\n",
              "<table border=\"1\" class=\"dataframe\">\n",
              "  <thead>\n",
              "    <tr style=\"text-align: right;\">\n",
              "      <th></th>\n",
              "      <th>tag</th>\n",
              "      <th>course_no</th>\n",
              "      <th>program_code</th>\n",
              "    </tr>\n",
              "  </thead>\n",
              "  <tbody>\n",
              "    <tr>\n",
              "      <th>0</th>\n",
              "      <td>กลุ่มวิชาภาษาต่างประเทศ</td>\n",
              "      <td>5501112</td>\n",
              "      <td>121001</td>\n",
              "    </tr>\n",
              "    <tr>\n",
              "      <th>67</th>\n",
              "      <td>กลุ่มวิชาภาษาต่างประเทศ</td>\n",
              "      <td>5501112</td>\n",
              "      <td>121002</td>\n",
              "    </tr>\n",
              "    <tr>\n",
              "      <th>135</th>\n",
              "      <td>กลุ่มวิชาภาษาต่างประเทศ</td>\n",
              "      <td>5501112</td>\n",
              "      <td>121003</td>\n",
              "    </tr>\n",
              "    <tr>\n",
              "      <th>191</th>\n",
              "      <td>กลุ่มวิชาภาษาต่างประเทศ</td>\n",
              "      <td>5501112</td>\n",
              "      <td>121004</td>\n",
              "    </tr>\n",
              "  </tbody>\n",
              "</table>\n",
              "</div>"
            ],
            "text/plain": [
              "                         tag course_no program_code\n",
              "0    กลุ่มวิชาภาษาต่างประเทศ   5501112       121001\n",
              "67   กลุ่มวิชาภาษาต่างประเทศ   5501112       121002\n",
              "135  กลุ่มวิชาภาษาต่างประเทศ   5501112       121003\n",
              "191  กลุ่มวิชาภาษาต่างประเทศ   5501112       121004"
            ]
          },
          "metadata": {},
          "execution_count": 35
        }
      ]
    },
    {
      "cell_type": "code",
      "metadata": {
        "id": "jJaqUwt41vXT"
      },
      "source": [
        "import math\n",
        "\n",
        "def get_program_from_course_no(course_no):\n",
        "    result = program_courses_thai_df[program_courses_thai_df['course_no'] == course_no]['program_code'].drop_duplicates().values\n",
        "    return result if len(result) != 0 else math.nan"
      ],
      "execution_count": 36,
      "outputs": []
    },
    {
      "cell_type": "code",
      "metadata": {
        "id": "duomLVLM1vXU",
        "outputId": "9a3471c2-4b51-47a0-bfca-6856da2064d0",
        "colab": {
          "base_uri": "https://localhost:8080/",
          "height": 48,
          "referenced_widgets": [
            "a4dff24f5dba4d1fb8c3e08ae9b7afbd",
            "ae040723a7a24444b3adf1b136416d83",
            "c7c589d0c0294f31b08d34b878321a4b",
            "3e1b005ce8e24070ad6514e5fd508a53",
            "14ca2f578c7c40f5b3ac50d813d97492",
            "deed8526442b4b16a4f1aefac2e4178c",
            "b123beb1155547e1a5f2d9eec0153bdd",
            "80be903070fd4d33a66ced0e39d90642",
            "37e90daca3a747309fcb5a6c1b3e1ea4",
            "fb2433e6638a4586814c316a9ccfc366",
            "06c1fa2ba02749dab07d176cf85f84c3"
          ]
        }
      },
      "source": [
        "Y_program = None\n",
        "\n",
        "with mp.Pool(mp.cpu_count()) as p:\n",
        "  Y_program = pd.Series(list(tqdm(p.imap(get_program_from_course_no, df['course_no']), total = len(df))))"
      ],
      "execution_count": 37,
      "outputs": [
        {
          "output_type": "display_data",
          "data": {
            "application/vnd.jupyter.widget-view+json": {
              "model_id": "a4dff24f5dba4d1fb8c3e08ae9b7afbd",
              "version_minor": 0,
              "version_major": 2
            },
            "text/plain": [
              "  0%|          | 0/22786 [00:00<?, ?it/s]"
            ]
          },
          "metadata": {}
        }
      ]
    },
    {
      "cell_type": "code",
      "metadata": {
        "id": "tjuJY5y21vXU"
      },
      "source": [
        "Y_program = Y_program.dropna()"
      ],
      "execution_count": 38,
      "outputs": []
    },
    {
      "cell_type": "code",
      "metadata": {
        "id": "B8PQ-_-L1vXU",
        "outputId": "0c1035db-bc33-4ffe-969b-afe2388b16d9",
        "colab": {
          "base_uri": "https://localhost:8080/"
        }
      },
      "source": [
        "Y_program"
      ],
      "execution_count": 39,
      "outputs": [
        {
          "output_type": "execute_result",
          "data": {
            "text/plain": [
              "39       [320030, 520031]\n",
              "40       [320030, 520031]\n",
              "41               [320030]\n",
              "42               [320030]\n",
              "43               [320030]\n",
              "               ...       \n",
              "22781            [363200]\n",
              "22782            [363200]\n",
              "22783            [363200]\n",
              "22784            [363200]\n",
              "22785            [363200]\n",
              "Length: 11549, dtype: object"
            ]
          },
          "metadata": {},
          "execution_count": 39
        }
      ]
    },
    {
      "cell_type": "markdown",
      "metadata": {
        "id": "Klx4snV9laqR"
      },
      "source": [
        "### Tokenize word"
      ]
    },
    {
      "cell_type": "code",
      "metadata": {
        "colab": {
          "base_uri": "https://localhost:8080/"
        },
        "id": "7tcWIuPJ_a9Q",
        "outputId": "520fae08-e022-43d9-baa4-83a20eed8324"
      },
      "source": [
        "from pythainlp import word_tokenize\n",
        "\n",
        "print(\"no whitespace:\", word_tokenize(df['description_thai'].iloc[0], keep_whitespace=False))"
      ],
      "execution_count": 40,
      "outputs": [
        {
          "output_type": "stream",
          "name": "stdout",
          "text": [
            "no whitespace: ['ความหมาย', 'ของ', 'งานวิจัย', 'และ', 'จริยธรรม', 'การวิจัย', 'การ', 'ได้มา', 'ซึ่ง', 'ข้อมูล', 'และ', 'การ', 'จัดการ', 'ข้อมูล', 'การ', 'เป็นเจ้าของ', 'งานประพันธ์', 'และ', 'การ', 'ตีพิมพ์', 'การ', 'ประพฤติ', 'ผิดทาง', 'การวิจัย', 'การ', 'ใช้', 'สัตว์', 'ทด', 'ลองใน', 'งานวิจัย', 'การ', 'เป็น', 'พี่เลี้ยง', 'ใน', 'งานวิจัย', 'และ', 'งานวิจัย', 'ร่วม', 'ภาวะ', 'ส่วนตัว', 'การ', 'ถือเป็นความลับ', 'เฉพาะ', 'และ', 'ผลประโยชน์', 'ขัดกัน', 'กระบวนการ', 'ตรวจสอบ', 'การ', 'ประพฤติ', 'ฝึก', 'ทาง', 'จริยธรรม', 'การวิจัย', 'ของ', 'จุฬาลงกรณ์', 'มหาวิทยาลัย']\n"
          ]
        }
      ]
    },
    {
      "cell_type": "code",
      "metadata": {
        "colab": {
          "base_uri": "https://localhost:8080/",
          "height": 0,
          "referenced_widgets": [
            "51a7733845cf4c1f895b09eda1743cef",
            "90ea1750757f4e09a2d652368b9ba779",
            "aba2e09e4b6b4276a44452f065f4db44",
            "7f837df595a94a36bd012fcf728ee82a",
            "16898710d28147609e65b436c2dca3bf",
            "c6749c9525834e2886164f0e62e1c19f",
            "f94e935eb5cd426396785216989314cb",
            "e9cc3d109d06428e9e64e002e6f9e0cb",
            "2c1a690566f24bf98f3253d5add79abc",
            "a5b7a3cf492f4130909f9fc280e1412e",
            "79512516120e447e9c657de1007811fd"
          ]
        },
        "id": "1t42DnlFBUns",
        "outputId": "fcaf9371-0adf-4566-eb9d-c7118b4260bd"
      },
      "source": [
        "description_thai_tokenize = df['description_thai'].progress_apply(lambda x: word_tokenize(x, keep_whitespace=False))\n",
        "description_thai_tokenize"
      ],
      "execution_count": 41,
      "outputs": [
        {
          "output_type": "display_data",
          "data": {
            "application/vnd.jupyter.widget-view+json": {
              "model_id": "51a7733845cf4c1f895b09eda1743cef",
              "version_minor": 0,
              "version_major": 2
            },
            "text/plain": [
              "  0%|          | 0/22786 [00:00<?, ?it/s]"
            ]
          },
          "metadata": {}
        },
        {
          "output_type": "execute_result",
          "data": {
            "text/plain": [
              "0        [ความหมาย, ของ, งานวิจัย, และ, จริยธรรม, การวิ...\n",
              "1        [หลักการ, การ, ริเริ่ม, การเปลี่ยนแปลง, ของ, ส...\n",
              "2        [ภาพรวม, ของ, กิจการ, ภิ, บาล, ปัญหา, และ, ต้น...\n",
              "3        [การศึกษา, รายวิชา, เพิ่มเติม, ใน, ต่างประเทศ,...\n",
              "4        [การศึกษา, รายวิชา, เพิ่มเติม, ใน, ต่างประเทศ,...\n",
              "                               ...                        \n",
              "25154    [การ, อภิปราย, หัวข้อ, พิเศษ, ที่, เกี่ยวข้อง,...\n",
              "25155    [เนื้อหาวิชา, ครอบคลุม, พัฒนาการ, และ, ความเปล...\n",
              "25156    [หลักการ, ของ, การ, เพิ่ม, การ, เก็บ, กู้, น้ำ...\n",
              "25157    [เนื้อหาวิชา, ครอบคลุม, ภาคทฤษฎี, และ, ภาคปฏิบ...\n",
              "25158    [การวิจัย, ใน, เทคโนโลยี, ปิโตรเลียม, เพื่อ, ค...\n",
              "Name: description_thai, Length: 22786, dtype: object"
            ]
          },
          "metadata": {},
          "execution_count": 41
        }
      ]
    },
    {
      "cell_type": "code",
      "metadata": {
        "id": "iSsMuxmTAw6K"
      },
      "source": [
        "description_thai_word_count = description_thai_tokenize.apply(lambda x: len(x))"
      ],
      "execution_count": 42,
      "outputs": []
    },
    {
      "cell_type": "code",
      "metadata": {
        "colab": {
          "base_uri": "https://localhost:8080/"
        },
        "id": "X0GCLWLZCJh5",
        "outputId": "17af5e59-b3d4-4d65-c58e-45ed2cf7e49c"
      },
      "source": [
        "description_thai_word_count.value_counts()"
      ],
      "execution_count": 43,
      "outputs": [
        {
          "output_type": "execute_result",
          "data": {
            "text/plain": [
              "22     522\n",
              "24     516\n",
              "32     496\n",
              "25     496\n",
              "33     494\n",
              "      ... \n",
              "203      1\n",
              "175      1\n",
              "305      1\n",
              "177      1\n",
              "255      1\n",
              "Name: description_thai, Length: 190, dtype: int64"
            ]
          },
          "metadata": {},
          "execution_count": 43
        }
      ]
    },
    {
      "cell_type": "code",
      "metadata": {
        "colab": {
          "base_uri": "https://localhost:8080/"
        },
        "id": "HR3aqF6XCWbc",
        "outputId": "b1b85a44-3f91-413d-ba35-13fc1229fe34"
      },
      "source": [
        "print(description_thai_word_count.mean())\n",
        "print(description_thai_word_count.median())\n",
        "print(description_thai_word_count.max())\n",
        "print(description_thai_word_count.min())"
      ],
      "execution_count": 44,
      "outputs": [
        {
          "output_type": "stream",
          "name": "stdout",
          "text": [
            "38.33823400333538\n",
            "34.0\n",
            "305\n",
            "1\n"
          ]
        }
      ]
    },
    {
      "cell_type": "code",
      "metadata": {
        "colab": {
          "base_uri": "https://localhost:8080/",
          "height": 0
        },
        "id": "-99WdIPlBjfC",
        "outputId": "2dafc395-4bba-4477-e2ab-12a6509a86a2"
      },
      "source": [
        "description_thai_word_count.hist(figsize = (20, 10))"
      ],
      "execution_count": 45,
      "outputs": [
        {
          "output_type": "execute_result",
          "data": {
            "text/plain": [
              "<matplotlib.axes._subplots.AxesSubplot at 0x7f5a17573450>"
            ]
          },
          "metadata": {},
          "execution_count": 45
        },
        {
          "output_type": "display_data",
          "data": {
            "image/png": "[encoded data removed]",
            "text/plain": [
              "<Figure size 1440x720 with 1 Axes>"
            ]
          },
          "metadata": {
            "needs_background": "light"
          }
        }
      ]
    },
    {
      "cell_type": "code",
      "metadata": {
        "colab": {
          "base_uri": "https://localhost:8080/"
        },
        "id": "RRsLqCcyIPRw",
        "outputId": "bd8b3811-ba8f-479d-99c0-e917f584b06a"
      },
      "source": [
        "description_thai_tokenize"
      ],
      "execution_count": 46,
      "outputs": [
        {
          "output_type": "execute_result",
          "data": {
            "text/plain": [
              "0        [ความหมาย, ของ, งานวิจัย, และ, จริยธรรม, การวิ...\n",
              "1        [หลักการ, การ, ริเริ่ม, การเปลี่ยนแปลง, ของ, ส...\n",
              "2        [ภาพรวม, ของ, กิจการ, ภิ, บาล, ปัญหา, และ, ต้น...\n",
              "3        [การศึกษา, รายวิชา, เพิ่มเติม, ใน, ต่างประเทศ,...\n",
              "4        [การศึกษา, รายวิชา, เพิ่มเติม, ใน, ต่างประเทศ,...\n",
              "                               ...                        \n",
              "25154    [การ, อภิปราย, หัวข้อ, พิเศษ, ที่, เกี่ยวข้อง,...\n",
              "25155    [เนื้อหาวิชา, ครอบคลุม, พัฒนาการ, และ, ความเปล...\n",
              "25156    [หลักการ, ของ, การ, เพิ่ม, การ, เก็บ, กู้, น้ำ...\n",
              "25157    [เนื้อหาวิชา, ครอบคลุม, ภาคทฤษฎี, และ, ภาคปฏิบ...\n",
              "25158    [การวิจัย, ใน, เทคโนโลยี, ปิโตรเลียม, เพื่อ, ค...\n",
              "Name: description_thai, Length: 22786, dtype: object"
            ]
          },
          "metadata": {},
          "execution_count": 46
        }
      ]
    },
    {
      "cell_type": "code",
      "metadata": {
        "id": "8h4vXkajCSMX"
      },
      "source": [
        "X_text = description_thai_tokenize.to_list()"
      ],
      "execution_count": 47,
      "outputs": []
    },
    {
      "cell_type": "markdown",
      "metadata": {
        "id": "3580rllbfbQw"
      },
      "source": [
        "### Thai2Fit"
      ]
    },
    {
      "cell_type": "code",
      "metadata": {
        "colab": {
          "base_uri": "https://localhost:8080/"
        },
        "id": "W76twOklfbQw",
        "outputId": "e964e02b-382b-4eb7-ccc5-7df44769d740"
      },
      "source": [
        "df"
      ],
      "execution_count": null,
      "outputs": [
        {
          "data": {
            "text/html": [
              "<div>\n",
              "<style scoped>\n",
              "    .dataframe tbody tr th:only-of-type {\n",
              "        vertical-align: middle;\n",
              "    }\n",
              "\n",
              "    .dataframe tbody tr th {\n",
              "        vertical-align: top;\n",
              "    }\n",
              "\n",
              "    .dataframe thead th {\n",
              "        text-align: right;\n",
              "    }\n",
              "</style>\n",
              "<table border=\"1\" class=\"dataframe\">\n",
              "  <thead>\n",
              "    <tr style=\"text-align: right;\">\n",
              "      <th></th>\n",
              "      <th>course_no</th>\n",
              "      <th>course_name_thai</th>\n",
              "      <th>description_thai</th>\n",
              "      <th>faculty_no</th>\n",
              "    </tr>\n",
              "  </thead>\n",
              "  <tbody>\n",
              "    <tr>\n",
              "      <th>0</th>\n",
              "      <td>2000503</td>\n",
              "      <td>จริยธรรมการวิจัย</td>\n",
              "      <td>ความหมายของงานวิจัยและจริยธรรมการวิจัย การได้ม...</td>\n",
              "      <td>20</td>\n",
              "    </tr>\n",
              "    <tr>\n",
              "      <th>1</th>\n",
              "      <td>2000504</td>\n",
              "      <td>การดําเนินงานตามแผนปฏิบัติการเพื่อการเปลี่ยนแป...</td>\n",
              "      <td>หลักการการริเริ่มการเปลี่ยนแปลงของสังคมโลกที่ม...</td>\n",
              "      <td>20</td>\n",
              "    </tr>\n",
              "    <tr>\n",
              "      <th>2</th>\n",
              "      <td>2000601</td>\n",
              "      <td>กิจการภิบาล</td>\n",
              "      <td>ภาพรวมของกิจการภิบาล ปัญหาและต้นทุนของตัวแทน ก...</td>\n",
              "      <td>20</td>\n",
              "    </tr>\n",
              "    <tr>\n",
              "      <th>3</th>\n",
              "      <td>2000611</td>\n",
              "      <td>การศึกษาต่างประเทศ 1</td>\n",
              "      <td>การศึกษารายวิชาเพิ่มเติมในต่างประเทศตามที่หลัก...</td>\n",
              "      <td>20</td>\n",
              "    </tr>\n",
              "    <tr>\n",
              "      <th>4</th>\n",
              "      <td>2000612</td>\n",
              "      <td>การศึกษาต่างประเทศ 2</td>\n",
              "      <td>การศึกษารายวิชาเพิ่มเติมในต่างประเทศตามที่หลัก...</td>\n",
              "      <td>20</td>\n",
              "    </tr>\n",
              "    <tr>\n",
              "      <th>...</th>\n",
              "      <td>...</td>\n",
              "      <td>...</td>\n",
              "      <td>...</td>\n",
              "      <td>...</td>\n",
              "    </tr>\n",
              "    <tr>\n",
              "      <th>25154</th>\n",
              "      <td>6303622</td>\n",
              "      <td>ความก้าวหน้าด้านเทคโนโลยีปิโตรเลียม</td>\n",
              "      <td>การอภิปรายหัวข้อพิเศษที่เกี่ยวข้องกับความก้าวห...</td>\n",
              "      <td>63</td>\n",
              "    </tr>\n",
              "    <tr>\n",
              "      <th>25155</th>\n",
              "      <td>6303623</td>\n",
              "      <td>วิชาเลือกเฉพาะด้านในการผลิตน้ำมันดิบและก๊าซธรร...</td>\n",
              "      <td>เนื้อหาวิชาครอบคลุม พัฒนาการและความเปลี่ยนแปลง...</td>\n",
              "      <td>63</td>\n",
              "    </tr>\n",
              "    <tr>\n",
              "      <th>25156</th>\n",
              "      <td>6303624</td>\n",
              "      <td>การเพิ่มประสิทธิภาพการเก็บกู้น้ำมัน</td>\n",
              "      <td>หลักการของการเพิ่มการเก็บกู้น้ำมัน คุณสมบัติขอ...</td>\n",
              "      <td>63</td>\n",
              "    </tr>\n",
              "    <tr>\n",
              "      <th>25157</th>\n",
              "      <td>6303625</td>\n",
              "      <td>การบริหารโครงการ</td>\n",
              "      <td>เนื้อหาวิชาครอบคลุมภาคทฤษฎีและภาคปฏิบัติของการ...</td>\n",
              "      <td>63</td>\n",
              "    </tr>\n",
              "    <tr>\n",
              "      <th>25158</th>\n",
              "      <td>6303811</td>\n",
              "      <td>วิทยานิพนธ์</td>\n",
              "      <td>การวิจัยในเทคโนโลยีปิโตรเลียมเพื่อความก้าวหน้า...</td>\n",
              "      <td>63</td>\n",
              "    </tr>\n",
              "  </tbody>\n",
              "</table>\n",
              "<p>22786 rows × 4 columns</p>\n",
              "</div>"
            ],
            "text/plain": [
              "      course_no  ... faculty_no\n",
              "0       2000503  ...         20\n",
              "1       2000504  ...         20\n",
              "2       2000601  ...         20\n",
              "3       2000611  ...         20\n",
              "4       2000612  ...         20\n",
              "...         ...  ...        ...\n",
              "25154   6303622  ...         63\n",
              "25155   6303623  ...         63\n",
              "25156   6303624  ...         63\n",
              "25157   6303625  ...         63\n",
              "25158   6303811  ...         63\n",
              "\n",
              "[22786 rows x 4 columns]"
            ]
          },
          "execution_count": 36,
          "metadata": {},
          "output_type": "execute_result"
        }
      ]
    },
    {
      "cell_type": "code",
      "metadata": {
        "colab": {
          "base_uri": "https://localhost:8080/"
        },
        "id": "T-KuhxVRfbQw",
        "outputId": "1f2eacff-27ba-4942-e602-b6e25ecd8912"
      },
      "source": [
        "# Example\n",
        "from pythainlp.word_vector import sentence_vectorizer\n",
        "\n",
        "sentence = 'อ้วนเสี้ยวเข้ายึดแคว้นกิจิ๋ว ในปี พ.ศ. 735'\n",
        "example_vector = sentence_vectorizer(sentence, use_mean=True)\n",
        "print(example_vector.shape)"
      ],
      "execution_count": null,
      "outputs": [
        {
          "name": "stdout",
          "output_type": "stream",
          "text": [
            "Corpus: thai2fit_wv\n",
            "- Downloading: thai2fit_wv 0.1\n"
          ]
        },
        {
          "name": "stderr",
          "output_type": "stream",
          "text": [
            "100%|██████████| 62452646/62452646 [00:00<00:00, 156022399.80it/s]\n"
          ]
        },
        {
          "name": "stdout",
          "output_type": "stream",
          "text": [
            "(1, 300)\n"
          ]
        }
      ]
    },
    {
      "cell_type": "code",
      "metadata": {
        "id": "hJg64idsfbQ2"
      },
      "source": [
        "def doc2vec(text): \n",
        "    return sentence_vectorizer(text, use_mean=True)"
      ],
      "execution_count": null,
      "outputs": []
    },
    {
      "cell_type": "code",
      "metadata": {
        "colab": {
          "base_uri": "https://localhost:8080/",
          "referenced_widgets": [
            "684da757c82e4033bdb1f755445f19fb",
            "8b833a15e7744be0a9a0fd0278982f31",
            "42494ea1c8b34eb9a14c8e15792a8ef1",
            "5ef52bf96005493eaae382d372f43a2f",
            "30113bb959bb4dc5b0e70fa4705fdd87",
            "52cea60d9bef451eb6f438a5c7b5b488",
            "e7ccb4b8afe74609b79932df9b982a94",
            "7dbb97692f9c448db24dc62afe0f3633",
            "dd9efd7d41274ea091d41f89c4c12a0a",
            "ec9a1c0b635946faa4d83729f8c1cfae",
            "6f21dda99946413eac03d8de2486b35e"
          ]
        },
        "id": "2xHVZuTHfbQ2",
        "outputId": "08f7dda6-d7d2-444c-ba22-891461239055"
      },
      "source": [
        "X_t2f = None\n",
        "\n",
        "with mp.Pool(mp.cpu_count()) as p:\n",
        "  X_t2f = list(tqdm(p.imap(doc2vec, df['description_thai']), total = len(df)))"
      ],
      "execution_count": null,
      "outputs": [
        {
          "data": {
            "application/vnd.jupyter.widget-view+json": {
              "model_id": "684da757c82e4033bdb1f755445f19fb",
              "version_major": 2,
              "version_minor": 0
            },
            "text/plain": [
              "  0%|          | 0/22786 [00:00<?, ?it/s]"
            ]
          },
          "metadata": {},
          "output_type": "display_data"
        }
      ]
    },
    {
      "cell_type": "code",
      "metadata": {
        "id": "NFuOYW4UfbQ3"
      },
      "source": [
        "Y_t2f = df['faculty_no'].values"
      ],
      "execution_count": null,
      "outputs": []
    },
    {
      "cell_type": "code",
      "metadata": {
        "id": "sk_mbCWyfbQ3"
      },
      "source": [
        "X_t2f = np.array(X_t2f).squeeze()"
      ],
      "execution_count": null,
      "outputs": []
    },
    {
      "cell_type": "code",
      "metadata": {
        "colab": {
          "base_uri": "https://localhost:8080/"
        },
        "id": "r2KgWTMRfbQ3",
        "outputId": "be43d89c-9e8c-45b5-8eba-7b950d1efd3e"
      },
      "source": [
        "print(X_t2f.shape)\n",
        "print(Y_t2f.shape)"
      ],
      "execution_count": null,
      "outputs": [
        {
          "name": "stdout",
          "output_type": "stream",
          "text": [
            "(22786, 300)\n",
            "(22786,)\n"
          ]
        }
      ]
    },
    {
      "cell_type": "code",
      "metadata": {
        "id": "4w87S830fbQ3"
      },
      "source": [
        "from sklearn.model_selection import train_test_split\n",
        "from sklearn import svm\n",
        "\n",
        "t2f_train, t2f_test, Y_t2f_train, Y_t2f_test = train_test_split(X_t2f, Y_t2f, test_size = 0.10, random_state = 42)"
      ],
      "execution_count": null,
      "outputs": []
    },
    {
      "cell_type": "markdown",
      "metadata": {
        "id": "bR-werbGfbQ4"
      },
      "source": [
        ""
      ]
    },
    {
      "cell_type": "markdown",
      "metadata": {
        "id": "NoOYgUlr1vXb"
      },
      "source": [
        "### TF-IDF - study program predict"
      ]
    },
    {
      "cell_type": "code",
      "metadata": {
        "colab": {
          "base_uri": "https://localhost:8080/",
          "height": 423
        },
        "id": "KaU8OVCT_Zix",
        "outputId": "d4baca07-f607-4677-dec6-92a77adafc9e"
      },
      "source": [
        "df"
      ],
      "execution_count": 48,
      "outputs": [
        {
          "output_type": "execute_result",
          "data": {
            "text/html": [
              "<div>\n",
              "<style scoped>\n",
              "    .dataframe tbody tr th:only-of-type {\n",
              "        vertical-align: middle;\n",
              "    }\n",
              "\n",
              "    .dataframe tbody tr th {\n",
              "        vertical-align: top;\n",
              "    }\n",
              "\n",
              "    .dataframe thead th {\n",
              "        text-align: right;\n",
              "    }\n",
              "</style>\n",
              "<table border=\"1\" class=\"dataframe\">\n",
              "  <thead>\n",
              "    <tr style=\"text-align: right;\">\n",
              "      <th></th>\n",
              "      <th>course_no</th>\n",
              "      <th>course_name_thai</th>\n",
              "      <th>description_thai</th>\n",
              "      <th>faculty_no</th>\n",
              "    </tr>\n",
              "  </thead>\n",
              "  <tbody>\n",
              "    <tr>\n",
              "      <th>0</th>\n",
              "      <td>2000503</td>\n",
              "      <td>จริยธรรมการวิจัย</td>\n",
              "      <td>ความหมายของงานวิจัยและจริยธรรมการวิจัย การได้ม...</td>\n",
              "      <td>20</td>\n",
              "    </tr>\n",
              "    <tr>\n",
              "      <th>1</th>\n",
              "      <td>2000504</td>\n",
              "      <td>การดําเนินงานตามแผนปฏิบัติการเพื่อการเปลี่ยนแป...</td>\n",
              "      <td>หลักการการริเริ่มการเปลี่ยนแปลงของสังคมโลกที่ม...</td>\n",
              "      <td>20</td>\n",
              "    </tr>\n",
              "    <tr>\n",
              "      <th>2</th>\n",
              "      <td>2000601</td>\n",
              "      <td>กิจการภิบาล</td>\n",
              "      <td>ภาพรวมของกิจการภิบาล ปัญหาและต้นทุนของตัวแทน ก...</td>\n",
              "      <td>20</td>\n",
              "    </tr>\n",
              "    <tr>\n",
              "      <th>3</th>\n",
              "      <td>2000611</td>\n",
              "      <td>การศึกษาต่างประเทศ 1</td>\n",
              "      <td>การศึกษารายวิชาเพิ่มเติมในต่างประเทศตามที่หลัก...</td>\n",
              "      <td>20</td>\n",
              "    </tr>\n",
              "    <tr>\n",
              "      <th>4</th>\n",
              "      <td>2000612</td>\n",
              "      <td>การศึกษาต่างประเทศ 2</td>\n",
              "      <td>การศึกษารายวิชาเพิ่มเติมในต่างประเทศตามที่หลัก...</td>\n",
              "      <td>20</td>\n",
              "    </tr>\n",
              "    <tr>\n",
              "      <th>...</th>\n",
              "      <td>...</td>\n",
              "      <td>...</td>\n",
              "      <td>...</td>\n",
              "      <td>...</td>\n",
              "    </tr>\n",
              "    <tr>\n",
              "      <th>25154</th>\n",
              "      <td>6303622</td>\n",
              "      <td>ความก้าวหน้าด้านเทคโนโลยีปิโตรเลียม</td>\n",
              "      <td>การอภิปรายหัวข้อพิเศษที่เกี่ยวข้องกับความก้าวห...</td>\n",
              "      <td>63</td>\n",
              "    </tr>\n",
              "    <tr>\n",
              "      <th>25155</th>\n",
              "      <td>6303623</td>\n",
              "      <td>วิชาเลือกเฉพาะด้านในการผลิตน้ำมันดิบและก๊าซธรร...</td>\n",
              "      <td>เนื้อหาวิชาครอบคลุม พัฒนาการและความเปลี่ยนแปลง...</td>\n",
              "      <td>63</td>\n",
              "    </tr>\n",
              "    <tr>\n",
              "      <th>25156</th>\n",
              "      <td>6303624</td>\n",
              "      <td>การเพิ่มประสิทธิภาพการเก็บกู้น้ำมัน</td>\n",
              "      <td>หลักการของการเพิ่มการเก็บกู้น้ำมัน คุณสมบัติขอ...</td>\n",
              "      <td>63</td>\n",
              "    </tr>\n",
              "    <tr>\n",
              "      <th>25157</th>\n",
              "      <td>6303625</td>\n",
              "      <td>การบริหารโครงการ</td>\n",
              "      <td>เนื้อหาวิชาครอบคลุมภาคทฤษฎีและภาคปฏิบัติของการ...</td>\n",
              "      <td>63</td>\n",
              "    </tr>\n",
              "    <tr>\n",
              "      <th>25158</th>\n",
              "      <td>6303811</td>\n",
              "      <td>วิทยานิพนธ์</td>\n",
              "      <td>การวิจัยในเทคโนโลยีปิโตรเลียมเพื่อความก้าวหน้า...</td>\n",
              "      <td>63</td>\n",
              "    </tr>\n",
              "  </tbody>\n",
              "</table>\n",
              "<p>22786 rows × 4 columns</p>\n",
              "</div>"
            ],
            "text/plain": [
              "      course_no  ... faculty_no\n",
              "0       2000503  ...         20\n",
              "1       2000504  ...         20\n",
              "2       2000601  ...         20\n",
              "3       2000611  ...         20\n",
              "4       2000612  ...         20\n",
              "...         ...  ...        ...\n",
              "25154   6303622  ...         63\n",
              "25155   6303623  ...         63\n",
              "25156   6303624  ...         63\n",
              "25157   6303625  ...         63\n",
              "25158   6303811  ...         63\n",
              "\n",
              "[22786 rows x 4 columns]"
            ]
          },
          "metadata": {},
          "execution_count": 48
        }
      ]
    },
    {
      "cell_type": "code",
      "metadata": {
        "id": "WHQLFwBwVIsn"
      },
      "source": [
        "from pythainlp.corpus import thai_stopwords\n",
        "stopwords = list(thai_stopwords())"
      ],
      "execution_count": 49,
      "outputs": []
    },
    {
      "cell_type": "code",
      "metadata": {
        "id": "1AjTb_-B1vXc"
      },
      "source": [
        "X_text_program = [X_text[i] for i in Y_program.index]"
      ],
      "execution_count": 50,
      "outputs": []
    },
    {
      "cell_type": "code",
      "metadata": {
        "id": "Pf3zV0N41vXc",
        "outputId": "c87067de-aed0-4b92-a9d4-425033cdd56d",
        "colab": {
          "base_uri": "https://localhost:8080/"
        }
      },
      "source": [
        "len(X_text_program)"
      ],
      "execution_count": 51,
      "outputs": [
        {
          "output_type": "execute_result",
          "data": {
            "text/plain": [
              "11549"
            ]
          },
          "metadata": {},
          "execution_count": 51
        }
      ]
    },
    {
      "cell_type": "code",
      "metadata": {
        "colab": {
          "base_uri": "https://localhost:8080/"
        },
        "id": "Gl2H9Y9VUAf8",
        "outputId": "1f8e55ea-82cc-4724-dcea-cd1e658d9967"
      },
      "source": [
        "from sklearn.feature_extraction.text import TfidfVectorizer\n",
        "\n",
        "def identity_tokenizer(text):\n",
        "    return text\n",
        "\n",
        "vectorizer = TfidfVectorizer(tokenizer=identity_tokenizer, lowercase=False, stop_words=stopwords)\n",
        "tf_idf = vectorizer.fit_transform(X_text_program)"
      ],
      "execution_count": 52,
      "outputs": [
        {
          "output_type": "stream",
          "name": "stderr",
          "text": [
            "/usr/local/lib/python3.7/dist-packages/sklearn/feature_extraction/text.py:386: UserWarning: Your stop_words may be inconsistent with your preprocessing. Tokenizing the stop words generated tokens ['ก', 'ข', 'ค', 'ง', 'จ', 'ฉ', 'ช', 'ซ', 'ญ', 'ฏ', 'ด', 'ต', 'ถ', 'ท', 'ธ', 'น', 'บ', 'ป', 'ผ', 'ฝ', 'พ', 'ภ', 'ม', 'ย', 'ร', 'ล', 'ว', 'ศ', 'ส', 'ห', 'อ', 'ะ', 'ั', 'า', 'ำ', 'ิ', 'ี', 'ึ', 'ื', 'ุ', 'ู', 'เ', 'แ', 'โ', 'ใ', 'ไ', '็', '่', '้', '๊', '๋', '์', 'ํ', '\\ufeff'] not in stop_words.\n",
            "  'stop_words.' % sorted(inconsistent))\n"
          ]
        }
      ]
    },
    {
      "cell_type": "code",
      "metadata": {
        "id": "JpT8f3y818QK",
        "outputId": "f4b334e1-f969-40d4-891f-930394a8818f",
        "colab": {
          "base_uri": "https://localhost:8080/"
        }
      },
      "source": [
        "from sklearn.preprocessing import MultiLabelBinarizer\n",
        "\n",
        "mlb = MultiLabelBinarizer()\n",
        "\n",
        "# One-hot encode data\n",
        "Y_program_nn = mlb.fit_transform(Y_program.values)\n",
        "Y_program_nn"
      ],
      "execution_count": 71,
      "outputs": [
        {
          "output_type": "execute_result",
          "data": {
            "text/plain": [
              "array([[0, 0, 0, ..., 0, 0, 0],\n",
              "       [0, 0, 0, ..., 0, 0, 0],\n",
              "       [0, 0, 0, ..., 0, 0, 0],\n",
              "       ...,\n",
              "       [0, 0, 0, ..., 0, 0, 0],\n",
              "       [0, 0, 0, ..., 0, 0, 0],\n",
              "       [0, 0, 0, ..., 0, 0, 0]])"
            ]
          },
          "metadata": {},
          "execution_count": 71
        }
      ]
    },
    {
      "cell_type": "code",
      "metadata": {
        "id": "vXq-4FjYYcOV"
      },
      "source": [
        "from sklearn.model_selection import train_test_split\n",
        "\n",
        "tf_train_program, tf_test_program, Y_tf_train_program, Y_tf_test_program = train_test_split(tf_idf, Y_program_nn, test_size = 0.10, random_state = 42)"
      ],
      "execution_count": 72,
      "outputs": []
    },
    {
      "cell_type": "markdown",
      "metadata": {
        "id": "MLi17Vbi1vXd"
      },
      "source": [
        "### TF-IDF - faculty predict"
      ]
    },
    {
      "cell_type": "code",
      "metadata": {
        "colab": {
          "base_uri": "https://localhost:8080/",
          "height": 0
        },
        "id": "zP78P7iO1vXd",
        "outputId": "84c97b24-fe0d-49d6-b8bf-889739fe3cb4"
      },
      "source": [
        "df"
      ],
      "execution_count": 89,
      "outputs": [
        {
          "output_type": "execute_result",
          "data": {
            "text/html": [
              "<div>\n",
              "<style scoped>\n",
              "    .dataframe tbody tr th:only-of-type {\n",
              "        vertical-align: middle;\n",
              "    }\n",
              "\n",
              "    .dataframe tbody tr th {\n",
              "        vertical-align: top;\n",
              "    }\n",
              "\n",
              "    .dataframe thead th {\n",
              "        text-align: right;\n",
              "    }\n",
              "</style>\n",
              "<table border=\"1\" class=\"dataframe\">\n",
              "  <thead>\n",
              "    <tr style=\"text-align: right;\">\n",
              "      <th></th>\n",
              "      <th>course_no</th>\n",
              "      <th>course_name_thai</th>\n",
              "      <th>description_thai</th>\n",
              "      <th>faculty_no</th>\n",
              "    </tr>\n",
              "  </thead>\n",
              "  <tbody>\n",
              "    <tr>\n",
              "      <th>0</th>\n",
              "      <td>2000503</td>\n",
              "      <td>จริยธรรมการวิจัย</td>\n",
              "      <td>ความหมายของงานวิจัยและจริยธรรมการวิจัย การได้ม...</td>\n",
              "      <td>20</td>\n",
              "    </tr>\n",
              "    <tr>\n",
              "      <th>1</th>\n",
              "      <td>2000504</td>\n",
              "      <td>การดําเนินงานตามแผนปฏิบัติการเพื่อการเปลี่ยนแป...</td>\n",
              "      <td>หลักการการริเริ่มการเปลี่ยนแปลงของสังคมโลกที่ม...</td>\n",
              "      <td>20</td>\n",
              "    </tr>\n",
              "    <tr>\n",
              "      <th>2</th>\n",
              "      <td>2000601</td>\n",
              "      <td>กิจการภิบาล</td>\n",
              "      <td>ภาพรวมของกิจการภิบาล ปัญหาและต้นทุนของตัวแทน ก...</td>\n",
              "      <td>20</td>\n",
              "    </tr>\n",
              "    <tr>\n",
              "      <th>3</th>\n",
              "      <td>2000611</td>\n",
              "      <td>การศึกษาต่างประเทศ 1</td>\n",
              "      <td>การศึกษารายวิชาเพิ่มเติมในต่างประเทศตามที่หลัก...</td>\n",
              "      <td>20</td>\n",
              "    </tr>\n",
              "    <tr>\n",
              "      <th>4</th>\n",
              "      <td>2000612</td>\n",
              "      <td>การศึกษาต่างประเทศ 2</td>\n",
              "      <td>การศึกษารายวิชาเพิ่มเติมในต่างประเทศตามที่หลัก...</td>\n",
              "      <td>20</td>\n",
              "    </tr>\n",
              "    <tr>\n",
              "      <th>...</th>\n",
              "      <td>...</td>\n",
              "      <td>...</td>\n",
              "      <td>...</td>\n",
              "      <td>...</td>\n",
              "    </tr>\n",
              "    <tr>\n",
              "      <th>25154</th>\n",
              "      <td>6303622</td>\n",
              "      <td>ความก้าวหน้าด้านเทคโนโลยีปิโตรเลียม</td>\n",
              "      <td>การอภิปรายหัวข้อพิเศษที่เกี่ยวข้องกับความก้าวห...</td>\n",
              "      <td>63</td>\n",
              "    </tr>\n",
              "    <tr>\n",
              "      <th>25155</th>\n",
              "      <td>6303623</td>\n",
              "      <td>วิชาเลือกเฉพาะด้านในการผลิตน้ำมันดิบและก๊าซธรร...</td>\n",
              "      <td>เนื้อหาวิชาครอบคลุม พัฒนาการและความเปลี่ยนแปลง...</td>\n",
              "      <td>63</td>\n",
              "    </tr>\n",
              "    <tr>\n",
              "      <th>25156</th>\n",
              "      <td>6303624</td>\n",
              "      <td>การเพิ่มประสิทธิภาพการเก็บกู้น้ำมัน</td>\n",
              "      <td>หลักการของการเพิ่มการเก็บกู้น้ำมัน คุณสมบัติขอ...</td>\n",
              "      <td>63</td>\n",
              "    </tr>\n",
              "    <tr>\n",
              "      <th>25157</th>\n",
              "      <td>6303625</td>\n",
              "      <td>การบริหารโครงการ</td>\n",
              "      <td>เนื้อหาวิชาครอบคลุมภาคทฤษฎีและภาคปฏิบัติของการ...</td>\n",
              "      <td>63</td>\n",
              "    </tr>\n",
              "    <tr>\n",
              "      <th>25158</th>\n",
              "      <td>6303811</td>\n",
              "      <td>วิทยานิพนธ์</td>\n",
              "      <td>การวิจัยในเทคโนโลยีปิโตรเลียมเพื่อความก้าวหน้า...</td>\n",
              "      <td>63</td>\n",
              "    </tr>\n",
              "  </tbody>\n",
              "</table>\n",
              "<p>22786 rows × 4 columns</p>\n",
              "</div>"
            ],
            "text/plain": [
              "      course_no  ... faculty_no\n",
              "0       2000503  ...         20\n",
              "1       2000504  ...         20\n",
              "2       2000601  ...         20\n",
              "3       2000611  ...         20\n",
              "4       2000612  ...         20\n",
              "...         ...  ...        ...\n",
              "25154   6303622  ...         63\n",
              "25155   6303623  ...         63\n",
              "25156   6303624  ...         63\n",
              "25157   6303625  ...         63\n",
              "25158   6303811  ...         63\n",
              "\n",
              "[22786 rows x 4 columns]"
            ]
          },
          "metadata": {},
          "execution_count": 89
        }
      ]
    },
    {
      "cell_type": "code",
      "metadata": {
        "id": "zusVhfMn1vXd"
      },
      "source": [
        "from pythainlp.corpus import thai_stopwords\n",
        "stopwords = list(thai_stopwords())"
      ],
      "execution_count": 90,
      "outputs": []
    },
    {
      "cell_type": "code",
      "metadata": {
        "colab": {
          "base_uri": "https://localhost:8080/"
        },
        "id": "x6XltZUI1vXd",
        "outputId": "8cdd4636-2799-4030-b074-56924b10aa2e"
      },
      "source": [
        "from sklearn.feature_extraction.text import TfidfVectorizer\n",
        "\n",
        "def identity_tokenizer(text):\n",
        "    return text\n",
        "\n",
        "vectorizer = TfidfVectorizer(tokenizer=identity_tokenizer, lowercase=False, stop_words=stopwords)\n",
        "tf_idf = vectorizer.fit_transform(X_text)"
      ],
      "execution_count": 91,
      "outputs": [
        {
          "output_type": "stream",
          "name": "stderr",
          "text": [
            "/usr/local/lib/python3.7/dist-packages/sklearn/feature_extraction/text.py:386: UserWarning: Your stop_words may be inconsistent with your preprocessing. Tokenizing the stop words generated tokens ['ก', 'ข', 'ค', 'ง', 'จ', 'ฉ', 'ช', 'ซ', 'ญ', 'ฏ', 'ด', 'ต', 'ถ', 'ท', 'ธ', 'น', 'บ', 'ป', 'ผ', 'ฝ', 'พ', 'ภ', 'ม', 'ย', 'ร', 'ล', 'ว', 'ศ', 'ส', 'ห', 'อ', 'ะ', 'ั', 'า', 'ำ', 'ิ', 'ี', 'ึ', 'ื', 'ุ', 'ู', 'เ', 'แ', 'โ', 'ใ', 'ไ', '็', '่', '้', '๊', '๋', '์', 'ํ', '\\ufeff'] not in stop_words.\n",
            "  'stop_words.' % sorted(inconsistent))\n"
          ]
        }
      ]
    },
    {
      "cell_type": "code",
      "metadata": {
        "id": "pFiXJnLf1vXe"
      },
      "source": [
        "from sklearn.model_selection import train_test_split\n",
        "\n",
        "tf_train, tf_test, Y_tf_train, Y_tf_test = train_test_split(tf_idf, Y_text, test_size = 0.10, random_state = 42)"
      ],
      "execution_count": 92,
      "outputs": []
    },
    {
      "cell_type": "markdown",
      "metadata": {
        "id": "OekuoTlOfbQ8"
      },
      "source": [
        "### Keras LSTM preprocess\n",
        "\n"
      ]
    },
    {
      "cell_type": "code",
      "metadata": {
        "id": "xZtdq8zqDj9f"
      },
      "source": [
        "import numpy as np"
      ],
      "execution_count": null,
      "outputs": []
    },
    {
      "cell_type": "code",
      "metadata": {
        "colab": {
          "base_uri": "https://localhost:8080/"
        },
        "id": "uP8yftXUGAyE",
        "outputId": "04f05c19-0b21-4636-ec05-9797d5848cce"
      },
      "source": [
        "from keras.preprocessing.text import Tokenizer\n",
        "from sklearn.model_selection import train_test_split\n",
        "from keras.preprocessing.text import Tokenizer\n",
        "from keras.preprocessing.sequence import pad_sequences\n",
        "from keras.models import Sequential\n",
        "from keras.layers import Dense\n",
        "from keras.layers import Flatten\n",
        "from keras.layers import LSTM\n",
        "from keras.layers import Embedding\n",
        "from keras.layers import SpatialDropout1D\n",
        "from keras.layers import Input\n",
        "MAX_WORDS = 2500\n",
        "MAX_SEQUENCE_LENGTH = description_thai_word_count.max()\n",
        "EMBEDDING_DIM = 100\n",
        "\n",
        "tokenizer = Tokenizer(num_words=MAX_WORDS, filters='!\"#$%&()*+,-./:;<=>?@[\\]^_`{|}~')\n",
        "tokenizer.fit_on_texts(X_text)\n",
        "word_index = tokenizer.word_index\n",
        "X = np.array(tokenizer.texts_to_sequences(X_text))"
      ],
      "execution_count": null,
      "outputs": [
        {
          "name": "stderr",
          "output_type": "stream",
          "text": [
            "/usr/local/lib/python3.7/dist-packages/ipykernel_launcher.py:19: VisibleDeprecationWarning: Creating an ndarray from ragged nested sequences (which is a list-or-tuple of lists-or-tuples-or ndarrays with different lengths or shapes) is deprecated. If you meant to do this, you must specify 'dtype=object' when creating the ndarray\n"
          ]
        }
      ]
    },
    {
      "cell_type": "code",
      "metadata": {
        "id": "iXB-8kQBMCBc"
      },
      "source": [
        "# X = np.array(list(map(lambda x: np.array(x), X)))"
      ],
      "execution_count": null,
      "outputs": []
    },
    {
      "cell_type": "code",
      "metadata": {
        "colab": {
          "base_uri": "https://localhost:8080/"
        },
        "id": "5csinGgWNsAC",
        "outputId": "297071e3-e90b-4b80-fbbd-7b427aa42996"
      },
      "source": [
        "tokenizer_y = Tokenizer(num_words=MAX_WORDS, filters='!\"#$%&()*+,-./:;<=>?@[\\]^_`{|}~')\n",
        "tokenizer_y.fit_on_texts(Y_text)\n",
        "word_index_y = tokenizer_y.word_index\n",
        "Y = np.array(tokenizer_y.texts_to_sequences(Y_text))\n",
        "Y"
      ],
      "execution_count": null,
      "outputs": [
        {
          "data": {
            "text/plain": [
              "array([[13],\n",
              "       [13],\n",
              "       [13],\n",
              "       ...,\n",
              "       [23],\n",
              "       [23],\n",
              "       [23]])"
            ]
          },
          "execution_count": 50,
          "metadata": {},
          "output_type": "execute_result"
        }
      ]
    },
    {
      "cell_type": "code",
      "metadata": {
        "colab": {
          "base_uri": "https://localhost:8080/"
        },
        "id": "k13FnduuN-cu",
        "outputId": "5bc9ac6e-edcd-425f-b648-a593908c87d0"
      },
      "source": [
        "len(word_index_y.keys())"
      ],
      "execution_count": null,
      "outputs": [
        {
          "data": {
            "text/plain": [
              "25"
            ]
          },
          "execution_count": 51,
          "metadata": {},
          "output_type": "execute_result"
        }
      ]
    },
    {
      "cell_type": "code",
      "metadata": {
        "colab": {
          "base_uri": "https://localhost:8080/"
        },
        "id": "MOpBms28M0rH",
        "outputId": "ddf2ccb8-9057-4b97-9b75-1c7896e8fcb2"
      },
      "source": [
        "from sklearn.preprocessing import OneHotEncoder\n",
        "\n",
        "enc = OneHotEncoder()\n",
        "Y = enc.fit_transform(Y).toarray()\n",
        "Y"
      ],
      "execution_count": null,
      "outputs": [
        {
          "data": {
            "text/plain": [
              "array([[0., 0., 0., ..., 0., 0., 0.],\n",
              "       [0., 0., 0., ..., 0., 0., 0.],\n",
              "       [0., 0., 0., ..., 0., 0., 0.],\n",
              "       ...,\n",
              "       [0., 0., 0., ..., 1., 0., 0.],\n",
              "       [0., 0., 0., ..., 1., 0., 0.],\n",
              "       [0., 0., 0., ..., 1., 0., 0.]])"
            ]
          },
          "execution_count": 52,
          "metadata": {},
          "output_type": "execute_result"
        }
      ]
    },
    {
      "cell_type": "code",
      "metadata": {
        "id": "c2es6sXiMCxH"
      },
      "source": [
        "X = pad_sequences(X, maxlen=MAX_SEQUENCE_LENGTH)"
      ],
      "execution_count": null,
      "outputs": []
    },
    {
      "cell_type": "code",
      "metadata": {
        "colab": {
          "base_uri": "https://localhost:8080/"
        },
        "id": "a49AF8JrMJOF",
        "outputId": "f50e24a6-661c-4592-fc69-85c0ecf41f7f"
      },
      "source": [
        "X"
      ],
      "execution_count": null,
      "outputs": [
        {
          "data": {
            "text/plain": [
              "array([[   0,    0,    0, ...,  283,   44,    3],\n",
              "       [   0,    0,    0, ...,  465,   12, 1165],\n",
              "       [   0,    0,    0, ...,  127,    2,  519],\n",
              "       ...,\n",
              "       [   0,    0,    0, ..., 1038, 1896,   15],\n",
              "       [   0,    0,    0, ..., 1130,    2, 2020],\n",
              "       [   0,    0,    0, ...,   22,  560, 1946]], dtype=int32)"
            ]
          },
          "execution_count": 54,
          "metadata": {},
          "output_type": "execute_result"
        }
      ]
    },
    {
      "cell_type": "code",
      "metadata": {
        "id": "Cxjr0LewGyiT"
      },
      "source": [
        "X_train, X_test, Y_train, Y_test = train_test_split(X, Y, test_size = 0.10, random_state = 42)"
      ],
      "execution_count": null,
      "outputs": []
    },
    {
      "cell_type": "code",
      "metadata": {
        "colab": {
          "base_uri": "https://localhost:8080/"
        },
        "id": "kODxq0vhH5El",
        "outputId": "42ea3e04-ae3f-4227-ebec-7852407e1206"
      },
      "source": [
        "X_train.shape"
      ],
      "execution_count": null,
      "outputs": [
        {
          "data": {
            "text/plain": [
              "(20507, 305)"
            ]
          },
          "execution_count": 56,
          "metadata": {},
          "output_type": "execute_result"
        }
      ]
    },
    {
      "cell_type": "code",
      "metadata": {
        "colab": {
          "base_uri": "https://localhost:8080/"
        },
        "id": "3dPLJ33eHSym",
        "outputId": "279aa36c-b152-4c4a-972d-f5e70f160454"
      },
      "source": [
        "Y_train.shape"
      ],
      "execution_count": null,
      "outputs": [
        {
          "data": {
            "text/plain": [
              "(20507, 25)"
            ]
          },
          "execution_count": 57,
          "metadata": {},
          "output_type": "execute_result"
        }
      ]
    },
    {
      "cell_type": "markdown",
      "metadata": {
        "id": "X6TwMXkdOTER"
      },
      "source": [
        "## Train model"
      ]
    },
    {
      "cell_type": "markdown",
      "metadata": {
        "id": "4ciWFkbegu2D"
      },
      "source": [
        "### Thai2Fit  SVM\n",
        "t2f_train, t2f_test, Y_t2f_train, Y_t2f_test"
      ]
    },
    {
      "cell_type": "code",
      "metadata": {
        "colab": {
          "base_uri": "https://localhost:8080/"
        },
        "id": "xdPrJfLffbQ3",
        "outputId": "e2e56c7a-7496-4bc4-88ec-33e9af6d6feb"
      },
      "source": [
        "clf = svm.SVC()\n",
        "clf.fit(t2f_train, Y_t2f_train)"
      ],
      "execution_count": null,
      "outputs": [
        {
          "data": {
            "text/plain": [
              "SVC()"
            ]
          },
          "execution_count": 79,
          "metadata": {},
          "output_type": "execute_result"
        }
      ]
    },
    {
      "cell_type": "code",
      "metadata": {
        "colab": {
          "base_uri": "https://localhost:8080/"
        },
        "id": "mZwsJjLNfbQ3",
        "outputId": "53821ed8-97d5-45fe-b47f-4114553efdd7"
      },
      "source": [
        "Y_pred = clf.predict(t2f_test)\n",
        "\n",
        "from sklearn.metrics import accuracy_score\n",
        "from sklearn.metrics import f1_score\n",
        "\n",
        "print(accuracy_score(Y_t2f_test, Y_pred))\n",
        "print(f1_score(Y_t2f_test, Y_pred, average='micro'))"
      ],
      "execution_count": null,
      "outputs": [
        {
          "name": "stdout",
          "output_type": "stream",
          "text": [
            "0.6586222027204914\n",
            "0.6586222027204914\n"
          ]
        }
      ]
    },
    {
      "cell_type": "code",
      "metadata": {
        "id": "Z3gsXbYZehID"
      },
      "source": [
        "from skopt.space import Integer\n",
        "from skopt.space import Real\n",
        "from skopt.space import Categorical\n",
        "from skopt.utils import use_named_args\n",
        "\n",
        "# define the space of hyperparameters to search\n",
        "search_space = list()\n",
        "search_space.append(Real(1e-6, 100.0, 'log-uniform', name='C'))\n",
        "search_space.append(Categorical(['linear', 'poly', 'rbf', 'sigmoid'], name='kernel'))\n",
        "search_space.append(Integer(1, 5, name='degree'))\n",
        "search_space.append(Real(1e-6, 100.0, 'log-uniform', name='gamma'))\n",
        "\n",
        "# define the function used to evaluate a given configuration\n",
        "@use_named_args(search_space)\n",
        "def evaluate_model(**params):\n",
        "  # configure the model with specific hyperparameters\n",
        "  model = SVC()\n",
        "  model.set_params(**params)\n",
        "  # define test harness\n",
        "  cv = KFold(n_splits=5, shuffle=True)\n",
        "  # calculate 5-fold cross validation\n",
        "  result = cross_val_score(model, t2f_train, Y_t2f_train, cv=cv, n_jobs=-1, scoring='f1_micro')\n",
        "  # calculate the mean of the scores\n",
        "  estimate = mean(result)\n",
        "  # convert from a maximizing score to a minimizing score\n",
        "  print('estimate', estimate, params)\n",
        "  return 1.0 - estimate"
      ],
      "execution_count": null,
      "outputs": []
    },
    {
      "cell_type": "code",
      "metadata": {
        "id": "ULkm-CcsfbQ4",
        "outputId": "f8d25065-1d7d-4816-f9e8-2d4f1bd12fc4"
      },
      "source": [
        "## Load checkpoint\n",
        "from skopt import load\n",
        "\n",
        "\n",
        "x0 = None\n",
        "y0 = None\n",
        "try:\n",
        "    res = load('./data/checkpoint_svn_thai2fit.pkl')\n",
        "    x0 = res.x_iters\n",
        "    y0 = res.func_vals\n",
        "except:\n",
        "    print('error')\n",
        "\n",
        "print(x0)\n",
        "print(y0)"
      ],
      "execution_count": null,
      "outputs": [
        {
          "name": "stdout",
          "output_type": "stream",
          "text": [
            "[[0.24852029129478914, 'rbf', 1, 4.922171003302382e-05], [0.010273234891384994, 'poly', 2, 0.0005627663224721217], [4.3158069895349675e-06, 'sigmoid', 3, 1.2021735502546923e-06], [4.472393495027785e-06, 'rbf', 3, 0.08025374267466498], [0.0022281935009593416, 'sigmoid', 4, 0.013262636763305205], [0.0005662543859647804, 'poly', 2, 26.07273215378217], [2.302341904042948e-06, 'rbf', 5, 0.013804805135544938], [4.794351934356933, 'rbf', 1, 3.580500515053776e-05], [0.026646179462248603, 'sigmoid', 5, 1.8265523924211366e-06], [20.245343970350078, 'rbf', 2, 1.01483424732306e-06], [100.0, 'sigmoid', 1, 47.31552094489041], [0.0012559200504912577, 'poly', 3, 100.0], [0.00010464035190290595, 'poly', 1, 100.0], [0.002100595587973885, 'poly', 3, 36.30033551554544], [0.0012552314763333546, 'poly', 3, 40.254216458470225], [6.804746192741651e-06, 'linear', 3, 43.86320305765173], [6.291712374874442e-06, 'poly', 4, 100.0], [1.4650342606657708e-05, 'poly', 3, 35.15022333324982], [1e-06, 'poly', 3, 71.49293441603794], [1e-06, 'poly', 3, 31.505274844141454], [100.0, 'poly', 3, 100.0], [100.0, 'poly', 3, 100.0]]\n",
            "[0.87341073 0.8835516  0.88355214 0.88355236 0.87818723 0.3071145\n",
            " 0.88355216 0.88355179 0.88355217 0.88355153 0.88355204 0.27985579\n",
            " 0.64231776 0.27853861 0.27732032 0.88735525 0.28736499 0.27424764\n",
            " 0.27527176 0.36055987 0.28019668 0.28068451]\n"
          ]
        }
      ]
    },
    {
      "cell_type": "code",
      "metadata": {
        "id": "soZC_67sfbQ4"
      },
      "source": [
        "from numpy import mean\n",
        "from sklearn.model_selection import cross_val_score\n",
        "from sklearn.model_selection import KFold\n",
        "from sklearn.svm import SVC\n",
        "from skopt import gp_minimize\n",
        "\n",
        "\n",
        "n_calls = 50\n",
        "\n",
        "# perform optimization\n",
        "result = gp_minimize(evaluate_model, search_space, x0 = x0, y0 = y0, n_calls=n_calls, callback=BayesianCallback(total=n_calls, start=len(x0) if x0 else 0, checkpoint_path=\"./data/checkpoint_svn_thai2fit.pkl\", compress=9))\n",
        "# summarizing finding:\n",
        "print('Best Accuracy: %.3f' % (1.0 - result.fun))\n",
        "print('Best Parameters: %s' % (result.x))"
      ],
      "execution_count": null,
      "outputs": []
    },
    {
      "cell_type": "markdown",
      "metadata": {
        "id": "4Mlwkhr7hKtA"
      },
      "source": [
        "### TF-IDF SVM\n",
        "tf_train, tf_test, Y_tf_train, Y_tf_test"
      ]
    },
    {
      "cell_type": "code",
      "metadata": {
        "colab": {
          "base_uri": "https://localhost:8080/"
        },
        "id": "DSY6to4-WxJ1",
        "outputId": "fa9bf81a-b96a-4089-9a43-4509e3f2c5a8"
      },
      "source": [
        "from sklearn import svm\n",
        "\n",
        "clf = svm.SVC()\n",
        "clf.fit(tf_train, Y_tf_train)"
      ],
      "execution_count": null,
      "outputs": [
        {
          "data": {
            "text/plain": [
              "SVC()"
            ]
          },
          "execution_count": 41,
          "metadata": {},
          "output_type": "execute_result"
        }
      ]
    },
    {
      "cell_type": "code",
      "metadata": {
        "id": "6MyT8riTXGco"
      },
      "source": [
        "Y_pred = clf.predict(tf_test)"
      ],
      "execution_count": null,
      "outputs": []
    },
    {
      "cell_type": "code",
      "metadata": {
        "colab": {
          "base_uri": "https://localhost:8080/"
        },
        "id": "ke24b3XHX4M9",
        "outputId": "60af09bc-6cbf-4b4a-fcf7-9fc21997cc40"
      },
      "source": [
        "from sklearn.metrics import accuracy_score\n",
        "from sklearn.metrics import f1_score\n",
        "\n",
        "print(accuracy_score(Y_tf_test, Y_pred))\n",
        "print(f1_score(Y_tf_test, Y_pred, average='micro'))"
      ],
      "execution_count": null,
      "outputs": [
        {
          "name": "stdout",
          "output_type": "stream",
          "text": [
            "0.7898200965335673\n",
            "0.7898200965335673\n"
          ]
        }
      ]
    },
    {
      "cell_type": "code",
      "metadata": {
        "id": "grkwjrvUehIE"
      },
      "source": [
        "from skopt.utils import use_named_args\n",
        "from skopt.space import Integer\n",
        "from skopt.space import Real\n",
        "from skopt.space import Categorical\n",
        "\n",
        "# define the space of hyperparameters to search\n",
        "search_space = list()\n",
        "search_space.append(Real(1e-6, 100.0, 'log-uniform', name='C'))\n",
        "search_space.append(Categorical(['linear', 'poly', 'rbf', 'sigmoid'], name='kernel'))\n",
        "search_space.append(Integer(1, 5, name='degree'))\n",
        "search_space.append(Real(1e-6, 100.0, 'log-uniform', name='gamma'))\n",
        "\n",
        "# define the function used to evaluate a given configuration\n",
        "@use_named_args(search_space)\n",
        "def evaluate_model(**params):\n",
        "  # configure the model with specific hyperparameters\n",
        "  model = SVC()\n",
        "  model.set_params(**params)\n",
        "  # define test harness\n",
        "  cv = KFold(n_splits=5, shuffle=True)\n",
        "  # calculate 5-fold cross validation\n",
        "  result = cross_val_score(model, tf_train, Y_tf_train, cv=cv, n_jobs=-1, scoring='f1_micro')\n",
        "  # calculate the mean of the scores\n",
        "  estimate = mean(result)\n",
        "  # convert from a maximizing score to a minimizing score\n",
        "  print('estimate', estimate, params)\n",
        "  return 1.0 - estimate"
      ],
      "execution_count": null,
      "outputs": []
    },
    {
      "cell_type": "code",
      "metadata": {
        "id": "bvNCoKsnfbQ8",
        "outputId": "a4afe69f-b7be-4cd4-b83a-6825cf8c340f"
      },
      "source": [
        "## Load checkpoint\n",
        "from skopt import load\n",
        "\n",
        "\n",
        "x0 = None\n",
        "y0 = None\n",
        "try:\n",
        "    res = load('./data/checkpoint.pkl')\n",
        "    x0 = res.x_iters\n",
        "    y0 = res.func_vals\n",
        "except:\n",
        "    print('error')\n",
        "\n",
        "print(x0)\n",
        "print(y0)"
      ],
      "execution_count": null,
      "outputs": [
        {
          "name": "stdout",
          "output_type": "stream",
          "text": [
            "[[3.3108186896717307, 'rbf', 2, 0.6711266101623925], [0.00033551814926827497, 'rbf', 2, 4.29035995889377], [0.0008919763005596203, 'poly', 1, 3.101599867657219e-05], [0.06543527889685069, 'linear', 2, 1.2302823027169885], [0.2131906334829466, 'linear', 3, 14.273101079855673], [0.141645115505999, 'sigmoid', 3, 3.467809774016928e-05], [41.72776409082915, 'linear', 2, 0.0697824196604436], [0.0032132658526691405, 'rbf', 3, 0.041289776551754406], [6.237846841431372e-05, 'poly', 2, 0.0960665325906951], [1.6913898293443755e-06, 'rbf', 2, 0.0005435147159631662], [0.0068801667004534705, 'linear', 3, 21.661155168208193], [19.62255646305339, 'linear', 5, 0.0005312342102326412], [41.5493616256875, 'rbf', 4, 0.005147140720920628], [0.9563667993994027, 'poly', 3, 4.950340299837381], [28.328238532336346, 'poly', 3, 0.45883076303255255], [0.0005240805096055802, 'sigmoid', 1, 0.5224348342549675], [0.00013033653657864322, 'poly', 1, 0.00033878168177218793], [0.004169903385691833, 'poly', 4, 0.4943200139171838], [0.0007828922504834576, 'poly', 3, 1.4087152179521692e-06], [4.958831740926521, 'poly', 1, 0.19894954162545667], [9.51201094180464, 'linear', 1, 0.015753768578849], [100.0, 'linear', 1, 1e-06], [15.714819515400578, 'sigmoid', 1, 1e-06], [5.368176117399684, 'rbf', 1, 0.2122500158831139], [0.008896098087118868, 'poly', 4, 3.50327351733555e-05], [3.44421046402916e-06, 'sigmoid', 4, 0.002621679832730066], [9.6638120058881e-05, 'poly', 2, 3.570332828448076], [1.5006671555168645, 'sigmoid', 2, 0.0020837583469377084], [0.01564331094700346, 'poly', 4, 69.08011951865038], [4.5264978798691355e-05, 'poly', 2, 3.679704260698996e-05], [2.341558871757241e-05, 'poly', 3, 1.6622144343259467e-05], [0.18038890317535033, 'rbf', 2, 0.0027740447522256687], [3.5630309879529454e-06, 'rbf', 2, 1.3860659656983762e-05]]\n",
            "[0.19247052 0.88720912 0.88355214 0.42687831 0.29063285 0.88706294\n",
            " 0.21831559 0.88355198 0.883552   0.88677036 0.79280289 0.21670686\n",
            " 0.24898791 0.31013865 0.30765124 0.88355207 0.88355239 0.88355213\n",
            " 0.88355204 0.21660914 0.21241554 0.21656022 0.88355203 0.20017612\n",
            " 0.88355162 0.88355195 0.88355199 0.88350304 0.40371531 0.88355176\n",
            " 0.88355237 0.88355192 0.8877946 ]\n"
          ]
        }
      ]
    },
    {
      "cell_type": "code",
      "metadata": {
        "id": "_7jWX56La7lM"
      },
      "source": [
        "from numpy import mean\n",
        "from sklearn.model_selection import cross_val_score\n",
        "from sklearn.model_selection import KFold\n",
        "from sklearn.svm import SVC\n",
        "from skopt import gp_minimize\n",
        "\n",
        "n_calls = 50\n",
        "\n",
        "# perform optimization\n",
        "result = gp_minimize(evaluate_model, search_space, x0 = x0, y0 = y0, n_calls=n_calls, callback=BayesianCallback(total=n_calls, start=len(x0) if x0 else 0, checkpoint_path=\"./data/checkpoint.pkl\", compress=9))\n",
        "# summarizing finding:\n",
        "print('Best Accuracy: %.3f' % (1.0 - result.fun))\n",
        "print('Best Parameters: %s' % (result.x))"
      ],
      "execution_count": null,
      "outputs": []
    },
    {
      "cell_type": "markdown",
      "metadata": {
        "id": "PnKj2acDe6DK"
      },
      "source": [
        "### TF-IDF Neural network - predict faculty\n",
        "tf_train, tf_test, Y_tf_train, Y_tf_test"
      ]
    },
    {
      "cell_type": "code",
      "metadata": {
        "colab": {
          "base_uri": "https://localhost:8080/"
        },
        "id": "p0kmxW36f_om",
        "outputId": "7dc37269-28c9-4c35-d870-bcc8d0c82a1e"
      },
      "source": [
        "tf_train_nn = tf_train.toarray()\n",
        "tf_train_nn"
      ],
      "execution_count": 93,
      "outputs": [
        {
          "output_type": "execute_result",
          "data": {
            "text/plain": [
              "array([[0., 0., 0., ..., 0., 0., 0.],\n",
              "       [0., 0., 0., ..., 0., 0., 0.],\n",
              "       [0., 0., 0., ..., 0., 0., 0.],\n",
              "       ...,\n",
              "       [0., 0., 0., ..., 0., 0., 0.],\n",
              "       [0., 0., 0., ..., 0., 0., 0.],\n",
              "       [0., 0., 0., ..., 0., 0., 0.]])"
            ]
          },
          "metadata": {},
          "execution_count": 93
        }
      ]
    },
    {
      "cell_type": "code",
      "metadata": {
        "colab": {
          "base_uri": "https://localhost:8080/"
        },
        "id": "r9Iv88E8gCAg",
        "outputId": "18ee12dd-3a8d-4ddd-ca91-772dc5ce654c"
      },
      "source": [
        "Y_tf_train"
      ],
      "execution_count": 94,
      "outputs": [
        {
          "output_type": "execute_result",
          "data": {
            "text/plain": [
              "array(['30', '29', '20', ..., '22', '21', '30'], dtype=object)"
            ]
          },
          "metadata": {},
          "execution_count": 94
        }
      ]
    },
    {
      "cell_type": "code",
      "metadata": {
        "colab": {
          "base_uri": "https://localhost:8080/"
        },
        "id": "uEgxyobcgMyR",
        "outputId": "472929c7-732b-4e3f-e4b2-95e7941f96c0"
      },
      "source": [
        "from sklearn.preprocessing import OneHotEncoder\n",
        "\n",
        "enc = OneHotEncoder()\n",
        "Y_tf_train_nn = enc.fit_transform(Y_tf_train.reshape((-1, 1))).toarray()\n",
        "Y_tf_train_nn"
      ],
      "execution_count": 95,
      "outputs": [
        {
          "output_type": "execute_result",
          "data": {
            "text/plain": [
              "array([[0., 0., 0., ..., 0., 0., 0.],\n",
              "       [0., 0., 0., ..., 0., 0., 0.],\n",
              "       [1., 0., 0., ..., 0., 0., 0.],\n",
              "       ...,\n",
              "       [0., 0., 1., ..., 0., 0., 0.],\n",
              "       [0., 1., 0., ..., 0., 0., 0.],\n",
              "       [0., 0., 0., ..., 0., 0., 0.]])"
            ]
          },
          "metadata": {},
          "execution_count": 95
        }
      ]
    },
    {
      "cell_type": "code",
      "metadata": {
        "colab": {
          "base_uri": "https://localhost:8080/"
        },
        "id": "gzl8AfJsgoVZ",
        "outputId": "081cdd9c-fa97-414f-f1bb-8c2b288fa1dd"
      },
      "source": [
        "print(Y_tf_train_nn.shape)\n",
        "print(tf_train_nn.shape)"
      ],
      "execution_count": 96,
      "outputs": [
        {
          "output_type": "stream",
          "name": "stdout",
          "text": [
            "(20507, 25)\n",
            "(20507, 13939)\n"
          ]
        }
      ]
    },
    {
      "cell_type": "code",
      "metadata": {
        "id": "40xbY6WWe_Ik"
      },
      "source": [
        "from keras.layers import Input\n",
        "from keras.layers import Dense\n",
        "from keras.layers import Dropout\n",
        "import tensorflow as tf\n",
        "from tensorflow.keras import regularizers\n",
        "\n",
        "input = Input(shape=(tf_train_nn.shape[1], ))\n",
        "x = Dense(512, activation=\"tanh\", name='Hidden_1')(input)\n",
        "x = Dropout(0.2)(x)\n",
        "# x = Dense(512, activation=\"tanh\", name='Hidden_2')(x)\n",
        "# x = Dropout(0.2)(x)\n",
        "x = Dense(32, activation=\"tanh\", name='Hidden_3')(x)\n",
        "x = Dropout(0.1)(x)\n",
        "output = Dense(Y_tf_train_nn.shape[1], activation=\"softmax\",)(x)\n",
        "\n",
        "model = tf.keras.Model(inputs=input, outputs=output, name=\"TF-IDF_NN\")\n",
        "\n",
        "model.compile(loss='binary_crossentropy', optimizer=tf.keras.optimizers.Adam(learning_rate=1e-3), metrics=['accuracy'])"
      ],
      "execution_count": 97,
      "outputs": []
    },
    {
      "cell_type": "code",
      "metadata": {
        "colab": {
          "base_uri": "https://localhost:8080/",
          "height": 644
        },
        "id": "LzaGiOOgiH1k",
        "outputId": "c1fc4289-56cc-439b-ac91-e5b8ba77524b"
      },
      "source": [
        "tf.keras.utils.plot_model(model, show_shapes=True)"
      ],
      "execution_count": 98,
      "outputs": [
        {
          "output_type": "execute_result",
          "data": {
            "image/png": "[encoded data removed]",
            "text/plain": [
              "<IPython.core.display.Image object>"
            ]
          },
          "metadata": {},
          "execution_count": 98
        }
      ]
    },
    {
      "cell_type": "code",
      "metadata": {
        "colab": {
          "base_uri": "https://localhost:8080/"
        },
        "id": "ZT5wnikVhpEX",
        "outputId": "9faba118-6d0f-403c-a177-4805a5b3cf56"
      },
      "source": [
        "epochs = 100\n",
        "batch_size = 2048\n",
        "# batch_size = tf_train_nn.shape[0]\n",
        "\n",
        "model.fit(tf_train_nn, Y_tf_train_nn, epochs=epochs, batch_size=batch_size,validation_split=0.1)"
      ],
      "execution_count": 99,
      "outputs": [
        {
          "output_type": "stream",
          "name": "stdout",
          "text": [
            "Epoch 1/100\n",
            "10/10 [==============================] - 2s 96ms/step - loss: 0.6441 - accuracy: 0.0451 - val_loss: 0.5463 - val_accuracy: 0.0390\n",
            "Epoch 2/100\n",
            "10/10 [==============================] - 1s 74ms/step - loss: 0.4778 - accuracy: 0.0425 - val_loss: 0.3813 - val_accuracy: 0.0332\n",
            "Epoch 3/100\n",
            "10/10 [==============================] - 1s 75ms/step - loss: 0.3429 - accuracy: 0.0366 - val_loss: 0.2846 - val_accuracy: 0.0332\n",
            "Epoch 4/100\n",
            "10/10 [==============================] - 1s 74ms/step - loss: 0.2688 - accuracy: 0.0374 - val_loss: 0.2341 - val_accuracy: 0.0332\n",
            "Epoch 5/100\n",
            "10/10 [==============================] - 1s 75ms/step - loss: 0.2275 - accuracy: 0.0371 - val_loss: 0.2051 - val_accuracy: 0.0332\n",
            "Epoch 6/100\n",
            "10/10 [==============================] - 1s 73ms/step - loss: 0.2028 - accuracy: 0.0398 - val_loss: 0.1874 - val_accuracy: 0.0332\n",
            "Epoch 7/100\n",
            "10/10 [==============================] - 1s 74ms/step - loss: 0.1876 - accuracy: 0.0414 - val_loss: 0.1762 - val_accuracy: 0.0332\n",
            "Epoch 8/100\n",
            "10/10 [==============================] - 1s 71ms/step - loss: 0.1775 - accuracy: 0.0574 - val_loss: 0.1688 - val_accuracy: 0.0346\n",
            "Epoch 9/100\n",
            "10/10 [==============================] - 1s 73ms/step - loss: 0.1707 - accuracy: 0.0879 - val_loss: 0.1635 - val_accuracy: 0.1160\n",
            "Epoch 10/100\n",
            "10/10 [==============================] - 1s 74ms/step - loss: 0.1654 - accuracy: 0.1304 - val_loss: 0.1595 - val_accuracy: 0.2218\n",
            "Epoch 11/100\n",
            "10/10 [==============================] - 1s 73ms/step - loss: 0.1614 - accuracy: 0.1757 - val_loss: 0.1563 - val_accuracy: 0.2194\n",
            "Epoch 12/100\n",
            "10/10 [==============================] - 1s 73ms/step - loss: 0.1582 - accuracy: 0.2039 - val_loss: 0.1537 - val_accuracy: 0.2209\n",
            "Epoch 13/100\n",
            "10/10 [==============================] - 1s 73ms/step - loss: 0.1555 - accuracy: 0.2188 - val_loss: 0.1514 - val_accuracy: 0.2438\n",
            "Epoch 14/100\n",
            "10/10 [==============================] - 1s 72ms/step - loss: 0.1533 - accuracy: 0.2328 - val_loss: 0.1494 - val_accuracy: 0.3038\n",
            "Epoch 15/100\n",
            "10/10 [==============================] - 1s 72ms/step - loss: 0.1511 - accuracy: 0.2565 - val_loss: 0.1475 - val_accuracy: 0.3325\n",
            "Epoch 16/100\n",
            "10/10 [==============================] - 1s 72ms/step - loss: 0.1493 - accuracy: 0.2731 - val_loss: 0.1458 - val_accuracy: 0.3549\n",
            "Epoch 17/100\n",
            "10/10 [==============================] - 1s 71ms/step - loss: 0.1472 - accuracy: 0.2893 - val_loss: 0.1441 - val_accuracy: 0.3642\n",
            "Epoch 18/100\n",
            "10/10 [==============================] - 1s 73ms/step - loss: 0.1455 - accuracy: 0.3075 - val_loss: 0.1424 - val_accuracy: 0.3847\n",
            "Epoch 19/100\n",
            "10/10 [==============================] - 1s 73ms/step - loss: 0.1437 - accuracy: 0.3208 - val_loss: 0.1408 - val_accuracy: 0.3706\n",
            "Epoch 20/100\n",
            "10/10 [==============================] - 1s 71ms/step - loss: 0.1420 - accuracy: 0.3341 - val_loss: 0.1391 - val_accuracy: 0.3832\n",
            "Epoch 21/100\n",
            "10/10 [==============================] - 1s 71ms/step - loss: 0.1403 - accuracy: 0.3503 - val_loss: 0.1377 - val_accuracy: 0.3798\n",
            "Epoch 22/100\n",
            "10/10 [==============================] - 1s 70ms/step - loss: 0.1384 - accuracy: 0.3611 - val_loss: 0.1362 - val_accuracy: 0.3857\n",
            "Epoch 23/100\n",
            "10/10 [==============================] - 1s 71ms/step - loss: 0.1370 - accuracy: 0.3672 - val_loss: 0.1348 - val_accuracy: 0.3876\n",
            "Epoch 24/100\n",
            "10/10 [==============================] - 1s 72ms/step - loss: 0.1354 - accuracy: 0.3783 - val_loss: 0.1335 - val_accuracy: 0.3910\n",
            "Epoch 25/100\n",
            "10/10 [==============================] - 1s 72ms/step - loss: 0.1340 - accuracy: 0.3827 - val_loss: 0.1323 - val_accuracy: 0.3910\n",
            "Epoch 26/100\n",
            "10/10 [==============================] - 1s 73ms/step - loss: 0.1325 - accuracy: 0.3916 - val_loss: 0.1309 - val_accuracy: 0.4003\n",
            "Epoch 27/100\n",
            "10/10 [==============================] - 1s 71ms/step - loss: 0.1310 - accuracy: 0.4044 - val_loss: 0.1296 - val_accuracy: 0.4066\n",
            "Epoch 28/100\n",
            "10/10 [==============================] - 1s 73ms/step - loss: 0.1295 - accuracy: 0.4112 - val_loss: 0.1282 - val_accuracy: 0.4149\n",
            "Epoch 29/100\n",
            "10/10 [==============================] - 1s 73ms/step - loss: 0.1279 - accuracy: 0.4234 - val_loss: 0.1267 - val_accuracy: 0.4125\n",
            "Epoch 30/100\n",
            "10/10 [==============================] - 1s 74ms/step - loss: 0.1260 - accuracy: 0.4278 - val_loss: 0.1250 - val_accuracy: 0.4208\n",
            "Epoch 31/100\n",
            "10/10 [==============================] - 1s 73ms/step - loss: 0.1239 - accuracy: 0.4451 - val_loss: 0.1233 - val_accuracy: 0.4330\n",
            "Epoch 32/100\n",
            "10/10 [==============================] - 1s 72ms/step - loss: 0.1224 - accuracy: 0.4531 - val_loss: 0.1217 - val_accuracy: 0.4554\n",
            "Epoch 33/100\n",
            "10/10 [==============================] - 1s 72ms/step - loss: 0.1204 - accuracy: 0.4713 - val_loss: 0.1202 - val_accuracy: 0.4651\n",
            "Epoch 34/100\n",
            "10/10 [==============================] - 1s 74ms/step - loss: 0.1184 - accuracy: 0.4835 - val_loss: 0.1186 - val_accuracy: 0.4851\n",
            "Epoch 35/100\n",
            "10/10 [==============================] - 1s 71ms/step - loss: 0.1168 - accuracy: 0.4952 - val_loss: 0.1171 - val_accuracy: 0.4949\n",
            "Epoch 36/100\n",
            "10/10 [==============================] - 1s 71ms/step - loss: 0.1150 - accuracy: 0.5108 - val_loss: 0.1157 - val_accuracy: 0.5134\n",
            "Epoch 37/100\n",
            "10/10 [==============================] - 1s 75ms/step - loss: 0.1133 - accuracy: 0.5320 - val_loss: 0.1141 - val_accuracy: 0.5388\n",
            "Epoch 38/100\n",
            "10/10 [==============================] - 1s 73ms/step - loss: 0.1113 - accuracy: 0.5540 - val_loss: 0.1125 - val_accuracy: 0.5495\n",
            "Epoch 39/100\n",
            "10/10 [==============================] - 1s 74ms/step - loss: 0.1096 - accuracy: 0.5708 - val_loss: 0.1110 - val_accuracy: 0.5602\n",
            "Epoch 40/100\n",
            "10/10 [==============================] - 1s 74ms/step - loss: 0.1079 - accuracy: 0.5859 - val_loss: 0.1095 - val_accuracy: 0.5744\n",
            "Epoch 41/100\n",
            "10/10 [==============================] - 1s 73ms/step - loss: 0.1060 - accuracy: 0.6024 - val_loss: 0.1082 - val_accuracy: 0.5744\n",
            "Epoch 42/100\n",
            "10/10 [==============================] - 1s 72ms/step - loss: 0.1044 - accuracy: 0.6106 - val_loss: 0.1068 - val_accuracy: 0.5851\n",
            "Epoch 43/100\n",
            "10/10 [==============================] - 1s 70ms/step - loss: 0.1028 - accuracy: 0.6202 - val_loss: 0.1055 - val_accuracy: 0.5929\n",
            "Epoch 44/100\n",
            "10/10 [==============================] - 1s 71ms/step - loss: 0.1010 - accuracy: 0.6318 - val_loss: 0.1043 - val_accuracy: 0.6046\n",
            "Epoch 45/100\n",
            "10/10 [==============================] - 1s 73ms/step - loss: 0.0998 - accuracy: 0.6404 - val_loss: 0.1029 - val_accuracy: 0.6080\n",
            "Epoch 46/100\n",
            "10/10 [==============================] - 1s 71ms/step - loss: 0.0979 - accuracy: 0.6558 - val_loss: 0.1017 - val_accuracy: 0.6187\n",
            "Epoch 47/100\n",
            "10/10 [==============================] - 1s 75ms/step - loss: 0.0965 - accuracy: 0.6666 - val_loss: 0.1004 - val_accuracy: 0.6255\n",
            "Epoch 48/100\n",
            "10/10 [==============================] - 1s 72ms/step - loss: 0.0947 - accuracy: 0.6725 - val_loss: 0.0989 - val_accuracy: 0.6314\n",
            "Epoch 49/100\n",
            "10/10 [==============================] - 1s 72ms/step - loss: 0.0929 - accuracy: 0.6807 - val_loss: 0.0976 - val_accuracy: 0.6314\n",
            "Epoch 50/100\n",
            "10/10 [==============================] - 1s 72ms/step - loss: 0.0913 - accuracy: 0.6929 - val_loss: 0.0961 - val_accuracy: 0.6387\n",
            "Epoch 51/100\n",
            "10/10 [==============================] - 1s 72ms/step - loss: 0.0897 - accuracy: 0.7023 - val_loss: 0.0948 - val_accuracy: 0.6436\n",
            "Epoch 52/100\n",
            "10/10 [==============================] - 1s 75ms/step - loss: 0.0879 - accuracy: 0.7084 - val_loss: 0.0935 - val_accuracy: 0.6465\n",
            "Epoch 53/100\n",
            "10/10 [==============================] - 1s 73ms/step - loss: 0.0863 - accuracy: 0.7172 - val_loss: 0.0924 - val_accuracy: 0.6587\n",
            "Epoch 54/100\n",
            "10/10 [==============================] - 1s 75ms/step - loss: 0.0847 - accuracy: 0.7292 - val_loss: 0.0912 - val_accuracy: 0.6646\n",
            "Epoch 55/100\n",
            "10/10 [==============================] - 1s 73ms/step - loss: 0.0832 - accuracy: 0.7368 - val_loss: 0.0901 - val_accuracy: 0.6641\n",
            "Epoch 56/100\n",
            "10/10 [==============================] - 1s 73ms/step - loss: 0.0818 - accuracy: 0.7431 - val_loss: 0.0890 - val_accuracy: 0.6719\n",
            "Epoch 57/100\n",
            "10/10 [==============================] - 1s 74ms/step - loss: 0.0803 - accuracy: 0.7527 - val_loss: 0.0878 - val_accuracy: 0.6758\n",
            "Epoch 58/100\n",
            "10/10 [==============================] - 1s 74ms/step - loss: 0.0789 - accuracy: 0.7650 - val_loss: 0.0866 - val_accuracy: 0.6811\n",
            "Epoch 59/100\n",
            "10/10 [==============================] - 1s 75ms/step - loss: 0.0774 - accuracy: 0.7687 - val_loss: 0.0857 - val_accuracy: 0.6870\n",
            "Epoch 60/100\n",
            "10/10 [==============================] - 1s 73ms/step - loss: 0.0760 - accuracy: 0.7774 - val_loss: 0.0848 - val_accuracy: 0.6894\n",
            "Epoch 61/100\n",
            "10/10 [==============================] - 1s 75ms/step - loss: 0.0748 - accuracy: 0.7794 - val_loss: 0.0837 - val_accuracy: 0.6928\n",
            "Epoch 62/100\n",
            "10/10 [==============================] - 1s 72ms/step - loss: 0.0736 - accuracy: 0.7847 - val_loss: 0.0829 - val_accuracy: 0.6987\n",
            "Epoch 63/100\n",
            "10/10 [==============================] - 1s 83ms/step - loss: 0.0721 - accuracy: 0.7946 - val_loss: 0.0820 - val_accuracy: 0.7040\n",
            "Epoch 64/100\n",
            "10/10 [==============================] - 1s 74ms/step - loss: 0.0708 - accuracy: 0.8009 - val_loss: 0.0812 - val_accuracy: 0.7011\n",
            "Epoch 65/100\n",
            "10/10 [==============================] - 1s 75ms/step - loss: 0.0696 - accuracy: 0.8079 - val_loss: 0.0803 - val_accuracy: 0.7118\n",
            "Epoch 66/100\n",
            "10/10 [==============================] - 1s 74ms/step - loss: 0.0683 - accuracy: 0.8152 - val_loss: 0.0795 - val_accuracy: 0.7114\n",
            "Epoch 67/100\n",
            "10/10 [==============================] - 1s 83ms/step - loss: 0.0672 - accuracy: 0.8196 - val_loss: 0.0787 - val_accuracy: 0.7128\n",
            "Epoch 68/100\n",
            "10/10 [==============================] - 1s 72ms/step - loss: 0.0660 - accuracy: 0.8269 - val_loss: 0.0779 - val_accuracy: 0.7172\n",
            "Epoch 69/100\n",
            "10/10 [==============================] - 1s 75ms/step - loss: 0.0652 - accuracy: 0.8318 - val_loss: 0.0773 - val_accuracy: 0.7231\n",
            "Epoch 70/100\n",
            "10/10 [==============================] - 1s 73ms/step - loss: 0.0639 - accuracy: 0.8372 - val_loss: 0.0767 - val_accuracy: 0.7250\n",
            "Epoch 71/100\n",
            "10/10 [==============================] - 1s 73ms/step - loss: 0.0627 - accuracy: 0.8449 - val_loss: 0.0759 - val_accuracy: 0.7255\n",
            "Epoch 72/100\n",
            "10/10 [==============================] - 1s 75ms/step - loss: 0.0619 - accuracy: 0.8471 - val_loss: 0.0753 - val_accuracy: 0.7328\n",
            "Epoch 73/100\n",
            "10/10 [==============================] - 1s 75ms/step - loss: 0.0608 - accuracy: 0.8544 - val_loss: 0.0748 - val_accuracy: 0.7377\n",
            "Epoch 74/100\n",
            "10/10 [==============================] - 1s 74ms/step - loss: 0.0599 - accuracy: 0.8584 - val_loss: 0.0741 - val_accuracy: 0.7377\n",
            "Epoch 75/100\n",
            "10/10 [==============================] - 1s 74ms/step - loss: 0.0588 - accuracy: 0.8609 - val_loss: 0.0734 - val_accuracy: 0.7392\n",
            "Epoch 76/100\n",
            "10/10 [==============================] - 1s 74ms/step - loss: 0.0578 - accuracy: 0.8615 - val_loss: 0.0729 - val_accuracy: 0.7435\n",
            "Epoch 77/100\n",
            "10/10 [==============================] - 1s 73ms/step - loss: 0.0570 - accuracy: 0.8681 - val_loss: 0.0722 - val_accuracy: 0.7421\n",
            "Epoch 78/100\n",
            "10/10 [==============================] - 1s 73ms/step - loss: 0.0561 - accuracy: 0.8699 - val_loss: 0.0717 - val_accuracy: 0.7435\n",
            "Epoch 79/100\n",
            "10/10 [==============================] - 1s 71ms/step - loss: 0.0552 - accuracy: 0.8710 - val_loss: 0.0712 - val_accuracy: 0.7435\n",
            "Epoch 80/100\n",
            "10/10 [==============================] - 1s 72ms/step - loss: 0.0541 - accuracy: 0.8781 - val_loss: 0.0708 - val_accuracy: 0.7431\n",
            "Epoch 81/100\n",
            "10/10 [==============================] - 1s 72ms/step - loss: 0.0533 - accuracy: 0.8791 - val_loss: 0.0704 - val_accuracy: 0.7411\n",
            "Epoch 82/100\n",
            "10/10 [==============================] - 1s 73ms/step - loss: 0.0528 - accuracy: 0.8818 - val_loss: 0.0701 - val_accuracy: 0.7455\n",
            "Epoch 83/100\n",
            "10/10 [==============================] - 1s 74ms/step - loss: 0.0519 - accuracy: 0.8835 - val_loss: 0.0695 - val_accuracy: 0.7470\n",
            "Epoch 84/100\n",
            "10/10 [==============================] - 1s 74ms/step - loss: 0.0511 - accuracy: 0.8869 - val_loss: 0.0692 - val_accuracy: 0.7465\n",
            "Epoch 85/100\n",
            "10/10 [==============================] - 1s 74ms/step - loss: 0.0504 - accuracy: 0.8888 - val_loss: 0.0688 - val_accuracy: 0.7484\n",
            "Epoch 86/100\n",
            "10/10 [==============================] - 1s 72ms/step - loss: 0.0496 - accuracy: 0.8937 - val_loss: 0.0683 - val_accuracy: 0.7499\n",
            "Epoch 87/100\n",
            "10/10 [==============================] - 1s 74ms/step - loss: 0.0487 - accuracy: 0.8953 - val_loss: 0.0681 - val_accuracy: 0.7513\n",
            "Epoch 88/100\n",
            "10/10 [==============================] - 1s 75ms/step - loss: 0.0481 - accuracy: 0.8978 - val_loss: 0.0677 - val_accuracy: 0.7528\n",
            "Epoch 89/100\n",
            "10/10 [==============================] - 1s 72ms/step - loss: 0.0476 - accuracy: 0.8981 - val_loss: 0.0672 - val_accuracy: 0.7513\n",
            "Epoch 90/100\n",
            "10/10 [==============================] - 1s 75ms/step - loss: 0.0469 - accuracy: 0.8995 - val_loss: 0.0669 - val_accuracy: 0.7494\n",
            "Epoch 91/100\n",
            "10/10 [==============================] - 1s 74ms/step - loss: 0.0460 - accuracy: 0.9020 - val_loss: 0.0666 - val_accuracy: 0.7528\n",
            "Epoch 92/100\n",
            "10/10 [==============================] - 1s 72ms/step - loss: 0.0455 - accuracy: 0.9053 - val_loss: 0.0663 - val_accuracy: 0.7533\n",
            "Epoch 93/100\n",
            "10/10 [==============================] - 1s 73ms/step - loss: 0.0449 - accuracy: 0.9055 - val_loss: 0.0658 - val_accuracy: 0.7528\n",
            "Epoch 94/100\n",
            "10/10 [==============================] - 1s 75ms/step - loss: 0.0444 - accuracy: 0.9085 - val_loss: 0.0656 - val_accuracy: 0.7557\n",
            "Epoch 95/100\n",
            "10/10 [==============================] - 1s 72ms/step - loss: 0.0436 - accuracy: 0.9108 - val_loss: 0.0655 - val_accuracy: 0.7548\n",
            "Epoch 96/100\n",
            "10/10 [==============================] - 1s 73ms/step - loss: 0.0429 - accuracy: 0.9124 - val_loss: 0.0652 - val_accuracy: 0.7548\n",
            "Epoch 97/100\n",
            "10/10 [==============================] - 1s 74ms/step - loss: 0.0424 - accuracy: 0.9136 - val_loss: 0.0650 - val_accuracy: 0.7577\n",
            "Epoch 98/100\n",
            "10/10 [==============================] - 1s 76ms/step - loss: 0.0418 - accuracy: 0.9170 - val_loss: 0.0646 - val_accuracy: 0.7572\n",
            "Epoch 99/100\n",
            "10/10 [==============================] - 1s 75ms/step - loss: 0.0413 - accuracy: 0.9167 - val_loss: 0.0645 - val_accuracy: 0.7552\n",
            "Epoch 100/100\n",
            "10/10 [==============================] - 1s 71ms/step - loss: 0.0408 - accuracy: 0.9192 - val_loss: 0.0642 - val_accuracy: 0.7587\n"
          ]
        },
        {
          "output_type": "execute_result",
          "data": {
            "text/plain": [
              "<keras.callbacks.History at 0x7f593a064990>"
            ]
          },
          "metadata": {},
          "execution_count": 99
        }
      ]
    },
    {
      "cell_type": "markdown",
      "metadata": {
        "id": "fXyCx0D24sI2"
      },
      "source": [
        "### TF-IDF Neural network - predict study program\n",
        "tf_train_program, tf_test_program, Y_tf_train_program, Y_tf_test_program"
      ]
    },
    {
      "cell_type": "code",
      "metadata": {
        "id": "Rwv4knJe5ajW"
      },
      "source": [
        "tf_train_program_nn = tf_train_program.toarray()"
      ],
      "execution_count": 100,
      "outputs": []
    },
    {
      "cell_type": "code",
      "metadata": {
        "colab": {
          "base_uri": "https://localhost:8080/"
        },
        "id": "Y7OLUKm_4sI3",
        "outputId": "88ed68d2-0ec8-4f59-bf1f-ef57e731bc12"
      },
      "source": [
        "print(tf_train_program_nn.shape)\n",
        "print(Y_tf_train_program.shape)"
      ],
      "execution_count": 101,
      "outputs": [
        {
          "output_type": "stream",
          "name": "stdout",
          "text": [
            "(10394, 11069)\n",
            "(10394, 483)\n"
          ]
        }
      ]
    },
    {
      "cell_type": "code",
      "metadata": {
        "id": "5pvrRMRW4sI3"
      },
      "source": [
        "from keras.layers import Input\n",
        "from keras.layers import Dense\n",
        "from keras.layers import Dropout\n",
        "import tensorflow as tf\n",
        "from tensorflow.keras import regularizers\n",
        "\n",
        "input = Input(shape=(tf_train_program.shape[1], ))\n",
        "x = Dense(1024, activation=\"relu\", name='Hidden_1')(input)\n",
        "x = Dropout(0.1)(x)\n",
        "x = Dense(512, activation=\"relu\", name='Hidden_2')(x)\n",
        "# x = Dropout(0.1)(x)\n",
        "x = Dense(512, activation=\"relu\", name='Hidden_3')(x)\n",
        "# x = Dropout(0.1)(x)\n",
        "output = Dense(Y_tf_train_program.shape[1], activation=\"sigmoid\",)(x)\n",
        "\n",
        "model = tf.keras.Model(inputs=input, outputs=output, name=\"TF-IDF_NN\")\n",
        "\n",
        "model.compile(loss='binary_crossentropy', optimizer=tf.keras.optimizers.Adam(learning_rate=1e-3), metrics=['accuracy'])"
      ],
      "execution_count": 102,
      "outputs": []
    },
    {
      "cell_type": "code",
      "metadata": {
        "colab": {
          "base_uri": "https://localhost:8080/",
          "height": 0
        },
        "id": "zt1ZU9Jz4sI3",
        "outputId": "01added1-d682-4cb7-eaac-3a46b7a75898"
      },
      "source": [
        "tf.keras.utils.plot_model(model, show_shapes=True)"
      ],
      "execution_count": 103,
      "outputs": [
        {
          "output_type": "execute_result",
          "data": {
            "image/png": "[encoded data removed]",
            "text/plain": [
              "<IPython.core.display.Image object>"
            ]
          },
          "metadata": {},
          "execution_count": 103
        }
      ]
    },
    {
      "cell_type": "code",
      "metadata": {
        "colab": {
          "base_uri": "https://localhost:8080/"
        },
        "id": "Urn6NbJU4sI3",
        "outputId": "379918fb-9280-4dd9-be51-7417b0578131"
      },
      "source": [
        "epochs = 100\n",
        "batch_size = 2048\n",
        "# batch_size = tf_train_nn.shape[0]\n",
        "\n",
        "model.fit(tf_train_program_nn, Y_tf_train_program, epochs=epochs, batch_size=batch_size,validation_split=0.1)"
      ],
      "execution_count": null,
      "outputs": [
        {
          "output_type": "stream",
          "name": "stdout",
          "text": [
            "Epoch 1/100\n",
            "5/5 [==============================] - 1s 148ms/step - loss: 0.6882 - accuracy: 0.0029 - val_loss: 0.6646 - val_accuracy: 0.0038\n",
            "Epoch 2/100\n",
            "5/5 [==============================] - 0s 95ms/step - loss: 0.5987 - accuracy: 0.0045 - val_loss: 0.3723 - val_accuracy: 0.0038\n",
            "Epoch 3/100\n",
            "5/5 [==============================] - 0s 91ms/step - loss: 0.1871 - accuracy: 0.0042 - val_loss: 0.0255 - val_accuracy: 0.0019\n",
            "Epoch 4/100\n",
            "5/5 [==============================] - 0s 93ms/step - loss: 0.0344 - accuracy: 0.0019 - val_loss: 0.0529 - val_accuracy: 0.0019\n",
            "Epoch 5/100\n",
            "5/5 [==============================] - 0s 94ms/step - loss: 0.0640 - accuracy: 0.0019 - val_loss: 0.0718 - val_accuracy: 0.0019\n",
            "Epoch 6/100\n",
            "5/5 [==============================] - 0s 90ms/step - loss: 0.0740 - accuracy: 0.0140 - val_loss: 0.0672 - val_accuracy: 0.0260\n",
            "Epoch 7/100\n",
            "5/5 [==============================] - 0s 99ms/step - loss: 0.0636 - accuracy: 0.0195 - val_loss: 0.0513 - val_accuracy: 0.0260\n",
            "Epoch 8/100\n",
            "5/5 [==============================] - 0s 90ms/step - loss: 0.0467 - accuracy: 0.0160 - val_loss: 0.0365 - val_accuracy: 0.0173\n",
            "Epoch 9/100\n",
            "5/5 [==============================] - 0s 91ms/step - loss: 0.0330 - accuracy: 0.0127 - val_loss: 0.0276 - val_accuracy: 0.0144\n",
            "Epoch 10/100\n",
            "5/5 [==============================] - 0s 94ms/step - loss: 0.0262 - accuracy: 0.0081 - val_loss: 0.0249 - val_accuracy: 0.0029\n",
            "Epoch 11/100\n",
            "5/5 [==============================] - 0s 93ms/step - loss: 0.0239 - accuracy: 0.0071 - val_loss: 0.0235 - val_accuracy: 0.0038\n",
            "Epoch 12/100\n",
            "5/5 [==============================] - 0s 92ms/step - loss: 0.0227 - accuracy: 0.0069 - val_loss: 0.0225 - val_accuracy: 0.0260\n",
            "Epoch 13/100\n",
            "5/5 [==============================] - 0s 96ms/step - loss: 0.0219 - accuracy: 0.0195 - val_loss: 0.0221 - val_accuracy: 0.0260\n",
            "Epoch 14/100\n",
            "5/5 [==============================] - 0s 92ms/step - loss: 0.0217 - accuracy: 0.0195 - val_loss: 0.0219 - val_accuracy: 0.0260\n",
            "Epoch 15/100\n",
            "5/5 [==============================] - 0s 92ms/step - loss: 0.0215 - accuracy: 0.0195 - val_loss: 0.0217 - val_accuracy: 0.0260\n",
            "Epoch 16/100\n",
            "5/5 [==============================] - 0s 91ms/step - loss: 0.0213 - accuracy: 0.0195 - val_loss: 0.0215 - val_accuracy: 0.0260\n",
            "Epoch 17/100\n",
            "5/5 [==============================] - 0s 89ms/step - loss: 0.0211 - accuracy: 0.0195 - val_loss: 0.0214 - val_accuracy: 0.0260\n",
            "Epoch 18/100\n",
            "5/5 [==============================] - 0s 91ms/step - loss: 0.0210 - accuracy: 0.0195 - val_loss: 0.0214 - val_accuracy: 0.0260\n",
            "Epoch 19/100\n",
            "5/5 [==============================] - 0s 94ms/step - loss: 0.0209 - accuracy: 0.0195 - val_loss: 0.0213 - val_accuracy: 0.0260\n",
            "Epoch 20/100\n",
            "5/5 [==============================] - 0s 91ms/step - loss: 0.0209 - accuracy: 0.0195 - val_loss: 0.0212 - val_accuracy: 0.0260\n",
            "Epoch 21/100\n",
            "5/5 [==============================] - 0s 91ms/step - loss: 0.0208 - accuracy: 0.0195 - val_loss: 0.0212 - val_accuracy: 0.0260\n",
            "Epoch 22/100\n",
            "5/5 [==============================] - 0s 94ms/step - loss: 0.0208 - accuracy: 0.0195 - val_loss: 0.0212 - val_accuracy: 0.0260\n",
            "Epoch 23/100\n",
            "5/5 [==============================] - 0s 93ms/step - loss: 0.0207 - accuracy: 0.0195 - val_loss: 0.0212 - val_accuracy: 0.0260\n",
            "Epoch 24/100\n",
            "5/5 [==============================] - 0s 92ms/step - loss: 0.0207 - accuracy: 0.0195 - val_loss: 0.0212 - val_accuracy: 0.0260\n",
            "Epoch 25/100\n",
            "5/5 [==============================] - 0s 90ms/step - loss: 0.0207 - accuracy: 0.0195 - val_loss: 0.0212 - val_accuracy: 0.0260\n",
            "Epoch 26/100\n",
            "5/5 [==============================] - 0s 93ms/step - loss: 0.0206 - accuracy: 0.0195 - val_loss: 0.0212 - val_accuracy: 0.0260\n",
            "Epoch 27/100\n",
            "5/5 [==============================] - 0s 86ms/step - loss: 0.0206 - accuracy: 0.0195 - val_loss: 0.0212 - val_accuracy: 0.0260\n",
            "Epoch 28/100\n",
            "5/5 [==============================] - 0s 87ms/step - loss: 0.0206 - accuracy: 0.0195 - val_loss: 0.0212 - val_accuracy: 0.0260\n",
            "Epoch 29/100\n",
            "5/5 [==============================] - 0s 92ms/step - loss: 0.0206 - accuracy: 0.0195 - val_loss: 0.0211 - val_accuracy: 0.0260\n",
            "Epoch 30/100\n",
            "5/5 [==============================] - 0s 87ms/step - loss: 0.0205 - accuracy: 0.0195 - val_loss: 0.0211 - val_accuracy: 0.0260\n",
            "Epoch 31/100\n",
            "5/5 [==============================] - 0s 93ms/step - loss: 0.0205 - accuracy: 0.0195 - val_loss: 0.0211 - val_accuracy: 0.0260\n",
            "Epoch 32/100\n",
            "2/5 [===========>..................] - ETA: 0s - loss: 0.0206 - accuracy: 0.0178"
          ]
        }
      ]
    },
    {
      "cell_type": "markdown",
      "metadata": {
        "id": "EkjUeP2gg7sE"
      },
      "source": [
        "### LSTM\n",
        "X_train, X_test, Y_train, Y_test"
      ]
    },
    {
      "cell_type": "code",
      "metadata": {
        "colab": {
          "base_uri": "https://localhost:8080/"
        },
        "id": "y20FB4bgC6lg",
        "outputId": "52a55f60-518a-4088-d94e-3fa34c5aed8e"
      },
      "source": [
        "model = Sequential()\n",
        "model.add(Embedding(MAX_WORDS, EMBEDDING_DIM, input_length=X_train.shape[1], mask_zero=True))\n",
        "model.add(SpatialDropout1D(0.2))\n",
        "model.add(LSTM(100, dropout=0.2, recurrent_dropout=0.2))\n",
        "model.add(Dense(Y_train.shape[1], activation='softmax'))\n",
        "model.compile(loss='categorical_crossentropy', optimizer='adam', metrics=['accuracy'])\n",
        "\n",
        "epochs = 5\n",
        "batch_size = 2048\n",
        "\n",
        "history = model.fit(X_train, Y_train, epochs=epochs, batch_size=batch_size,validation_split=0.1)\n"
      ],
      "execution_count": null,
      "outputs": [
        {
          "name": "stdout",
          "output_type": "stream",
          "text": [
            "WARNING:tensorflow:Layer lstm_3 will not use cuDNN kernels since it doesn't meet the criteria. It will use a generic GPU kernel as fallback when running on GPU.\n",
            "Epoch 1/5\n",
            "10/10 [==============================] - 31s 3s/step - loss: 3.1912 - accuracy: 0.1368 - val_loss: 3.1000 - val_accuracy: 0.1424\n",
            "Epoch 2/5\n",
            "10/10 [==============================] - 27s 3s/step - loss: 2.9711 - accuracy: 0.1215 - val_loss: 2.8760 - val_accuracy: 0.1282\n",
            "Epoch 3/5\n",
            "10/10 [==============================] - 26s 3s/step - loss: 2.8505 - accuracy: 0.1706 - val_loss: 2.8237 - val_accuracy: 0.2428\n",
            "Epoch 4/5\n",
            "10/10 [==============================] - 26s 3s/step - loss: 2.7846 - accuracy: 0.2376 - val_loss: 2.7396 - val_accuracy: 0.2823\n",
            "Epoch 5/5\n",
            "10/10 [==============================] - 26s 3s/step - loss: 2.6632 - accuracy: 0.2665 - val_loss: 2.5881 - val_accuracy: 0.2901\n"
          ]
        }
      ]
    },
    {
      "cell_type": "code",
      "metadata": {
        "id": "st8EPWhvKIi3"
      },
      "source": [
        "epochs = 5\n",
        "batch_size = 2048\n",
        "history = model.fit(X_train, Y_train, epochs=epochs, batch_size=batch_size,validation_split=0.1)"
      ],
      "execution_count": null,
      "outputs": []
    },
    {
      "cell_type": "code",
      "metadata": {
        "id": "xzT8jdzeRwyl"
      },
      "source": [
        "epochs = 5\n",
        "batch_size = 2048\n",
        "history = model.fit(X_train, Y_train, epochs=epochs, batch_size=batch_size,validation_split=0.1)"
      ],
      "execution_count": null,
      "outputs": []
    },
    {
      "cell_type": "code",
      "metadata": {
        "id": "rE0mA97ySfI0"
      },
      "source": [
        "epochs = 5\n",
        "batch_size = 2048\n",
        "history = model.fit(X_train, Y_train, epochs=epochs, batch_size=batch_size,validation_split=0.1)"
      ],
      "execution_count": null,
      "outputs": []
    },
    {
      "cell_type": "code",
      "metadata": {
        "id": "NQJAYl0mS9K9"
      },
      "source": [
        "epochs = 5\n",
        "batch_size = 2048\n",
        "history = model.fit(X_train, Y_train, epochs=epochs, batch_size=batch_size,validation_split=0.1)"
      ],
      "execution_count": null,
      "outputs": []
    },
    {
      "cell_type": "code",
      "metadata": {
        "id": "bfrQveEFT2lS"
      },
      "source": [
        "epochs = 5\n",
        "batch_size = 2048\n",
        "history = model.fit(X_train, Y_train, epochs=epochs, batch_size=batch_size,validation_split=0.1)"
      ],
      "execution_count": null,
      "outputs": []
    },
    {
      "cell_type": "code",
      "metadata": {
        "colab": {
          "base_uri": "https://localhost:8080/"
        },
        "id": "HkAesWtsUPvD",
        "outputId": "ea3cd0fe-e302-4585-cba6-76b1c8afb089"
      },
      "source": [
        "model.evaluate(X_test, Y_test)"
      ],
      "execution_count": null,
      "outputs": [
        {
          "name": "stdout",
          "output_type": "stream",
          "text": [
            "72/72 [==============================] - 9s 130ms/step - loss: 2.5346 - accuracy: 0.3001\n"
          ]
        },
        {
          "data": {
            "text/plain": [
              "[2.534619092941284, 0.3001316487789154]"
            ]
          },
          "execution_count": 62,
          "metadata": {},
          "output_type": "execute_result"
        }
      ]
    },
    {
      "cell_type": "code",
      "metadata": {
        "id": "e7aOPFzmTaI6"
      },
      "source": [
        "# model.save_weights('/content/drive/My Drive/model_chula_course.h5')"
      ],
      "execution_count": null,
      "outputs": []
    },
    {
      "cell_type": "code",
      "metadata": {
        "colab": {
          "base_uri": "https://localhost:8080/"
        },
        "id": "duGNt3awUvfX",
        "outputId": "8a060098-1aa5-4600-c1d6-a5d1ccb6da83"
      },
      "source": [
        "for x in X_test[0]:\n",
        "  if x != 0:\n",
        "    key =  list(word_index.keys())[list(word_index.values()).index(x)]\n",
        "    print(key, end='')"
      ],
      "execution_count": null,
      "outputs": [
        {
          "name": "stdout",
          "output_type": "stream",
          "text": [
            "ทฤษฎีและแนวคิดของจิตบำบัดระหว่างบุคคลกระบวนการและเทคนิควิธีการบำบัดประสิทธิภาพของการบำบัดงานวิจัยที่เกี่ยวข้อง"
          ]
        }
      ]
    },
    {
      "cell_type": "code",
      "metadata": {
        "colab": {
          "base_uri": "https://localhost:8080/"
        },
        "id": "HD3cD64YVvce",
        "outputId": "4954ccc8-9346-4d86-99ad-d0e67bc60bab"
      },
      "source": [
        "word_index"
      ],
      "execution_count": null,
      "outputs": [
        {
          "data": {
            "text/plain": [
              "{'การ': 1,\n",
              " 'และ': 2,\n",
              " 'ของ': 3,\n",
              " 'ใน': 4,\n",
              " 'ที่': 5,\n",
              " 'ทาง': 6,\n",
              " 'วิเคราะห์': 7,\n",
              " 'ใช้': 8,\n",
              " 'ระบบ': 9,\n",
              " 'กับ': 10,\n",
              " 'ด้าน': 11,\n",
              " 'เพื่อ': 12,\n",
              " 'แบบ': 13,\n",
              " 'เกี่ยวกับ': 14,\n",
              " 'โดย': 15,\n",
              " 'ต่างๆ': 16,\n",
              " 'การศึกษา': 17,\n",
              " 'ทฤษฎี': 18,\n",
              " 'ออกแบบ': 19,\n",
              " 'เชิง': 20,\n",
              " 'หลักการ': 21,\n",
              " 'มี': 22,\n",
              " 'จาก': 23,\n",
              " 'ข้อมูล': 24,\n",
              " 'จัดการ': 25,\n",
              " 'ปัญหา': 26,\n",
              " 'การพัฒนา': 27,\n",
              " 'เทคนิค': 28,\n",
              " 'โรค': 29,\n",
              " 'แนวคิด': 30,\n",
              " 'ผู้ป่วย': 31,\n",
              " 'เกี่ยวข้อง': 32,\n",
              " 'ต่อ': 33,\n",
              " 'สำหรับ': 34,\n",
              " 'เป็น': 35,\n",
              " 'ตรวจ': 36,\n",
              " 'วิธี': 37,\n",
              " 'การรักษา': 38,\n",
              " 'พื้นฐาน': 39,\n",
              " 'ความ': 40,\n",
              " 'งาน': 41,\n",
              " 'โครงสร้าง': 42,\n",
              " 'กระบวนการ': 43,\n",
              " 'การวิจัย': 44,\n",
              " 'สังคม': 45,\n",
              " 'ด้วย': 46,\n",
              " 'วิธีการ': 47,\n",
              " 'ระหว่าง': 48,\n",
              " 'เน้น': 49,\n",
              " 'ยา': 50,\n",
              " 'สุขภาพ': 51,\n",
              " 'หรือ': 52,\n",
              " 'ฝึก': 53,\n",
              " 'ให้': 54,\n",
              " 'ความรู้': 55,\n",
              " 'ผล': 56,\n",
              " 'ทักษะ': 57,\n",
              " 'ระดับ': 58,\n",
              " 'หัวข้อ': 59,\n",
              " 'ได้แก่': 60,\n",
              " 'สร้าง': 61,\n",
              " 'ภาษา': 62,\n",
              " 'หลัก': 63,\n",
              " 'ความสัมพันธ์': 64,\n",
              " 'อย่าง': 65,\n",
              " 'การควบคุม': 66,\n",
              " 'ไทย': 67,\n",
              " 'ทั้ง': 68,\n",
              " 'จัด': 69,\n",
              " 'ศึกษา': 70,\n",
              " 'ประยุกต์': 71,\n",
              " 'รูปแบบ': 72,\n",
              " 'เทคโนโลยี': 73,\n",
              " 'คลินิก': 74,\n",
              " 'การสอน': 75,\n",
              " 'ต่าง ๆ': 76,\n",
              " 'ลักษณะ': 77,\n",
              " 'การประเมิน': 78,\n",
              " 'คุณภาพ': 79,\n",
              " 'การสื่อสาร': 80,\n",
              " 'งานวิจัย': 81,\n",
              " 'การวางแผน': 82,\n",
              " 'ปัจจุบัน': 83,\n",
              " 'ประเด็น': 84,\n",
              " 'การเขียน': 85,\n",
              " '\\r\\n': 86,\n",
              " 'ประเภท': 87,\n",
              " 'ไม่': 88,\n",
              " 'เครื่องมือ': 89,\n",
              " 'การบริหาร': 90,\n",
              " 'บทบาท': 91,\n",
              " 'อภิปราย': 92,\n",
              " 'ธุรกิจ': 93,\n",
              " 'เบื้องต้น': 94,\n",
              " 'ชนิด': 95,\n",
              " 'สิ่งแวดล้อม': 96,\n",
              " 'วัฒนธรรม': 97,\n",
              " 'วัสดุ': 98,\n",
              " 'กฎหมาย': 99,\n",
              " 'ทำ': 100,\n",
              " 'พัฒนาการ': 101,\n",
              " 'ประยุกต์ใช้': 102,\n",
              " 'ตาม': 103,\n",
              " 'การเรียนรู้': 104,\n",
              " 'นำเสนอ': 105,\n",
              " 'กำหนด': 106,\n",
              " 'สาร': 107,\n",
              " 'ดูแล': 108,\n",
              " 'วัด': 109,\n",
              " 'นโยบาย': 110,\n",
              " 'สื่อ': 111,\n",
              " 'กลุ่ม': 112,\n",
              " 'เคมี': 113,\n",
              " 'การผลิต': 114,\n",
              " 'การเปลี่ยนแปลง': 115,\n",
              " 'อาหาร': 116,\n",
              " 'ซึ่ง': 117,\n",
              " 'ปฏิบัติการ': 118,\n",
              " 'เด็ก': 119,\n",
              " 'สัตว์': 120,\n",
              " 'รวมทั้ง': 121,\n",
              " 'การทำงาน': 122,\n",
              " 'ได้': 123,\n",
              " 'สำคัญ': 124,\n",
              " 'เลือก': 125,\n",
              " 'วิทยา': 126,\n",
              " 'มนุษย์': 127,\n",
              " 'ปฏิบัติงาน': 128,\n",
              " 'ภาพ': 129,\n",
              " 'วิชาชีพ': 130,\n",
              " 'ชุมชน': 131,\n",
              " 'พัฒนา': 132,\n",
              " 'ใหม่': 133,\n",
              " 'ภาวะ': 134,\n",
              " 'วิจัย': 135,\n",
              " 'รวมถึง': 136,\n",
              " 'การวินิจฉัย': 137,\n",
              " 'รังสี': 138,\n",
              " 'ผลกระทบ': 139,\n",
              " 'พฤติกรรม': 140,\n",
              " 'ประวัติ': 141,\n",
              " 'โครงการ': 142,\n",
              " 'ปัจจัย': 143,\n",
              " 'องค์ประกอบ': 144,\n",
              " 'ระหว่างประเทศ': 145,\n",
              " 'สภาพ': 146,\n",
              " 'ประเทศ': 147,\n",
              " 'เรื่อง': 148,\n",
              " 'องค์กร': 149,\n",
              " 'แปล': 150,\n",
              " 'ตัว': 151,\n",
              " 'สถิติ': 152,\n",
              " 'ทดสอบ': 153,\n",
              " 'สารสนเทศ': 154,\n",
              " 'ปฏิบัติ': 155,\n",
              " 'โปรแกรม': 156,\n",
              " 'การนำ': 157,\n",
              " 'เกิด': 158,\n",
              " 'แนว': 159,\n",
              " 'เซลล์': 160,\n",
              " 'พยาธิ': 161,\n",
              " 'เศรษฐกิจ': 162,\n",
              " 'เหมาะสม': 163,\n",
              " 'อ่าน': 164,\n",
              " 'ห้องปฏิบัติการ': 165,\n",
              " 'อุตสาหกรรม': 166,\n",
              " 'กลยุทธ์': 167,\n",
              " 'รายงาน': 168,\n",
              " 'มา': 169,\n",
              " 'ฟัน': 170,\n",
              " 'สรีรวิทยา': 171,\n",
              " 'บริการ': 172,\n",
              " 'การเรียน': 173,\n",
              " 'ไป': 174,\n",
              " 'ผลิตภัณฑ์': 175,\n",
              " 'ขั้นสูง': 176,\n",
              " 'อุปกรณ์': 177,\n",
              " 'การเมือง': 178,\n",
              " 'คอมพิวเตอร์': 179,\n",
              " 'การตลาด': 180,\n",
              " 'ความหมาย': 181,\n",
              " 'ผ่าตัด': 182,\n",
              " 'ทั่วไป': 183,\n",
              " 'หลักสูตร': 184,\n",
              " 'กระบวน': 185,\n",
              " 'แบบจำลอง': 186,\n",
              " 'พลังงาน': 187,\n",
              " 'ๆ': 188,\n",
              " 'กลไก': 189,\n",
              " 'วรรณกรรม': 190,\n",
              " 'การป้องกัน': 191,\n",
              " 'ตลอดจน': 192,\n",
              " 'ทรัพยากร': 193,\n",
              " 'ชีว': 194,\n",
              " 'วิศวกรรม': 195,\n",
              " 'ควบคุม': 196,\n",
              " 'แนวทาง': 197,\n",
              " '์': 198,\n",
              " 'กา': 199,\n",
              " 'ตรวจสอบ': 200,\n",
              " 'องค์การ': 201,\n",
              " 'หา': 202,\n",
              " 'กรณีศึกษา': 203,\n",
              " 'ความผิดปกติ': 204,\n",
              " 'สาขา': 205,\n",
              " 'ร่างกาย': 206,\n",
              " 'ทางสังคม': 207,\n",
              " 'หน้าที่': 208,\n",
              " 'เตรียม': 209,\n",
              " 'น่าสนใจ': 210,\n",
              " 'ส่งเสริม': 211,\n",
              " 'สถาปัตยกรรม': 212,\n",
              " 'โมเลกุล': 213,\n",
              " 'โลก': 214,\n",
              " 'บริบท': 215,\n",
              " 'บูรณาการ': 216,\n",
              " 'ทางการ': 217,\n",
              " 'มาตรฐาน': 218,\n",
              " 'วินิจฉัย': 219,\n",
              " 'น้ำ': 220,\n",
              " 'ไฟฟ้า': 221,\n",
              " 'ความสำคัญ': 222,\n",
              " 'ส่ง': 223,\n",
              " '-': 224,\n",
              " 'ปริมาณ': 225,\n",
              " 'ศาสตร์': 226,\n",
              " 'การแก้ปัญหา': 227,\n",
              " 'สมบัติ': 228,\n",
              " 'เสนอ': 229,\n",
              " 'ตัวอย่าง': 230,\n",
              " 'สร้างสรรค์': 231,\n",
              " 'อื่นๆ': 232,\n",
              " 'เก็บ': 233,\n",
              " 'ถึง': 234,\n",
              " 'ความปลอดภัย': 235,\n",
              " 'ส': 236,\n",
              " 'แนวโน้ม': 237,\n",
              " 'ลิ': 238,\n",
              " 'พิเศษ': 239,\n",
              " 'เครื่อง': 240,\n",
              " 'ปรัชญา': 241,\n",
              " 'นิสิต': 242,\n",
              " 'ช่องปาก': 243,\n",
              " 'ข้อ': 244,\n",
              " 'พบ': 245,\n",
              " 'เศรษฐศาสตร์': 246,\n",
              " 'นวัตกรรม': 247,\n",
              " 'อื่น': 248,\n",
              " 'สมการ': 249,\n",
              " 'ธรรมชาติ': 250,\n",
              " 'ภายใน': 251,\n",
              " 'มิติ': 252,\n",
              " 'ความเสี่ยง': 253,\n",
              " 'โรงเรียน': 254,\n",
              " 'วิทยาศาสตร์': 255,\n",
              " 'บุคคล': 256,\n",
              " 'วรรณคดี': 257,\n",
              " 'ตัวแปร': 258,\n",
              " 'ศิลปะ': 259,\n",
              " 'การประเมินผล': 260,\n",
              " 'ตั้งแต่': 261,\n",
              " 'จิตวิทยา': 262,\n",
              " 'ผลงาน': 263,\n",
              " 'เม': 264,\n",
              " 'การแสดง': 265,\n",
              " '(': 266,\n",
              " 'การเงิน': 267,\n",
              " 'รักษา': 268,\n",
              " ')': 269,\n",
              " 'เปรียบเทียบ': 270,\n",
              " 'รวม': 271,\n",
              " 'แยก': 272,\n",
              " 'เภสัช': 273,\n",
              " 'เฉพาะ': 274,\n",
              " 'วงจร': 275,\n",
              " 'แต่ละ': 276,\n",
              " 'คุณสมบัติ': 277,\n",
              " 'เชิงเส้น': 278,\n",
              " '/': 279,\n",
              " 'ในประเทศ': 280,\n",
              " 'ชีวภาพ': 281,\n",
              " 'ซับซ้อน': 282,\n",
              " 'จริยธรรม': 283,\n",
              " 'ผู้': 284,\n",
              " 'การตัดสินใจ': 285,\n",
              " 'รัฐ': 286,\n",
              " 'คัดสรร': 287,\n",
              " 'กิจกรรม': 288,\n",
              " 'ประเมิน': 289,\n",
              " 'ขั้นตอน': 290,\n",
              " 'ภาษาอังกฤษ': 291,\n",
              " 'ต่างประเทศ': 292,\n",
              " 'ดี': 293,\n",
              " 'พยาบาล': 294,\n",
              " 'กีฬา': 295,\n",
              " 'วิจารณ์': 296,\n",
              " 'ผู้เรียน': 297,\n",
              " 'อร': 298,\n",
              " 'พืช': 299,\n",
              " 'ความต้องการ': 300,\n",
              " 'ทางการแพทย์': 301,\n",
              " 'แก่': 302,\n",
              " 'ค่า': 303,\n",
              " 'ความคิด': 304,\n",
              " 'มีผลต่อ': 305,\n",
              " 'ประวัติศาสตร์': 306,\n",
              " 'สาเหตุ': 307,\n",
              " 'เสียง': 308,\n",
              " 'แสง': 309,\n",
              " 'คณิตศาสตร์': 310,\n",
              " 'พูด': 311,\n",
              " 'วิวัฒนาการ': 312,\n",
              " 'ผ่าน': 313,\n",
              " 'ประสบการณ์': 314,\n",
              " 'เนื้อเยื่อ': 315,\n",
              " 'รูป': 316,\n",
              " 'การทดลอง': 317,\n",
              " 'ปฏิกิริยา': 318,\n",
              " 'อาการ': 319,\n",
              " 'ทันตกรรม': 320,\n",
              " 'การปฏิบัติ': 321,\n",
              " 'สัมพันธ์': 322,\n",
              " 'ติดตาม': 323,\n",
              " 'สภาพแวดล้อม': 324,\n",
              " 'ทางเศรษฐกิจ': 325,\n",
              " 'ศัลยกรรม': 326,\n",
              " 'อิทธิพล': 327,\n",
              " 'ํา': 328,\n",
              " 'ส่วน': 329,\n",
              " 'สภาวะ': 330,\n",
              " 'แรง': 331,\n",
              " 'แผน': 332,\n",
              " 'ภายใต้': 333,\n",
              " 'หลัง': 334,\n",
              " 'อาคาร': 335,\n",
              " 'ล': 336,\n",
              " 'โต': 337,\n",
              " 'ภาษาไทย': 338,\n",
              " 'ความร้อน': 339,\n",
              " 'บทความ': 340,\n",
              " 'ปรับ': 341,\n",
              " 'เขียน': 342,\n",
              " 'เมือง': 343,\n",
              " 'ป้องกัน': 344,\n",
              " 'พื้นที่': 345,\n",
              " 'หลาย': 346,\n",
              " 'บ่อย': 347,\n",
              " 'บน': 348,\n",
              " 'รับ': 349,\n",
              " 'สี': 350,\n",
              " 'เวช': 351,\n",
              " 'ตรวจร่างกาย': 352,\n",
              " 'แหล่ง': 353,\n",
              " 'ภูมิคุ้มกัน': 354,\n",
              " 'ไหล': 355,\n",
              " 'เวลา': 356,\n",
              " 'อวัยวะ': 357,\n",
              " 'ชัน': 358,\n",
              " 'สาธารณสุข': 359,\n",
              " 'สามารถ': 360,\n",
              " ',': 361,\n",
              " 'เลือด': 362,\n",
              " 'ระบบประสาท': 363,\n",
              " 'สถานการณ์': 364,\n",
              " 'ดำเนิน': 365,\n",
              " 'ร่วมสมัย': 366,\n",
              " 'วิชา': 367,\n",
              " 'กระจาย': 368,\n",
              " 'การคำนวณ': 369,\n",
              " 'รวบรวม': 370,\n",
              " 'สู่': 371,\n",
              " 'ได้รับ': 372,\n",
              " 'ประกอบ': 373,\n",
              " 'สินค้า': 374,\n",
              " 'ดิจิทัล': 375,\n",
              " 'เนื้อหา': 376,\n",
              " 'ตลาด': 377,\n",
              " 'ความสนใจ': 378,\n",
              " 'สถาบัน': 379,\n",
              " 'สังเคราะห์': 380,\n",
              " 'น': 381,\n",
              " 'แก้ไข': 382,\n",
              " 'โค': 383,\n",
              " 'ครอบครัว': 384,\n",
              " 'ก': 385,\n",
              " 'ผิดปกติ': 386,\n",
              " 'เกิดขึ้น': 387,\n",
              " 'ปกติ': 388,\n",
              " 'ยุค': 389,\n",
              " 'แนวความคิด': 390,\n",
              " 'ดำเนินงาน': 391,\n",
              " 'ตนเอง': 392,\n",
              " 'จนถึง': 393,\n",
              " 'อ': 394,\n",
              " 'คลื่น': 395,\n",
              " 'ดนตรี': 396,\n",
              " 'พยาธิวิทยา': 397,\n",
              " 'แก้ไขปัญหา': 398,\n",
              " 'หน่วย': 399,\n",
              " 'สมดุล': 400,\n",
              " 'ขนาด': 401,\n",
              " 'ที่เกิด': 402,\n",
              " 'โภชนาการ': 403,\n",
              " 'กำลัง': 404,\n",
              " 'ตอบสนอง': 405,\n",
              " 'ฐานข้อมูล': 406,\n",
              " 'โฆษณา': 407,\n",
              " 'ฟัง': 408,\n",
              " 'การลงทุน': 409,\n",
              " 'เอกสาร': 410,\n",
              " 'ฟังก์ชัน': 411,\n",
              " 'ความสามารถ': 412,\n",
              " 'การออกกำลังกาย': 413,\n",
              " 'การเคลื่อนไหว': 414,\n",
              " 'เภสัชกรรม': 415,\n",
              " 'บุคลากร': 416,\n",
              " 'บท': 417,\n",
              " 'เช่น': 418,\n",
              " 'มโนทัศน์': 419,\n",
              " 'กล้ามเนื้อ': 420,\n",
              " 'ศัพท์': 421,\n",
              " 'เวชศาสตร์': 422,\n",
              " 'เพื่อให้': 423,\n",
              " 'การสำรวจ': 424,\n",
              " 'เหตุผล': 425,\n",
              " 'ภูมิภาค': 426,\n",
              " 'วาง': 427,\n",
              " 'ประชากร': 428,\n",
              " 'จัดทำ': 429,\n",
              " 'ทางการเมือง': 430,\n",
              " 'กระดูก': 431,\n",
              " 'เอ': 432,\n",
              " 'ประสาท': 433,\n",
              " 'สนใจ': 434,\n",
              " 'ความเข้าใจ': 435,\n",
              " 'บันทึก': 436,\n",
              " 'ซอฟต์แวร์': 437,\n",
              " 'สมัยใหม่': 438,\n",
              " 'ต้นทุน': 439,\n",
              " 'ชีววิทยา': 440,\n",
              " 'รักษาโรค': 441,\n",
              " 'การค้า': 442,\n",
              " 'ประโยชน์': 443,\n",
              " 'พิมพ์': 444,\n",
              " 'อัน': 445,\n",
              " 'ภาพยนตร์': 446,\n",
              " 'กำเนิด': 447,\n",
              " 'นิวเคลียร์': 448,\n",
              " 'ช่วย': 449,\n",
              " 'ภาค': 450,\n",
              " 'ซัก': 451,\n",
              " 'คิด': 452,\n",
              " 'ทางกายภาพ': 453,\n",
              " 'ผู้สูงอายุ': 454,\n",
              " 'วิทยานิพนธ์': 455,\n",
              " 'ต่อเนื่อง': 456,\n",
              " 'สัญญาณ': 457,\n",
              " 'ดูแลรักษา': 458,\n",
              " 'ท่อ': 459,\n",
              " 'คำแนะนำ': 460,\n",
              " 'ขึ้น': 461,\n",
              " 'ดิน': 462,\n",
              " 'วิทยาการ': 463,\n",
              " 'หน่วยงาน': 464,\n",
              " 'สาธารณะ': 465,\n",
              " 'หัวใจ': 466,\n",
              " 'เท': 467,\n",
              " 'ทางจิตวิทยา': 468,\n",
              " 'หรับ': 469,\n",
              " 'ฟิสิกส์': 470,\n",
              " 'ศัลยศาสตร์': 471,\n",
              " 'จะ': 472,\n",
              " 'ญี่ปุ่น': 473,\n",
              " 'จุลินทรีย์': 474,\n",
              " 'โรงพยาบาล': 475,\n",
              " 'ลา': 476,\n",
              " 'ก่อน': 477,\n",
              " 'กฏ': 478,\n",
              " 'กระบวนการผลิต': 479,\n",
              " 'ริ': 480,\n",
              " 'ขั้นพื้นฐาน': 481,\n",
              " 'นำ': 482,\n",
              " 'ซี': 483,\n",
              " 'เครือข่าย': 484,\n",
              " 'พันธุกรรม': 485,\n",
              " 'แห่ง': 486,\n",
              " 'มีประสิทธิภาพ': 487,\n",
              " 'อนุพันธ์': 488,\n",
              " 'พอลิเมอร์': 489,\n",
              " 'คุณค่า': 490,\n",
              " 'ออ': 491,\n",
              " 'องค์ความรู้': 492,\n",
              " 'วิชาการ': 493,\n",
              " 'ประชาสัมพันธ์': 494,\n",
              " 'การปรับปรุง': 495,\n",
              " 'ความก้าวหน้า': 496,\n",
              " 'อาจารย์': 497,\n",
              " 'ราย': 498,\n",
              " 'การขนส่ง': 499,\n",
              " 'ชีวิต': 500,\n",
              " 'ประโยค': 501,\n",
              " 'นิเทศ': 502,\n",
              " 'รา': 503,\n",
              " 'โปรตีน': 504,\n",
              " 'การกีฬา': 505,\n",
              " 'ฝรั่งเศส': 506,\n",
              " 'สรุป': 507,\n",
              " 'แปลง': 508,\n",
              " 'ไอ': 509,\n",
              " 'หมาย': 510,\n",
              " 'วัตถุประสงค์': 511,\n",
              " 'ตีความ': 512,\n",
              " 'ดังกล่าว': 513,\n",
              " 'หายใจ': 514,\n",
              " 'ซิ': 515,\n",
              " 'ความแตกต่าง': 516,\n",
              " 'โครง': 517,\n",
              " 'ขอบเขต': 518,\n",
              " 'เทคโนโลยีสารสนเทศ': 519,\n",
              " 'การทบทวน': 520,\n",
              " 'ลด': 521,\n",
              " 'โครงร่าง': 522,\n",
              " 'ส่วนประกอบ': 523,\n",
              " 'ลึก': 524,\n",
              " 'ทางวิทยาศาสตร์': 525,\n",
              " 'สห': 526,\n",
              " 'สาขาวิชา': 527,\n",
              " 'วิ': 528,\n",
              " 'องค์': 529,\n",
              " 'สัมภาษณ์': 530,\n",
              " 'เชื้อ': 531,\n",
              " 'ประเมินผล': 532,\n",
              " 'ร์': 533,\n",
              " 'ชีวเคมี': 534,\n",
              " 'รส': 535,\n",
              " 'สูง': 536,\n",
              " 'แนะนำ': 537,\n",
              " 'เคลื่อนที่': 538,\n",
              " 'บำบัด': 539,\n",
              " 'หัตถการ': 540,\n",
              " 'พยากรณ์': 541,\n",
              " 'บริบาล': 542,\n",
              " 'รี': 543,\n",
              " 'มิ': 544,\n",
              " 'จริง': 545,\n",
              " 'โดยเฉพาะ': 546,\n",
              " 'ครู': 547,\n",
              " 'สมอง': 548,\n",
              " 'ร': 549,\n",
              " 'การท่องเที่ยว': 550,\n",
              " 'ผลงานวิจัย': 551,\n",
              " 'กรณี': 552,\n",
              " 'ส์': 553,\n",
              " 'การแข่งขัน': 554,\n",
              " 'วิพากษ์': 555,\n",
              " 'การศึกษานอกระบบ': 556,\n",
              " 'ประสิทธิภาพ': 557,\n",
              " 'วางแผน': 558,\n",
              " 'บทนำ': 559,\n",
              " 'อยู่': 560,\n",
              " 'สิทธิ': 561,\n",
              " 'อาจารย์ที่ปรึกษา': 562,\n",
              " 'กรอบ': 563,\n",
              " 'ค้นคว้า': 564,\n",
              " 'ปี': 565,\n",
              " 'จำเป็น': 566,\n",
              " 'นิ': 567,\n",
              " 'ร่วม': 568,\n",
              " 'มุมมอง': 569,\n",
              " 'ปฐมวัย': 570,\n",
              " 'โลหะ': 571,\n",
              " 'สมัย': 572,\n",
              " 'ถดถอย': 573,\n",
              " 'ท้องถิ่น': 574,\n",
              " 'หนึ่ง': 575,\n",
              " 'โท': 576,\n",
              " 'จรรยาบรรณ': 577,\n",
              " 'การบัญชี': 578,\n",
              " 'ฐานะ': 579,\n",
              " 'ดำเนินการ': 580,\n",
              " 'นา': 581,\n",
              " 'ระบาดวิทยา': 582,\n",
              " 'โอ': 583,\n",
              " 'การใช้งาน': 584,\n",
              " 'ผลการวิจัย': 585,\n",
              " 'โมเดล': 586,\n",
              " 'การแพทย์': 587,\n",
              " 'กลศาสตร์': 588,\n",
              " 'ผิว': 589,\n",
              " 'ต้อง': 590,\n",
              " 'อาศัย': 591,\n",
              " 'ทางใน': 592,\n",
              " 'การรับรู้': 593,\n",
              " 'อิเล็กทรอนิกส์': 594,\n",
              " 'เต': 595,\n",
              " 'โล': 596,\n",
              " 'ปฏิสัมพันธ์': 597,\n",
              " 'ทีม': 598,\n",
              " 'หลอดเลือด': 599,\n",
              " 'ที': 600,\n",
              " 'ภาครัฐ': 601,\n",
              " 'ฐาน': 602,\n",
              " 'ภาคสนาม': 603,\n",
              " 'ก่อสร้าง': 604,\n",
              " 'ประถมศึกษา': 605,\n",
              " 'ภาพรวม': 606,\n",
              " 'สม': 607,\n",
              " 'สื่อสาร': 608,\n",
              " 'สํา': 609,\n",
              " 'ประกอบด้วย': 610,\n",
              " 'ทดลอง': 611,\n",
              " 'พิจารณา': 612,\n",
              " 'คน': 613,\n",
              " 'ไวยากรณ์': 614,\n",
              " 'สืบพันธุ์': 615,\n",
              " 'ร่วมกับ': 616,\n",
              " 'แพทย์': 617,\n",
              " 'กิจการ': 618,\n",
              " 'ระเบียบวิธี': 619,\n",
              " 'ซึม': 620,\n",
              " 'การจำลอง': 621,\n",
              " 'ผู้บริโภค': 622,\n",
              " 'อนามัย': 623,\n",
              " 'เทียม': 624,\n",
              " 'ความรู้สึก': 625,\n",
              " 'ผลิต': 626,\n",
              " 'ยีน': 627,\n",
              " 'มะเร็ง': 628,\n",
              " 'การจำแนก': 629,\n",
              " 'การถ่ายภาพ': 630,\n",
              " 'ศิลป์': 631,\n",
              " 'วัตถุ': 632,\n",
              " ';': 633,\n",
              " 'โรคติดเชื้อ': 634,\n",
              " 'โลหิต': 635,\n",
              " 'ยุโรป': 636,\n",
              " 'เชื่อมโยง': 637,\n",
              " 'สอง': 638,\n",
              " 'อา': 639,\n",
              " 'เฉพาะทาง': 640,\n",
              " 'วารสาร': 641,\n",
              " 'ตา': 642,\n",
              " 'นันทนาการ': 643,\n",
              " 'ทางเลือก': 644,\n",
              " 'ขั้น': 645,\n",
              " 'สเปก': 646,\n",
              " 'รังสีวิทยา': 647,\n",
              " 'การบำบัด': 648,\n",
              " 'รู้ทาง': 649,\n",
              " 'ชั้น': 650,\n",
              " 'เภสัชวิทยา': 651,\n",
              " 'ชีวิตประจำวัน': 652,\n",
              " 'เร': 653,\n",
              " 'เซ': 654,\n",
              " 'ทำให้': 655,\n",
              " 'โก': 656,\n",
              " 'กายภาพบำบัด': 657,\n",
              " 'เพิ่ม': 658,\n",
              " 'จีน': 659,\n",
              " 'ความรับผิดชอบ': 660,\n",
              " 'ใช้ประโยชน์': 661,\n",
              " 'ทันสมัย': 662,\n",
              " 'ไร้': 663,\n",
              " 'กล': 664,\n",
              " 'ให้บริการ': 665,\n",
              " 'คัด': 666,\n",
              " 'ว่าด้วย': 667,\n",
              " 'ช่วง': 668,\n",
              " 'กัน': 669,\n",
              " 'บริเวณ': 670,\n",
              " 'ทา': 671,\n",
              " 'นอก': 672,\n",
              " 'ประกัน': 673,\n",
              " 'ทางการเงิน': 674,\n",
              " 'นี้': 675,\n",
              " 'ของแข็ง': 676,\n",
              " 'จุลชีววิทยา': 677,\n",
              " 'สนับสนุน': 678,\n",
              " 'จํา': 679,\n",
              " 'สำนวน': 680,\n",
              " 'แทบ': 681,\n",
              " 'บาง': 682,\n",
              " 'หลักฐาน': 683,\n",
              " 'กายวิภาค': 684,\n",
              " 'ปริ': 685,\n",
              " 'การวินิจฉัยโรค': 686,\n",
              " 'ภัณฑ์': 687,\n",
              " 'ออก': 688,\n",
              " 'สืบค้น': 689,\n",
              " 'แผนที่': 690,\n",
              " 'ติก': 691,\n",
              " 'ข้อจำกัด': 692,\n",
              " 'สัมมนา': 693,\n",
              " 'ทางวัฒนธรรม': 694,\n",
              " 'คำ': 695,\n",
              " 'อนุกรม': 696,\n",
              " 'เปลี่ยน': 697,\n",
              " 'ภายนอก': 698,\n",
              " 'สารเคมี': 699,\n",
              " 'ฉุกเฉิน': 700,\n",
              " 'ถูกต้อง': 701,\n",
              " 'คุ้มครอง': 702,\n",
              " 'อากาศ': 703,\n",
              " 'ความถี่': 704,\n",
              " 'กฎ': 705,\n",
              " 'นาโน': 706,\n",
              " 'ข่าว': 707,\n",
              " 'ความเป็นมา': 708,\n",
              " 'สัญญา': 709,\n",
              " 'หิน': 710,\n",
              " 'บูรณะ': 711,\n",
              " 'ข้อบ่งชี้': 712,\n",
              " 'โครงข่าย': 713,\n",
              " 'เอ็น': 714,\n",
              " 'พื้นผิว': 715,\n",
              " 'ทางเดิน': 716,\n",
              " 'ภูมิศาสตร์': 717,\n",
              " 'ยั่งยืน': 718,\n",
              " 'ต่อม': 719,\n",
              " 'บุคลิกภาพ': 720,\n",
              " 'เอ็ม': 721,\n",
              " 'สมบูรณ์': 722,\n",
              " 'พันธุศาสตร์': 723,\n",
              " 'ครอบคลุม': 724,\n",
              " 'เพศ': 725,\n",
              " 'ความน่าจะเป็น': 726,\n",
              " '2': 727,\n",
              " 'สิ่ง': 728,\n",
              " 'อาร์': 729,\n",
              " 'แบคทีเรีย': 730,\n",
              " 'สัตว์เลี้ยง': 731,\n",
              " 'ต์': 732,\n",
              " 'เอเชีย': 733,\n",
              " 'ที่จะ': 734,\n",
              " 'ทางกฎหมาย': 735,\n",
              " 'สถานะ': 736,\n",
              " 'ผสม': 737,\n",
              " 'ระยะ': 738,\n",
              " 'มีปัญหา': 739,\n",
              " 'พหุ': 740,\n",
              " 'ทางเดินอาหาร': 741,\n",
              " 'อันตราย': 742,\n",
              " 'แร่': 743,\n",
              " 'นำไปใช้': 744,\n",
              " 'อิ': 745,\n",
              " 'จิตเวช': 746,\n",
              " 'กายภาพ': 747,\n",
              " 'การค้นคว้า': 748,\n",
              " 'โพ': 749,\n",
              " 'พลวัต': 750,\n",
              " 'ต้าน': 751,\n",
              " 'ทางวิชาการ': 752,\n",
              " 'ไต': 753,\n",
              " 'แปรปรวน': 754,\n",
              " 'ในอนาคต': 755,\n",
              " 'คุณลักษณะ': 756,\n",
              " 'นำไปสู่': 757,\n",
              " 'ค': 758,\n",
              " 'โน': 759,\n",
              " 'สถานศึกษา': 760,\n",
              " 'การคัดเลือก': 761,\n",
              " 'ปฎิบัติ': 762,\n",
              " 'การเจริญเติบโต': 763,\n",
              " 'การปรึกษา': 764,\n",
              " 'งบประมาณ': 765,\n",
              " 'เสริม': 766,\n",
              " 'เป้าหมาย': 767,\n",
              " 'สิ่งมีชีวิต': 768,\n",
              " 'การเกษตร': 769,\n",
              " 'รท': 770,\n",
              " 'สุขภาพจิต': 771,\n",
              " 'ดิ': 772,\n",
              " 'มีอิทธิพล': 773,\n",
              " 'ระเบียบ': 774,\n",
              " 'ปริภูมิ': 775,\n",
              " 'ตะวันตก': 776,\n",
              " 'สุ่ม': 777,\n",
              " 'ซ์': 778,\n",
              " 'สมรรถนะ': 779,\n",
              " 'บาดเจ็บ': 780,\n",
              " 'ของเสีย': 781,\n",
              " 'พี': 782,\n",
              " 'ของไหล': 783,\n",
              " 'กลาง': 784,\n",
              " 'กำจัด': 785,\n",
              " 'ถ่ายทอด': 786,\n",
              " 'การแสดงออก': 787,\n",
              " 'บริหาร': 788,\n",
              " 'ธรณีวิทยา': 789,\n",
              " 'วัตถุดิบ': 790,\n",
              " 'ความขัดแย้ง': 791,\n",
              " 'วัย': 792,\n",
              " 'ภาวะแทรกซ้อน': 793,\n",
              " 'เป็นระบบ': 794,\n",
              " 'ร่วมกัน': 795,\n",
              " 'ภาษาศาสตร์': 796,\n",
              " 'สำรวจ': 797,\n",
              " 'ลำดับ': 798,\n",
              " 'ตำแหน่ง': 799,\n",
              " 'เอส': 800,\n",
              " 'เค': 801,\n",
              " 'ลักษณะเฉพาะ': 802,\n",
              " 'อุบัติเหตุ': 803,\n",
              " 'เข้า': 804,\n",
              " 'ผัง': 805,\n",
              " 'ปรากฏการณ์': 806,\n",
              " 'สัตวแพทย์': 807,\n",
              " 'การพิจารณา': 808,\n",
              " 'โครงงาน': 809,\n",
              " 'ไวรัส': 810,\n",
              " 'เงื่อนไข': 811,\n",
              " 'เสถียรภาพ': 812,\n",
              " 'หลักเกณฑ์': 813,\n",
              " 'ฟาร์ม': 814,\n",
              " 'ตามที่': 815,\n",
              " 'เกณฑ์': 816,\n",
              " 'กระแส': 817,\n",
              " 'ลึกซึ้ง': 818,\n",
              " 'เนื้อ': 819,\n",
              " 'จริยศาสตร์': 820,\n",
              " 'เผยแพร่': 821,\n",
              " 'ใบหน้า': 822,\n",
              " 'ตัด': 823,\n",
              " 'สเปน': 824,\n",
              " 'นำมา': 825,\n",
              " 'ราคา': 826,\n",
              " 'สมมติฐาน': 827,\n",
              " 'จี': 828,\n",
              " 'สติ': 829,\n",
              " 'สารประกอบ': 830,\n",
              " 'อุปทาน': 831,\n",
              " 'เอเชียตะวันออกเฉียงใต้': 832,\n",
              " 'ความหลากหลาย': 833,\n",
              " 'สารพิษ': 834,\n",
              " 'แก้ปัญหา': 835,\n",
              " 'อี': 836,\n",
              " 'โร': 837,\n",
              " 'สื่อมวลชน': 838,\n",
              " 'ก่อ': 839,\n",
              " 'สัณฐาน': 840,\n",
              " 'วัยรุ่น': 841,\n",
              " 'โรคมะเร็ง': 842,\n",
              " 'วิกฤต': 843,\n",
              " 'ผู้นำ': 844,\n",
              " 'แวดล้อม': 845,\n",
              " 'ศาสนา': 846,\n",
              " 'เล็ก': 847,\n",
              " 'จิต': 848,\n",
              " 'ป': 849,\n",
              " 'สารอาหาร': 850,\n",
              " 'ปัสสาวะ': 851,\n",
              " 'ก๊าซ': 852,\n",
              " 'สถานที่': 853,\n",
              " 'อารมณ์': 854,\n",
              " 'รายการ': 855,\n",
              " 'เสริมสร้าง': 856,\n",
              " 'การกำกับ': 857,\n",
              " 'จัดกิจกรรม': 858,\n",
              " 'ถูก': 859,\n",
              " 'นิยาม': 860,\n",
              " 'ผลึก': 861,\n",
              " 'ภาพถ่าย': 862,\n",
              " 'อาเซียน': 863,\n",
              " 'นิยม': 864,\n",
              " 'การปรับตัว': 865,\n",
              " 'การอนุรักษ์': 866,\n",
              " 'อิเล็กตรอน': 867,\n",
              " 'ติดเชื้อ': 868,\n",
              " 'เรียนรู้': 869,\n",
              " 'อนุภาค': 870,\n",
              " 'นํา': 871,\n",
              " 'ภาษี': 872,\n",
              " 'ท': 873,\n",
              " 'สาม': 874,\n",
              " 'คา': 875,\n",
              " 'ต': 876,\n",
              " 'ประสาน': 877,\n",
              " 'ความมั่นคง': 878,\n",
              " 'อาจ': 879,\n",
              " 'ประมาณค่า': 880,\n",
              " 'คำนึงถึง': 881,\n",
              " 'บัญชี': 882,\n",
              " 'ให้คำปรึกษา': 883,\n",
              " 'ชั้นเรียน': 884,\n",
              " 'เชื้อเพลิง': 885,\n",
              " 'เส้น': 886,\n",
              " 'ขยาย': 887,\n",
              " 'มวล': 888,\n",
              " 'การประมาณ': 889,\n",
              " 'ตัวบท': 890,\n",
              " 'รากฟัน': 891,\n",
              " 'พารามิเตอร์': 892,\n",
              " 'ที่สุด': 893,\n",
              " 'ย่อย': 894,\n",
              " 'เล่น': 895,\n",
              " 'เนื้องอก': 896,\n",
              " 'การแจกแจง': 897,\n",
              " 'เข้าถึง': 898,\n",
              " 'พลศาสตร์': 899,\n",
              " 'โปรแกรมคอมพิวเตอร์': 900,\n",
              " 'ทุก': 901,\n",
              " 'ราก': 902,\n",
              " 'สบ': 903,\n",
              " 'สมุนไพร': 904,\n",
              " 'บริษัท': 905,\n",
              " 'ข้อกำหนด': 906,\n",
              " 'ผู้ป่วยใน': 907,\n",
              " 'ไฟ': 908,\n",
              " 'ออกฤทธิ์': 909,\n",
              " 'โครงการวิจัย': 910,\n",
              " 'ประชาชน': 911,\n",
              " 'สอดคล้อง': 912,\n",
              " 'เอนไซม์': 913,\n",
              " 'สั่ง': 914,\n",
              " 'โรงงาน': 915,\n",
              " 'เชิงประจักษ์': 916,\n",
              " 'กรอง': 917,\n",
              " 'รายละเอียด': 918,\n",
              " 'อาชีพ': 919,\n",
              " 'คลอด': 920,\n",
              " 'ให้ยา': 921,\n",
              " 'เอก': 922,\n",
              " 'อัตรา': 923,\n",
              " 'ด์': 924,\n",
              " 'อดีต': 925,\n",
              " 'หลากหลาย': 926,\n",
              " 'ใช้งาน': 927,\n",
              " 'นิเวศวิทยา': 928,\n",
              " 'จลนศาสตร์': 929,\n",
              " 'ห้อง': 930,\n",
              " 'ติด': 931,\n",
              " 'หอ': 932,\n",
              " 'ธรณี': 933,\n",
              " 'เฉพาะที่': 934,\n",
              " 'แผนก': 935,\n",
              " 'ระงับ': 936,\n",
              " 'ผิวหนัง': 937,\n",
              " 'ปาก': 938,\n",
              " 'การคลัง': 939,\n",
              " 'ต่าง': 940,\n",
              " 'ใช้กับ': 941,\n",
              " 'จลนพลศาสตร์': 942,\n",
              " 'เฟส': 943,\n",
              " 'ไว': 944,\n",
              " 'จุล': 945,\n",
              " 'ความเชื่อ': 946,\n",
              " 'ผลผลิต': 947,\n",
              " 'แอ': 948,\n",
              " 'ใด': 949,\n",
              " 'แลกเปลี่ยน': 950,\n",
              " 'สารนิเทศ': 951,\n",
              " 'แบรนด์': 952,\n",
              " 'ติ': 953,\n",
              " 'นำมาใช้': 954,\n",
              " 'ของเหลว': 955,\n",
              " 'กส์': 956,\n",
              " 'บำรุงรักษา': 957,\n",
              " 'เหล่านี้': 958,\n",
              " 'แรงงาน': 959,\n",
              " 'ค้นหา': 960,\n",
              " 'ฮอร์โมน': 961,\n",
              " 'เจตคติ': 962,\n",
              " 'โด': 963,\n",
              " 'เอกซเรย์': 964,\n",
              " 'แอล': 965,\n",
              " 'ดีเอ็นเอ': 966,\n",
              " 'สร้างเสริม': 967,\n",
              " 'พลศึกษา': 968,\n",
              " 'คอม': 969,\n",
              " 'ตราสินค้า': 970,\n",
              " 'จุลชีพ': 971,\n",
              " 'สัตว์น้ำ': 972,\n",
              " 'ทันต์': 973,\n",
              " 'อธิบาย': 974,\n",
              " 'จุด': 975,\n",
              " 'เพลง': 976,\n",
              " 'รายงานการวิจัย': 977,\n",
              " 'เพาะเลี้ยง': 978,\n",
              " 'เกาหลี': 979,\n",
              " 'คอ': 980,\n",
              " 'เซรามิก': 981,\n",
              " 'ข้อความ': 982,\n",
              " 'มาตรการ': 983,\n",
              " 'สากล': 984,\n",
              " 'กรด': 985,\n",
              " 'สุขศึกษา': 986,\n",
              " 'ไมโคร': 987,\n",
              " 'นัก': 988,\n",
              " 'ขอ': 989,\n",
              " 'ที่อยู่': 990,\n",
              " 'ตกแต่ง': 991,\n",
              " 'เทคโนโลยีชีวภาพ': 992,\n",
              " 'การประมวลผล': 993,\n",
              " 'กล้องจุลทรรศน์': 994,\n",
              " 'เจ็บป่วย': 995,\n",
              " 'วิทยาศาสตร์การกีฬา': 996,\n",
              " 'ฟ': 997,\n",
              " 'บำบัดรักษา': 998,\n",
              " 'อาชญากรรม': 999,\n",
              " 'ตะวันออก': 1000,\n",
              " ...}"
            ]
          },
          "execution_count": 64,
          "metadata": {},
          "output_type": "execute_result"
        }
      ]
    },
    {
      "cell_type": "code",
      "metadata": {
        "colab": {
          "base_uri": "https://localhost:8080/"
        },
        "id": "FNoVy4YYUgUx",
        "outputId": "bb76fa9d-b31d-4ffc-8d80-7c31f8b5ab9e"
      },
      "source": [
        "model.predict(X_test[0].reshape(1, X_test.shape[1]))"
      ],
      "execution_count": null,
      "outputs": [
        {
          "data": {
            "text/plain": [
              "array([[0.11992066, 0.12662609, 0.08689861, 0.10577508, 0.11633942,\n",
              "        0.03984911, 0.04935289, 0.04230786, 0.04330821, 0.02770407,\n",
              "        0.03404477, 0.02494375, 0.02583058, 0.03114584, 0.01621655,\n",
              "        0.02273687, 0.01876359, 0.0194274 , 0.01702226, 0.01051345,\n",
              "        0.00446881, 0.00441496, 0.00451487, 0.00370871, 0.00416559]],\n",
              "      dtype=float32)"
            ]
          },
          "execution_count": 65,
          "metadata": {},
          "output_type": "execute_result"
        }
      ]
    },
    {
      "cell_type": "code",
      "metadata": {
        "colab": {
          "base_uri": "https://localhost:8080/"
        },
        "id": "6K3g3E31U6Pg",
        "outputId": "9e0430c7-ecea-4a6a-a9b9-4e6a61b2d33e"
      },
      "source": [
        "enc.inverse_transform([[1,0,0,0,0,0,0,0,0,0,0,0,0,0,0,0,0,0,0,0,0,0,0,0,0]])"
      ],
      "execution_count": null,
      "outputs": [
        {
          "data": {
            "text/plain": [
              "array([[1]])"
            ]
          },
          "execution_count": 66,
          "metadata": {},
          "output_type": "execute_result"
        }
      ]
    },
    {
      "cell_type": "code",
      "metadata": {
        "colab": {
          "base_uri": "https://localhost:8080/"
        },
        "id": "iAUv9-64VNrs",
        "outputId": "a81891bf-4208-43d1-d0d3-005e5509d7bd"
      },
      "source": [
        "word_index_y"
      ],
      "execution_count": null,
      "outputs": [
        {
          "data": {
            "text/plain": [
              "{'20': 13,\n",
              " '21': 3,\n",
              " '22': 2,\n",
              " '23': 5,\n",
              " '24': 12,\n",
              " '25': 11,\n",
              " '26': 10,\n",
              " '27': 4,\n",
              " '28': 8,\n",
              " '29': 17,\n",
              " '30': 1,\n",
              " '31': 9,\n",
              " '32': 7,\n",
              " '33': 6,\n",
              " '34': 15,\n",
              " '35': 19,\n",
              " '36': 20,\n",
              " '37': 14,\n",
              " '38': 16,\n",
              " '39': 18,\n",
              " '40': 25,\n",
              " '51': 24,\n",
              " '53': 21,\n",
              " '55': 22,\n",
              " '63': 23}"
            ]
          },
          "execution_count": 67,
          "metadata": {},
          "output_type": "execute_result"
        }
      ]
    },
    {
      "cell_type": "code",
      "metadata": {
        "colab": {
          "base_uri": "https://localhost:8080/"
        },
        "id": "_KC0U4kdVeae",
        "outputId": "eddbb992-8fb1-419b-e6b4-41dcec789561"
      },
      "source": [
        "Y_test[0]"
      ],
      "execution_count": null,
      "outputs": [
        {
          "data": {
            "text/plain": [
              "array([1., 0., 0., 0., 0., 0., 0., 0., 0., 0., 0., 0., 0., 0., 0., 0., 0.,\n",
              "       0., 0., 0., 0., 0., 0., 0., 0.])"
            ]
          },
          "execution_count": 68,
          "metadata": {},
          "output_type": "execute_result"
        }
      ]
    }
  ]
}